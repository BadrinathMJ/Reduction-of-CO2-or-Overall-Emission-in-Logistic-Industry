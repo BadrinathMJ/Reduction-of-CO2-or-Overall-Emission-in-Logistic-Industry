{
  "nbformat": 4,
  "nbformat_minor": 0,
  "metadata": {
    "colab": {
      "provenance": []
    },
    "kernelspec": {
      "name": "python3",
      "display_name": "Python 3"
    },
    "language_info": {
      "name": "python"
    }
  },
  "cells": [
    {
      "cell_type": "code",
      "execution_count": null,
      "metadata": {
        "id": "_HaR7MJAuA6y"
      },
      "outputs": [],
      "source": [
        "import pandas as pd\n",
        "import numpy as np\n",
        "import matplotlib.pyplot as plt\n",
        "import seaborn as sns\n",
        "from keras.models import Sequential\n",
        "from keras.layers import Dense\n",
        "from keras.utils import np_utils\n",
        "from sklearn.model_selection import train_test_split"
      ]
    },
    {
      "cell_type": "code",
      "source": [
        "df = pd.read_csv('/content/drive/MyDrive/Colab Notebooks/CO2_Emissions-master/normalized_file.csv')\n",
        "df.head()"
      ],
      "metadata": {
        "colab": {
          "base_uri": "https://localhost:8080/",
          "height": 288
        },
        "id": "JLf8Z8eouM9M",
        "outputId": "17d56c47-6a10-4f5f-d1b9-3bc09afa72a6"
      },
      "execution_count": null,
      "outputs": [
        {
          "output_type": "execute_result",
          "data": {
            "text/plain": [
              "   Unnamed: 0     Year   Jet Fuel_avi_BTU  Gasoline_avi_BTU  LDV_SWB_road_BTU  \\\n",
              "0           0  0.000000          0.000000          0.404440          0.000000   \n",
              "1           1  0.047619          0.106455          1.000000          0.411229   \n",
              "2           2  0.142857          0.066179          0.854988          0.555588   \n",
              "3           3  0.238095          0.195659          1.000000          0.463469   \n",
              "4           4  0.333333          0.410613          0.888779          0.497766   \n",
              "\n",
              "   LDV_LWB_road_BTU  Combination_Truck_road_BTU  Bus_Road_BTU  \\\n",
              "0          0.478083                    0.000000      0.032734   \n",
              "1          0.000000                    0.028403      0.000000   \n",
              "2          0.096038                    0.103719      0.139117   \n",
              "3          0.192181                    0.262604      0.118369   \n",
              "4          0.385355                    0.302465      0.008042   \n",
              "\n",
              "   Passenger_Car_EFF  Passenger_Car_Age  \\\n",
              "0           0.000000                0.5   \n",
              "1           0.043931                0.5   \n",
              "2           0.087862                0.5   \n",
              "3           0.032948                0.5   \n",
              "4           0.087862                0.5   \n",
              "\n",
              "   Demand_petroleum_transportation)mil_lit  Average_MC/15000_miles(dollars)  \\\n",
              "0                                 0.000000                         0.726176   \n",
              "1                                 0.063788                         0.726176   \n",
              "2                                 0.285012                         0.000000   \n",
              "3                                 0.315430                         0.013614   \n",
              "4                                 0.360885                         0.061195   \n",
              "\n",
              "   CO2_emission_million_metric_tons  CO_emission_million_shots_tons  \\\n",
              "0                          0.703017                        0.320520   \n",
              "1                          0.703017                        1.000000   \n",
              "2                          0.000000                        0.897027   \n",
              "3                          0.083094                        0.877346   \n",
              "4                          0.120500                        0.820983   \n",
              "\n",
              "   NOx_emission_million_shots_tons  SOx_emission_million_shots_tons  \\\n",
              "0                         0.729545                         0.442498   \n",
              "1                         0.989304                         1.000000   \n",
              "2                         0.962078                         0.891428   \n",
              "3                         1.000000                         0.818978   \n",
              "4                         0.928531                         0.729390   \n",
              "\n",
              "   Volatile_compound_million_shots_tons  overall_emission  \n",
              "0                              0.295009          0.649714  \n",
              "1                              1.000000          0.906227  \n",
              "2                              1.000000          0.000000  \n",
              "3                              1.000000          0.016970  \n",
              "4                              0.893062          0.101837  "
            ],
            "text/html": [
              "\n",
              "  <div id=\"df-9ff45f23-e3e7-44e4-a36a-78c81ad5cec2\">\n",
              "    <div class=\"colab-df-container\">\n",
              "      <div>\n",
              "<style scoped>\n",
              "    .dataframe tbody tr th:only-of-type {\n",
              "        vertical-align: middle;\n",
              "    }\n",
              "\n",
              "    .dataframe tbody tr th {\n",
              "        vertical-align: top;\n",
              "    }\n",
              "\n",
              "    .dataframe thead th {\n",
              "        text-align: right;\n",
              "    }\n",
              "</style>\n",
              "<table border=\"1\" class=\"dataframe\">\n",
              "  <thead>\n",
              "    <tr style=\"text-align: right;\">\n",
              "      <th></th>\n",
              "      <th>Unnamed: 0</th>\n",
              "      <th>Year</th>\n",
              "      <th>Jet Fuel_avi_BTU</th>\n",
              "      <th>Gasoline_avi_BTU</th>\n",
              "      <th>LDV_SWB_road_BTU</th>\n",
              "      <th>LDV_LWB_road_BTU</th>\n",
              "      <th>Combination_Truck_road_BTU</th>\n",
              "      <th>Bus_Road_BTU</th>\n",
              "      <th>Passenger_Car_EFF</th>\n",
              "      <th>Passenger_Car_Age</th>\n",
              "      <th>Demand_petroleum_transportation)mil_lit</th>\n",
              "      <th>Average_MC/15000_miles(dollars)</th>\n",
              "      <th>CO2_emission_million_metric_tons</th>\n",
              "      <th>CO_emission_million_shots_tons</th>\n",
              "      <th>NOx_emission_million_shots_tons</th>\n",
              "      <th>SOx_emission_million_shots_tons</th>\n",
              "      <th>Volatile_compound_million_shots_tons</th>\n",
              "      <th>overall_emission</th>\n",
              "    </tr>\n",
              "  </thead>\n",
              "  <tbody>\n",
              "    <tr>\n",
              "      <th>0</th>\n",
              "      <td>0</td>\n",
              "      <td>0.000000</td>\n",
              "      <td>0.000000</td>\n",
              "      <td>0.404440</td>\n",
              "      <td>0.000000</td>\n",
              "      <td>0.478083</td>\n",
              "      <td>0.000000</td>\n",
              "      <td>0.032734</td>\n",
              "      <td>0.000000</td>\n",
              "      <td>0.5</td>\n",
              "      <td>0.000000</td>\n",
              "      <td>0.726176</td>\n",
              "      <td>0.703017</td>\n",
              "      <td>0.320520</td>\n",
              "      <td>0.729545</td>\n",
              "      <td>0.442498</td>\n",
              "      <td>0.295009</td>\n",
              "      <td>0.649714</td>\n",
              "    </tr>\n",
              "    <tr>\n",
              "      <th>1</th>\n",
              "      <td>1</td>\n",
              "      <td>0.047619</td>\n",
              "      <td>0.106455</td>\n",
              "      <td>1.000000</td>\n",
              "      <td>0.411229</td>\n",
              "      <td>0.000000</td>\n",
              "      <td>0.028403</td>\n",
              "      <td>0.000000</td>\n",
              "      <td>0.043931</td>\n",
              "      <td>0.5</td>\n",
              "      <td>0.063788</td>\n",
              "      <td>0.726176</td>\n",
              "      <td>0.703017</td>\n",
              "      <td>1.000000</td>\n",
              "      <td>0.989304</td>\n",
              "      <td>1.000000</td>\n",
              "      <td>1.000000</td>\n",
              "      <td>0.906227</td>\n",
              "    </tr>\n",
              "    <tr>\n",
              "      <th>2</th>\n",
              "      <td>2</td>\n",
              "      <td>0.142857</td>\n",
              "      <td>0.066179</td>\n",
              "      <td>0.854988</td>\n",
              "      <td>0.555588</td>\n",
              "      <td>0.096038</td>\n",
              "      <td>0.103719</td>\n",
              "      <td>0.139117</td>\n",
              "      <td>0.087862</td>\n",
              "      <td>0.5</td>\n",
              "      <td>0.285012</td>\n",
              "      <td>0.000000</td>\n",
              "      <td>0.000000</td>\n",
              "      <td>0.897027</td>\n",
              "      <td>0.962078</td>\n",
              "      <td>0.891428</td>\n",
              "      <td>1.000000</td>\n",
              "      <td>0.000000</td>\n",
              "    </tr>\n",
              "    <tr>\n",
              "      <th>3</th>\n",
              "      <td>3</td>\n",
              "      <td>0.238095</td>\n",
              "      <td>0.195659</td>\n",
              "      <td>1.000000</td>\n",
              "      <td>0.463469</td>\n",
              "      <td>0.192181</td>\n",
              "      <td>0.262604</td>\n",
              "      <td>0.118369</td>\n",
              "      <td>0.032948</td>\n",
              "      <td>0.5</td>\n",
              "      <td>0.315430</td>\n",
              "      <td>0.013614</td>\n",
              "      <td>0.083094</td>\n",
              "      <td>0.877346</td>\n",
              "      <td>1.000000</td>\n",
              "      <td>0.818978</td>\n",
              "      <td>1.000000</td>\n",
              "      <td>0.016970</td>\n",
              "    </tr>\n",
              "    <tr>\n",
              "      <th>4</th>\n",
              "      <td>4</td>\n",
              "      <td>0.333333</td>\n",
              "      <td>0.410613</td>\n",
              "      <td>0.888779</td>\n",
              "      <td>0.497766</td>\n",
              "      <td>0.385355</td>\n",
              "      <td>0.302465</td>\n",
              "      <td>0.008042</td>\n",
              "      <td>0.087862</td>\n",
              "      <td>0.5</td>\n",
              "      <td>0.360885</td>\n",
              "      <td>0.061195</td>\n",
              "      <td>0.120500</td>\n",
              "      <td>0.820983</td>\n",
              "      <td>0.928531</td>\n",
              "      <td>0.729390</td>\n",
              "      <td>0.893062</td>\n",
              "      <td>0.101837</td>\n",
              "    </tr>\n",
              "  </tbody>\n",
              "</table>\n",
              "</div>\n",
              "      <button class=\"colab-df-convert\" onclick=\"convertToInteractive('df-9ff45f23-e3e7-44e4-a36a-78c81ad5cec2')\"\n",
              "              title=\"Convert this dataframe to an interactive table.\"\n",
              "              style=\"display:none;\">\n",
              "        \n",
              "  <svg xmlns=\"http://www.w3.org/2000/svg\" height=\"24px\"viewBox=\"0 0 24 24\"\n",
              "       width=\"24px\">\n",
              "    <path d=\"M0 0h24v24H0V0z\" fill=\"none\"/>\n",
              "    <path d=\"M18.56 5.44l.94 2.06.94-2.06 2.06-.94-2.06-.94-.94-2.06-.94 2.06-2.06.94zm-11 1L8.5 8.5l.94-2.06 2.06-.94-2.06-.94L8.5 2.5l-.94 2.06-2.06.94zm10 10l.94 2.06.94-2.06 2.06-.94-2.06-.94-.94-2.06-.94 2.06-2.06.94z\"/><path d=\"M17.41 7.96l-1.37-1.37c-.4-.4-.92-.59-1.43-.59-.52 0-1.04.2-1.43.59L10.3 9.45l-7.72 7.72c-.78.78-.78 2.05 0 2.83L4 21.41c.39.39.9.59 1.41.59.51 0 1.02-.2 1.41-.59l7.78-7.78 2.81-2.81c.8-.78.8-2.07 0-2.86zM5.41 20L4 18.59l7.72-7.72 1.47 1.35L5.41 20z\"/>\n",
              "  </svg>\n",
              "      </button>\n",
              "      \n",
              "  <style>\n",
              "    .colab-df-container {\n",
              "      display:flex;\n",
              "      flex-wrap:wrap;\n",
              "      gap: 12px;\n",
              "    }\n",
              "\n",
              "    .colab-df-convert {\n",
              "      background-color: #E8F0FE;\n",
              "      border: none;\n",
              "      border-radius: 50%;\n",
              "      cursor: pointer;\n",
              "      display: none;\n",
              "      fill: #1967D2;\n",
              "      height: 32px;\n",
              "      padding: 0 0 0 0;\n",
              "      width: 32px;\n",
              "    }\n",
              "\n",
              "    .colab-df-convert:hover {\n",
              "      background-color: #E2EBFA;\n",
              "      box-shadow: 0px 1px 2px rgba(60, 64, 67, 0.3), 0px 1px 3px 1px rgba(60, 64, 67, 0.15);\n",
              "      fill: #174EA6;\n",
              "    }\n",
              "\n",
              "    [theme=dark] .colab-df-convert {\n",
              "      background-color: #3B4455;\n",
              "      fill: #D2E3FC;\n",
              "    }\n",
              "\n",
              "    [theme=dark] .colab-df-convert:hover {\n",
              "      background-color: #434B5C;\n",
              "      box-shadow: 0px 1px 3px 1px rgba(0, 0, 0, 0.15);\n",
              "      filter: drop-shadow(0px 1px 2px rgba(0, 0, 0, 0.3));\n",
              "      fill: #FFFFFF;\n",
              "    }\n",
              "  </style>\n",
              "\n",
              "      <script>\n",
              "        const buttonEl =\n",
              "          document.querySelector('#df-9ff45f23-e3e7-44e4-a36a-78c81ad5cec2 button.colab-df-convert');\n",
              "        buttonEl.style.display =\n",
              "          google.colab.kernel.accessAllowed ? 'block' : 'none';\n",
              "\n",
              "        async function convertToInteractive(key) {\n",
              "          const element = document.querySelector('#df-9ff45f23-e3e7-44e4-a36a-78c81ad5cec2');\n",
              "          const dataTable =\n",
              "            await google.colab.kernel.invokeFunction('convertToInteractive',\n",
              "                                                     [key], {});\n",
              "          if (!dataTable) return;\n",
              "\n",
              "          const docLinkHtml = 'Like what you see? Visit the ' +\n",
              "            '<a target=\"_blank\" href=https://colab.research.google.com/notebooks/data_table.ipynb>data table notebook</a>'\n",
              "            + ' to learn more about interactive tables.';\n",
              "          element.innerHTML = '';\n",
              "          dataTable['output_type'] = 'display_data';\n",
              "          await google.colab.output.renderOutput(dataTable, element);\n",
              "          const docLink = document.createElement('div');\n",
              "          docLink.innerHTML = docLinkHtml;\n",
              "          element.appendChild(docLink);\n",
              "        }\n",
              "      </script>\n",
              "    </div>\n",
              "  </div>\n",
              "  "
            ]
          },
          "metadata": {},
          "execution_count": 2
        }
      ]
    },
    {
      "cell_type": "code",
      "source": [
        "df.columns"
      ],
      "metadata": {
        "colab": {
          "base_uri": "https://localhost:8080/"
        },
        "id": "IotJvT2PurGC",
        "outputId": "f513314e-c040-4d5e-9ede-95af6070019b"
      },
      "execution_count": null,
      "outputs": [
        {
          "output_type": "execute_result",
          "data": {
            "text/plain": [
              "Index(['Unnamed: 0', 'Year ', 'Jet Fuel_avi_BTU', 'Gasoline_avi_BTU',\n",
              "       'LDV_SWB_road_BTU', 'LDV_LWB_road_BTU', 'Combination_Truck_road_BTU',\n",
              "       'Bus_Road_BTU', 'Passenger_Car_EFF', 'Passenger_Car_Age',\n",
              "       'Demand_petroleum_transportation)mil_lit',\n",
              "       'Average_MC/15000_miles(dollars)', 'CO2_emission_million_metric_tons',\n",
              "       'CO_emission_million_shots_tons', 'NOx_emission_million_shots_tons',\n",
              "       'SOx_emission_million_shots_tons',\n",
              "       'Volatile_compound_million_shots_tons', 'overall_emission'],\n",
              "      dtype='object')"
            ]
          },
          "metadata": {},
          "execution_count": 3
        }
      ]
    },
    {
      "cell_type": "code",
      "source": [
        "df1=df.rename({'Year ':'year','Jet Fuel_avi_BTU':'Jet_Fuel'},axis=1)\n",
        "df1"
      ],
      "metadata": {
        "colab": {
          "base_uri": "https://localhost:8080/",
          "height": 1000
        },
        "id": "MO5MhZE7uhWX",
        "outputId": "2a0e3b51-ee5e-49f8-dbdb-46544a1bdcd4"
      },
      "execution_count": null,
      "outputs": [
        {
          "output_type": "execute_result",
          "data": {
            "text/plain": [
              "    Unnamed: 0      year  Jet_Fuel  Gasoline_avi_BTU  LDV_SWB_road_BTU  \\\n",
              "0            0  0.000000  0.000000          0.404440          0.000000   \n",
              "1            1  0.047619  0.106455          1.000000          0.411229   \n",
              "2            2  0.142857  0.066179          0.854988          0.555588   \n",
              "3            3  0.238095  0.195659          1.000000          0.463469   \n",
              "4            4  0.333333  0.410613          0.888779          0.497766   \n",
              "5            5  0.428571  0.693087          0.633468          0.453817   \n",
              "6            6  0.447619  0.578317          0.637223          0.334720   \n",
              "7            7  0.466667  0.610352          0.487040          0.360217   \n",
              "8            8  0.485714  0.659134          0.314331          0.396878   \n",
              "9            9  0.504762  0.731951          0.306821          0.407657   \n",
              "10          10  0.523810  0.773865          0.385667          0.420048   \n",
              "11          11  0.542857  0.824457          0.391299          0.438767   \n",
              "12          12  0.561905  0.887810          0.405191          0.461395   \n",
              "13          13  0.580952  0.840060          0.476903          0.502322   \n",
              "14          14  0.600000  1.000000          0.604934          0.535644   \n",
              "15          15  0.619048  0.920957          0.557626          0.533435   \n",
              "16          16  0.638095  0.814327          0.356477          0.544238   \n",
              "17          17  0.657143  0.703211          0.346973          0.587515   \n",
              "18          18  0.676190  0.720696          0.330753          0.587150   \n",
              "19          19  0.695238  0.850414          0.332721          0.586203   \n",
              "20          20  0.714286  0.837509          0.415869          0.631584   \n",
              "21          21  0.733333  0.801840          0.372270          0.577723   \n",
              "22          22  0.752381  0.799065          0.335527          0.969673   \n",
              "23          23  0.771429  0.727754          0.239427          0.823442   \n",
              "24          24  0.790476  0.549678          0.161943          0.824828   \n",
              "25          25  0.809524  0.537461          0.136879          0.849185   \n",
              "26          26  0.828571  0.506695          0.118946          0.884741   \n",
              "27          27  0.847619  0.427180          0.083230          0.891678   \n",
              "28          28  0.866667  0.416148          0.048746          0.891392   \n",
              "29          29  0.885714  0.434535          0.094828          0.906810   \n",
              "30          30  0.904762  0.494962          0.042669          0.923111   \n",
              "31          31  0.923810  0.552359          0.083424          0.956507   \n",
              "32          32  0.942857  0.575676          0.083120          0.961422   \n",
              "33          33  0.961905  0.644077          0.179037          0.958509   \n",
              "34          34  0.980952  0.689310          0.059615          1.000000   \n",
              "35          35  1.000000  0.022387          0.000000          0.580056   \n",
              "\n",
              "    LDV_LWB_road_BTU  Combination_Truck_road_BTU  Bus_Road_BTU  \\\n",
              "0           0.478083                    0.000000      0.032734   \n",
              "1           0.000000                    0.028403      0.000000   \n",
              "2           0.096038                    0.103719      0.139117   \n",
              "3           0.192181                    0.262604      0.118369   \n",
              "4           0.385355                    0.302465      0.008042   \n",
              "5           0.433070                    0.390053      0.044740   \n",
              "6           0.486200                    0.417870      0.026142   \n",
              "7           0.541505                    0.434650      0.034581   \n",
              "8           0.580688                    0.456540      0.065188   \n",
              "9           0.612734                    0.494661      0.095475   \n",
              "10          0.636824                    0.540077      0.088095   \n",
              "11          0.667981                    0.553289      0.098644   \n",
              "12          0.713958                    0.561669      0.123304   \n",
              "13          0.735867                    0.761587      0.131524   \n",
              "14          0.782935                    0.806150      0.194907   \n",
              "15          0.786360                    0.782489      0.174365   \n",
              "16          0.798247                    0.776155      0.122898   \n",
              "17          0.832873                    0.815996      0.107162   \n",
              "18          0.945784                    0.706319      0.088867   \n",
              "19          1.000000                    0.721776      0.322635   \n",
              "20          0.907271                    0.865768      0.179156   \n",
              "21          0.944300                    0.882971      0.196100   \n",
              "22          0.407546                    1.000000      0.718751   \n",
              "23          0.419089                    0.984009      0.738953   \n",
              "24          0.435099                    0.880643      0.697212   \n",
              "25          0.446118                    0.957900      0.657814   \n",
              "26          0.427434                    0.886038      0.666787   \n",
              "27          0.422943                    0.877569      0.742604   \n",
              "28          0.423847                    0.911312      0.774622   \n",
              "29          0.468382                    0.924595      0.844290   \n",
              "30          0.449917                    0.915055      0.841212   \n",
              "31          0.478083                    0.942585      0.839854   \n",
              "32          0.470906                    0.975885      0.914261   \n",
              "33          0.465250                    0.974301      1.000000   \n",
              "34          0.482384                    0.919217      0.974187   \n",
              "35          0.461351                    0.895947      0.737143   \n",
              "\n",
              "    Passenger_Car_EFF  Passenger_Car_Age  \\\n",
              "0            0.000000           0.500000   \n",
              "1            0.043931           0.500000   \n",
              "2            0.087862           0.500000   \n",
              "3            0.032948           0.500000   \n",
              "4            0.087862           0.500000   \n",
              "5            0.076880           0.500000   \n",
              "6            0.109828           0.500000   \n",
              "7            0.098845           0.500000   \n",
              "8            0.120811           0.500000   \n",
              "9            0.131793           0.500000   \n",
              "10           0.076880           0.000000   \n",
              "11           0.098845           0.000000   \n",
              "12           0.131793           0.000000   \n",
              "13           0.153759           0.000000   \n",
              "14           0.208673           0.000000   \n",
              "15           0.207753           0.000000   \n",
              "16           0.298850           0.000000   \n",
              "17           0.273221           0.250000   \n",
              "18           0.400002           0.321429   \n",
              "19           0.424961           0.392857   \n",
              "20           0.582114           0.464286   \n",
              "21           0.696080           0.535714   \n",
              "22           0.606962           0.607143   \n",
              "23           0.842463           0.678571   \n",
              "24           0.966472           0.750000   \n",
              "25           0.981564           0.964286   \n",
              "26           1.000000           1.000000   \n",
              "27           1.000000           1.000000   \n",
              "28           1.000000           1.000000   \n",
              "29           0.207753           1.000000   \n",
              "30           0.207753           1.000000   \n",
              "31           0.207753           1.000000   \n",
              "32           0.207753           0.500000   \n",
              "33           0.207753           0.500000   \n",
              "34           0.207753           0.500000   \n",
              "35           0.207753           0.500000   \n",
              "\n",
              "    Demand_petroleum_transportation)mil_lit  Average_MC/15000_miles(dollars)  \\\n",
              "0                                  0.000000                         0.726176   \n",
              "1                                  0.063788                         0.726176   \n",
              "2                                  0.285012                         0.000000   \n",
              "3                                  0.315430                         0.013614   \n",
              "4                                  0.360885                         0.061195   \n",
              "5                                  0.460239                         0.288288   \n",
              "6                                  0.437389                         0.388240   \n",
              "7                                  0.481332                         0.422690   \n",
              "8                                  0.509348                         0.419600   \n",
              "9                                  0.544657                         0.436903   \n",
              "10                                 0.570022                         0.478459   \n",
              "11                                 0.610310                         0.509974   \n",
              "12                                 0.637348                         0.561572   \n",
              "13                                 0.697604                         0.590152   \n",
              "14                                 0.760428                         0.612088   \n",
              "15                                 0.761648                         0.660442   \n",
              "16                                 0.792780                         0.705397   \n",
              "17                                 0.850910                         0.686859   \n",
              "18                                 0.873176                         0.720846   \n",
              "19                                 0.915686                         0.825432   \n",
              "20                                 0.895976                         0.822188   \n",
              "21                                 0.892577                         0.733205   \n",
              "22                                 0.894469                         0.731505   \n",
              "23                                 0.830499                         0.777542   \n",
              "24                                 0.842444                         0.773680   \n",
              "25                                 0.858277                         0.834083   \n",
              "26                                 0.815987                         0.878729   \n",
              "27                                 0.806675                         0.904992   \n",
              "28                                 0.815916                         0.932181   \n",
              "29                                 0.896339                         0.894178   \n",
              "30                                 0.918191                         0.866680   \n",
              "31                                 0.976208                         0.845052   \n",
              "32                                 0.971726                         0.831148   \n",
              "33                                 0.982629                         0.890007   \n",
              "34                                 1.000000                         0.956899   \n",
              "35                                 0.693133                         1.000000   \n",
              "\n",
              "    CO2_emission_million_metric_tons  CO_emission_million_shots_tons  \\\n",
              "0                           0.703017                        0.320520   \n",
              "1                           0.703017                        1.000000   \n",
              "2                           0.000000                        0.897027   \n",
              "3                           0.083094                        0.877346   \n",
              "4                           0.120500                        0.820983   \n",
              "5                           0.359162                        0.671849   \n",
              "6                           0.330358                        0.625378   \n",
              "7                           0.364787                        0.584351   \n",
              "8                           0.384143                        0.551486   \n",
              "9                           0.442712                        0.536057   \n",
              "10                          0.493010                        0.491429   \n",
              "11                          0.565985                        0.505121   \n",
              "12                          0.593833                        0.433059   \n",
              "13                          0.648561                        0.416406   \n",
              "14                          0.716431                        0.410884   \n",
              "15                          0.797859                        0.410393   \n",
              "16                          0.756645                        0.356390   \n",
              "17                          0.813991                        0.328551   \n",
              "18                          0.840017                        0.312489   \n",
              "19                          0.920219                        0.296392   \n",
              "20                          0.950494                        0.239776   \n",
              "21                          0.995580                        0.221946   \n",
              "22                          1.000000                        0.204116   \n",
              "23                          0.809326                        0.181255   \n",
              "24                          0.716058                        0.135820   \n",
              "25                          0.738805                        0.142525   \n",
              "26                          0.688834                        0.142462   \n",
              "27                          0.634767                        0.129276   \n",
              "28                          0.663465                        0.116089   \n",
              "29                          0.689976                        0.088326   \n",
              "30                          0.723990                        0.075020   \n",
              "31                          0.771122                        0.044668   \n",
              "32                          0.795857                        0.095354   \n",
              "33                          0.841732                        0.066906   \n",
              "34                          0.850614                        0.000000   \n",
              "35                          0.425220                        0.320520   \n",
              "\n",
              "    NOx_emission_million_shots_tons  SOx_emission_million_shots_tons  \\\n",
              "0                          0.729545                         0.442498   \n",
              "1                          0.989304                         1.000000   \n",
              "2                          0.962078                         0.891428   \n",
              "3                          1.000000                         0.818978   \n",
              "4                          0.928531                         0.729390   \n",
              "5                          0.916106                         0.721523   \n",
              "6                          0.897361                         0.697504   \n",
              "7                          0.901737                         0.687487   \n",
              "8                          0.906869                         0.676917   \n",
              "9                          0.906544                         0.662311   \n",
              "10                         0.885206                         0.569029   \n",
              "11                         0.876150                         0.561034   \n",
              "12                         0.871699                         0.576584   \n",
              "13                         0.852403                         0.580160   \n",
              "14                         0.771209                         0.532307   \n",
              "15                         0.757903                         0.491311   \n",
              "16                         0.701186                         0.477103   \n",
              "17                         0.831389                         0.446331   \n",
              "18                         0.760720                         0.438665   \n",
              "19                         0.689444                         0.430575   \n",
              "20                         0.636699                         0.429696   \n",
              "21                         0.575777                         0.381013   \n",
              "22                         0.514854                         0.332330   \n",
              "23                         0.450577                         0.285272   \n",
              "24                         0.389120                         0.243046   \n",
              "25                         0.339137                         0.196627   \n",
              "26                         0.321444                         0.153753   \n",
              "27                         0.286863                         0.105879   \n",
              "28                         0.252283                         0.098837   \n",
              "29                         0.217207                         0.092031   \n",
              "30                         0.168184                         0.067079   \n",
              "31                         0.093738                         0.041734   \n",
              "32                         0.068588                         0.019001   \n",
              "33                         0.034725                         0.015546   \n",
              "34                         0.000000                         0.000000   \n",
              "35                         0.729545                         0.442498   \n",
              "\n",
              "    Volatile_compound_million_shots_tons  overall_emission  \n",
              "0                               0.295009          0.649714  \n",
              "1                               1.000000          0.906227  \n",
              "2                               1.000000          0.000000  \n",
              "3                               1.000000          0.016970  \n",
              "4                               0.893062          0.101837  \n",
              "5                               0.678655          0.341794  \n",
              "6                               0.644103          0.285928  \n",
              "7                               0.610852          0.317761  \n",
              "8                               0.588989          0.333276  \n",
              "9                               0.578577          0.407909  \n",
              "10                              0.544220          0.449186  \n",
              "11                              0.468039          0.541506  \n",
              "12                              0.380776          0.555541  \n",
              "13                              0.332055          0.621467  \n",
              "14                              0.298772          0.704462  \n",
              "15                              0.249475          0.809076  \n",
              "16                              0.223377          0.734641  \n",
              "17                              0.430182          0.807687  \n",
              "18                              0.405554          0.834044  \n",
              "19                              0.379713          0.932372  \n",
              "20                              0.265135          0.949740  \n",
              "21                              0.274813          1.000000  \n",
              "22                              0.284491          0.996161  \n",
              "23                              0.265516          0.730380  \n",
              "24                              0.254736          0.587256  \n",
              "25                              0.270471          0.614806  \n",
              "26                              0.291246          0.545668  \n",
              "27                              0.272885          0.463892  \n",
              "28                              0.254523          0.494537  \n",
              "29                              0.208502          0.516604  \n",
              "30                              0.172525          0.552412  \n",
              "31                              0.115837          0.599023  \n",
              "32                              0.228165          0.648415  \n",
              "33                              0.179342          0.696954  \n",
              "34                              0.000000          0.679037  \n",
              "35                              0.295009          0.280154  "
            ],
            "text/html": [
              "\n",
              "  <div id=\"df-85a05bda-9675-4b69-b85c-23ba7f33e510\">\n",
              "    <div class=\"colab-df-container\">\n",
              "      <div>\n",
              "<style scoped>\n",
              "    .dataframe tbody tr th:only-of-type {\n",
              "        vertical-align: middle;\n",
              "    }\n",
              "\n",
              "    .dataframe tbody tr th {\n",
              "        vertical-align: top;\n",
              "    }\n",
              "\n",
              "    .dataframe thead th {\n",
              "        text-align: right;\n",
              "    }\n",
              "</style>\n",
              "<table border=\"1\" class=\"dataframe\">\n",
              "  <thead>\n",
              "    <tr style=\"text-align: right;\">\n",
              "      <th></th>\n",
              "      <th>Unnamed: 0</th>\n",
              "      <th>year</th>\n",
              "      <th>Jet_Fuel</th>\n",
              "      <th>Gasoline_avi_BTU</th>\n",
              "      <th>LDV_SWB_road_BTU</th>\n",
              "      <th>LDV_LWB_road_BTU</th>\n",
              "      <th>Combination_Truck_road_BTU</th>\n",
              "      <th>Bus_Road_BTU</th>\n",
              "      <th>Passenger_Car_EFF</th>\n",
              "      <th>Passenger_Car_Age</th>\n",
              "      <th>Demand_petroleum_transportation)mil_lit</th>\n",
              "      <th>Average_MC/15000_miles(dollars)</th>\n",
              "      <th>CO2_emission_million_metric_tons</th>\n",
              "      <th>CO_emission_million_shots_tons</th>\n",
              "      <th>NOx_emission_million_shots_tons</th>\n",
              "      <th>SOx_emission_million_shots_tons</th>\n",
              "      <th>Volatile_compound_million_shots_tons</th>\n",
              "      <th>overall_emission</th>\n",
              "    </tr>\n",
              "  </thead>\n",
              "  <tbody>\n",
              "    <tr>\n",
              "      <th>0</th>\n",
              "      <td>0</td>\n",
              "      <td>0.000000</td>\n",
              "      <td>0.000000</td>\n",
              "      <td>0.404440</td>\n",
              "      <td>0.000000</td>\n",
              "      <td>0.478083</td>\n",
              "      <td>0.000000</td>\n",
              "      <td>0.032734</td>\n",
              "      <td>0.000000</td>\n",
              "      <td>0.500000</td>\n",
              "      <td>0.000000</td>\n",
              "      <td>0.726176</td>\n",
              "      <td>0.703017</td>\n",
              "      <td>0.320520</td>\n",
              "      <td>0.729545</td>\n",
              "      <td>0.442498</td>\n",
              "      <td>0.295009</td>\n",
              "      <td>0.649714</td>\n",
              "    </tr>\n",
              "    <tr>\n",
              "      <th>1</th>\n",
              "      <td>1</td>\n",
              "      <td>0.047619</td>\n",
              "      <td>0.106455</td>\n",
              "      <td>1.000000</td>\n",
              "      <td>0.411229</td>\n",
              "      <td>0.000000</td>\n",
              "      <td>0.028403</td>\n",
              "      <td>0.000000</td>\n",
              "      <td>0.043931</td>\n",
              "      <td>0.500000</td>\n",
              "      <td>0.063788</td>\n",
              "      <td>0.726176</td>\n",
              "      <td>0.703017</td>\n",
              "      <td>1.000000</td>\n",
              "      <td>0.989304</td>\n",
              "      <td>1.000000</td>\n",
              "      <td>1.000000</td>\n",
              "      <td>0.906227</td>\n",
              "    </tr>\n",
              "    <tr>\n",
              "      <th>2</th>\n",
              "      <td>2</td>\n",
              "      <td>0.142857</td>\n",
              "      <td>0.066179</td>\n",
              "      <td>0.854988</td>\n",
              "      <td>0.555588</td>\n",
              "      <td>0.096038</td>\n",
              "      <td>0.103719</td>\n",
              "      <td>0.139117</td>\n",
              "      <td>0.087862</td>\n",
              "      <td>0.500000</td>\n",
              "      <td>0.285012</td>\n",
              "      <td>0.000000</td>\n",
              "      <td>0.000000</td>\n",
              "      <td>0.897027</td>\n",
              "      <td>0.962078</td>\n",
              "      <td>0.891428</td>\n",
              "      <td>1.000000</td>\n",
              "      <td>0.000000</td>\n",
              "    </tr>\n",
              "    <tr>\n",
              "      <th>3</th>\n",
              "      <td>3</td>\n",
              "      <td>0.238095</td>\n",
              "      <td>0.195659</td>\n",
              "      <td>1.000000</td>\n",
              "      <td>0.463469</td>\n",
              "      <td>0.192181</td>\n",
              "      <td>0.262604</td>\n",
              "      <td>0.118369</td>\n",
              "      <td>0.032948</td>\n",
              "      <td>0.500000</td>\n",
              "      <td>0.315430</td>\n",
              "      <td>0.013614</td>\n",
              "      <td>0.083094</td>\n",
              "      <td>0.877346</td>\n",
              "      <td>1.000000</td>\n",
              "      <td>0.818978</td>\n",
              "      <td>1.000000</td>\n",
              "      <td>0.016970</td>\n",
              "    </tr>\n",
              "    <tr>\n",
              "      <th>4</th>\n",
              "      <td>4</td>\n",
              "      <td>0.333333</td>\n",
              "      <td>0.410613</td>\n",
              "      <td>0.888779</td>\n",
              "      <td>0.497766</td>\n",
              "      <td>0.385355</td>\n",
              "      <td>0.302465</td>\n",
              "      <td>0.008042</td>\n",
              "      <td>0.087862</td>\n",
              "      <td>0.500000</td>\n",
              "      <td>0.360885</td>\n",
              "      <td>0.061195</td>\n",
              "      <td>0.120500</td>\n",
              "      <td>0.820983</td>\n",
              "      <td>0.928531</td>\n",
              "      <td>0.729390</td>\n",
              "      <td>0.893062</td>\n",
              "      <td>0.101837</td>\n",
              "    </tr>\n",
              "    <tr>\n",
              "      <th>5</th>\n",
              "      <td>5</td>\n",
              "      <td>0.428571</td>\n",
              "      <td>0.693087</td>\n",
              "      <td>0.633468</td>\n",
              "      <td>0.453817</td>\n",
              "      <td>0.433070</td>\n",
              "      <td>0.390053</td>\n",
              "      <td>0.044740</td>\n",
              "      <td>0.076880</td>\n",
              "      <td>0.500000</td>\n",
              "      <td>0.460239</td>\n",
              "      <td>0.288288</td>\n",
              "      <td>0.359162</td>\n",
              "      <td>0.671849</td>\n",
              "      <td>0.916106</td>\n",
              "      <td>0.721523</td>\n",
              "      <td>0.678655</td>\n",
              "      <td>0.341794</td>\n",
              "    </tr>\n",
              "    <tr>\n",
              "      <th>6</th>\n",
              "      <td>6</td>\n",
              "      <td>0.447619</td>\n",
              "      <td>0.578317</td>\n",
              "      <td>0.637223</td>\n",
              "      <td>0.334720</td>\n",
              "      <td>0.486200</td>\n",
              "      <td>0.417870</td>\n",
              "      <td>0.026142</td>\n",
              "      <td>0.109828</td>\n",
              "      <td>0.500000</td>\n",
              "      <td>0.437389</td>\n",
              "      <td>0.388240</td>\n",
              "      <td>0.330358</td>\n",
              "      <td>0.625378</td>\n",
              "      <td>0.897361</td>\n",
              "      <td>0.697504</td>\n",
              "      <td>0.644103</td>\n",
              "      <td>0.285928</td>\n",
              "    </tr>\n",
              "    <tr>\n",
              "      <th>7</th>\n",
              "      <td>7</td>\n",
              "      <td>0.466667</td>\n",
              "      <td>0.610352</td>\n",
              "      <td>0.487040</td>\n",
              "      <td>0.360217</td>\n",
              "      <td>0.541505</td>\n",
              "      <td>0.434650</td>\n",
              "      <td>0.034581</td>\n",
              "      <td>0.098845</td>\n",
              "      <td>0.500000</td>\n",
              "      <td>0.481332</td>\n",
              "      <td>0.422690</td>\n",
              "      <td>0.364787</td>\n",
              "      <td>0.584351</td>\n",
              "      <td>0.901737</td>\n",
              "      <td>0.687487</td>\n",
              "      <td>0.610852</td>\n",
              "      <td>0.317761</td>\n",
              "    </tr>\n",
              "    <tr>\n",
              "      <th>8</th>\n",
              "      <td>8</td>\n",
              "      <td>0.485714</td>\n",
              "      <td>0.659134</td>\n",
              "      <td>0.314331</td>\n",
              "      <td>0.396878</td>\n",
              "      <td>0.580688</td>\n",
              "      <td>0.456540</td>\n",
              "      <td>0.065188</td>\n",
              "      <td>0.120811</td>\n",
              "      <td>0.500000</td>\n",
              "      <td>0.509348</td>\n",
              "      <td>0.419600</td>\n",
              "      <td>0.384143</td>\n",
              "      <td>0.551486</td>\n",
              "      <td>0.906869</td>\n",
              "      <td>0.676917</td>\n",
              "      <td>0.588989</td>\n",
              "      <td>0.333276</td>\n",
              "    </tr>\n",
              "    <tr>\n",
              "      <th>9</th>\n",
              "      <td>9</td>\n",
              "      <td>0.504762</td>\n",
              "      <td>0.731951</td>\n",
              "      <td>0.306821</td>\n",
              "      <td>0.407657</td>\n",
              "      <td>0.612734</td>\n",
              "      <td>0.494661</td>\n",
              "      <td>0.095475</td>\n",
              "      <td>0.131793</td>\n",
              "      <td>0.500000</td>\n",
              "      <td>0.544657</td>\n",
              "      <td>0.436903</td>\n",
              "      <td>0.442712</td>\n",
              "      <td>0.536057</td>\n",
              "      <td>0.906544</td>\n",
              "      <td>0.662311</td>\n",
              "      <td>0.578577</td>\n",
              "      <td>0.407909</td>\n",
              "    </tr>\n",
              "    <tr>\n",
              "      <th>10</th>\n",
              "      <td>10</td>\n",
              "      <td>0.523810</td>\n",
              "      <td>0.773865</td>\n",
              "      <td>0.385667</td>\n",
              "      <td>0.420048</td>\n",
              "      <td>0.636824</td>\n",
              "      <td>0.540077</td>\n",
              "      <td>0.088095</td>\n",
              "      <td>0.076880</td>\n",
              "      <td>0.000000</td>\n",
              "      <td>0.570022</td>\n",
              "      <td>0.478459</td>\n",
              "      <td>0.493010</td>\n",
              "      <td>0.491429</td>\n",
              "      <td>0.885206</td>\n",
              "      <td>0.569029</td>\n",
              "      <td>0.544220</td>\n",
              "      <td>0.449186</td>\n",
              "    </tr>\n",
              "    <tr>\n",
              "      <th>11</th>\n",
              "      <td>11</td>\n",
              "      <td>0.542857</td>\n",
              "      <td>0.824457</td>\n",
              "      <td>0.391299</td>\n",
              "      <td>0.438767</td>\n",
              "      <td>0.667981</td>\n",
              "      <td>0.553289</td>\n",
              "      <td>0.098644</td>\n",
              "      <td>0.098845</td>\n",
              "      <td>0.000000</td>\n",
              "      <td>0.610310</td>\n",
              "      <td>0.509974</td>\n",
              "      <td>0.565985</td>\n",
              "      <td>0.505121</td>\n",
              "      <td>0.876150</td>\n",
              "      <td>0.561034</td>\n",
              "      <td>0.468039</td>\n",
              "      <td>0.541506</td>\n",
              "    </tr>\n",
              "    <tr>\n",
              "      <th>12</th>\n",
              "      <td>12</td>\n",
              "      <td>0.561905</td>\n",
              "      <td>0.887810</td>\n",
              "      <td>0.405191</td>\n",
              "      <td>0.461395</td>\n",
              "      <td>0.713958</td>\n",
              "      <td>0.561669</td>\n",
              "      <td>0.123304</td>\n",
              "      <td>0.131793</td>\n",
              "      <td>0.000000</td>\n",
              "      <td>0.637348</td>\n",
              "      <td>0.561572</td>\n",
              "      <td>0.593833</td>\n",
              "      <td>0.433059</td>\n",
              "      <td>0.871699</td>\n",
              "      <td>0.576584</td>\n",
              "      <td>0.380776</td>\n",
              "      <td>0.555541</td>\n",
              "    </tr>\n",
              "    <tr>\n",
              "      <th>13</th>\n",
              "      <td>13</td>\n",
              "      <td>0.580952</td>\n",
              "      <td>0.840060</td>\n",
              "      <td>0.476903</td>\n",
              "      <td>0.502322</td>\n",
              "      <td>0.735867</td>\n",
              "      <td>0.761587</td>\n",
              "      <td>0.131524</td>\n",
              "      <td>0.153759</td>\n",
              "      <td>0.000000</td>\n",
              "      <td>0.697604</td>\n",
              "      <td>0.590152</td>\n",
              "      <td>0.648561</td>\n",
              "      <td>0.416406</td>\n",
              "      <td>0.852403</td>\n",
              "      <td>0.580160</td>\n",
              "      <td>0.332055</td>\n",
              "      <td>0.621467</td>\n",
              "    </tr>\n",
              "    <tr>\n",
              "      <th>14</th>\n",
              "      <td>14</td>\n",
              "      <td>0.600000</td>\n",
              "      <td>1.000000</td>\n",
              "      <td>0.604934</td>\n",
              "      <td>0.535644</td>\n",
              "      <td>0.782935</td>\n",
              "      <td>0.806150</td>\n",
              "      <td>0.194907</td>\n",
              "      <td>0.208673</td>\n",
              "      <td>0.000000</td>\n",
              "      <td>0.760428</td>\n",
              "      <td>0.612088</td>\n",
              "      <td>0.716431</td>\n",
              "      <td>0.410884</td>\n",
              "      <td>0.771209</td>\n",
              "      <td>0.532307</td>\n",
              "      <td>0.298772</td>\n",
              "      <td>0.704462</td>\n",
              "    </tr>\n",
              "    <tr>\n",
              "      <th>15</th>\n",
              "      <td>15</td>\n",
              "      <td>0.619048</td>\n",
              "      <td>0.920957</td>\n",
              "      <td>0.557626</td>\n",
              "      <td>0.533435</td>\n",
              "      <td>0.786360</td>\n",
              "      <td>0.782489</td>\n",
              "      <td>0.174365</td>\n",
              "      <td>0.207753</td>\n",
              "      <td>0.000000</td>\n",
              "      <td>0.761648</td>\n",
              "      <td>0.660442</td>\n",
              "      <td>0.797859</td>\n",
              "      <td>0.410393</td>\n",
              "      <td>0.757903</td>\n",
              "      <td>0.491311</td>\n",
              "      <td>0.249475</td>\n",
              "      <td>0.809076</td>\n",
              "    </tr>\n",
              "    <tr>\n",
              "      <th>16</th>\n",
              "      <td>16</td>\n",
              "      <td>0.638095</td>\n",
              "      <td>0.814327</td>\n",
              "      <td>0.356477</td>\n",
              "      <td>0.544238</td>\n",
              "      <td>0.798247</td>\n",
              "      <td>0.776155</td>\n",
              "      <td>0.122898</td>\n",
              "      <td>0.298850</td>\n",
              "      <td>0.000000</td>\n",
              "      <td>0.792780</td>\n",
              "      <td>0.705397</td>\n",
              "      <td>0.756645</td>\n",
              "      <td>0.356390</td>\n",
              "      <td>0.701186</td>\n",
              "      <td>0.477103</td>\n",
              "      <td>0.223377</td>\n",
              "      <td>0.734641</td>\n",
              "    </tr>\n",
              "    <tr>\n",
              "      <th>17</th>\n",
              "      <td>17</td>\n",
              "      <td>0.657143</td>\n",
              "      <td>0.703211</td>\n",
              "      <td>0.346973</td>\n",
              "      <td>0.587515</td>\n",
              "      <td>0.832873</td>\n",
              "      <td>0.815996</td>\n",
              "      <td>0.107162</td>\n",
              "      <td>0.273221</td>\n",
              "      <td>0.250000</td>\n",
              "      <td>0.850910</td>\n",
              "      <td>0.686859</td>\n",
              "      <td>0.813991</td>\n",
              "      <td>0.328551</td>\n",
              "      <td>0.831389</td>\n",
              "      <td>0.446331</td>\n",
              "      <td>0.430182</td>\n",
              "      <td>0.807687</td>\n",
              "    </tr>\n",
              "    <tr>\n",
              "      <th>18</th>\n",
              "      <td>18</td>\n",
              "      <td>0.676190</td>\n",
              "      <td>0.720696</td>\n",
              "      <td>0.330753</td>\n",
              "      <td>0.587150</td>\n",
              "      <td>0.945784</td>\n",
              "      <td>0.706319</td>\n",
              "      <td>0.088867</td>\n",
              "      <td>0.400002</td>\n",
              "      <td>0.321429</td>\n",
              "      <td>0.873176</td>\n",
              "      <td>0.720846</td>\n",
              "      <td>0.840017</td>\n",
              "      <td>0.312489</td>\n",
              "      <td>0.760720</td>\n",
              "      <td>0.438665</td>\n",
              "      <td>0.405554</td>\n",
              "      <td>0.834044</td>\n",
              "    </tr>\n",
              "    <tr>\n",
              "      <th>19</th>\n",
              "      <td>19</td>\n",
              "      <td>0.695238</td>\n",
              "      <td>0.850414</td>\n",
              "      <td>0.332721</td>\n",
              "      <td>0.586203</td>\n",
              "      <td>1.000000</td>\n",
              "      <td>0.721776</td>\n",
              "      <td>0.322635</td>\n",
              "      <td>0.424961</td>\n",
              "      <td>0.392857</td>\n",
              "      <td>0.915686</td>\n",
              "      <td>0.825432</td>\n",
              "      <td>0.920219</td>\n",
              "      <td>0.296392</td>\n",
              "      <td>0.689444</td>\n",
              "      <td>0.430575</td>\n",
              "      <td>0.379713</td>\n",
              "      <td>0.932372</td>\n",
              "    </tr>\n",
              "    <tr>\n",
              "      <th>20</th>\n",
              "      <td>20</td>\n",
              "      <td>0.714286</td>\n",
              "      <td>0.837509</td>\n",
              "      <td>0.415869</td>\n",
              "      <td>0.631584</td>\n",
              "      <td>0.907271</td>\n",
              "      <td>0.865768</td>\n",
              "      <td>0.179156</td>\n",
              "      <td>0.582114</td>\n",
              "      <td>0.464286</td>\n",
              "      <td>0.895976</td>\n",
              "      <td>0.822188</td>\n",
              "      <td>0.950494</td>\n",
              "      <td>0.239776</td>\n",
              "      <td>0.636699</td>\n",
              "      <td>0.429696</td>\n",
              "      <td>0.265135</td>\n",
              "      <td>0.949740</td>\n",
              "    </tr>\n",
              "    <tr>\n",
              "      <th>21</th>\n",
              "      <td>21</td>\n",
              "      <td>0.733333</td>\n",
              "      <td>0.801840</td>\n",
              "      <td>0.372270</td>\n",
              "      <td>0.577723</td>\n",
              "      <td>0.944300</td>\n",
              "      <td>0.882971</td>\n",
              "      <td>0.196100</td>\n",
              "      <td>0.696080</td>\n",
              "      <td>0.535714</td>\n",
              "      <td>0.892577</td>\n",
              "      <td>0.733205</td>\n",
              "      <td>0.995580</td>\n",
              "      <td>0.221946</td>\n",
              "      <td>0.575777</td>\n",
              "      <td>0.381013</td>\n",
              "      <td>0.274813</td>\n",
              "      <td>1.000000</td>\n",
              "    </tr>\n",
              "    <tr>\n",
              "      <th>22</th>\n",
              "      <td>22</td>\n",
              "      <td>0.752381</td>\n",
              "      <td>0.799065</td>\n",
              "      <td>0.335527</td>\n",
              "      <td>0.969673</td>\n",
              "      <td>0.407546</td>\n",
              "      <td>1.000000</td>\n",
              "      <td>0.718751</td>\n",
              "      <td>0.606962</td>\n",
              "      <td>0.607143</td>\n",
              "      <td>0.894469</td>\n",
              "      <td>0.731505</td>\n",
              "      <td>1.000000</td>\n",
              "      <td>0.204116</td>\n",
              "      <td>0.514854</td>\n",
              "      <td>0.332330</td>\n",
              "      <td>0.284491</td>\n",
              "      <td>0.996161</td>\n",
              "    </tr>\n",
              "    <tr>\n",
              "      <th>23</th>\n",
              "      <td>23</td>\n",
              "      <td>0.771429</td>\n",
              "      <td>0.727754</td>\n",
              "      <td>0.239427</td>\n",
              "      <td>0.823442</td>\n",
              "      <td>0.419089</td>\n",
              "      <td>0.984009</td>\n",
              "      <td>0.738953</td>\n",
              "      <td>0.842463</td>\n",
              "      <td>0.678571</td>\n",
              "      <td>0.830499</td>\n",
              "      <td>0.777542</td>\n",
              "      <td>0.809326</td>\n",
              "      <td>0.181255</td>\n",
              "      <td>0.450577</td>\n",
              "      <td>0.285272</td>\n",
              "      <td>0.265516</td>\n",
              "      <td>0.730380</td>\n",
              "    </tr>\n",
              "    <tr>\n",
              "      <th>24</th>\n",
              "      <td>24</td>\n",
              "      <td>0.790476</td>\n",
              "      <td>0.549678</td>\n",
              "      <td>0.161943</td>\n",
              "      <td>0.824828</td>\n",
              "      <td>0.435099</td>\n",
              "      <td>0.880643</td>\n",
              "      <td>0.697212</td>\n",
              "      <td>0.966472</td>\n",
              "      <td>0.750000</td>\n",
              "      <td>0.842444</td>\n",
              "      <td>0.773680</td>\n",
              "      <td>0.716058</td>\n",
              "      <td>0.135820</td>\n",
              "      <td>0.389120</td>\n",
              "      <td>0.243046</td>\n",
              "      <td>0.254736</td>\n",
              "      <td>0.587256</td>\n",
              "    </tr>\n",
              "    <tr>\n",
              "      <th>25</th>\n",
              "      <td>25</td>\n",
              "      <td>0.809524</td>\n",
              "      <td>0.537461</td>\n",
              "      <td>0.136879</td>\n",
              "      <td>0.849185</td>\n",
              "      <td>0.446118</td>\n",
              "      <td>0.957900</td>\n",
              "      <td>0.657814</td>\n",
              "      <td>0.981564</td>\n",
              "      <td>0.964286</td>\n",
              "      <td>0.858277</td>\n",
              "      <td>0.834083</td>\n",
              "      <td>0.738805</td>\n",
              "      <td>0.142525</td>\n",
              "      <td>0.339137</td>\n",
              "      <td>0.196627</td>\n",
              "      <td>0.270471</td>\n",
              "      <td>0.614806</td>\n",
              "    </tr>\n",
              "    <tr>\n",
              "      <th>26</th>\n",
              "      <td>26</td>\n",
              "      <td>0.828571</td>\n",
              "      <td>0.506695</td>\n",
              "      <td>0.118946</td>\n",
              "      <td>0.884741</td>\n",
              "      <td>0.427434</td>\n",
              "      <td>0.886038</td>\n",
              "      <td>0.666787</td>\n",
              "      <td>1.000000</td>\n",
              "      <td>1.000000</td>\n",
              "      <td>0.815987</td>\n",
              "      <td>0.878729</td>\n",
              "      <td>0.688834</td>\n",
              "      <td>0.142462</td>\n",
              "      <td>0.321444</td>\n",
              "      <td>0.153753</td>\n",
              "      <td>0.291246</td>\n",
              "      <td>0.545668</td>\n",
              "    </tr>\n",
              "    <tr>\n",
              "      <th>27</th>\n",
              "      <td>27</td>\n",
              "      <td>0.847619</td>\n",
              "      <td>0.427180</td>\n",
              "      <td>0.083230</td>\n",
              "      <td>0.891678</td>\n",
              "      <td>0.422943</td>\n",
              "      <td>0.877569</td>\n",
              "      <td>0.742604</td>\n",
              "      <td>1.000000</td>\n",
              "      <td>1.000000</td>\n",
              "      <td>0.806675</td>\n",
              "      <td>0.904992</td>\n",
              "      <td>0.634767</td>\n",
              "      <td>0.129276</td>\n",
              "      <td>0.286863</td>\n",
              "      <td>0.105879</td>\n",
              "      <td>0.272885</td>\n",
              "      <td>0.463892</td>\n",
              "    </tr>\n",
              "    <tr>\n",
              "      <th>28</th>\n",
              "      <td>28</td>\n",
              "      <td>0.866667</td>\n",
              "      <td>0.416148</td>\n",
              "      <td>0.048746</td>\n",
              "      <td>0.891392</td>\n",
              "      <td>0.423847</td>\n",
              "      <td>0.911312</td>\n",
              "      <td>0.774622</td>\n",
              "      <td>1.000000</td>\n",
              "      <td>1.000000</td>\n",
              "      <td>0.815916</td>\n",
              "      <td>0.932181</td>\n",
              "      <td>0.663465</td>\n",
              "      <td>0.116089</td>\n",
              "      <td>0.252283</td>\n",
              "      <td>0.098837</td>\n",
              "      <td>0.254523</td>\n",
              "      <td>0.494537</td>\n",
              "    </tr>\n",
              "    <tr>\n",
              "      <th>29</th>\n",
              "      <td>29</td>\n",
              "      <td>0.885714</td>\n",
              "      <td>0.434535</td>\n",
              "      <td>0.094828</td>\n",
              "      <td>0.906810</td>\n",
              "      <td>0.468382</td>\n",
              "      <td>0.924595</td>\n",
              "      <td>0.844290</td>\n",
              "      <td>0.207753</td>\n",
              "      <td>1.000000</td>\n",
              "      <td>0.896339</td>\n",
              "      <td>0.894178</td>\n",
              "      <td>0.689976</td>\n",
              "      <td>0.088326</td>\n",
              "      <td>0.217207</td>\n",
              "      <td>0.092031</td>\n",
              "      <td>0.208502</td>\n",
              "      <td>0.516604</td>\n",
              "    </tr>\n",
              "    <tr>\n",
              "      <th>30</th>\n",
              "      <td>30</td>\n",
              "      <td>0.904762</td>\n",
              "      <td>0.494962</td>\n",
              "      <td>0.042669</td>\n",
              "      <td>0.923111</td>\n",
              "      <td>0.449917</td>\n",
              "      <td>0.915055</td>\n",
              "      <td>0.841212</td>\n",
              "      <td>0.207753</td>\n",
              "      <td>1.000000</td>\n",
              "      <td>0.918191</td>\n",
              "      <td>0.866680</td>\n",
              "      <td>0.723990</td>\n",
              "      <td>0.075020</td>\n",
              "      <td>0.168184</td>\n",
              "      <td>0.067079</td>\n",
              "      <td>0.172525</td>\n",
              "      <td>0.552412</td>\n",
              "    </tr>\n",
              "    <tr>\n",
              "      <th>31</th>\n",
              "      <td>31</td>\n",
              "      <td>0.923810</td>\n",
              "      <td>0.552359</td>\n",
              "      <td>0.083424</td>\n",
              "      <td>0.956507</td>\n",
              "      <td>0.478083</td>\n",
              "      <td>0.942585</td>\n",
              "      <td>0.839854</td>\n",
              "      <td>0.207753</td>\n",
              "      <td>1.000000</td>\n",
              "      <td>0.976208</td>\n",
              "      <td>0.845052</td>\n",
              "      <td>0.771122</td>\n",
              "      <td>0.044668</td>\n",
              "      <td>0.093738</td>\n",
              "      <td>0.041734</td>\n",
              "      <td>0.115837</td>\n",
              "      <td>0.599023</td>\n",
              "    </tr>\n",
              "    <tr>\n",
              "      <th>32</th>\n",
              "      <td>32</td>\n",
              "      <td>0.942857</td>\n",
              "      <td>0.575676</td>\n",
              "      <td>0.083120</td>\n",
              "      <td>0.961422</td>\n",
              "      <td>0.470906</td>\n",
              "      <td>0.975885</td>\n",
              "      <td>0.914261</td>\n",
              "      <td>0.207753</td>\n",
              "      <td>0.500000</td>\n",
              "      <td>0.971726</td>\n",
              "      <td>0.831148</td>\n",
              "      <td>0.795857</td>\n",
              "      <td>0.095354</td>\n",
              "      <td>0.068588</td>\n",
              "      <td>0.019001</td>\n",
              "      <td>0.228165</td>\n",
              "      <td>0.648415</td>\n",
              "    </tr>\n",
              "    <tr>\n",
              "      <th>33</th>\n",
              "      <td>33</td>\n",
              "      <td>0.961905</td>\n",
              "      <td>0.644077</td>\n",
              "      <td>0.179037</td>\n",
              "      <td>0.958509</td>\n",
              "      <td>0.465250</td>\n",
              "      <td>0.974301</td>\n",
              "      <td>1.000000</td>\n",
              "      <td>0.207753</td>\n",
              "      <td>0.500000</td>\n",
              "      <td>0.982629</td>\n",
              "      <td>0.890007</td>\n",
              "      <td>0.841732</td>\n",
              "      <td>0.066906</td>\n",
              "      <td>0.034725</td>\n",
              "      <td>0.015546</td>\n",
              "      <td>0.179342</td>\n",
              "      <td>0.696954</td>\n",
              "    </tr>\n",
              "    <tr>\n",
              "      <th>34</th>\n",
              "      <td>34</td>\n",
              "      <td>0.980952</td>\n",
              "      <td>0.689310</td>\n",
              "      <td>0.059615</td>\n",
              "      <td>1.000000</td>\n",
              "      <td>0.482384</td>\n",
              "      <td>0.919217</td>\n",
              "      <td>0.974187</td>\n",
              "      <td>0.207753</td>\n",
              "      <td>0.500000</td>\n",
              "      <td>1.000000</td>\n",
              "      <td>0.956899</td>\n",
              "      <td>0.850614</td>\n",
              "      <td>0.000000</td>\n",
              "      <td>0.000000</td>\n",
              "      <td>0.000000</td>\n",
              "      <td>0.000000</td>\n",
              "      <td>0.679037</td>\n",
              "    </tr>\n",
              "    <tr>\n",
              "      <th>35</th>\n",
              "      <td>35</td>\n",
              "      <td>1.000000</td>\n",
              "      <td>0.022387</td>\n",
              "      <td>0.000000</td>\n",
              "      <td>0.580056</td>\n",
              "      <td>0.461351</td>\n",
              "      <td>0.895947</td>\n",
              "      <td>0.737143</td>\n",
              "      <td>0.207753</td>\n",
              "      <td>0.500000</td>\n",
              "      <td>0.693133</td>\n",
              "      <td>1.000000</td>\n",
              "      <td>0.425220</td>\n",
              "      <td>0.320520</td>\n",
              "      <td>0.729545</td>\n",
              "      <td>0.442498</td>\n",
              "      <td>0.295009</td>\n",
              "      <td>0.280154</td>\n",
              "    </tr>\n",
              "  </tbody>\n",
              "</table>\n",
              "</div>\n",
              "      <button class=\"colab-df-convert\" onclick=\"convertToInteractive('df-85a05bda-9675-4b69-b85c-23ba7f33e510')\"\n",
              "              title=\"Convert this dataframe to an interactive table.\"\n",
              "              style=\"display:none;\">\n",
              "        \n",
              "  <svg xmlns=\"http://www.w3.org/2000/svg\" height=\"24px\"viewBox=\"0 0 24 24\"\n",
              "       width=\"24px\">\n",
              "    <path d=\"M0 0h24v24H0V0z\" fill=\"none\"/>\n",
              "    <path d=\"M18.56 5.44l.94 2.06.94-2.06 2.06-.94-2.06-.94-.94-2.06-.94 2.06-2.06.94zm-11 1L8.5 8.5l.94-2.06 2.06-.94-2.06-.94L8.5 2.5l-.94 2.06-2.06.94zm10 10l.94 2.06.94-2.06 2.06-.94-2.06-.94-.94-2.06-.94 2.06-2.06.94z\"/><path d=\"M17.41 7.96l-1.37-1.37c-.4-.4-.92-.59-1.43-.59-.52 0-1.04.2-1.43.59L10.3 9.45l-7.72 7.72c-.78.78-.78 2.05 0 2.83L4 21.41c.39.39.9.59 1.41.59.51 0 1.02-.2 1.41-.59l7.78-7.78 2.81-2.81c.8-.78.8-2.07 0-2.86zM5.41 20L4 18.59l7.72-7.72 1.47 1.35L5.41 20z\"/>\n",
              "  </svg>\n",
              "      </button>\n",
              "      \n",
              "  <style>\n",
              "    .colab-df-container {\n",
              "      display:flex;\n",
              "      flex-wrap:wrap;\n",
              "      gap: 12px;\n",
              "    }\n",
              "\n",
              "    .colab-df-convert {\n",
              "      background-color: #E8F0FE;\n",
              "      border: none;\n",
              "      border-radius: 50%;\n",
              "      cursor: pointer;\n",
              "      display: none;\n",
              "      fill: #1967D2;\n",
              "      height: 32px;\n",
              "      padding: 0 0 0 0;\n",
              "      width: 32px;\n",
              "    }\n",
              "\n",
              "    .colab-df-convert:hover {\n",
              "      background-color: #E2EBFA;\n",
              "      box-shadow: 0px 1px 2px rgba(60, 64, 67, 0.3), 0px 1px 3px 1px rgba(60, 64, 67, 0.15);\n",
              "      fill: #174EA6;\n",
              "    }\n",
              "\n",
              "    [theme=dark] .colab-df-convert {\n",
              "      background-color: #3B4455;\n",
              "      fill: #D2E3FC;\n",
              "    }\n",
              "\n",
              "    [theme=dark] .colab-df-convert:hover {\n",
              "      background-color: #434B5C;\n",
              "      box-shadow: 0px 1px 3px 1px rgba(0, 0, 0, 0.15);\n",
              "      filter: drop-shadow(0px 1px 2px rgba(0, 0, 0, 0.3));\n",
              "      fill: #FFFFFF;\n",
              "    }\n",
              "  </style>\n",
              "\n",
              "      <script>\n",
              "        const buttonEl =\n",
              "          document.querySelector('#df-85a05bda-9675-4b69-b85c-23ba7f33e510 button.colab-df-convert');\n",
              "        buttonEl.style.display =\n",
              "          google.colab.kernel.accessAllowed ? 'block' : 'none';\n",
              "\n",
              "        async function convertToInteractive(key) {\n",
              "          const element = document.querySelector('#df-85a05bda-9675-4b69-b85c-23ba7f33e510');\n",
              "          const dataTable =\n",
              "            await google.colab.kernel.invokeFunction('convertToInteractive',\n",
              "                                                     [key], {});\n",
              "          if (!dataTable) return;\n",
              "\n",
              "          const docLinkHtml = 'Like what you see? Visit the ' +\n",
              "            '<a target=\"_blank\" href=https://colab.research.google.com/notebooks/data_table.ipynb>data table notebook</a>'\n",
              "            + ' to learn more about interactive tables.';\n",
              "          element.innerHTML = '';\n",
              "          dataTable['output_type'] = 'display_data';\n",
              "          await google.colab.output.renderOutput(dataTable, element);\n",
              "          const docLink = document.createElement('div');\n",
              "          docLink.innerHTML = docLinkHtml;\n",
              "          element.appendChild(docLink);\n",
              "        }\n",
              "      </script>\n",
              "    </div>\n",
              "  </div>\n",
              "  "
            ]
          },
          "metadata": {},
          "execution_count": 4
        }
      ]
    },
    {
      "cell_type": "code",
      "source": [
        "df2 = df1.drop(['Unnamed: 0'],axis=1)\n",
        "df2"
      ],
      "metadata": {
        "colab": {
          "base_uri": "https://localhost:8080/",
          "height": 1000
        },
        "id": "mp6xKO7nu-CX",
        "outputId": "c6c0e51d-4e99-45c8-e00a-fcdb3eeabd6e"
      },
      "execution_count": null,
      "outputs": [
        {
          "output_type": "execute_result",
          "data": {
            "text/plain": [
              "        year  Jet_Fuel  Gasoline_avi_BTU  LDV_SWB_road_BTU  LDV_LWB_road_BTU  \\\n",
              "0   0.000000  0.000000          0.404440          0.000000          0.478083   \n",
              "1   0.047619  0.106455          1.000000          0.411229          0.000000   \n",
              "2   0.142857  0.066179          0.854988          0.555588          0.096038   \n",
              "3   0.238095  0.195659          1.000000          0.463469          0.192181   \n",
              "4   0.333333  0.410613          0.888779          0.497766          0.385355   \n",
              "5   0.428571  0.693087          0.633468          0.453817          0.433070   \n",
              "6   0.447619  0.578317          0.637223          0.334720          0.486200   \n",
              "7   0.466667  0.610352          0.487040          0.360217          0.541505   \n",
              "8   0.485714  0.659134          0.314331          0.396878          0.580688   \n",
              "9   0.504762  0.731951          0.306821          0.407657          0.612734   \n",
              "10  0.523810  0.773865          0.385667          0.420048          0.636824   \n",
              "11  0.542857  0.824457          0.391299          0.438767          0.667981   \n",
              "12  0.561905  0.887810          0.405191          0.461395          0.713958   \n",
              "13  0.580952  0.840060          0.476903          0.502322          0.735867   \n",
              "14  0.600000  1.000000          0.604934          0.535644          0.782935   \n",
              "15  0.619048  0.920957          0.557626          0.533435          0.786360   \n",
              "16  0.638095  0.814327          0.356477          0.544238          0.798247   \n",
              "17  0.657143  0.703211          0.346973          0.587515          0.832873   \n",
              "18  0.676190  0.720696          0.330753          0.587150          0.945784   \n",
              "19  0.695238  0.850414          0.332721          0.586203          1.000000   \n",
              "20  0.714286  0.837509          0.415869          0.631584          0.907271   \n",
              "21  0.733333  0.801840          0.372270          0.577723          0.944300   \n",
              "22  0.752381  0.799065          0.335527          0.969673          0.407546   \n",
              "23  0.771429  0.727754          0.239427          0.823442          0.419089   \n",
              "24  0.790476  0.549678          0.161943          0.824828          0.435099   \n",
              "25  0.809524  0.537461          0.136879          0.849185          0.446118   \n",
              "26  0.828571  0.506695          0.118946          0.884741          0.427434   \n",
              "27  0.847619  0.427180          0.083230          0.891678          0.422943   \n",
              "28  0.866667  0.416148          0.048746          0.891392          0.423847   \n",
              "29  0.885714  0.434535          0.094828          0.906810          0.468382   \n",
              "30  0.904762  0.494962          0.042669          0.923111          0.449917   \n",
              "31  0.923810  0.552359          0.083424          0.956507          0.478083   \n",
              "32  0.942857  0.575676          0.083120          0.961422          0.470906   \n",
              "33  0.961905  0.644077          0.179037          0.958509          0.465250   \n",
              "34  0.980952  0.689310          0.059615          1.000000          0.482384   \n",
              "35  1.000000  0.022387          0.000000          0.580056          0.461351   \n",
              "\n",
              "    Combination_Truck_road_BTU  Bus_Road_BTU  Passenger_Car_EFF  \\\n",
              "0                     0.000000      0.032734           0.000000   \n",
              "1                     0.028403      0.000000           0.043931   \n",
              "2                     0.103719      0.139117           0.087862   \n",
              "3                     0.262604      0.118369           0.032948   \n",
              "4                     0.302465      0.008042           0.087862   \n",
              "5                     0.390053      0.044740           0.076880   \n",
              "6                     0.417870      0.026142           0.109828   \n",
              "7                     0.434650      0.034581           0.098845   \n",
              "8                     0.456540      0.065188           0.120811   \n",
              "9                     0.494661      0.095475           0.131793   \n",
              "10                    0.540077      0.088095           0.076880   \n",
              "11                    0.553289      0.098644           0.098845   \n",
              "12                    0.561669      0.123304           0.131793   \n",
              "13                    0.761587      0.131524           0.153759   \n",
              "14                    0.806150      0.194907           0.208673   \n",
              "15                    0.782489      0.174365           0.207753   \n",
              "16                    0.776155      0.122898           0.298850   \n",
              "17                    0.815996      0.107162           0.273221   \n",
              "18                    0.706319      0.088867           0.400002   \n",
              "19                    0.721776      0.322635           0.424961   \n",
              "20                    0.865768      0.179156           0.582114   \n",
              "21                    0.882971      0.196100           0.696080   \n",
              "22                    1.000000      0.718751           0.606962   \n",
              "23                    0.984009      0.738953           0.842463   \n",
              "24                    0.880643      0.697212           0.966472   \n",
              "25                    0.957900      0.657814           0.981564   \n",
              "26                    0.886038      0.666787           1.000000   \n",
              "27                    0.877569      0.742604           1.000000   \n",
              "28                    0.911312      0.774622           1.000000   \n",
              "29                    0.924595      0.844290           0.207753   \n",
              "30                    0.915055      0.841212           0.207753   \n",
              "31                    0.942585      0.839854           0.207753   \n",
              "32                    0.975885      0.914261           0.207753   \n",
              "33                    0.974301      1.000000           0.207753   \n",
              "34                    0.919217      0.974187           0.207753   \n",
              "35                    0.895947      0.737143           0.207753   \n",
              "\n",
              "    Passenger_Car_Age  Demand_petroleum_transportation)mil_lit  \\\n",
              "0            0.500000                                 0.000000   \n",
              "1            0.500000                                 0.063788   \n",
              "2            0.500000                                 0.285012   \n",
              "3            0.500000                                 0.315430   \n",
              "4            0.500000                                 0.360885   \n",
              "5            0.500000                                 0.460239   \n",
              "6            0.500000                                 0.437389   \n",
              "7            0.500000                                 0.481332   \n",
              "8            0.500000                                 0.509348   \n",
              "9            0.500000                                 0.544657   \n",
              "10           0.000000                                 0.570022   \n",
              "11           0.000000                                 0.610310   \n",
              "12           0.000000                                 0.637348   \n",
              "13           0.000000                                 0.697604   \n",
              "14           0.000000                                 0.760428   \n",
              "15           0.000000                                 0.761648   \n",
              "16           0.000000                                 0.792780   \n",
              "17           0.250000                                 0.850910   \n",
              "18           0.321429                                 0.873176   \n",
              "19           0.392857                                 0.915686   \n",
              "20           0.464286                                 0.895976   \n",
              "21           0.535714                                 0.892577   \n",
              "22           0.607143                                 0.894469   \n",
              "23           0.678571                                 0.830499   \n",
              "24           0.750000                                 0.842444   \n",
              "25           0.964286                                 0.858277   \n",
              "26           1.000000                                 0.815987   \n",
              "27           1.000000                                 0.806675   \n",
              "28           1.000000                                 0.815916   \n",
              "29           1.000000                                 0.896339   \n",
              "30           1.000000                                 0.918191   \n",
              "31           1.000000                                 0.976208   \n",
              "32           0.500000                                 0.971726   \n",
              "33           0.500000                                 0.982629   \n",
              "34           0.500000                                 1.000000   \n",
              "35           0.500000                                 0.693133   \n",
              "\n",
              "    Average_MC/15000_miles(dollars)  CO2_emission_million_metric_tons  \\\n",
              "0                          0.726176                          0.703017   \n",
              "1                          0.726176                          0.703017   \n",
              "2                          0.000000                          0.000000   \n",
              "3                          0.013614                          0.083094   \n",
              "4                          0.061195                          0.120500   \n",
              "5                          0.288288                          0.359162   \n",
              "6                          0.388240                          0.330358   \n",
              "7                          0.422690                          0.364787   \n",
              "8                          0.419600                          0.384143   \n",
              "9                          0.436903                          0.442712   \n",
              "10                         0.478459                          0.493010   \n",
              "11                         0.509974                          0.565985   \n",
              "12                         0.561572                          0.593833   \n",
              "13                         0.590152                          0.648561   \n",
              "14                         0.612088                          0.716431   \n",
              "15                         0.660442                          0.797859   \n",
              "16                         0.705397                          0.756645   \n",
              "17                         0.686859                          0.813991   \n",
              "18                         0.720846                          0.840017   \n",
              "19                         0.825432                          0.920219   \n",
              "20                         0.822188                          0.950494   \n",
              "21                         0.733205                          0.995580   \n",
              "22                         0.731505                          1.000000   \n",
              "23                         0.777542                          0.809326   \n",
              "24                         0.773680                          0.716058   \n",
              "25                         0.834083                          0.738805   \n",
              "26                         0.878729                          0.688834   \n",
              "27                         0.904992                          0.634767   \n",
              "28                         0.932181                          0.663465   \n",
              "29                         0.894178                          0.689976   \n",
              "30                         0.866680                          0.723990   \n",
              "31                         0.845052                          0.771122   \n",
              "32                         0.831148                          0.795857   \n",
              "33                         0.890007                          0.841732   \n",
              "34                         0.956899                          0.850614   \n",
              "35                         1.000000                          0.425220   \n",
              "\n",
              "    CO_emission_million_shots_tons  NOx_emission_million_shots_tons  \\\n",
              "0                         0.320520                         0.729545   \n",
              "1                         1.000000                         0.989304   \n",
              "2                         0.897027                         0.962078   \n",
              "3                         0.877346                         1.000000   \n",
              "4                         0.820983                         0.928531   \n",
              "5                         0.671849                         0.916106   \n",
              "6                         0.625378                         0.897361   \n",
              "7                         0.584351                         0.901737   \n",
              "8                         0.551486                         0.906869   \n",
              "9                         0.536057                         0.906544   \n",
              "10                        0.491429                         0.885206   \n",
              "11                        0.505121                         0.876150   \n",
              "12                        0.433059                         0.871699   \n",
              "13                        0.416406                         0.852403   \n",
              "14                        0.410884                         0.771209   \n",
              "15                        0.410393                         0.757903   \n",
              "16                        0.356390                         0.701186   \n",
              "17                        0.328551                         0.831389   \n",
              "18                        0.312489                         0.760720   \n",
              "19                        0.296392                         0.689444   \n",
              "20                        0.239776                         0.636699   \n",
              "21                        0.221946                         0.575777   \n",
              "22                        0.204116                         0.514854   \n",
              "23                        0.181255                         0.450577   \n",
              "24                        0.135820                         0.389120   \n",
              "25                        0.142525                         0.339137   \n",
              "26                        0.142462                         0.321444   \n",
              "27                        0.129276                         0.286863   \n",
              "28                        0.116089                         0.252283   \n",
              "29                        0.088326                         0.217207   \n",
              "30                        0.075020                         0.168184   \n",
              "31                        0.044668                         0.093738   \n",
              "32                        0.095354                         0.068588   \n",
              "33                        0.066906                         0.034725   \n",
              "34                        0.000000                         0.000000   \n",
              "35                        0.320520                         0.729545   \n",
              "\n",
              "    SOx_emission_million_shots_tons  Volatile_compound_million_shots_tons  \\\n",
              "0                          0.442498                              0.295009   \n",
              "1                          1.000000                              1.000000   \n",
              "2                          0.891428                              1.000000   \n",
              "3                          0.818978                              1.000000   \n",
              "4                          0.729390                              0.893062   \n",
              "5                          0.721523                              0.678655   \n",
              "6                          0.697504                              0.644103   \n",
              "7                          0.687487                              0.610852   \n",
              "8                          0.676917                              0.588989   \n",
              "9                          0.662311                              0.578577   \n",
              "10                         0.569029                              0.544220   \n",
              "11                         0.561034                              0.468039   \n",
              "12                         0.576584                              0.380776   \n",
              "13                         0.580160                              0.332055   \n",
              "14                         0.532307                              0.298772   \n",
              "15                         0.491311                              0.249475   \n",
              "16                         0.477103                              0.223377   \n",
              "17                         0.446331                              0.430182   \n",
              "18                         0.438665                              0.405554   \n",
              "19                         0.430575                              0.379713   \n",
              "20                         0.429696                              0.265135   \n",
              "21                         0.381013                              0.274813   \n",
              "22                         0.332330                              0.284491   \n",
              "23                         0.285272                              0.265516   \n",
              "24                         0.243046                              0.254736   \n",
              "25                         0.196627                              0.270471   \n",
              "26                         0.153753                              0.291246   \n",
              "27                         0.105879                              0.272885   \n",
              "28                         0.098837                              0.254523   \n",
              "29                         0.092031                              0.208502   \n",
              "30                         0.067079                              0.172525   \n",
              "31                         0.041734                              0.115837   \n",
              "32                         0.019001                              0.228165   \n",
              "33                         0.015546                              0.179342   \n",
              "34                         0.000000                              0.000000   \n",
              "35                         0.442498                              0.295009   \n",
              "\n",
              "    overall_emission  \n",
              "0           0.649714  \n",
              "1           0.906227  \n",
              "2           0.000000  \n",
              "3           0.016970  \n",
              "4           0.101837  \n",
              "5           0.341794  \n",
              "6           0.285928  \n",
              "7           0.317761  \n",
              "8           0.333276  \n",
              "9           0.407909  \n",
              "10          0.449186  \n",
              "11          0.541506  \n",
              "12          0.555541  \n",
              "13          0.621467  \n",
              "14          0.704462  \n",
              "15          0.809076  \n",
              "16          0.734641  \n",
              "17          0.807687  \n",
              "18          0.834044  \n",
              "19          0.932372  \n",
              "20          0.949740  \n",
              "21          1.000000  \n",
              "22          0.996161  \n",
              "23          0.730380  \n",
              "24          0.587256  \n",
              "25          0.614806  \n",
              "26          0.545668  \n",
              "27          0.463892  \n",
              "28          0.494537  \n",
              "29          0.516604  \n",
              "30          0.552412  \n",
              "31          0.599023  \n",
              "32          0.648415  \n",
              "33          0.696954  \n",
              "34          0.679037  \n",
              "35          0.280154  "
            ],
            "text/html": [
              "\n",
              "  <div id=\"df-9fccbf6f-9ff7-4f3c-b956-9f4896a0d81f\">\n",
              "    <div class=\"colab-df-container\">\n",
              "      <div>\n",
              "<style scoped>\n",
              "    .dataframe tbody tr th:only-of-type {\n",
              "        vertical-align: middle;\n",
              "    }\n",
              "\n",
              "    .dataframe tbody tr th {\n",
              "        vertical-align: top;\n",
              "    }\n",
              "\n",
              "    .dataframe thead th {\n",
              "        text-align: right;\n",
              "    }\n",
              "</style>\n",
              "<table border=\"1\" class=\"dataframe\">\n",
              "  <thead>\n",
              "    <tr style=\"text-align: right;\">\n",
              "      <th></th>\n",
              "      <th>year</th>\n",
              "      <th>Jet_Fuel</th>\n",
              "      <th>Gasoline_avi_BTU</th>\n",
              "      <th>LDV_SWB_road_BTU</th>\n",
              "      <th>LDV_LWB_road_BTU</th>\n",
              "      <th>Combination_Truck_road_BTU</th>\n",
              "      <th>Bus_Road_BTU</th>\n",
              "      <th>Passenger_Car_EFF</th>\n",
              "      <th>Passenger_Car_Age</th>\n",
              "      <th>Demand_petroleum_transportation)mil_lit</th>\n",
              "      <th>Average_MC/15000_miles(dollars)</th>\n",
              "      <th>CO2_emission_million_metric_tons</th>\n",
              "      <th>CO_emission_million_shots_tons</th>\n",
              "      <th>NOx_emission_million_shots_tons</th>\n",
              "      <th>SOx_emission_million_shots_tons</th>\n",
              "      <th>Volatile_compound_million_shots_tons</th>\n",
              "      <th>overall_emission</th>\n",
              "    </tr>\n",
              "  </thead>\n",
              "  <tbody>\n",
              "    <tr>\n",
              "      <th>0</th>\n",
              "      <td>0.000000</td>\n",
              "      <td>0.000000</td>\n",
              "      <td>0.404440</td>\n",
              "      <td>0.000000</td>\n",
              "      <td>0.478083</td>\n",
              "      <td>0.000000</td>\n",
              "      <td>0.032734</td>\n",
              "      <td>0.000000</td>\n",
              "      <td>0.500000</td>\n",
              "      <td>0.000000</td>\n",
              "      <td>0.726176</td>\n",
              "      <td>0.703017</td>\n",
              "      <td>0.320520</td>\n",
              "      <td>0.729545</td>\n",
              "      <td>0.442498</td>\n",
              "      <td>0.295009</td>\n",
              "      <td>0.649714</td>\n",
              "    </tr>\n",
              "    <tr>\n",
              "      <th>1</th>\n",
              "      <td>0.047619</td>\n",
              "      <td>0.106455</td>\n",
              "      <td>1.000000</td>\n",
              "      <td>0.411229</td>\n",
              "      <td>0.000000</td>\n",
              "      <td>0.028403</td>\n",
              "      <td>0.000000</td>\n",
              "      <td>0.043931</td>\n",
              "      <td>0.500000</td>\n",
              "      <td>0.063788</td>\n",
              "      <td>0.726176</td>\n",
              "      <td>0.703017</td>\n",
              "      <td>1.000000</td>\n",
              "      <td>0.989304</td>\n",
              "      <td>1.000000</td>\n",
              "      <td>1.000000</td>\n",
              "      <td>0.906227</td>\n",
              "    </tr>\n",
              "    <tr>\n",
              "      <th>2</th>\n",
              "      <td>0.142857</td>\n",
              "      <td>0.066179</td>\n",
              "      <td>0.854988</td>\n",
              "      <td>0.555588</td>\n",
              "      <td>0.096038</td>\n",
              "      <td>0.103719</td>\n",
              "      <td>0.139117</td>\n",
              "      <td>0.087862</td>\n",
              "      <td>0.500000</td>\n",
              "      <td>0.285012</td>\n",
              "      <td>0.000000</td>\n",
              "      <td>0.000000</td>\n",
              "      <td>0.897027</td>\n",
              "      <td>0.962078</td>\n",
              "      <td>0.891428</td>\n",
              "      <td>1.000000</td>\n",
              "      <td>0.000000</td>\n",
              "    </tr>\n",
              "    <tr>\n",
              "      <th>3</th>\n",
              "      <td>0.238095</td>\n",
              "      <td>0.195659</td>\n",
              "      <td>1.000000</td>\n",
              "      <td>0.463469</td>\n",
              "      <td>0.192181</td>\n",
              "      <td>0.262604</td>\n",
              "      <td>0.118369</td>\n",
              "      <td>0.032948</td>\n",
              "      <td>0.500000</td>\n",
              "      <td>0.315430</td>\n",
              "      <td>0.013614</td>\n",
              "      <td>0.083094</td>\n",
              "      <td>0.877346</td>\n",
              "      <td>1.000000</td>\n",
              "      <td>0.818978</td>\n",
              "      <td>1.000000</td>\n",
              "      <td>0.016970</td>\n",
              "    </tr>\n",
              "    <tr>\n",
              "      <th>4</th>\n",
              "      <td>0.333333</td>\n",
              "      <td>0.410613</td>\n",
              "      <td>0.888779</td>\n",
              "      <td>0.497766</td>\n",
              "      <td>0.385355</td>\n",
              "      <td>0.302465</td>\n",
              "      <td>0.008042</td>\n",
              "      <td>0.087862</td>\n",
              "      <td>0.500000</td>\n",
              "      <td>0.360885</td>\n",
              "      <td>0.061195</td>\n",
              "      <td>0.120500</td>\n",
              "      <td>0.820983</td>\n",
              "      <td>0.928531</td>\n",
              "      <td>0.729390</td>\n",
              "      <td>0.893062</td>\n",
              "      <td>0.101837</td>\n",
              "    </tr>\n",
              "    <tr>\n",
              "      <th>5</th>\n",
              "      <td>0.428571</td>\n",
              "      <td>0.693087</td>\n",
              "      <td>0.633468</td>\n",
              "      <td>0.453817</td>\n",
              "      <td>0.433070</td>\n",
              "      <td>0.390053</td>\n",
              "      <td>0.044740</td>\n",
              "      <td>0.076880</td>\n",
              "      <td>0.500000</td>\n",
              "      <td>0.460239</td>\n",
              "      <td>0.288288</td>\n",
              "      <td>0.359162</td>\n",
              "      <td>0.671849</td>\n",
              "      <td>0.916106</td>\n",
              "      <td>0.721523</td>\n",
              "      <td>0.678655</td>\n",
              "      <td>0.341794</td>\n",
              "    </tr>\n",
              "    <tr>\n",
              "      <th>6</th>\n",
              "      <td>0.447619</td>\n",
              "      <td>0.578317</td>\n",
              "      <td>0.637223</td>\n",
              "      <td>0.334720</td>\n",
              "      <td>0.486200</td>\n",
              "      <td>0.417870</td>\n",
              "      <td>0.026142</td>\n",
              "      <td>0.109828</td>\n",
              "      <td>0.500000</td>\n",
              "      <td>0.437389</td>\n",
              "      <td>0.388240</td>\n",
              "      <td>0.330358</td>\n",
              "      <td>0.625378</td>\n",
              "      <td>0.897361</td>\n",
              "      <td>0.697504</td>\n",
              "      <td>0.644103</td>\n",
              "      <td>0.285928</td>\n",
              "    </tr>\n",
              "    <tr>\n",
              "      <th>7</th>\n",
              "      <td>0.466667</td>\n",
              "      <td>0.610352</td>\n",
              "      <td>0.487040</td>\n",
              "      <td>0.360217</td>\n",
              "      <td>0.541505</td>\n",
              "      <td>0.434650</td>\n",
              "      <td>0.034581</td>\n",
              "      <td>0.098845</td>\n",
              "      <td>0.500000</td>\n",
              "      <td>0.481332</td>\n",
              "      <td>0.422690</td>\n",
              "      <td>0.364787</td>\n",
              "      <td>0.584351</td>\n",
              "      <td>0.901737</td>\n",
              "      <td>0.687487</td>\n",
              "      <td>0.610852</td>\n",
              "      <td>0.317761</td>\n",
              "    </tr>\n",
              "    <tr>\n",
              "      <th>8</th>\n",
              "      <td>0.485714</td>\n",
              "      <td>0.659134</td>\n",
              "      <td>0.314331</td>\n",
              "      <td>0.396878</td>\n",
              "      <td>0.580688</td>\n",
              "      <td>0.456540</td>\n",
              "      <td>0.065188</td>\n",
              "      <td>0.120811</td>\n",
              "      <td>0.500000</td>\n",
              "      <td>0.509348</td>\n",
              "      <td>0.419600</td>\n",
              "      <td>0.384143</td>\n",
              "      <td>0.551486</td>\n",
              "      <td>0.906869</td>\n",
              "      <td>0.676917</td>\n",
              "      <td>0.588989</td>\n",
              "      <td>0.333276</td>\n",
              "    </tr>\n",
              "    <tr>\n",
              "      <th>9</th>\n",
              "      <td>0.504762</td>\n",
              "      <td>0.731951</td>\n",
              "      <td>0.306821</td>\n",
              "      <td>0.407657</td>\n",
              "      <td>0.612734</td>\n",
              "      <td>0.494661</td>\n",
              "      <td>0.095475</td>\n",
              "      <td>0.131793</td>\n",
              "      <td>0.500000</td>\n",
              "      <td>0.544657</td>\n",
              "      <td>0.436903</td>\n",
              "      <td>0.442712</td>\n",
              "      <td>0.536057</td>\n",
              "      <td>0.906544</td>\n",
              "      <td>0.662311</td>\n",
              "      <td>0.578577</td>\n",
              "      <td>0.407909</td>\n",
              "    </tr>\n",
              "    <tr>\n",
              "      <th>10</th>\n",
              "      <td>0.523810</td>\n",
              "      <td>0.773865</td>\n",
              "      <td>0.385667</td>\n",
              "      <td>0.420048</td>\n",
              "      <td>0.636824</td>\n",
              "      <td>0.540077</td>\n",
              "      <td>0.088095</td>\n",
              "      <td>0.076880</td>\n",
              "      <td>0.000000</td>\n",
              "      <td>0.570022</td>\n",
              "      <td>0.478459</td>\n",
              "      <td>0.493010</td>\n",
              "      <td>0.491429</td>\n",
              "      <td>0.885206</td>\n",
              "      <td>0.569029</td>\n",
              "      <td>0.544220</td>\n",
              "      <td>0.449186</td>\n",
              "    </tr>\n",
              "    <tr>\n",
              "      <th>11</th>\n",
              "      <td>0.542857</td>\n",
              "      <td>0.824457</td>\n",
              "      <td>0.391299</td>\n",
              "      <td>0.438767</td>\n",
              "      <td>0.667981</td>\n",
              "      <td>0.553289</td>\n",
              "      <td>0.098644</td>\n",
              "      <td>0.098845</td>\n",
              "      <td>0.000000</td>\n",
              "      <td>0.610310</td>\n",
              "      <td>0.509974</td>\n",
              "      <td>0.565985</td>\n",
              "      <td>0.505121</td>\n",
              "      <td>0.876150</td>\n",
              "      <td>0.561034</td>\n",
              "      <td>0.468039</td>\n",
              "      <td>0.541506</td>\n",
              "    </tr>\n",
              "    <tr>\n",
              "      <th>12</th>\n",
              "      <td>0.561905</td>\n",
              "      <td>0.887810</td>\n",
              "      <td>0.405191</td>\n",
              "      <td>0.461395</td>\n",
              "      <td>0.713958</td>\n",
              "      <td>0.561669</td>\n",
              "      <td>0.123304</td>\n",
              "      <td>0.131793</td>\n",
              "      <td>0.000000</td>\n",
              "      <td>0.637348</td>\n",
              "      <td>0.561572</td>\n",
              "      <td>0.593833</td>\n",
              "      <td>0.433059</td>\n",
              "      <td>0.871699</td>\n",
              "      <td>0.576584</td>\n",
              "      <td>0.380776</td>\n",
              "      <td>0.555541</td>\n",
              "    </tr>\n",
              "    <tr>\n",
              "      <th>13</th>\n",
              "      <td>0.580952</td>\n",
              "      <td>0.840060</td>\n",
              "      <td>0.476903</td>\n",
              "      <td>0.502322</td>\n",
              "      <td>0.735867</td>\n",
              "      <td>0.761587</td>\n",
              "      <td>0.131524</td>\n",
              "      <td>0.153759</td>\n",
              "      <td>0.000000</td>\n",
              "      <td>0.697604</td>\n",
              "      <td>0.590152</td>\n",
              "      <td>0.648561</td>\n",
              "      <td>0.416406</td>\n",
              "      <td>0.852403</td>\n",
              "      <td>0.580160</td>\n",
              "      <td>0.332055</td>\n",
              "      <td>0.621467</td>\n",
              "    </tr>\n",
              "    <tr>\n",
              "      <th>14</th>\n",
              "      <td>0.600000</td>\n",
              "      <td>1.000000</td>\n",
              "      <td>0.604934</td>\n",
              "      <td>0.535644</td>\n",
              "      <td>0.782935</td>\n",
              "      <td>0.806150</td>\n",
              "      <td>0.194907</td>\n",
              "      <td>0.208673</td>\n",
              "      <td>0.000000</td>\n",
              "      <td>0.760428</td>\n",
              "      <td>0.612088</td>\n",
              "      <td>0.716431</td>\n",
              "      <td>0.410884</td>\n",
              "      <td>0.771209</td>\n",
              "      <td>0.532307</td>\n",
              "      <td>0.298772</td>\n",
              "      <td>0.704462</td>\n",
              "    </tr>\n",
              "    <tr>\n",
              "      <th>15</th>\n",
              "      <td>0.619048</td>\n",
              "      <td>0.920957</td>\n",
              "      <td>0.557626</td>\n",
              "      <td>0.533435</td>\n",
              "      <td>0.786360</td>\n",
              "      <td>0.782489</td>\n",
              "      <td>0.174365</td>\n",
              "      <td>0.207753</td>\n",
              "      <td>0.000000</td>\n",
              "      <td>0.761648</td>\n",
              "      <td>0.660442</td>\n",
              "      <td>0.797859</td>\n",
              "      <td>0.410393</td>\n",
              "      <td>0.757903</td>\n",
              "      <td>0.491311</td>\n",
              "      <td>0.249475</td>\n",
              "      <td>0.809076</td>\n",
              "    </tr>\n",
              "    <tr>\n",
              "      <th>16</th>\n",
              "      <td>0.638095</td>\n",
              "      <td>0.814327</td>\n",
              "      <td>0.356477</td>\n",
              "      <td>0.544238</td>\n",
              "      <td>0.798247</td>\n",
              "      <td>0.776155</td>\n",
              "      <td>0.122898</td>\n",
              "      <td>0.298850</td>\n",
              "      <td>0.000000</td>\n",
              "      <td>0.792780</td>\n",
              "      <td>0.705397</td>\n",
              "      <td>0.756645</td>\n",
              "      <td>0.356390</td>\n",
              "      <td>0.701186</td>\n",
              "      <td>0.477103</td>\n",
              "      <td>0.223377</td>\n",
              "      <td>0.734641</td>\n",
              "    </tr>\n",
              "    <tr>\n",
              "      <th>17</th>\n",
              "      <td>0.657143</td>\n",
              "      <td>0.703211</td>\n",
              "      <td>0.346973</td>\n",
              "      <td>0.587515</td>\n",
              "      <td>0.832873</td>\n",
              "      <td>0.815996</td>\n",
              "      <td>0.107162</td>\n",
              "      <td>0.273221</td>\n",
              "      <td>0.250000</td>\n",
              "      <td>0.850910</td>\n",
              "      <td>0.686859</td>\n",
              "      <td>0.813991</td>\n",
              "      <td>0.328551</td>\n",
              "      <td>0.831389</td>\n",
              "      <td>0.446331</td>\n",
              "      <td>0.430182</td>\n",
              "      <td>0.807687</td>\n",
              "    </tr>\n",
              "    <tr>\n",
              "      <th>18</th>\n",
              "      <td>0.676190</td>\n",
              "      <td>0.720696</td>\n",
              "      <td>0.330753</td>\n",
              "      <td>0.587150</td>\n",
              "      <td>0.945784</td>\n",
              "      <td>0.706319</td>\n",
              "      <td>0.088867</td>\n",
              "      <td>0.400002</td>\n",
              "      <td>0.321429</td>\n",
              "      <td>0.873176</td>\n",
              "      <td>0.720846</td>\n",
              "      <td>0.840017</td>\n",
              "      <td>0.312489</td>\n",
              "      <td>0.760720</td>\n",
              "      <td>0.438665</td>\n",
              "      <td>0.405554</td>\n",
              "      <td>0.834044</td>\n",
              "    </tr>\n",
              "    <tr>\n",
              "      <th>19</th>\n",
              "      <td>0.695238</td>\n",
              "      <td>0.850414</td>\n",
              "      <td>0.332721</td>\n",
              "      <td>0.586203</td>\n",
              "      <td>1.000000</td>\n",
              "      <td>0.721776</td>\n",
              "      <td>0.322635</td>\n",
              "      <td>0.424961</td>\n",
              "      <td>0.392857</td>\n",
              "      <td>0.915686</td>\n",
              "      <td>0.825432</td>\n",
              "      <td>0.920219</td>\n",
              "      <td>0.296392</td>\n",
              "      <td>0.689444</td>\n",
              "      <td>0.430575</td>\n",
              "      <td>0.379713</td>\n",
              "      <td>0.932372</td>\n",
              "    </tr>\n",
              "    <tr>\n",
              "      <th>20</th>\n",
              "      <td>0.714286</td>\n",
              "      <td>0.837509</td>\n",
              "      <td>0.415869</td>\n",
              "      <td>0.631584</td>\n",
              "      <td>0.907271</td>\n",
              "      <td>0.865768</td>\n",
              "      <td>0.179156</td>\n",
              "      <td>0.582114</td>\n",
              "      <td>0.464286</td>\n",
              "      <td>0.895976</td>\n",
              "      <td>0.822188</td>\n",
              "      <td>0.950494</td>\n",
              "      <td>0.239776</td>\n",
              "      <td>0.636699</td>\n",
              "      <td>0.429696</td>\n",
              "      <td>0.265135</td>\n",
              "      <td>0.949740</td>\n",
              "    </tr>\n",
              "    <tr>\n",
              "      <th>21</th>\n",
              "      <td>0.733333</td>\n",
              "      <td>0.801840</td>\n",
              "      <td>0.372270</td>\n",
              "      <td>0.577723</td>\n",
              "      <td>0.944300</td>\n",
              "      <td>0.882971</td>\n",
              "      <td>0.196100</td>\n",
              "      <td>0.696080</td>\n",
              "      <td>0.535714</td>\n",
              "      <td>0.892577</td>\n",
              "      <td>0.733205</td>\n",
              "      <td>0.995580</td>\n",
              "      <td>0.221946</td>\n",
              "      <td>0.575777</td>\n",
              "      <td>0.381013</td>\n",
              "      <td>0.274813</td>\n",
              "      <td>1.000000</td>\n",
              "    </tr>\n",
              "    <tr>\n",
              "      <th>22</th>\n",
              "      <td>0.752381</td>\n",
              "      <td>0.799065</td>\n",
              "      <td>0.335527</td>\n",
              "      <td>0.969673</td>\n",
              "      <td>0.407546</td>\n",
              "      <td>1.000000</td>\n",
              "      <td>0.718751</td>\n",
              "      <td>0.606962</td>\n",
              "      <td>0.607143</td>\n",
              "      <td>0.894469</td>\n",
              "      <td>0.731505</td>\n",
              "      <td>1.000000</td>\n",
              "      <td>0.204116</td>\n",
              "      <td>0.514854</td>\n",
              "      <td>0.332330</td>\n",
              "      <td>0.284491</td>\n",
              "      <td>0.996161</td>\n",
              "    </tr>\n",
              "    <tr>\n",
              "      <th>23</th>\n",
              "      <td>0.771429</td>\n",
              "      <td>0.727754</td>\n",
              "      <td>0.239427</td>\n",
              "      <td>0.823442</td>\n",
              "      <td>0.419089</td>\n",
              "      <td>0.984009</td>\n",
              "      <td>0.738953</td>\n",
              "      <td>0.842463</td>\n",
              "      <td>0.678571</td>\n",
              "      <td>0.830499</td>\n",
              "      <td>0.777542</td>\n",
              "      <td>0.809326</td>\n",
              "      <td>0.181255</td>\n",
              "      <td>0.450577</td>\n",
              "      <td>0.285272</td>\n",
              "      <td>0.265516</td>\n",
              "      <td>0.730380</td>\n",
              "    </tr>\n",
              "    <tr>\n",
              "      <th>24</th>\n",
              "      <td>0.790476</td>\n",
              "      <td>0.549678</td>\n",
              "      <td>0.161943</td>\n",
              "      <td>0.824828</td>\n",
              "      <td>0.435099</td>\n",
              "      <td>0.880643</td>\n",
              "      <td>0.697212</td>\n",
              "      <td>0.966472</td>\n",
              "      <td>0.750000</td>\n",
              "      <td>0.842444</td>\n",
              "      <td>0.773680</td>\n",
              "      <td>0.716058</td>\n",
              "      <td>0.135820</td>\n",
              "      <td>0.389120</td>\n",
              "      <td>0.243046</td>\n",
              "      <td>0.254736</td>\n",
              "      <td>0.587256</td>\n",
              "    </tr>\n",
              "    <tr>\n",
              "      <th>25</th>\n",
              "      <td>0.809524</td>\n",
              "      <td>0.537461</td>\n",
              "      <td>0.136879</td>\n",
              "      <td>0.849185</td>\n",
              "      <td>0.446118</td>\n",
              "      <td>0.957900</td>\n",
              "      <td>0.657814</td>\n",
              "      <td>0.981564</td>\n",
              "      <td>0.964286</td>\n",
              "      <td>0.858277</td>\n",
              "      <td>0.834083</td>\n",
              "      <td>0.738805</td>\n",
              "      <td>0.142525</td>\n",
              "      <td>0.339137</td>\n",
              "      <td>0.196627</td>\n",
              "      <td>0.270471</td>\n",
              "      <td>0.614806</td>\n",
              "    </tr>\n",
              "    <tr>\n",
              "      <th>26</th>\n",
              "      <td>0.828571</td>\n",
              "      <td>0.506695</td>\n",
              "      <td>0.118946</td>\n",
              "      <td>0.884741</td>\n",
              "      <td>0.427434</td>\n",
              "      <td>0.886038</td>\n",
              "      <td>0.666787</td>\n",
              "      <td>1.000000</td>\n",
              "      <td>1.000000</td>\n",
              "      <td>0.815987</td>\n",
              "      <td>0.878729</td>\n",
              "      <td>0.688834</td>\n",
              "      <td>0.142462</td>\n",
              "      <td>0.321444</td>\n",
              "      <td>0.153753</td>\n",
              "      <td>0.291246</td>\n",
              "      <td>0.545668</td>\n",
              "    </tr>\n",
              "    <tr>\n",
              "      <th>27</th>\n",
              "      <td>0.847619</td>\n",
              "      <td>0.427180</td>\n",
              "      <td>0.083230</td>\n",
              "      <td>0.891678</td>\n",
              "      <td>0.422943</td>\n",
              "      <td>0.877569</td>\n",
              "      <td>0.742604</td>\n",
              "      <td>1.000000</td>\n",
              "      <td>1.000000</td>\n",
              "      <td>0.806675</td>\n",
              "      <td>0.904992</td>\n",
              "      <td>0.634767</td>\n",
              "      <td>0.129276</td>\n",
              "      <td>0.286863</td>\n",
              "      <td>0.105879</td>\n",
              "      <td>0.272885</td>\n",
              "      <td>0.463892</td>\n",
              "    </tr>\n",
              "    <tr>\n",
              "      <th>28</th>\n",
              "      <td>0.866667</td>\n",
              "      <td>0.416148</td>\n",
              "      <td>0.048746</td>\n",
              "      <td>0.891392</td>\n",
              "      <td>0.423847</td>\n",
              "      <td>0.911312</td>\n",
              "      <td>0.774622</td>\n",
              "      <td>1.000000</td>\n",
              "      <td>1.000000</td>\n",
              "      <td>0.815916</td>\n",
              "      <td>0.932181</td>\n",
              "      <td>0.663465</td>\n",
              "      <td>0.116089</td>\n",
              "      <td>0.252283</td>\n",
              "      <td>0.098837</td>\n",
              "      <td>0.254523</td>\n",
              "      <td>0.494537</td>\n",
              "    </tr>\n",
              "    <tr>\n",
              "      <th>29</th>\n",
              "      <td>0.885714</td>\n",
              "      <td>0.434535</td>\n",
              "      <td>0.094828</td>\n",
              "      <td>0.906810</td>\n",
              "      <td>0.468382</td>\n",
              "      <td>0.924595</td>\n",
              "      <td>0.844290</td>\n",
              "      <td>0.207753</td>\n",
              "      <td>1.000000</td>\n",
              "      <td>0.896339</td>\n",
              "      <td>0.894178</td>\n",
              "      <td>0.689976</td>\n",
              "      <td>0.088326</td>\n",
              "      <td>0.217207</td>\n",
              "      <td>0.092031</td>\n",
              "      <td>0.208502</td>\n",
              "      <td>0.516604</td>\n",
              "    </tr>\n",
              "    <tr>\n",
              "      <th>30</th>\n",
              "      <td>0.904762</td>\n",
              "      <td>0.494962</td>\n",
              "      <td>0.042669</td>\n",
              "      <td>0.923111</td>\n",
              "      <td>0.449917</td>\n",
              "      <td>0.915055</td>\n",
              "      <td>0.841212</td>\n",
              "      <td>0.207753</td>\n",
              "      <td>1.000000</td>\n",
              "      <td>0.918191</td>\n",
              "      <td>0.866680</td>\n",
              "      <td>0.723990</td>\n",
              "      <td>0.075020</td>\n",
              "      <td>0.168184</td>\n",
              "      <td>0.067079</td>\n",
              "      <td>0.172525</td>\n",
              "      <td>0.552412</td>\n",
              "    </tr>\n",
              "    <tr>\n",
              "      <th>31</th>\n",
              "      <td>0.923810</td>\n",
              "      <td>0.552359</td>\n",
              "      <td>0.083424</td>\n",
              "      <td>0.956507</td>\n",
              "      <td>0.478083</td>\n",
              "      <td>0.942585</td>\n",
              "      <td>0.839854</td>\n",
              "      <td>0.207753</td>\n",
              "      <td>1.000000</td>\n",
              "      <td>0.976208</td>\n",
              "      <td>0.845052</td>\n",
              "      <td>0.771122</td>\n",
              "      <td>0.044668</td>\n",
              "      <td>0.093738</td>\n",
              "      <td>0.041734</td>\n",
              "      <td>0.115837</td>\n",
              "      <td>0.599023</td>\n",
              "    </tr>\n",
              "    <tr>\n",
              "      <th>32</th>\n",
              "      <td>0.942857</td>\n",
              "      <td>0.575676</td>\n",
              "      <td>0.083120</td>\n",
              "      <td>0.961422</td>\n",
              "      <td>0.470906</td>\n",
              "      <td>0.975885</td>\n",
              "      <td>0.914261</td>\n",
              "      <td>0.207753</td>\n",
              "      <td>0.500000</td>\n",
              "      <td>0.971726</td>\n",
              "      <td>0.831148</td>\n",
              "      <td>0.795857</td>\n",
              "      <td>0.095354</td>\n",
              "      <td>0.068588</td>\n",
              "      <td>0.019001</td>\n",
              "      <td>0.228165</td>\n",
              "      <td>0.648415</td>\n",
              "    </tr>\n",
              "    <tr>\n",
              "      <th>33</th>\n",
              "      <td>0.961905</td>\n",
              "      <td>0.644077</td>\n",
              "      <td>0.179037</td>\n",
              "      <td>0.958509</td>\n",
              "      <td>0.465250</td>\n",
              "      <td>0.974301</td>\n",
              "      <td>1.000000</td>\n",
              "      <td>0.207753</td>\n",
              "      <td>0.500000</td>\n",
              "      <td>0.982629</td>\n",
              "      <td>0.890007</td>\n",
              "      <td>0.841732</td>\n",
              "      <td>0.066906</td>\n",
              "      <td>0.034725</td>\n",
              "      <td>0.015546</td>\n",
              "      <td>0.179342</td>\n",
              "      <td>0.696954</td>\n",
              "    </tr>\n",
              "    <tr>\n",
              "      <th>34</th>\n",
              "      <td>0.980952</td>\n",
              "      <td>0.689310</td>\n",
              "      <td>0.059615</td>\n",
              "      <td>1.000000</td>\n",
              "      <td>0.482384</td>\n",
              "      <td>0.919217</td>\n",
              "      <td>0.974187</td>\n",
              "      <td>0.207753</td>\n",
              "      <td>0.500000</td>\n",
              "      <td>1.000000</td>\n",
              "      <td>0.956899</td>\n",
              "      <td>0.850614</td>\n",
              "      <td>0.000000</td>\n",
              "      <td>0.000000</td>\n",
              "      <td>0.000000</td>\n",
              "      <td>0.000000</td>\n",
              "      <td>0.679037</td>\n",
              "    </tr>\n",
              "    <tr>\n",
              "      <th>35</th>\n",
              "      <td>1.000000</td>\n",
              "      <td>0.022387</td>\n",
              "      <td>0.000000</td>\n",
              "      <td>0.580056</td>\n",
              "      <td>0.461351</td>\n",
              "      <td>0.895947</td>\n",
              "      <td>0.737143</td>\n",
              "      <td>0.207753</td>\n",
              "      <td>0.500000</td>\n",
              "      <td>0.693133</td>\n",
              "      <td>1.000000</td>\n",
              "      <td>0.425220</td>\n",
              "      <td>0.320520</td>\n",
              "      <td>0.729545</td>\n",
              "      <td>0.442498</td>\n",
              "      <td>0.295009</td>\n",
              "      <td>0.280154</td>\n",
              "    </tr>\n",
              "  </tbody>\n",
              "</table>\n",
              "</div>\n",
              "      <button class=\"colab-df-convert\" onclick=\"convertToInteractive('df-9fccbf6f-9ff7-4f3c-b956-9f4896a0d81f')\"\n",
              "              title=\"Convert this dataframe to an interactive table.\"\n",
              "              style=\"display:none;\">\n",
              "        \n",
              "  <svg xmlns=\"http://www.w3.org/2000/svg\" height=\"24px\"viewBox=\"0 0 24 24\"\n",
              "       width=\"24px\">\n",
              "    <path d=\"M0 0h24v24H0V0z\" fill=\"none\"/>\n",
              "    <path d=\"M18.56 5.44l.94 2.06.94-2.06 2.06-.94-2.06-.94-.94-2.06-.94 2.06-2.06.94zm-11 1L8.5 8.5l.94-2.06 2.06-.94-2.06-.94L8.5 2.5l-.94 2.06-2.06.94zm10 10l.94 2.06.94-2.06 2.06-.94-2.06-.94-.94-2.06-.94 2.06-2.06.94z\"/><path d=\"M17.41 7.96l-1.37-1.37c-.4-.4-.92-.59-1.43-.59-.52 0-1.04.2-1.43.59L10.3 9.45l-7.72 7.72c-.78.78-.78 2.05 0 2.83L4 21.41c.39.39.9.59 1.41.59.51 0 1.02-.2 1.41-.59l7.78-7.78 2.81-2.81c.8-.78.8-2.07 0-2.86zM5.41 20L4 18.59l7.72-7.72 1.47 1.35L5.41 20z\"/>\n",
              "  </svg>\n",
              "      </button>\n",
              "      \n",
              "  <style>\n",
              "    .colab-df-container {\n",
              "      display:flex;\n",
              "      flex-wrap:wrap;\n",
              "      gap: 12px;\n",
              "    }\n",
              "\n",
              "    .colab-df-convert {\n",
              "      background-color: #E8F0FE;\n",
              "      border: none;\n",
              "      border-radius: 50%;\n",
              "      cursor: pointer;\n",
              "      display: none;\n",
              "      fill: #1967D2;\n",
              "      height: 32px;\n",
              "      padding: 0 0 0 0;\n",
              "      width: 32px;\n",
              "    }\n",
              "\n",
              "    .colab-df-convert:hover {\n",
              "      background-color: #E2EBFA;\n",
              "      box-shadow: 0px 1px 2px rgba(60, 64, 67, 0.3), 0px 1px 3px 1px rgba(60, 64, 67, 0.15);\n",
              "      fill: #174EA6;\n",
              "    }\n",
              "\n",
              "    [theme=dark] .colab-df-convert {\n",
              "      background-color: #3B4455;\n",
              "      fill: #D2E3FC;\n",
              "    }\n",
              "\n",
              "    [theme=dark] .colab-df-convert:hover {\n",
              "      background-color: #434B5C;\n",
              "      box-shadow: 0px 1px 3px 1px rgba(0, 0, 0, 0.15);\n",
              "      filter: drop-shadow(0px 1px 2px rgba(0, 0, 0, 0.3));\n",
              "      fill: #FFFFFF;\n",
              "    }\n",
              "  </style>\n",
              "\n",
              "      <script>\n",
              "        const buttonEl =\n",
              "          document.querySelector('#df-9fccbf6f-9ff7-4f3c-b956-9f4896a0d81f button.colab-df-convert');\n",
              "        buttonEl.style.display =\n",
              "          google.colab.kernel.accessAllowed ? 'block' : 'none';\n",
              "\n",
              "        async function convertToInteractive(key) {\n",
              "          const element = document.querySelector('#df-9fccbf6f-9ff7-4f3c-b956-9f4896a0d81f');\n",
              "          const dataTable =\n",
              "            await google.colab.kernel.invokeFunction('convertToInteractive',\n",
              "                                                     [key], {});\n",
              "          if (!dataTable) return;\n",
              "\n",
              "          const docLinkHtml = 'Like what you see? Visit the ' +\n",
              "            '<a target=\"_blank\" href=https://colab.research.google.com/notebooks/data_table.ipynb>data table notebook</a>'\n",
              "            + ' to learn more about interactive tables.';\n",
              "          element.innerHTML = '';\n",
              "          dataTable['output_type'] = 'display_data';\n",
              "          await google.colab.output.renderOutput(dataTable, element);\n",
              "          const docLink = document.createElement('div');\n",
              "          docLink.innerHTML = docLinkHtml;\n",
              "          element.appendChild(docLink);\n",
              "        }\n",
              "      </script>\n",
              "    </div>\n",
              "  </div>\n",
              "  "
            ]
          },
          "metadata": {},
          "execution_count": 5
        }
      ]
    },
    {
      "cell_type": "code",
      "source": [
        "df2.shape"
      ],
      "metadata": {
        "colab": {
          "base_uri": "https://localhost:8080/"
        },
        "id": "ndkUrzKbva97",
        "outputId": "3dd718bd-5d6c-48b6-9021-9c72ab944fac"
      },
      "execution_count": null,
      "outputs": [
        {
          "output_type": "execute_result",
          "data": {
            "text/plain": [
              "(36, 17)"
            ]
          },
          "metadata": {},
          "execution_count": 6
        }
      ]
    },
    {
      "cell_type": "code",
      "source": [
        "df2.info()"
      ],
      "metadata": {
        "colab": {
          "base_uri": "https://localhost:8080/"
        },
        "id": "6iY0XkNevhlJ",
        "outputId": "bf9d0bd7-1441-4d13-ded3-6aefca9f6902"
      },
      "execution_count": null,
      "outputs": [
        {
          "output_type": "stream",
          "name": "stdout",
          "text": [
            "<class 'pandas.core.frame.DataFrame'>\n",
            "RangeIndex: 36 entries, 0 to 35\n",
            "Data columns (total 17 columns):\n",
            " #   Column                                   Non-Null Count  Dtype  \n",
            "---  ------                                   --------------  -----  \n",
            " 0   year                                     36 non-null     float64\n",
            " 1   Jet_Fuel                                 36 non-null     float64\n",
            " 2   Gasoline_avi_BTU                         36 non-null     float64\n",
            " 3   LDV_SWB_road_BTU                         36 non-null     float64\n",
            " 4   LDV_LWB_road_BTU                         36 non-null     float64\n",
            " 5   Combination_Truck_road_BTU               36 non-null     float64\n",
            " 6   Bus_Road_BTU                             36 non-null     float64\n",
            " 7   Passenger_Car_EFF                        36 non-null     float64\n",
            " 8   Passenger_Car_Age                        36 non-null     float64\n",
            " 9   Demand_petroleum_transportation)mil_lit  36 non-null     float64\n",
            " 10  Average_MC/15000_miles(dollars)          36 non-null     float64\n",
            " 11  CO2_emission_million_metric_tons         36 non-null     float64\n",
            " 12  CO_emission_million_shots_tons           36 non-null     float64\n",
            " 13  NOx_emission_million_shots_tons          36 non-null     float64\n",
            " 14  SOx_emission_million_shots_tons          36 non-null     float64\n",
            " 15  Volatile_compound_million_shots_tons     36 non-null     float64\n",
            " 16  overall_emission                         36 non-null     float64\n",
            "dtypes: float64(17)\n",
            "memory usage: 4.9 KB\n"
          ]
        }
      ]
    },
    {
      "cell_type": "code",
      "source": [
        "x=df.iloc[:,0:17]\n",
        "y=df.iloc[:,17]"
      ],
      "metadata": {
        "id": "hwH0YkmpvO38"
      },
      "execution_count": null,
      "outputs": []
    },
    {
      "cell_type": "code",
      "source": [
        "x"
      ],
      "metadata": {
        "colab": {
          "base_uri": "https://localhost:8080/",
          "height": 1000
        },
        "id": "iXvHNmqJvrnL",
        "outputId": "dfd6f521-e84a-400c-9ed4-d383136f3b30"
      },
      "execution_count": null,
      "outputs": [
        {
          "output_type": "execute_result",
          "data": {
            "text/plain": [
              "    Unnamed: 0     Year   Jet Fuel_avi_BTU  Gasoline_avi_BTU  \\\n",
              "0            0  0.000000          0.000000          0.404440   \n",
              "1            1  0.047619          0.106455          1.000000   \n",
              "2            2  0.142857          0.066179          0.854988   \n",
              "3            3  0.238095          0.195659          1.000000   \n",
              "4            4  0.333333          0.410613          0.888779   \n",
              "5            5  0.428571          0.693087          0.633468   \n",
              "6            6  0.447619          0.578317          0.637223   \n",
              "7            7  0.466667          0.610352          0.487040   \n",
              "8            8  0.485714          0.659134          0.314331   \n",
              "9            9  0.504762          0.731951          0.306821   \n",
              "10          10  0.523810          0.773865          0.385667   \n",
              "11          11  0.542857          0.824457          0.391299   \n",
              "12          12  0.561905          0.887810          0.405191   \n",
              "13          13  0.580952          0.840060          0.476903   \n",
              "14          14  0.600000          1.000000          0.604934   \n",
              "15          15  0.619048          0.920957          0.557626   \n",
              "16          16  0.638095          0.814327          0.356477   \n",
              "17          17  0.657143          0.703211          0.346973   \n",
              "18          18  0.676190          0.720696          0.330753   \n",
              "19          19  0.695238          0.850414          0.332721   \n",
              "20          20  0.714286          0.837509          0.415869   \n",
              "21          21  0.733333          0.801840          0.372270   \n",
              "22          22  0.752381          0.799065          0.335527   \n",
              "23          23  0.771429          0.727754          0.239427   \n",
              "24          24  0.790476          0.549678          0.161943   \n",
              "25          25  0.809524          0.537461          0.136879   \n",
              "26          26  0.828571          0.506695          0.118946   \n",
              "27          27  0.847619          0.427180          0.083230   \n",
              "28          28  0.866667          0.416148          0.048746   \n",
              "29          29  0.885714          0.434535          0.094828   \n",
              "30          30  0.904762          0.494962          0.042669   \n",
              "31          31  0.923810          0.552359          0.083424   \n",
              "32          32  0.942857          0.575676          0.083120   \n",
              "33          33  0.961905          0.644077          0.179037   \n",
              "34          34  0.980952          0.689310          0.059615   \n",
              "35          35  1.000000          0.022387          0.000000   \n",
              "\n",
              "    LDV_SWB_road_BTU  LDV_LWB_road_BTU  Combination_Truck_road_BTU  \\\n",
              "0           0.000000          0.478083                    0.000000   \n",
              "1           0.411229          0.000000                    0.028403   \n",
              "2           0.555588          0.096038                    0.103719   \n",
              "3           0.463469          0.192181                    0.262604   \n",
              "4           0.497766          0.385355                    0.302465   \n",
              "5           0.453817          0.433070                    0.390053   \n",
              "6           0.334720          0.486200                    0.417870   \n",
              "7           0.360217          0.541505                    0.434650   \n",
              "8           0.396878          0.580688                    0.456540   \n",
              "9           0.407657          0.612734                    0.494661   \n",
              "10          0.420048          0.636824                    0.540077   \n",
              "11          0.438767          0.667981                    0.553289   \n",
              "12          0.461395          0.713958                    0.561669   \n",
              "13          0.502322          0.735867                    0.761587   \n",
              "14          0.535644          0.782935                    0.806150   \n",
              "15          0.533435          0.786360                    0.782489   \n",
              "16          0.544238          0.798247                    0.776155   \n",
              "17          0.587515          0.832873                    0.815996   \n",
              "18          0.587150          0.945784                    0.706319   \n",
              "19          0.586203          1.000000                    0.721776   \n",
              "20          0.631584          0.907271                    0.865768   \n",
              "21          0.577723          0.944300                    0.882971   \n",
              "22          0.969673          0.407546                    1.000000   \n",
              "23          0.823442          0.419089                    0.984009   \n",
              "24          0.824828          0.435099                    0.880643   \n",
              "25          0.849185          0.446118                    0.957900   \n",
              "26          0.884741          0.427434                    0.886038   \n",
              "27          0.891678          0.422943                    0.877569   \n",
              "28          0.891392          0.423847                    0.911312   \n",
              "29          0.906810          0.468382                    0.924595   \n",
              "30          0.923111          0.449917                    0.915055   \n",
              "31          0.956507          0.478083                    0.942585   \n",
              "32          0.961422          0.470906                    0.975885   \n",
              "33          0.958509          0.465250                    0.974301   \n",
              "34          1.000000          0.482384                    0.919217   \n",
              "35          0.580056          0.461351                    0.895947   \n",
              "\n",
              "    Bus_Road_BTU  Passenger_Car_EFF  Passenger_Car_Age  \\\n",
              "0       0.032734           0.000000           0.500000   \n",
              "1       0.000000           0.043931           0.500000   \n",
              "2       0.139117           0.087862           0.500000   \n",
              "3       0.118369           0.032948           0.500000   \n",
              "4       0.008042           0.087862           0.500000   \n",
              "5       0.044740           0.076880           0.500000   \n",
              "6       0.026142           0.109828           0.500000   \n",
              "7       0.034581           0.098845           0.500000   \n",
              "8       0.065188           0.120811           0.500000   \n",
              "9       0.095475           0.131793           0.500000   \n",
              "10      0.088095           0.076880           0.000000   \n",
              "11      0.098644           0.098845           0.000000   \n",
              "12      0.123304           0.131793           0.000000   \n",
              "13      0.131524           0.153759           0.000000   \n",
              "14      0.194907           0.208673           0.000000   \n",
              "15      0.174365           0.207753           0.000000   \n",
              "16      0.122898           0.298850           0.000000   \n",
              "17      0.107162           0.273221           0.250000   \n",
              "18      0.088867           0.400002           0.321429   \n",
              "19      0.322635           0.424961           0.392857   \n",
              "20      0.179156           0.582114           0.464286   \n",
              "21      0.196100           0.696080           0.535714   \n",
              "22      0.718751           0.606962           0.607143   \n",
              "23      0.738953           0.842463           0.678571   \n",
              "24      0.697212           0.966472           0.750000   \n",
              "25      0.657814           0.981564           0.964286   \n",
              "26      0.666787           1.000000           1.000000   \n",
              "27      0.742604           1.000000           1.000000   \n",
              "28      0.774622           1.000000           1.000000   \n",
              "29      0.844290           0.207753           1.000000   \n",
              "30      0.841212           0.207753           1.000000   \n",
              "31      0.839854           0.207753           1.000000   \n",
              "32      0.914261           0.207753           0.500000   \n",
              "33      1.000000           0.207753           0.500000   \n",
              "34      0.974187           0.207753           0.500000   \n",
              "35      0.737143           0.207753           0.500000   \n",
              "\n",
              "    Demand_petroleum_transportation)mil_lit  Average_MC/15000_miles(dollars)  \\\n",
              "0                                  0.000000                         0.726176   \n",
              "1                                  0.063788                         0.726176   \n",
              "2                                  0.285012                         0.000000   \n",
              "3                                  0.315430                         0.013614   \n",
              "4                                  0.360885                         0.061195   \n",
              "5                                  0.460239                         0.288288   \n",
              "6                                  0.437389                         0.388240   \n",
              "7                                  0.481332                         0.422690   \n",
              "8                                  0.509348                         0.419600   \n",
              "9                                  0.544657                         0.436903   \n",
              "10                                 0.570022                         0.478459   \n",
              "11                                 0.610310                         0.509974   \n",
              "12                                 0.637348                         0.561572   \n",
              "13                                 0.697604                         0.590152   \n",
              "14                                 0.760428                         0.612088   \n",
              "15                                 0.761648                         0.660442   \n",
              "16                                 0.792780                         0.705397   \n",
              "17                                 0.850910                         0.686859   \n",
              "18                                 0.873176                         0.720846   \n",
              "19                                 0.915686                         0.825432   \n",
              "20                                 0.895976                         0.822188   \n",
              "21                                 0.892577                         0.733205   \n",
              "22                                 0.894469                         0.731505   \n",
              "23                                 0.830499                         0.777542   \n",
              "24                                 0.842444                         0.773680   \n",
              "25                                 0.858277                         0.834083   \n",
              "26                                 0.815987                         0.878729   \n",
              "27                                 0.806675                         0.904992   \n",
              "28                                 0.815916                         0.932181   \n",
              "29                                 0.896339                         0.894178   \n",
              "30                                 0.918191                         0.866680   \n",
              "31                                 0.976208                         0.845052   \n",
              "32                                 0.971726                         0.831148   \n",
              "33                                 0.982629                         0.890007   \n",
              "34                                 1.000000                         0.956899   \n",
              "35                                 0.693133                         1.000000   \n",
              "\n",
              "    CO2_emission_million_metric_tons  CO_emission_million_shots_tons  \\\n",
              "0                           0.703017                        0.320520   \n",
              "1                           0.703017                        1.000000   \n",
              "2                           0.000000                        0.897027   \n",
              "3                           0.083094                        0.877346   \n",
              "4                           0.120500                        0.820983   \n",
              "5                           0.359162                        0.671849   \n",
              "6                           0.330358                        0.625378   \n",
              "7                           0.364787                        0.584351   \n",
              "8                           0.384143                        0.551486   \n",
              "9                           0.442712                        0.536057   \n",
              "10                          0.493010                        0.491429   \n",
              "11                          0.565985                        0.505121   \n",
              "12                          0.593833                        0.433059   \n",
              "13                          0.648561                        0.416406   \n",
              "14                          0.716431                        0.410884   \n",
              "15                          0.797859                        0.410393   \n",
              "16                          0.756645                        0.356390   \n",
              "17                          0.813991                        0.328551   \n",
              "18                          0.840017                        0.312489   \n",
              "19                          0.920219                        0.296392   \n",
              "20                          0.950494                        0.239776   \n",
              "21                          0.995580                        0.221946   \n",
              "22                          1.000000                        0.204116   \n",
              "23                          0.809326                        0.181255   \n",
              "24                          0.716058                        0.135820   \n",
              "25                          0.738805                        0.142525   \n",
              "26                          0.688834                        0.142462   \n",
              "27                          0.634767                        0.129276   \n",
              "28                          0.663465                        0.116089   \n",
              "29                          0.689976                        0.088326   \n",
              "30                          0.723990                        0.075020   \n",
              "31                          0.771122                        0.044668   \n",
              "32                          0.795857                        0.095354   \n",
              "33                          0.841732                        0.066906   \n",
              "34                          0.850614                        0.000000   \n",
              "35                          0.425220                        0.320520   \n",
              "\n",
              "    NOx_emission_million_shots_tons  SOx_emission_million_shots_tons  \\\n",
              "0                          0.729545                         0.442498   \n",
              "1                          0.989304                         1.000000   \n",
              "2                          0.962078                         0.891428   \n",
              "3                          1.000000                         0.818978   \n",
              "4                          0.928531                         0.729390   \n",
              "5                          0.916106                         0.721523   \n",
              "6                          0.897361                         0.697504   \n",
              "7                          0.901737                         0.687487   \n",
              "8                          0.906869                         0.676917   \n",
              "9                          0.906544                         0.662311   \n",
              "10                         0.885206                         0.569029   \n",
              "11                         0.876150                         0.561034   \n",
              "12                         0.871699                         0.576584   \n",
              "13                         0.852403                         0.580160   \n",
              "14                         0.771209                         0.532307   \n",
              "15                         0.757903                         0.491311   \n",
              "16                         0.701186                         0.477103   \n",
              "17                         0.831389                         0.446331   \n",
              "18                         0.760720                         0.438665   \n",
              "19                         0.689444                         0.430575   \n",
              "20                         0.636699                         0.429696   \n",
              "21                         0.575777                         0.381013   \n",
              "22                         0.514854                         0.332330   \n",
              "23                         0.450577                         0.285272   \n",
              "24                         0.389120                         0.243046   \n",
              "25                         0.339137                         0.196627   \n",
              "26                         0.321444                         0.153753   \n",
              "27                         0.286863                         0.105879   \n",
              "28                         0.252283                         0.098837   \n",
              "29                         0.217207                         0.092031   \n",
              "30                         0.168184                         0.067079   \n",
              "31                         0.093738                         0.041734   \n",
              "32                         0.068588                         0.019001   \n",
              "33                         0.034725                         0.015546   \n",
              "34                         0.000000                         0.000000   \n",
              "35                         0.729545                         0.442498   \n",
              "\n",
              "    Volatile_compound_million_shots_tons  \n",
              "0                               0.295009  \n",
              "1                               1.000000  \n",
              "2                               1.000000  \n",
              "3                               1.000000  \n",
              "4                               0.893062  \n",
              "5                               0.678655  \n",
              "6                               0.644103  \n",
              "7                               0.610852  \n",
              "8                               0.588989  \n",
              "9                               0.578577  \n",
              "10                              0.544220  \n",
              "11                              0.468039  \n",
              "12                              0.380776  \n",
              "13                              0.332055  \n",
              "14                              0.298772  \n",
              "15                              0.249475  \n",
              "16                              0.223377  \n",
              "17                              0.430182  \n",
              "18                              0.405554  \n",
              "19                              0.379713  \n",
              "20                              0.265135  \n",
              "21                              0.274813  \n",
              "22                              0.284491  \n",
              "23                              0.265516  \n",
              "24                              0.254736  \n",
              "25                              0.270471  \n",
              "26                              0.291246  \n",
              "27                              0.272885  \n",
              "28                              0.254523  \n",
              "29                              0.208502  \n",
              "30                              0.172525  \n",
              "31                              0.115837  \n",
              "32                              0.228165  \n",
              "33                              0.179342  \n",
              "34                              0.000000  \n",
              "35                              0.295009  "
            ],
            "text/html": [
              "\n",
              "  <div id=\"df-fbdd3324-4a9c-4428-a76d-4e83722d78cc\">\n",
              "    <div class=\"colab-df-container\">\n",
              "      <div>\n",
              "<style scoped>\n",
              "    .dataframe tbody tr th:only-of-type {\n",
              "        vertical-align: middle;\n",
              "    }\n",
              "\n",
              "    .dataframe tbody tr th {\n",
              "        vertical-align: top;\n",
              "    }\n",
              "\n",
              "    .dataframe thead th {\n",
              "        text-align: right;\n",
              "    }\n",
              "</style>\n",
              "<table border=\"1\" class=\"dataframe\">\n",
              "  <thead>\n",
              "    <tr style=\"text-align: right;\">\n",
              "      <th></th>\n",
              "      <th>Unnamed: 0</th>\n",
              "      <th>Year</th>\n",
              "      <th>Jet Fuel_avi_BTU</th>\n",
              "      <th>Gasoline_avi_BTU</th>\n",
              "      <th>LDV_SWB_road_BTU</th>\n",
              "      <th>LDV_LWB_road_BTU</th>\n",
              "      <th>Combination_Truck_road_BTU</th>\n",
              "      <th>Bus_Road_BTU</th>\n",
              "      <th>Passenger_Car_EFF</th>\n",
              "      <th>Passenger_Car_Age</th>\n",
              "      <th>Demand_petroleum_transportation)mil_lit</th>\n",
              "      <th>Average_MC/15000_miles(dollars)</th>\n",
              "      <th>CO2_emission_million_metric_tons</th>\n",
              "      <th>CO_emission_million_shots_tons</th>\n",
              "      <th>NOx_emission_million_shots_tons</th>\n",
              "      <th>SOx_emission_million_shots_tons</th>\n",
              "      <th>Volatile_compound_million_shots_tons</th>\n",
              "    </tr>\n",
              "  </thead>\n",
              "  <tbody>\n",
              "    <tr>\n",
              "      <th>0</th>\n",
              "      <td>0</td>\n",
              "      <td>0.000000</td>\n",
              "      <td>0.000000</td>\n",
              "      <td>0.404440</td>\n",
              "      <td>0.000000</td>\n",
              "      <td>0.478083</td>\n",
              "      <td>0.000000</td>\n",
              "      <td>0.032734</td>\n",
              "      <td>0.000000</td>\n",
              "      <td>0.500000</td>\n",
              "      <td>0.000000</td>\n",
              "      <td>0.726176</td>\n",
              "      <td>0.703017</td>\n",
              "      <td>0.320520</td>\n",
              "      <td>0.729545</td>\n",
              "      <td>0.442498</td>\n",
              "      <td>0.295009</td>\n",
              "    </tr>\n",
              "    <tr>\n",
              "      <th>1</th>\n",
              "      <td>1</td>\n",
              "      <td>0.047619</td>\n",
              "      <td>0.106455</td>\n",
              "      <td>1.000000</td>\n",
              "      <td>0.411229</td>\n",
              "      <td>0.000000</td>\n",
              "      <td>0.028403</td>\n",
              "      <td>0.000000</td>\n",
              "      <td>0.043931</td>\n",
              "      <td>0.500000</td>\n",
              "      <td>0.063788</td>\n",
              "      <td>0.726176</td>\n",
              "      <td>0.703017</td>\n",
              "      <td>1.000000</td>\n",
              "      <td>0.989304</td>\n",
              "      <td>1.000000</td>\n",
              "      <td>1.000000</td>\n",
              "    </tr>\n",
              "    <tr>\n",
              "      <th>2</th>\n",
              "      <td>2</td>\n",
              "      <td>0.142857</td>\n",
              "      <td>0.066179</td>\n",
              "      <td>0.854988</td>\n",
              "      <td>0.555588</td>\n",
              "      <td>0.096038</td>\n",
              "      <td>0.103719</td>\n",
              "      <td>0.139117</td>\n",
              "      <td>0.087862</td>\n",
              "      <td>0.500000</td>\n",
              "      <td>0.285012</td>\n",
              "      <td>0.000000</td>\n",
              "      <td>0.000000</td>\n",
              "      <td>0.897027</td>\n",
              "      <td>0.962078</td>\n",
              "      <td>0.891428</td>\n",
              "      <td>1.000000</td>\n",
              "    </tr>\n",
              "    <tr>\n",
              "      <th>3</th>\n",
              "      <td>3</td>\n",
              "      <td>0.238095</td>\n",
              "      <td>0.195659</td>\n",
              "      <td>1.000000</td>\n",
              "      <td>0.463469</td>\n",
              "      <td>0.192181</td>\n",
              "      <td>0.262604</td>\n",
              "      <td>0.118369</td>\n",
              "      <td>0.032948</td>\n",
              "      <td>0.500000</td>\n",
              "      <td>0.315430</td>\n",
              "      <td>0.013614</td>\n",
              "      <td>0.083094</td>\n",
              "      <td>0.877346</td>\n",
              "      <td>1.000000</td>\n",
              "      <td>0.818978</td>\n",
              "      <td>1.000000</td>\n",
              "    </tr>\n",
              "    <tr>\n",
              "      <th>4</th>\n",
              "      <td>4</td>\n",
              "      <td>0.333333</td>\n",
              "      <td>0.410613</td>\n",
              "      <td>0.888779</td>\n",
              "      <td>0.497766</td>\n",
              "      <td>0.385355</td>\n",
              "      <td>0.302465</td>\n",
              "      <td>0.008042</td>\n",
              "      <td>0.087862</td>\n",
              "      <td>0.500000</td>\n",
              "      <td>0.360885</td>\n",
              "      <td>0.061195</td>\n",
              "      <td>0.120500</td>\n",
              "      <td>0.820983</td>\n",
              "      <td>0.928531</td>\n",
              "      <td>0.729390</td>\n",
              "      <td>0.893062</td>\n",
              "    </tr>\n",
              "    <tr>\n",
              "      <th>5</th>\n",
              "      <td>5</td>\n",
              "      <td>0.428571</td>\n",
              "      <td>0.693087</td>\n",
              "      <td>0.633468</td>\n",
              "      <td>0.453817</td>\n",
              "      <td>0.433070</td>\n",
              "      <td>0.390053</td>\n",
              "      <td>0.044740</td>\n",
              "      <td>0.076880</td>\n",
              "      <td>0.500000</td>\n",
              "      <td>0.460239</td>\n",
              "      <td>0.288288</td>\n",
              "      <td>0.359162</td>\n",
              "      <td>0.671849</td>\n",
              "      <td>0.916106</td>\n",
              "      <td>0.721523</td>\n",
              "      <td>0.678655</td>\n",
              "    </tr>\n",
              "    <tr>\n",
              "      <th>6</th>\n",
              "      <td>6</td>\n",
              "      <td>0.447619</td>\n",
              "      <td>0.578317</td>\n",
              "      <td>0.637223</td>\n",
              "      <td>0.334720</td>\n",
              "      <td>0.486200</td>\n",
              "      <td>0.417870</td>\n",
              "      <td>0.026142</td>\n",
              "      <td>0.109828</td>\n",
              "      <td>0.500000</td>\n",
              "      <td>0.437389</td>\n",
              "      <td>0.388240</td>\n",
              "      <td>0.330358</td>\n",
              "      <td>0.625378</td>\n",
              "      <td>0.897361</td>\n",
              "      <td>0.697504</td>\n",
              "      <td>0.644103</td>\n",
              "    </tr>\n",
              "    <tr>\n",
              "      <th>7</th>\n",
              "      <td>7</td>\n",
              "      <td>0.466667</td>\n",
              "      <td>0.610352</td>\n",
              "      <td>0.487040</td>\n",
              "      <td>0.360217</td>\n",
              "      <td>0.541505</td>\n",
              "      <td>0.434650</td>\n",
              "      <td>0.034581</td>\n",
              "      <td>0.098845</td>\n",
              "      <td>0.500000</td>\n",
              "      <td>0.481332</td>\n",
              "      <td>0.422690</td>\n",
              "      <td>0.364787</td>\n",
              "      <td>0.584351</td>\n",
              "      <td>0.901737</td>\n",
              "      <td>0.687487</td>\n",
              "      <td>0.610852</td>\n",
              "    </tr>\n",
              "    <tr>\n",
              "      <th>8</th>\n",
              "      <td>8</td>\n",
              "      <td>0.485714</td>\n",
              "      <td>0.659134</td>\n",
              "      <td>0.314331</td>\n",
              "      <td>0.396878</td>\n",
              "      <td>0.580688</td>\n",
              "      <td>0.456540</td>\n",
              "      <td>0.065188</td>\n",
              "      <td>0.120811</td>\n",
              "      <td>0.500000</td>\n",
              "      <td>0.509348</td>\n",
              "      <td>0.419600</td>\n",
              "      <td>0.384143</td>\n",
              "      <td>0.551486</td>\n",
              "      <td>0.906869</td>\n",
              "      <td>0.676917</td>\n",
              "      <td>0.588989</td>\n",
              "    </tr>\n",
              "    <tr>\n",
              "      <th>9</th>\n",
              "      <td>9</td>\n",
              "      <td>0.504762</td>\n",
              "      <td>0.731951</td>\n",
              "      <td>0.306821</td>\n",
              "      <td>0.407657</td>\n",
              "      <td>0.612734</td>\n",
              "      <td>0.494661</td>\n",
              "      <td>0.095475</td>\n",
              "      <td>0.131793</td>\n",
              "      <td>0.500000</td>\n",
              "      <td>0.544657</td>\n",
              "      <td>0.436903</td>\n",
              "      <td>0.442712</td>\n",
              "      <td>0.536057</td>\n",
              "      <td>0.906544</td>\n",
              "      <td>0.662311</td>\n",
              "      <td>0.578577</td>\n",
              "    </tr>\n",
              "    <tr>\n",
              "      <th>10</th>\n",
              "      <td>10</td>\n",
              "      <td>0.523810</td>\n",
              "      <td>0.773865</td>\n",
              "      <td>0.385667</td>\n",
              "      <td>0.420048</td>\n",
              "      <td>0.636824</td>\n",
              "      <td>0.540077</td>\n",
              "      <td>0.088095</td>\n",
              "      <td>0.076880</td>\n",
              "      <td>0.000000</td>\n",
              "      <td>0.570022</td>\n",
              "      <td>0.478459</td>\n",
              "      <td>0.493010</td>\n",
              "      <td>0.491429</td>\n",
              "      <td>0.885206</td>\n",
              "      <td>0.569029</td>\n",
              "      <td>0.544220</td>\n",
              "    </tr>\n",
              "    <tr>\n",
              "      <th>11</th>\n",
              "      <td>11</td>\n",
              "      <td>0.542857</td>\n",
              "      <td>0.824457</td>\n",
              "      <td>0.391299</td>\n",
              "      <td>0.438767</td>\n",
              "      <td>0.667981</td>\n",
              "      <td>0.553289</td>\n",
              "      <td>0.098644</td>\n",
              "      <td>0.098845</td>\n",
              "      <td>0.000000</td>\n",
              "      <td>0.610310</td>\n",
              "      <td>0.509974</td>\n",
              "      <td>0.565985</td>\n",
              "      <td>0.505121</td>\n",
              "      <td>0.876150</td>\n",
              "      <td>0.561034</td>\n",
              "      <td>0.468039</td>\n",
              "    </tr>\n",
              "    <tr>\n",
              "      <th>12</th>\n",
              "      <td>12</td>\n",
              "      <td>0.561905</td>\n",
              "      <td>0.887810</td>\n",
              "      <td>0.405191</td>\n",
              "      <td>0.461395</td>\n",
              "      <td>0.713958</td>\n",
              "      <td>0.561669</td>\n",
              "      <td>0.123304</td>\n",
              "      <td>0.131793</td>\n",
              "      <td>0.000000</td>\n",
              "      <td>0.637348</td>\n",
              "      <td>0.561572</td>\n",
              "      <td>0.593833</td>\n",
              "      <td>0.433059</td>\n",
              "      <td>0.871699</td>\n",
              "      <td>0.576584</td>\n",
              "      <td>0.380776</td>\n",
              "    </tr>\n",
              "    <tr>\n",
              "      <th>13</th>\n",
              "      <td>13</td>\n",
              "      <td>0.580952</td>\n",
              "      <td>0.840060</td>\n",
              "      <td>0.476903</td>\n",
              "      <td>0.502322</td>\n",
              "      <td>0.735867</td>\n",
              "      <td>0.761587</td>\n",
              "      <td>0.131524</td>\n",
              "      <td>0.153759</td>\n",
              "      <td>0.000000</td>\n",
              "      <td>0.697604</td>\n",
              "      <td>0.590152</td>\n",
              "      <td>0.648561</td>\n",
              "      <td>0.416406</td>\n",
              "      <td>0.852403</td>\n",
              "      <td>0.580160</td>\n",
              "      <td>0.332055</td>\n",
              "    </tr>\n",
              "    <tr>\n",
              "      <th>14</th>\n",
              "      <td>14</td>\n",
              "      <td>0.600000</td>\n",
              "      <td>1.000000</td>\n",
              "      <td>0.604934</td>\n",
              "      <td>0.535644</td>\n",
              "      <td>0.782935</td>\n",
              "      <td>0.806150</td>\n",
              "      <td>0.194907</td>\n",
              "      <td>0.208673</td>\n",
              "      <td>0.000000</td>\n",
              "      <td>0.760428</td>\n",
              "      <td>0.612088</td>\n",
              "      <td>0.716431</td>\n",
              "      <td>0.410884</td>\n",
              "      <td>0.771209</td>\n",
              "      <td>0.532307</td>\n",
              "      <td>0.298772</td>\n",
              "    </tr>\n",
              "    <tr>\n",
              "      <th>15</th>\n",
              "      <td>15</td>\n",
              "      <td>0.619048</td>\n",
              "      <td>0.920957</td>\n",
              "      <td>0.557626</td>\n",
              "      <td>0.533435</td>\n",
              "      <td>0.786360</td>\n",
              "      <td>0.782489</td>\n",
              "      <td>0.174365</td>\n",
              "      <td>0.207753</td>\n",
              "      <td>0.000000</td>\n",
              "      <td>0.761648</td>\n",
              "      <td>0.660442</td>\n",
              "      <td>0.797859</td>\n",
              "      <td>0.410393</td>\n",
              "      <td>0.757903</td>\n",
              "      <td>0.491311</td>\n",
              "      <td>0.249475</td>\n",
              "    </tr>\n",
              "    <tr>\n",
              "      <th>16</th>\n",
              "      <td>16</td>\n",
              "      <td>0.638095</td>\n",
              "      <td>0.814327</td>\n",
              "      <td>0.356477</td>\n",
              "      <td>0.544238</td>\n",
              "      <td>0.798247</td>\n",
              "      <td>0.776155</td>\n",
              "      <td>0.122898</td>\n",
              "      <td>0.298850</td>\n",
              "      <td>0.000000</td>\n",
              "      <td>0.792780</td>\n",
              "      <td>0.705397</td>\n",
              "      <td>0.756645</td>\n",
              "      <td>0.356390</td>\n",
              "      <td>0.701186</td>\n",
              "      <td>0.477103</td>\n",
              "      <td>0.223377</td>\n",
              "    </tr>\n",
              "    <tr>\n",
              "      <th>17</th>\n",
              "      <td>17</td>\n",
              "      <td>0.657143</td>\n",
              "      <td>0.703211</td>\n",
              "      <td>0.346973</td>\n",
              "      <td>0.587515</td>\n",
              "      <td>0.832873</td>\n",
              "      <td>0.815996</td>\n",
              "      <td>0.107162</td>\n",
              "      <td>0.273221</td>\n",
              "      <td>0.250000</td>\n",
              "      <td>0.850910</td>\n",
              "      <td>0.686859</td>\n",
              "      <td>0.813991</td>\n",
              "      <td>0.328551</td>\n",
              "      <td>0.831389</td>\n",
              "      <td>0.446331</td>\n",
              "      <td>0.430182</td>\n",
              "    </tr>\n",
              "    <tr>\n",
              "      <th>18</th>\n",
              "      <td>18</td>\n",
              "      <td>0.676190</td>\n",
              "      <td>0.720696</td>\n",
              "      <td>0.330753</td>\n",
              "      <td>0.587150</td>\n",
              "      <td>0.945784</td>\n",
              "      <td>0.706319</td>\n",
              "      <td>0.088867</td>\n",
              "      <td>0.400002</td>\n",
              "      <td>0.321429</td>\n",
              "      <td>0.873176</td>\n",
              "      <td>0.720846</td>\n",
              "      <td>0.840017</td>\n",
              "      <td>0.312489</td>\n",
              "      <td>0.760720</td>\n",
              "      <td>0.438665</td>\n",
              "      <td>0.405554</td>\n",
              "    </tr>\n",
              "    <tr>\n",
              "      <th>19</th>\n",
              "      <td>19</td>\n",
              "      <td>0.695238</td>\n",
              "      <td>0.850414</td>\n",
              "      <td>0.332721</td>\n",
              "      <td>0.586203</td>\n",
              "      <td>1.000000</td>\n",
              "      <td>0.721776</td>\n",
              "      <td>0.322635</td>\n",
              "      <td>0.424961</td>\n",
              "      <td>0.392857</td>\n",
              "      <td>0.915686</td>\n",
              "      <td>0.825432</td>\n",
              "      <td>0.920219</td>\n",
              "      <td>0.296392</td>\n",
              "      <td>0.689444</td>\n",
              "      <td>0.430575</td>\n",
              "      <td>0.379713</td>\n",
              "    </tr>\n",
              "    <tr>\n",
              "      <th>20</th>\n",
              "      <td>20</td>\n",
              "      <td>0.714286</td>\n",
              "      <td>0.837509</td>\n",
              "      <td>0.415869</td>\n",
              "      <td>0.631584</td>\n",
              "      <td>0.907271</td>\n",
              "      <td>0.865768</td>\n",
              "      <td>0.179156</td>\n",
              "      <td>0.582114</td>\n",
              "      <td>0.464286</td>\n",
              "      <td>0.895976</td>\n",
              "      <td>0.822188</td>\n",
              "      <td>0.950494</td>\n",
              "      <td>0.239776</td>\n",
              "      <td>0.636699</td>\n",
              "      <td>0.429696</td>\n",
              "      <td>0.265135</td>\n",
              "    </tr>\n",
              "    <tr>\n",
              "      <th>21</th>\n",
              "      <td>21</td>\n",
              "      <td>0.733333</td>\n",
              "      <td>0.801840</td>\n",
              "      <td>0.372270</td>\n",
              "      <td>0.577723</td>\n",
              "      <td>0.944300</td>\n",
              "      <td>0.882971</td>\n",
              "      <td>0.196100</td>\n",
              "      <td>0.696080</td>\n",
              "      <td>0.535714</td>\n",
              "      <td>0.892577</td>\n",
              "      <td>0.733205</td>\n",
              "      <td>0.995580</td>\n",
              "      <td>0.221946</td>\n",
              "      <td>0.575777</td>\n",
              "      <td>0.381013</td>\n",
              "      <td>0.274813</td>\n",
              "    </tr>\n",
              "    <tr>\n",
              "      <th>22</th>\n",
              "      <td>22</td>\n",
              "      <td>0.752381</td>\n",
              "      <td>0.799065</td>\n",
              "      <td>0.335527</td>\n",
              "      <td>0.969673</td>\n",
              "      <td>0.407546</td>\n",
              "      <td>1.000000</td>\n",
              "      <td>0.718751</td>\n",
              "      <td>0.606962</td>\n",
              "      <td>0.607143</td>\n",
              "      <td>0.894469</td>\n",
              "      <td>0.731505</td>\n",
              "      <td>1.000000</td>\n",
              "      <td>0.204116</td>\n",
              "      <td>0.514854</td>\n",
              "      <td>0.332330</td>\n",
              "      <td>0.284491</td>\n",
              "    </tr>\n",
              "    <tr>\n",
              "      <th>23</th>\n",
              "      <td>23</td>\n",
              "      <td>0.771429</td>\n",
              "      <td>0.727754</td>\n",
              "      <td>0.239427</td>\n",
              "      <td>0.823442</td>\n",
              "      <td>0.419089</td>\n",
              "      <td>0.984009</td>\n",
              "      <td>0.738953</td>\n",
              "      <td>0.842463</td>\n",
              "      <td>0.678571</td>\n",
              "      <td>0.830499</td>\n",
              "      <td>0.777542</td>\n",
              "      <td>0.809326</td>\n",
              "      <td>0.181255</td>\n",
              "      <td>0.450577</td>\n",
              "      <td>0.285272</td>\n",
              "      <td>0.265516</td>\n",
              "    </tr>\n",
              "    <tr>\n",
              "      <th>24</th>\n",
              "      <td>24</td>\n",
              "      <td>0.790476</td>\n",
              "      <td>0.549678</td>\n",
              "      <td>0.161943</td>\n",
              "      <td>0.824828</td>\n",
              "      <td>0.435099</td>\n",
              "      <td>0.880643</td>\n",
              "      <td>0.697212</td>\n",
              "      <td>0.966472</td>\n",
              "      <td>0.750000</td>\n",
              "      <td>0.842444</td>\n",
              "      <td>0.773680</td>\n",
              "      <td>0.716058</td>\n",
              "      <td>0.135820</td>\n",
              "      <td>0.389120</td>\n",
              "      <td>0.243046</td>\n",
              "      <td>0.254736</td>\n",
              "    </tr>\n",
              "    <tr>\n",
              "      <th>25</th>\n",
              "      <td>25</td>\n",
              "      <td>0.809524</td>\n",
              "      <td>0.537461</td>\n",
              "      <td>0.136879</td>\n",
              "      <td>0.849185</td>\n",
              "      <td>0.446118</td>\n",
              "      <td>0.957900</td>\n",
              "      <td>0.657814</td>\n",
              "      <td>0.981564</td>\n",
              "      <td>0.964286</td>\n",
              "      <td>0.858277</td>\n",
              "      <td>0.834083</td>\n",
              "      <td>0.738805</td>\n",
              "      <td>0.142525</td>\n",
              "      <td>0.339137</td>\n",
              "      <td>0.196627</td>\n",
              "      <td>0.270471</td>\n",
              "    </tr>\n",
              "    <tr>\n",
              "      <th>26</th>\n",
              "      <td>26</td>\n",
              "      <td>0.828571</td>\n",
              "      <td>0.506695</td>\n",
              "      <td>0.118946</td>\n",
              "      <td>0.884741</td>\n",
              "      <td>0.427434</td>\n",
              "      <td>0.886038</td>\n",
              "      <td>0.666787</td>\n",
              "      <td>1.000000</td>\n",
              "      <td>1.000000</td>\n",
              "      <td>0.815987</td>\n",
              "      <td>0.878729</td>\n",
              "      <td>0.688834</td>\n",
              "      <td>0.142462</td>\n",
              "      <td>0.321444</td>\n",
              "      <td>0.153753</td>\n",
              "      <td>0.291246</td>\n",
              "    </tr>\n",
              "    <tr>\n",
              "      <th>27</th>\n",
              "      <td>27</td>\n",
              "      <td>0.847619</td>\n",
              "      <td>0.427180</td>\n",
              "      <td>0.083230</td>\n",
              "      <td>0.891678</td>\n",
              "      <td>0.422943</td>\n",
              "      <td>0.877569</td>\n",
              "      <td>0.742604</td>\n",
              "      <td>1.000000</td>\n",
              "      <td>1.000000</td>\n",
              "      <td>0.806675</td>\n",
              "      <td>0.904992</td>\n",
              "      <td>0.634767</td>\n",
              "      <td>0.129276</td>\n",
              "      <td>0.286863</td>\n",
              "      <td>0.105879</td>\n",
              "      <td>0.272885</td>\n",
              "    </tr>\n",
              "    <tr>\n",
              "      <th>28</th>\n",
              "      <td>28</td>\n",
              "      <td>0.866667</td>\n",
              "      <td>0.416148</td>\n",
              "      <td>0.048746</td>\n",
              "      <td>0.891392</td>\n",
              "      <td>0.423847</td>\n",
              "      <td>0.911312</td>\n",
              "      <td>0.774622</td>\n",
              "      <td>1.000000</td>\n",
              "      <td>1.000000</td>\n",
              "      <td>0.815916</td>\n",
              "      <td>0.932181</td>\n",
              "      <td>0.663465</td>\n",
              "      <td>0.116089</td>\n",
              "      <td>0.252283</td>\n",
              "      <td>0.098837</td>\n",
              "      <td>0.254523</td>\n",
              "    </tr>\n",
              "    <tr>\n",
              "      <th>29</th>\n",
              "      <td>29</td>\n",
              "      <td>0.885714</td>\n",
              "      <td>0.434535</td>\n",
              "      <td>0.094828</td>\n",
              "      <td>0.906810</td>\n",
              "      <td>0.468382</td>\n",
              "      <td>0.924595</td>\n",
              "      <td>0.844290</td>\n",
              "      <td>0.207753</td>\n",
              "      <td>1.000000</td>\n",
              "      <td>0.896339</td>\n",
              "      <td>0.894178</td>\n",
              "      <td>0.689976</td>\n",
              "      <td>0.088326</td>\n",
              "      <td>0.217207</td>\n",
              "      <td>0.092031</td>\n",
              "      <td>0.208502</td>\n",
              "    </tr>\n",
              "    <tr>\n",
              "      <th>30</th>\n",
              "      <td>30</td>\n",
              "      <td>0.904762</td>\n",
              "      <td>0.494962</td>\n",
              "      <td>0.042669</td>\n",
              "      <td>0.923111</td>\n",
              "      <td>0.449917</td>\n",
              "      <td>0.915055</td>\n",
              "      <td>0.841212</td>\n",
              "      <td>0.207753</td>\n",
              "      <td>1.000000</td>\n",
              "      <td>0.918191</td>\n",
              "      <td>0.866680</td>\n",
              "      <td>0.723990</td>\n",
              "      <td>0.075020</td>\n",
              "      <td>0.168184</td>\n",
              "      <td>0.067079</td>\n",
              "      <td>0.172525</td>\n",
              "    </tr>\n",
              "    <tr>\n",
              "      <th>31</th>\n",
              "      <td>31</td>\n",
              "      <td>0.923810</td>\n",
              "      <td>0.552359</td>\n",
              "      <td>0.083424</td>\n",
              "      <td>0.956507</td>\n",
              "      <td>0.478083</td>\n",
              "      <td>0.942585</td>\n",
              "      <td>0.839854</td>\n",
              "      <td>0.207753</td>\n",
              "      <td>1.000000</td>\n",
              "      <td>0.976208</td>\n",
              "      <td>0.845052</td>\n",
              "      <td>0.771122</td>\n",
              "      <td>0.044668</td>\n",
              "      <td>0.093738</td>\n",
              "      <td>0.041734</td>\n",
              "      <td>0.115837</td>\n",
              "    </tr>\n",
              "    <tr>\n",
              "      <th>32</th>\n",
              "      <td>32</td>\n",
              "      <td>0.942857</td>\n",
              "      <td>0.575676</td>\n",
              "      <td>0.083120</td>\n",
              "      <td>0.961422</td>\n",
              "      <td>0.470906</td>\n",
              "      <td>0.975885</td>\n",
              "      <td>0.914261</td>\n",
              "      <td>0.207753</td>\n",
              "      <td>0.500000</td>\n",
              "      <td>0.971726</td>\n",
              "      <td>0.831148</td>\n",
              "      <td>0.795857</td>\n",
              "      <td>0.095354</td>\n",
              "      <td>0.068588</td>\n",
              "      <td>0.019001</td>\n",
              "      <td>0.228165</td>\n",
              "    </tr>\n",
              "    <tr>\n",
              "      <th>33</th>\n",
              "      <td>33</td>\n",
              "      <td>0.961905</td>\n",
              "      <td>0.644077</td>\n",
              "      <td>0.179037</td>\n",
              "      <td>0.958509</td>\n",
              "      <td>0.465250</td>\n",
              "      <td>0.974301</td>\n",
              "      <td>1.000000</td>\n",
              "      <td>0.207753</td>\n",
              "      <td>0.500000</td>\n",
              "      <td>0.982629</td>\n",
              "      <td>0.890007</td>\n",
              "      <td>0.841732</td>\n",
              "      <td>0.066906</td>\n",
              "      <td>0.034725</td>\n",
              "      <td>0.015546</td>\n",
              "      <td>0.179342</td>\n",
              "    </tr>\n",
              "    <tr>\n",
              "      <th>34</th>\n",
              "      <td>34</td>\n",
              "      <td>0.980952</td>\n",
              "      <td>0.689310</td>\n",
              "      <td>0.059615</td>\n",
              "      <td>1.000000</td>\n",
              "      <td>0.482384</td>\n",
              "      <td>0.919217</td>\n",
              "      <td>0.974187</td>\n",
              "      <td>0.207753</td>\n",
              "      <td>0.500000</td>\n",
              "      <td>1.000000</td>\n",
              "      <td>0.956899</td>\n",
              "      <td>0.850614</td>\n",
              "      <td>0.000000</td>\n",
              "      <td>0.000000</td>\n",
              "      <td>0.000000</td>\n",
              "      <td>0.000000</td>\n",
              "    </tr>\n",
              "    <tr>\n",
              "      <th>35</th>\n",
              "      <td>35</td>\n",
              "      <td>1.000000</td>\n",
              "      <td>0.022387</td>\n",
              "      <td>0.000000</td>\n",
              "      <td>0.580056</td>\n",
              "      <td>0.461351</td>\n",
              "      <td>0.895947</td>\n",
              "      <td>0.737143</td>\n",
              "      <td>0.207753</td>\n",
              "      <td>0.500000</td>\n",
              "      <td>0.693133</td>\n",
              "      <td>1.000000</td>\n",
              "      <td>0.425220</td>\n",
              "      <td>0.320520</td>\n",
              "      <td>0.729545</td>\n",
              "      <td>0.442498</td>\n",
              "      <td>0.295009</td>\n",
              "    </tr>\n",
              "  </tbody>\n",
              "</table>\n",
              "</div>\n",
              "      <button class=\"colab-df-convert\" onclick=\"convertToInteractive('df-fbdd3324-4a9c-4428-a76d-4e83722d78cc')\"\n",
              "              title=\"Convert this dataframe to an interactive table.\"\n",
              "              style=\"display:none;\">\n",
              "        \n",
              "  <svg xmlns=\"http://www.w3.org/2000/svg\" height=\"24px\"viewBox=\"0 0 24 24\"\n",
              "       width=\"24px\">\n",
              "    <path d=\"M0 0h24v24H0V0z\" fill=\"none\"/>\n",
              "    <path d=\"M18.56 5.44l.94 2.06.94-2.06 2.06-.94-2.06-.94-.94-2.06-.94 2.06-2.06.94zm-11 1L8.5 8.5l.94-2.06 2.06-.94-2.06-.94L8.5 2.5l-.94 2.06-2.06.94zm10 10l.94 2.06.94-2.06 2.06-.94-2.06-.94-.94-2.06-.94 2.06-2.06.94z\"/><path d=\"M17.41 7.96l-1.37-1.37c-.4-.4-.92-.59-1.43-.59-.52 0-1.04.2-1.43.59L10.3 9.45l-7.72 7.72c-.78.78-.78 2.05 0 2.83L4 21.41c.39.39.9.59 1.41.59.51 0 1.02-.2 1.41-.59l7.78-7.78 2.81-2.81c.8-.78.8-2.07 0-2.86zM5.41 20L4 18.59l7.72-7.72 1.47 1.35L5.41 20z\"/>\n",
              "  </svg>\n",
              "      </button>\n",
              "      \n",
              "  <style>\n",
              "    .colab-df-container {\n",
              "      display:flex;\n",
              "      flex-wrap:wrap;\n",
              "      gap: 12px;\n",
              "    }\n",
              "\n",
              "    .colab-df-convert {\n",
              "      background-color: #E8F0FE;\n",
              "      border: none;\n",
              "      border-radius: 50%;\n",
              "      cursor: pointer;\n",
              "      display: none;\n",
              "      fill: #1967D2;\n",
              "      height: 32px;\n",
              "      padding: 0 0 0 0;\n",
              "      width: 32px;\n",
              "    }\n",
              "\n",
              "    .colab-df-convert:hover {\n",
              "      background-color: #E2EBFA;\n",
              "      box-shadow: 0px 1px 2px rgba(60, 64, 67, 0.3), 0px 1px 3px 1px rgba(60, 64, 67, 0.15);\n",
              "      fill: #174EA6;\n",
              "    }\n",
              "\n",
              "    [theme=dark] .colab-df-convert {\n",
              "      background-color: #3B4455;\n",
              "      fill: #D2E3FC;\n",
              "    }\n",
              "\n",
              "    [theme=dark] .colab-df-convert:hover {\n",
              "      background-color: #434B5C;\n",
              "      box-shadow: 0px 1px 3px 1px rgba(0, 0, 0, 0.15);\n",
              "      filter: drop-shadow(0px 1px 2px rgba(0, 0, 0, 0.3));\n",
              "      fill: #FFFFFF;\n",
              "    }\n",
              "  </style>\n",
              "\n",
              "      <script>\n",
              "        const buttonEl =\n",
              "          document.querySelector('#df-fbdd3324-4a9c-4428-a76d-4e83722d78cc button.colab-df-convert');\n",
              "        buttonEl.style.display =\n",
              "          google.colab.kernel.accessAllowed ? 'block' : 'none';\n",
              "\n",
              "        async function convertToInteractive(key) {\n",
              "          const element = document.querySelector('#df-fbdd3324-4a9c-4428-a76d-4e83722d78cc');\n",
              "          const dataTable =\n",
              "            await google.colab.kernel.invokeFunction('convertToInteractive',\n",
              "                                                     [key], {});\n",
              "          if (!dataTable) return;\n",
              "\n",
              "          const docLinkHtml = 'Like what you see? Visit the ' +\n",
              "            '<a target=\"_blank\" href=https://colab.research.google.com/notebooks/data_table.ipynb>data table notebook</a>'\n",
              "            + ' to learn more about interactive tables.';\n",
              "          element.innerHTML = '';\n",
              "          dataTable['output_type'] = 'display_data';\n",
              "          await google.colab.output.renderOutput(dataTable, element);\n",
              "          const docLink = document.createElement('div');\n",
              "          docLink.innerHTML = docLinkHtml;\n",
              "          element.appendChild(docLink);\n",
              "        }\n",
              "      </script>\n",
              "    </div>\n",
              "  </div>\n",
              "  "
            ]
          },
          "metadata": {},
          "execution_count": 9
        }
      ]
    },
    {
      "cell_type": "code",
      "source": [
        "y"
      ],
      "metadata": {
        "colab": {
          "base_uri": "https://localhost:8080/"
        },
        "id": "dbAMPf_cvslO",
        "outputId": "1caa2e78-be47-4c9a-a599-319b26992cfc"
      },
      "execution_count": null,
      "outputs": [
        {
          "output_type": "execute_result",
          "data": {
            "text/plain": [
              "0     0.649714\n",
              "1     0.906227\n",
              "2     0.000000\n",
              "3     0.016970\n",
              "4     0.101837\n",
              "5     0.341794\n",
              "6     0.285928\n",
              "7     0.317761\n",
              "8     0.333276\n",
              "9     0.407909\n",
              "10    0.449186\n",
              "11    0.541506\n",
              "12    0.555541\n",
              "13    0.621467\n",
              "14    0.704462\n",
              "15    0.809076\n",
              "16    0.734641\n",
              "17    0.807687\n",
              "18    0.834044\n",
              "19    0.932372\n",
              "20    0.949740\n",
              "21    1.000000\n",
              "22    0.996161\n",
              "23    0.730380\n",
              "24    0.587256\n",
              "25    0.614806\n",
              "26    0.545668\n",
              "27    0.463892\n",
              "28    0.494537\n",
              "29    0.516604\n",
              "30    0.552412\n",
              "31    0.599023\n",
              "32    0.648415\n",
              "33    0.696954\n",
              "34    0.679037\n",
              "35    0.280154\n",
              "Name: overall_emission, dtype: float64"
            ]
          },
          "metadata": {},
          "execution_count": 10
        }
      ]
    },
    {
      "cell_type": "code",
      "source": [
        "## Split the data into train and test\n",
        "x_train, x_test, y_train, y_test = train_test_split(x,y,test_size=0.2,random_state=54)"
      ],
      "metadata": {
        "id": "MRxvhrE2v9mc"
      },
      "execution_count": null,
      "outputs": []
    },
    {
      "cell_type": "code",
      "source": [
        "x_train.shape\n",
        "x_test.shape\n",
        "y_train.shape\n",
        "y_test.shape"
      ],
      "metadata": {
        "colab": {
          "base_uri": "https://localhost:8080/"
        },
        "id": "fHhvXKMUwDox",
        "outputId": "3ff5230d-e54b-44d6-bd91-0d41bf92ee63"
      },
      "execution_count": null,
      "outputs": [
        {
          "output_type": "execute_result",
          "data": {
            "text/plain": [
              "(8,)"
            ]
          },
          "metadata": {},
          "execution_count": 12
        }
      ]
    },
    {
      "cell_type": "code",
      "source": [
        "## Feature Scaling\n",
        "from sklearn.preprocessing import StandardScaler\n",
        "sc=StandardScaler()\n",
        "x_train=sc.fit_transform(x_train)     ##fit_transform:permanent transformation\n",
        "x_test=sc.fit_transform(x_test)"
      ],
      "metadata": {
        "id": "zp--h5eAw18a"
      },
      "execution_count": null,
      "outputs": []
    },
    {
      "cell_type": "code",
      "source": [
        "x_train"
      ],
      "metadata": {
        "colab": {
          "base_uri": "https://localhost:8080/"
        },
        "id": "Pd8MwLQ_w62m",
        "outputId": "6a8822ce-0073-4e09-a0bb-0d6412fff4fe"
      },
      "execution_count": null,
      "outputs": [
        {
          "output_type": "execute_result",
          "data": {
            "text/plain": [
              "array([[-2.11353473e-01, -1.39518097e-02,  1.67414625e+00,\n",
              "         7.25630669e-01, -3.32329689e-01,  1.16482944e+00,\n",
              "         4.81132475e-01, -4.45214380e-01, -3.55150231e-01,\n",
              "        -1.64988543e+00,  3.42309436e-01, -2.89682950e-02,\n",
              "         3.99620061e-01,  9.14780688e-02,  4.65684495e-01,\n",
              "         3.16680934e-01, -4.70405954e-01],\n",
              "       [-7.74962736e-01, -4.40116180e-01,  2.98088531e-01,\n",
              "        -3.18673378e-01, -9.00423775e-01,  2.45601357e-01,\n",
              "        -6.60013279e-01, -8.14650712e-01, -6.21975111e-01,\n",
              "        -1.66655094e-02, -5.72306298e-01, -7.40252452e-01,\n",
              "        -9.00588324e-01,  5.93483806e-01,  8.82617587e-01,\n",
              "         8.26176546e-01,  5.83114199e-01],\n",
              "       [-5.87092982e-01, -2.98061390e-01,  7.61249331e-01,\n",
              "        -6.23196716e-02, -8.05568912e-01,  5.00743534e-01,\n",
              "        -3.87345280e-01, -7.49410603e-01, -7.55387552e-01,\n",
              "        -1.64988543e+00, -3.51289830e-01, -5.22757056e-01,\n",
              "        -4.74603013e-01,  3.79057658e-01,  8.16041293e-01,\n",
              "         4.46059774e-01,  4.20600199e-01],\n",
              "       [ 1.19766968e+00,  1.05145912e+00, -6.08608004e-01,\n",
              "        -1.10747370e+00,  1.18719152e+00, -2.64833526e-01,\n",
              "         8.67746695e-01,  1.40420493e+00, -3.57944537e-01,\n",
              "         1.61655441e+00,  8.37395269e-01,  1.01341122e+00,\n",
              "         2.96104227e-01, -1.06018684e+00, -1.23697651e+00,\n",
              "        -1.23452199e+00, -7.98094731e-01],\n",
              "       [ 1.00979993e+00,  9.09404325e-01, -6.38298655e-01,\n",
              "        -1.14915194e+00,  1.12524376e+00, -4.71357128e-01,\n",
              "         7.14251022e-01,  1.11460883e+00,  2.04799338e+00,\n",
              "         1.61655441e+00,  5.10774704e-01,  1.05337100e+00,\n",
              "         8.00768873e-02, -9.13981106e-01, -1.02289514e+00,\n",
              "        -1.18573153e+00, -5.64380171e-01],\n",
              "       [ 1.57340919e+00,  1.33556870e+00,  2.37303647e-01,\n",
              "        -8.04859764e-01,  1.39884453e+00, -2.79070787e-01,\n",
              "         1.02998717e+00,  1.84766286e+00, -3.57944537e-01,\n",
              "        -1.66655094e-02,  1.15172723e+00,  9.97998157e-01,\n",
              "         8.89909885e-01, -1.13666479e+00, -1.79781330e+00,\n",
              "        -1.50399805e+00, -9.03951648e-01],\n",
              "       [ 1.38553944e+00,  1.19351391e+00, -1.32959431e-01,\n",
              "        -1.14845485e+00,  1.39064950e+00, -2.20745131e-01,\n",
              "         9.26464945e-01,  1.39157280e+00, -3.57944537e-01,\n",
              "         1.61655441e+00,  1.12834033e+00,  8.31879626e-01,\n",
              "         6.13622377e-01, -1.21606313e+00, -1.61644395e+00,\n",
              "        -1.41173171e+00, -1.13448046e+00],\n",
              "       [ 1.66734407e+00,  1.40659609e+00,  4.19906586e-01,\n",
              "        -1.23401203e+00,  1.56870436e+00, -2.01193019e-01,\n",
              "         8.50192093e-01,  1.77414848e+00, -3.57944537e-01,\n",
              "        -1.66655094e-02,  1.21500647e+00,  1.24517796e+00,\n",
              "         9.24666151e-01, -1.37554799e+00, -1.90453558e+00,\n",
              "        -1.55876926e+00, -1.55498289e+00],\n",
              "       [-1.24463712e+00, -1.36347231e+00, -1.57293798e+00,\n",
              "         2.14533088e+00, -6.27805833e-01, -1.52018561e+00,\n",
              "        -1.29303173e+00, -6.63192188e-01, -8.88799992e-01,\n",
              "        -1.66655094e-02, -1.27869839e+00, -2.24045692e+00,\n",
              "        -2.07855938e+00,  1.75694072e+00,  1.16884584e+00,\n",
              "         1.32669175e+00,  2.07513274e+00],\n",
              "       [ 8.21930174e-01,  7.67349535e-01, -1.93102031e-01,\n",
              "        -9.56358571e-01,  9.51281872e-01, -3.66028062e-01,\n",
              "         9.76454088e-01,  8.73129891e-01,  1.99200582e+00,\n",
              "         1.49989584e+00,  6.98748285e-01,  7.91348988e-01,\n",
              "         4.87169574e-01, -8.66676253e-01, -8.62236887e-01,\n",
              "        -8.66004932e-01, -5.73141355e-01],\n",
              "       [-2.34837193e-02,  1.28102980e-01,  9.24593269e-01,\n",
              "        -1.67215561e-01, -2.97146158e-01,  1.23442059e+00,\n",
              "         3.83229002e-01, -6.50293287e-01, -8.12953685e-02,\n",
              "        -1.64988543e+00,  4.60159722e-01,  3.15827557e-01,\n",
              "         5.56973027e-01, -1.03087963e-01,  2.50476630e-01,\n",
              "         1.22183849e-01, -7.44100080e-01],\n",
              "       [-3.05288350e-01, -8.49792047e-02,  1.02847531e+00,\n",
              "         2.65543227e-01, -4.68747064e-01,  9.50900416e-01,\n",
              "         3.35678759e-01, -6.25727518e-01, -5.21915781e-01,\n",
              "        -1.64988543e+00,  1.13458515e-01, -1.10029571e-01,\n",
              "         1.34050923e-01,  1.11191834e-01,  7.15223856e-01,\n",
              "         4.85277613e-01, -3.49584117e-01],\n",
              "       [ 4.46190666e-01,  4.83239955e-01,  8.74184417e-01,\n",
              "        -1.10463506e-01, -1.60059690e-01,  1.89824377e+00,\n",
              "         7.31882184e-01, -4.41817272e-01,  1.12503385e+00,\n",
              "         9.99930563e-02,  8.23691879e-01,  4.18581287e-01,\n",
              "         1.49190120e+00, -5.83108021e-01, -1.34953723e-01,\n",
              "        -2.16365890e-01, -5.57380223e-01],\n",
              "       [ 3.52255789e-01,  4.12212560e-01,  1.01817863e+00,\n",
              "         4.62115175e-02,  6.04395820e-02,  1.72994403e+00,\n",
              "         6.75731123e-01, -4.90072044e-01,  7.78934731e-01,\n",
              "        -1.33324075e-01,  8.36076261e-01,  7.47393225e-01,\n",
              "         1.31548449e+00, -5.19447840e-01,  5.22841081e-02,\n",
              "        -4.48442285e-02, -5.92512629e-01],\n",
              "       [-1.15070224e+00, -1.00833534e+00, -7.05180291e-01,\n",
              "         1.74564858e+00, -4.87398338e-01, -6.42195909e-01,\n",
              "        -1.16292426e+00, -9.77399143e-01, -7.22034442e-01,\n",
              "        -1.66655094e-02, -1.11311949e+00, -2.06463387e+00,\n",
              "        -1.93219289e+00,  1.55569882e+00,  9.49193880e-01,\n",
              "         1.01105262e+00,  1.68693385e+00],\n",
              "       [ 1.47947431e+00,  1.26454130e+00, -3.88302799e-02,\n",
              "        -1.14954641e+00,  1.41076920e+00, -2.53364770e-01,\n",
              "         1.03516054e+00,  1.60348128e+00, -3.57944537e-01,\n",
              "        -1.66655094e-02,  1.11201320e+00,  7.80502761e-01,\n",
              "         7.10407143e-01, -1.03509541e+00, -1.69373734e+00,\n",
              "        -1.49182481e+00, -7.26717794e-01],\n",
              "       [ 9.15865051e-01,  8.38376930e-01, -3.17302481e-01,\n",
              "        -1.02080310e+00,  1.09684183e+00, -4.50944794e-01,\n",
              "         7.41892226e-01,  8.98684179e-01,  2.04799338e+00,\n",
              "         1.61655441e+00,  5.44695425e-01,  9.56325811e-01,\n",
              "         2.91637765e-01, -8.66898938e-01, -9.16616938e-01,\n",
              "        -1.01705968e+00, -4.97725120e-01],\n",
              "       [-9.62832490e-01, -5.82170970e-01, -2.81659137e-02,\n",
              "         8.41664452e-01, -1.15489675e+00, -1.83849458e-01,\n",
              "        -7.86234078e-01, -9.25851894e-01, -6.55328222e-01,\n",
              "        -1.66655094e-02, -8.34436245e-01, -8.56135826e-01,\n",
              "        -1.11104257e+00,  8.57309753e-01,  8.53397069e-01,\n",
              "         8.98710968e-01,  7.83185940e-01],\n",
              "       [-6.81027859e-01, -3.69088785e-01,  5.92044088e-01,\n",
              "        -3.45657979e-01, -8.56296132e-01,  3.91254983e-01,\n",
              "        -5.35585211e-01, -7.28392898e-01, -5.88622001e-01,\n",
              "        -1.66655094e-02, -4.43687121e-01, -6.76316798e-01,\n",
              "        -6.71412585e-01,  5.38396685e-01,  8.81621433e-01,\n",
              "         7.74714954e-01,  5.45320246e-01],\n",
              "       [ 7.04511578e-02,  1.99130375e-01,  4.76025179e-01,\n",
              "        -2.01368621e-01, -1.19972721e-01,  1.39180091e+00,\n",
              "         5.13271674e-01, -6.95109309e-01, -1.59126170e-01,\n",
              "        -8.33275469e-01,  6.71912630e-01,  2.47325069e-01,\n",
              "         7.81362863e-01, -2.02486366e-01,  6.50639965e-01,\n",
              "         1.37661257e-02,  6.62627648e-03],\n",
              "       [-8.68897613e-01, -5.11143575e-01,  1.01156721e-01,\n",
              "         3.01972438e-01, -1.05051247e+00,  6.75136603e-02,\n",
              "        -7.31463106e-01, -9.01818438e-01, -6.88681332e-01,\n",
              "        -1.66655094e-02, -6.74362538e-01, -7.28835371e-01,\n",
              "        -9.76324243e-01,  7.10825954e-01,  8.66845148e-01,\n",
              "         8.63416902e-01,  6.62481501e-01],\n",
              "       [ 7.27995297e-01,  6.96322140e-01, -1.43780748e-01,\n",
              "        -8.66289915e-01,  8.51563185e-01, -4.16109121e-01,\n",
              "         7.24282638e-01,  9.85332172e-01,  1.94617371e+00,\n",
              "         7.99944450e-01,  6.41071158e-01,  5.68145051e-01,\n",
              "         3.98159762e-01, -8.90612941e-01, -7.08621359e-01,\n",
              "        -7.02457190e-01, -6.30261334e-01],\n",
              "       [-1.52644175e+00, -2.25131475e+00, -2.36280342e+00,\n",
              "         5.14183011e-03, -2.52521019e+00, -2.20745131e-01,\n",
              "        -2.15018669e+00, -9.07078408e-01, -9.88859322e-01,\n",
              "        -1.66655094e-02, -2.42772697e+00,  3.92607427e-01,\n",
              "         3.47131995e-01, -2.31159750e-01,  3.37633704e-01,\n",
              "         2.60714801e-04, -4.84065537e-01],\n",
              "       [-1.43250688e+00, -2.07374626e+00, -1.93305029e+00,\n",
              "         2.14533088e+00, -8.41675688e-01, -2.39366078e+00,\n",
              "        -2.05747896e+00, -1.00030275e+00, -8.55446882e-01,\n",
              "        -1.66655094e-02, -2.19536453e+00,  3.92607427e-01,\n",
              "         3.47131995e-01,  2.19486453e+00,  1.13597276e+00,\n",
              "         1.96447804e+00,  2.07513274e+00],\n",
              "       [ 6.34060420e-01,  6.25294745e-01,  5.75102771e-01,\n",
              "        -5.87843179e-01,  8.45891685e-01, -4.88875062e-01,\n",
              "         1.06167479e+00,  1.10421052e+00,  1.56957675e+00,\n",
              "         5.66627319e-01,  5.97558870e-01,  5.82416402e-01,\n",
              "         7.63109120e-01, -7.28393487e-01, -5.19741607e-01,\n",
              "        -5.53686162e-01, -5.91130673e-01],\n",
              "       [-1.17418596e-01,  5.70755853e-02,  1.35505333e+00,\n",
              "         5.55627684e-01, -3.41374610e-01,  1.18039746e+00,\n",
              "         4.03901894e-01, -5.03717191e-01, -3.57944537e-01,\n",
              "        -1.64988543e+00,  3.46754019e-01,  1.49709025e-01,\n",
              "         7.18239139e-01,  8.97241483e-02,  4.24790778e-01,\n",
              "         1.72240495e-01, -6.49360323e-01],\n",
              "       [-1.33857200e+00, -1.71860929e+00, -2.09564195e+00,\n",
              "         1.62421787e+00, -2.50681813e-01, -1.95716259e+00,\n",
              "        -1.81164146e+00, -6.04102290e-01, -7.22034442e-01,\n",
              "        -1.66655094e-02, -1.38950344e+00, -2.29076343e+00,\n",
              "        -2.40369847e+00,  1.82720970e+00,  1.05229582e+00,\n",
              "         1.58195089e+00,  2.07513274e+00],\n",
              "       [-1.05676737e+00, -6.53198365e-01,  4.35153414e-01,\n",
              "         8.28172151e-01, -6.67321193e-01, -4.25329287e-01,\n",
              "        -8.77029267e-01, -8.72885613e-01, -7.55387552e-01,\n",
              "        -1.66655094e-02, -7.51198553e-01, -1.22547840e+00,\n",
              "        -9.98337116e-01,  1.02322915e+00,  9.11007976e-01,\n",
              "         9.83333259e-01,  9.08614623e-01]])"
            ]
          },
          "metadata": {},
          "execution_count": 14
        }
      ]
    },
    {
      "cell_type": "code",
      "source": [
        "x_test"
      ],
      "metadata": {
        "colab": {
          "base_uri": "https://localhost:8080/"
        },
        "id": "R0hha7Egw9o0",
        "outputId": "bb41ec7a-8307-45d4-ff41-ca0fd4a2e083"
      },
      "execution_count": null,
      "outputs": [
        {
          "output_type": "execute_result",
          "data": {
            "text/plain": [
              "array([[-1.23092387, -1.23092387,  0.93480818,  1.04731181, -1.08976398,\n",
              "         0.35945259, -1.38326735, -1.08245909, -0.89566617, -1.31797788,\n",
              "        -1.31007419, -1.28793055, -0.67763341,  1.09098241,  1.04005492,\n",
              "         1.1556272 ,  0.56858016],\n",
              "       [-1.35557439, -1.35557439,  0.70774099,  0.96138887, -1.20271304,\n",
              "         0.15328315, -1.43560158, -1.1610052 , -1.01232545, -1.31797788,\n",
              "        -1.53507417, -1.60904191, -0.83135166,  1.61438167,  1.05760293,\n",
              "         1.06928682,  1.54724401],\n",
              "       [ 1.63603806,  1.63603806, -2.16698875, -1.45884205, -0.49746708,\n",
              "        -0.77328495,  0.70427911,  0.87272394, -0.62671908,  0.06158775,\n",
              "        -0.84585104,  1.44055459, -1.6083845 ,  0.27359557,  0.4796823 ,\n",
              "         0.41113823, -0.39331102],\n",
              "       [-0.48302076, -0.48302076,  0.33584521,  0.5869042 , -0.46205456,\n",
              "         1.39900481, -0.47993862, -1.19214496,  0.05397278, -0.43111426,\n",
              "         0.65239061, -0.29671555,  0.68131904,  0.21526652,  0.60257618,\n",
              "         0.38985488,  0.84646831],\n",
              "       [ 1.01278547,  1.01278547, -0.47321502, -1.19493187,  1.21489961,\n",
              "        -0.82455645,  0.82361146,  1.2042    , -0.62671908,  1.44115338,\n",
              "         1.02698977,  0.61085668,  0.04083971, -1.50950156, -1.73320505,\n",
              "        -1.67331044, -1.76698861],\n",
              "       [-0.35837024, -0.35837024,  0.80077241,  0.59907972, -0.46678587,\n",
              "         1.64211721, -0.38340764, -0.44755586,  0.1423437 , -0.23403346,\n",
              "         1.00614421,  0.35415987,  1.1240376 ,  0.09835053,  0.32160318,\n",
              "         0.34493686,  0.55665273],\n",
              "       [ 0.01558131,  0.01558131,  0.61673269,  0.61643301,  1.44731126,\n",
              "        -1.01455801,  1.35408724,  0.81414004,  0.78674691,  0.35720896,\n",
              "         0.82957946, -0.23037817,  1.56443051, -0.57185902, -0.36662834,\n",
              "        -0.20054973, -0.51127446],\n",
              "       [ 0.76348443,  0.76348443, -0.75569571, -1.1573437 ,  1.05657366,\n",
              "        -0.94145834,  0.80023739,  0.99210114,  2.1783664 ,  1.44115338,\n",
              "         0.17589535,  1.01849505, -0.29325729, -1.21121612, -1.40168611,\n",
              "        -1.49698382, -0.84737113]])"
            ]
          },
          "metadata": {},
          "execution_count": 15
        }
      ]
    },
    {
      "cell_type": "code",
      "source": [
        "from keras.models import Sequential  # Used to initialize the model\n",
        "from keras.layers import Dense, Dropout  # Used to add layers"
      ],
      "metadata": {
        "id": "JpXK59YvxCM7"
      },
      "execution_count": null,
      "outputs": []
    },
    {
      "cell_type": "code",
      "source": [
        "## Initialize the model \n",
        "## The model can be sequential (Feed Forward network or API)\n",
        "regression=Sequential()"
      ],
      "metadata": {
        "id": "4ilyi2pmxGNa"
      },
      "execution_count": null,
      "outputs": []
    },
    {
      "cell_type": "code",
      "source": [
        "## Add Input Layers\n",
        "regression.add(Dense(units=6,kernel_initializer=\"random_uniform\",activation=\"relu\"))"
      ],
      "metadata": {
        "id": "bgGmML7dxIJb"
      },
      "execution_count": null,
      "outputs": []
    },
    {
      "cell_type": "code",
      "source": [
        "## Add Dropout Layer\n",
        "##If a dropout value of 20% is given, then in the first epoch, out of 8 neurons, 6 neurons are trained and 2 are left out. Then another random set of 6 neurons are trained for the second epoch and 2 are left out and so on. This increases the accuracy\n",
        "## Add hidden layer\n",
        "## Hidden Layer -1\n",
        "regression.add(Dense(units=12,kernel_initializer=\"random_uniform\",activation=\"relu\"))"
      ],
      "metadata": {
        "id": "tTcqJifdxKMg"
      },
      "execution_count": null,
      "outputs": []
    },
    {
      "cell_type": "code",
      "source": [
        "## Dropout Layer\n",
        "regression.add(Dropout(0.2))"
      ],
      "metadata": {
        "id": "gC1Smm8nxMNp"
      },
      "execution_count": null,
      "outputs": []
    },
    {
      "cell_type": "code",
      "source": [
        "## Hidden Layer-2\n",
        "regression.add(Dense(units=24,kernel_initializer=\"random_uniform\",activation=\"relu\"))"
      ],
      "metadata": {
        "id": "wBFBiCoOxO6W"
      },
      "execution_count": null,
      "outputs": []
    },
    {
      "cell_type": "code",
      "source": [
        "##Hidden Layer-3\n",
        "regression.add(Dense(units=36,kernel_initializer=\"random_uniform\",activation=\"relu\"))"
      ],
      "metadata": {
        "id": "TGXX1-kFxRQl"
      },
      "execution_count": null,
      "outputs": []
    },
    {
      "cell_type": "code",
      "source": [
        "## Add Output Layer\n",
        "##Linear Activation function is also referred to as identity (multiplied by 1.0) or no activation.\n",
        "\n",
        "##This is because the linear activation function does not change the weighted sum of the input in any way and instead returns the value directly.\n",
        "regression.add(Dense(units=1,kernel_initializer=\"random_uniform\",activation=\"linear\"))"
      ],
      "metadata": {
        "id": "nXEBjWcAxSwo"
      },
      "execution_count": null,
      "outputs": []
    },
    {
      "cell_type": "code",
      "source": [
        "## Configure the learninig process\n",
        "from keras.optimizers import adam_v2\n",
        "opt=adam_v2.Adam(lr=0.01)\n",
        "regression.compile(optimizer=opt,loss=\"mean_squared_error\")"
      ],
      "metadata": {
        "colab": {
          "base_uri": "https://localhost:8080/"
        },
        "id": "Eha0EF6QxUoz",
        "outputId": "0bd9b44f-a520-421d-fbf7-ea829425b7f5"
      },
      "execution_count": null,
      "outputs": [
        {
          "output_type": "stream",
          "name": "stderr",
          "text": [
            "/usr/local/lib/python3.7/dist-packages/keras/optimizer_v2/adam.py:105: UserWarning: The `lr` argument is deprecated, use `learning_rate` instead.\n",
            "  super(Adam, self).__init__(name, **kwargs)\n"
          ]
        }
      ]
    },
    {
      "cell_type": "code",
      "source": [
        "## Train the model\n",
        "##For regression type o/p, instead of metrics = ['accuracy'], we will be using loss = 'mean_squared_error'\n",
        "##Then compare between the training loss and the testing (validation) loss, to minimize the difference between both.\n",
        "## Early Stopping \n",
        "from tensorflow.keras.callbacks import EarlyStopping\n",
        "early_stop=EarlyStopping(monitor='value_loss',mode='min',verbose=1,patience=10)"
      ],
      "metadata": {
        "id": "DLPiYvOnxX6o"
      },
      "execution_count": null,
      "outputs": []
    },
    {
      "cell_type": "code",
      "source": [
        "hist=regression.fit(x_train,y_train,batch_size=15,epochs=500,validation_data= (x_test, y_test),callbacks=[early_stop])"
      ],
      "metadata": {
        "colab": {
          "base_uri": "https://localhost:8080/"
        },
        "id": "GMfc1n7Jxdtd",
        "outputId": "9d488db1-050a-41f4-e1ee-dcdc6f985fba"
      },
      "execution_count": null,
      "outputs": [
        {
          "output_type": "stream",
          "name": "stdout",
          "text": [
            "Epoch 1/500\n",
            "1/2 [==============>...............] - ETA: 0s - loss: 0.3612"
          ]
        },
        {
          "output_type": "stream",
          "name": "stderr",
          "text": [
            "WARNING:tensorflow:Early stopping conditioned on metric `value_loss` which is not available. Available metrics are: loss,val_loss\n"
          ]
        },
        {
          "output_type": "stream",
          "name": "stdout",
          "text": [
            "\b\b\b\b\b\b\b\b\b\b\b\b\b\b\b\b\b\b\b\b\b\b\b\b\b\b\b\b\b\b\b\b\b\b\b\b\b\b\b\b\b\b\b\b\b\b\b\b\b\b\b\b\b\b\b\b\b\b\b\b\b\r2/2 [==============================] - 1s 143ms/step - loss: 0.3642 - val_loss: 0.4303\n",
            "Epoch 2/500\n",
            "1/2 [==============>...............] - ETA: 0s - loss: 0.2465"
          ]
        },
        {
          "output_type": "stream",
          "name": "stderr",
          "text": [
            "WARNING:tensorflow:Early stopping conditioned on metric `value_loss` which is not available. Available metrics are: loss,val_loss\n"
          ]
        },
        {
          "output_type": "stream",
          "name": "stdout",
          "text": [
            "\b\b\b\b\b\b\b\b\b\b\b\b\b\b\b\b\b\b\b\b\b\b\b\b\b\b\b\b\b\b\b\b\b\b\b\b\b\b\b\b\b\b\b\b\b\b\b\b\b\b\b\b\b\b\b\b\b\b\b\b\b\r2/2 [==============================] - 0s 23ms/step - loss: 0.3220 - val_loss: 0.3680\n",
            "Epoch 3/500\n",
            "1/2 [==============>...............] - ETA: 0s - loss: 0.2702"
          ]
        },
        {
          "output_type": "stream",
          "name": "stderr",
          "text": [
            "WARNING:tensorflow:Early stopping conditioned on metric `value_loss` which is not available. Available metrics are: loss,val_loss\n"
          ]
        },
        {
          "output_type": "stream",
          "name": "stdout",
          "text": [
            "\b\b\b\b\b\b\b\b\b\b\b\b\b\b\b\b\b\b\b\b\b\b\b\b\b\b\b\b\b\b\b\b\b\b\b\b\b\b\b\b\b\b\b\b\b\b\b\b\b\b\b\b\b\b\b\b\b\b\b\b\b\r2/2 [==============================] - 0s 27ms/step - loss: 0.2649 - val_loss: 0.2797\n",
            "Epoch 4/500\n",
            "1/2 [==============>...............] - ETA: 0s - loss: 0.2493"
          ]
        },
        {
          "output_type": "stream",
          "name": "stderr",
          "text": [
            "WARNING:tensorflow:Early stopping conditioned on metric `value_loss` which is not available. Available metrics are: loss,val_loss\n"
          ]
        },
        {
          "output_type": "stream",
          "name": "stdout",
          "text": [
            "\b\b\b\b\b\b\b\b\b\b\b\b\b\b\b\b\b\b\b\b\b\b\b\b\b\b\b\b\b\b\b\b\b\b\b\b\b\b\b\b\b\b\b\b\b\b\b\b\b\b\b\b\b\b\b\b\b\b\b\b\b\r2/2 [==============================] - 0s 23ms/step - loss: 0.1911 - val_loss: 0.1666\n",
            "Epoch 5/500\n",
            "1/2 [==============>...............] - ETA: 0s - loss: 0.1013"
          ]
        },
        {
          "output_type": "stream",
          "name": "stderr",
          "text": [
            "WARNING:tensorflow:Early stopping conditioned on metric `value_loss` which is not available. Available metrics are: loss,val_loss\n"
          ]
        },
        {
          "output_type": "stream",
          "name": "stdout",
          "text": [
            "\b\b\b\b\b\b\b\b\b\b\b\b\b\b\b\b\b\b\b\b\b\b\b\b\b\b\b\b\b\b\b\b\b\b\b\b\b\b\b\b\b\b\b\b\b\b\b\b\b\b\b\b\b\b\b\b\b\b\b\b\b\r2/2 [==============================] - 0s 31ms/step - loss: 0.0872 - val_loss: 0.0820\n",
            "Epoch 6/500\n",
            "1/2 [==============>...............] - ETA: 0s - loss: 0.0577"
          ]
        },
        {
          "output_type": "stream",
          "name": "stderr",
          "text": [
            "WARNING:tensorflow:Early stopping conditioned on metric `value_loss` which is not available. Available metrics are: loss,val_loss\n"
          ]
        },
        {
          "output_type": "stream",
          "name": "stdout",
          "text": [
            "\b\b\b\b\b\b\b\b\b\b\b\b\b\b\b\b\b\b\b\b\b\b\b\b\b\b\b\b\b\b\b\b\b\b\b\b\b\b\b\b\b\b\b\b\b\b\b\b\b\b\b\b\b\b\b\b\b\b\b\b\b\r2/2 [==============================] - 0s 21ms/step - loss: 0.0653 - val_loss: 0.0773\n",
            "Epoch 7/500\n",
            "1/2 [==============>...............] - ETA: 0s - loss: 0.0682"
          ]
        },
        {
          "output_type": "stream",
          "name": "stderr",
          "text": [
            "WARNING:tensorflow:Early stopping conditioned on metric `value_loss` which is not available. Available metrics are: loss,val_loss\n"
          ]
        },
        {
          "output_type": "stream",
          "name": "stdout",
          "text": [
            "\b\b\b\b\b\b\b\b\b\b\b\b\b\b\b\b\b\b\b\b\b\b\b\b\b\b\b\b\b\b\b\b\b\b\b\b\b\b\b\b\b\b\b\b\b\b\b\b\b\b\b\b\b\b\b\b\b\b\b\b\b\r2/2 [==============================] - 0s 21ms/step - loss: 0.0825 - val_loss: 0.0549\n",
            "Epoch 8/500\n",
            "1/2 [==============>...............] - ETA: 0s - loss: 0.0812"
          ]
        },
        {
          "output_type": "stream",
          "name": "stderr",
          "text": [
            "WARNING:tensorflow:Early stopping conditioned on metric `value_loss` which is not available. Available metrics are: loss,val_loss\n"
          ]
        },
        {
          "output_type": "stream",
          "name": "stdout",
          "text": [
            "\b\b\b\b\b\b\b\b\b\b\b\b\b\b\b\b\b\b\b\b\b\b\b\b\b\b\b\b\b\b\b\b\b\b\b\b\b\b\b\b\b\b\b\b\b\b\b\b\b\b\b\b\b\b\b\b\b\b\b\b\b\r2/2 [==============================] - 0s 29ms/step - loss: 0.0586 - val_loss: 0.0567\n",
            "Epoch 9/500\n",
            "1/2 [==============>...............] - ETA: 0s - loss: 0.0443"
          ]
        },
        {
          "output_type": "stream",
          "name": "stderr",
          "text": [
            "WARNING:tensorflow:Early stopping conditioned on metric `value_loss` which is not available. Available metrics are: loss,val_loss\n"
          ]
        },
        {
          "output_type": "stream",
          "name": "stdout",
          "text": [
            "\b\b\b\b\b\b\b\b\b\b\b\b\b\b\b\b\b\b\b\b\b\b\b\b\b\b\b\b\b\b\b\b\b\b\b\b\b\b\b\b\b\b\b\b\b\b\b\b\b\b\b\b\b\b\b\b\b\b\b\b\b\r2/2 [==============================] - 0s 21ms/step - loss: 0.0524 - val_loss: 0.0693\n",
            "Epoch 10/500\n",
            "1/2 [==============>...............] - ETA: 0s - loss: 0.0393"
          ]
        },
        {
          "output_type": "stream",
          "name": "stderr",
          "text": [
            "WARNING:tensorflow:Early stopping conditioned on metric `value_loss` which is not available. Available metrics are: loss,val_loss\n"
          ]
        },
        {
          "output_type": "stream",
          "name": "stdout",
          "text": [
            "\b\b\b\b\b\b\b\b\b\b\b\b\b\b\b\b\b\b\b\b\b\b\b\b\b\b\b\b\b\b\b\b\b\b\b\b\b\b\b\b\b\b\b\b\b\b\b\b\b\b\b\b\b\b\b\b\b\b\b\b\b\r2/2 [==============================] - 0s 23ms/step - loss: 0.0554 - val_loss: 0.0745\n",
            "Epoch 11/500\n",
            "1/2 [==============>...............] - ETA: 0s - loss: 0.0431"
          ]
        },
        {
          "output_type": "stream",
          "name": "stderr",
          "text": [
            "WARNING:tensorflow:Early stopping conditioned on metric `value_loss` which is not available. Available metrics are: loss,val_loss\n"
          ]
        },
        {
          "output_type": "stream",
          "name": "stdout",
          "text": [
            "\b\b\b\b\b\b\b\b\b\b\b\b\b\b\b\b\b\b\b\b\b\b\b\b\b\b\b\b\b\b\b\b\b\b\b\b\b\b\b\b\b\b\b\b\b\b\b\b\b\b\b\b\b\b\b\b\b\b\b\b\b\r2/2 [==============================] - 0s 22ms/step - loss: 0.0608 - val_loss: 0.0707\n",
            "Epoch 12/500\n",
            "1/2 [==============>...............] - ETA: 0s - loss: 0.0761"
          ]
        },
        {
          "output_type": "stream",
          "name": "stderr",
          "text": [
            "WARNING:tensorflow:Early stopping conditioned on metric `value_loss` which is not available. Available metrics are: loss,val_loss\n"
          ]
        },
        {
          "output_type": "stream",
          "name": "stdout",
          "text": [
            "\b\b\b\b\b\b\b\b\b\b\b\b\b\b\b\b\b\b\b\b\b\b\b\b\b\b\b\b\b\b\b\b\b\b\b\b\b\b\b\b\b\b\b\b\b\b\b\b\b\b\b\b\b\b\b\b\b\b\b\b\b\r2/2 [==============================] - 0s 21ms/step - loss: 0.0602 - val_loss: 0.0607\n",
            "Epoch 13/500\n",
            "1/2 [==============>...............] - ETA: 0s - loss: 0.0583"
          ]
        },
        {
          "output_type": "stream",
          "name": "stderr",
          "text": [
            "WARNING:tensorflow:Early stopping conditioned on metric `value_loss` which is not available. Available metrics are: loss,val_loss\n"
          ]
        },
        {
          "output_type": "stream",
          "name": "stdout",
          "text": [
            "\b\b\b\b\b\b\b\b\b\b\b\b\b\b\b\b\b\b\b\b\b\b\b\b\b\b\b\b\b\b\b\b\b\b\b\b\b\b\b\b\b\b\b\b\b\b\b\b\b\b\b\b\b\b\b\b\b\b\b\b\b\r2/2 [==============================] - 0s 23ms/step - loss: 0.0526 - val_loss: 0.0495\n",
            "Epoch 14/500\n",
            "1/2 [==============>...............] - ETA: 0s - loss: 0.0455"
          ]
        },
        {
          "output_type": "stream",
          "name": "stderr",
          "text": [
            "WARNING:tensorflow:Early stopping conditioned on metric `value_loss` which is not available. Available metrics are: loss,val_loss\n"
          ]
        },
        {
          "output_type": "stream",
          "name": "stdout",
          "text": [
            "\b\b\b\b\b\b\b\b\b\b\b\b\b\b\b\b\b\b\b\b\b\b\b\b\b\b\b\b\b\b\b\b\b\b\b\b\b\b\b\b\b\b\b\b\b\b\b\b\b\b\b\b\b\b\b\b\b\b\b\b\b\r2/2 [==============================] - 0s 22ms/step - loss: 0.0515 - val_loss: 0.0403\n",
            "Epoch 15/500\n",
            "1/2 [==============>...............] - ETA: 0s - loss: 0.0486"
          ]
        },
        {
          "output_type": "stream",
          "name": "stderr",
          "text": [
            "WARNING:tensorflow:Early stopping conditioned on metric `value_loss` which is not available. Available metrics are: loss,val_loss\n"
          ]
        },
        {
          "output_type": "stream",
          "name": "stdout",
          "text": [
            "\b\b\b\b\b\b\b\b\b\b\b\b\b\b\b\b\b\b\b\b\b\b\b\b\b\b\b\b\b\b\b\b\b\b\b\b\b\b\b\b\b\b\b\b\b\b\b\b\b\b\b\b\b\b\b\b\b\b\b\b\b\r2/2 [==============================] - 0s 25ms/step - loss: 0.0491 - val_loss: 0.0339\n",
            "Epoch 16/500\n",
            "1/2 [==============>...............] - ETA: 0s - loss: 0.0606"
          ]
        },
        {
          "output_type": "stream",
          "name": "stderr",
          "text": [
            "WARNING:tensorflow:Early stopping conditioned on metric `value_loss` which is not available. Available metrics are: loss,val_loss\n"
          ]
        },
        {
          "output_type": "stream",
          "name": "stdout",
          "text": [
            "\b\b\b\b\b\b\b\b\b\b\b\b\b\b\b\b\b\b\b\b\b\b\b\b\b\b\b\b\b\b\b\b\b\b\b\b\b\b\b\b\b\b\b\b\b\b\b\b\b\b\b\b\b\b\b\b\b\b\b\b\b\r2/2 [==============================] - 0s 22ms/step - loss: 0.0508 - val_loss: 0.0309\n",
            "Epoch 17/500\n",
            "1/2 [==============>...............] - ETA: 0s - loss: 0.0610"
          ]
        },
        {
          "output_type": "stream",
          "name": "stderr",
          "text": [
            "WARNING:tensorflow:Early stopping conditioned on metric `value_loss` which is not available. Available metrics are: loss,val_loss\n"
          ]
        },
        {
          "output_type": "stream",
          "name": "stdout",
          "text": [
            "\b\b\b\b\b\b\b\b\b\b\b\b\b\b\b\b\b\b\b\b\b\b\b\b\b\b\b\b\b\b\b\b\b\b\b\b\b\b\b\b\b\b\b\b\b\b\b\b\b\b\b\b\b\b\b\b\b\b\b\b\b\r2/2 [==============================] - 0s 20ms/step - loss: 0.0500 - val_loss: 0.0296\n",
            "Epoch 18/500\n",
            "1/2 [==============>...............] - ETA: 0s - loss: 0.0459"
          ]
        },
        {
          "output_type": "stream",
          "name": "stderr",
          "text": [
            "WARNING:tensorflow:Early stopping conditioned on metric `value_loss` which is not available. Available metrics are: loss,val_loss\n"
          ]
        },
        {
          "output_type": "stream",
          "name": "stdout",
          "text": [
            "\b\b\b\b\b\b\b\b\b\b\b\b\b\b\b\b\b\b\b\b\b\b\b\b\b\b\b\b\b\b\b\b\b\b\b\b\b\b\b\b\b\b\b\b\b\b\b\b\b\b\b\b\b\b\b\b\b\b\b\b\b\r2/2 [==============================] - 0s 25ms/step - loss: 0.0382 - val_loss: 0.0323\n",
            "Epoch 19/500\n",
            "1/2 [==============>...............] - ETA: 0s - loss: 0.0456"
          ]
        },
        {
          "output_type": "stream",
          "name": "stderr",
          "text": [
            "WARNING:tensorflow:Early stopping conditioned on metric `value_loss` which is not available. Available metrics are: loss,val_loss\n"
          ]
        },
        {
          "output_type": "stream",
          "name": "stdout",
          "text": [
            "\b\b\b\b\b\b\b\b\b\b\b\b\b\b\b\b\b\b\b\b\b\b\b\b\b\b\b\b\b\b\b\b\b\b\b\b\b\b\b\b\b\b\b\b\b\b\b\b\b\b\b\b\b\b\b\b\b\b\b\b\b\r2/2 [==============================] - 0s 22ms/step - loss: 0.0351 - val_loss: 0.0382\n",
            "Epoch 20/500\n",
            "1/2 [==============>...............] - ETA: 0s - loss: 0.0429"
          ]
        },
        {
          "output_type": "stream",
          "name": "stderr",
          "text": [
            "WARNING:tensorflow:Early stopping conditioned on metric `value_loss` which is not available. Available metrics are: loss,val_loss\n"
          ]
        },
        {
          "output_type": "stream",
          "name": "stdout",
          "text": [
            "\b\b\b\b\b\b\b\b\b\b\b\b\b\b\b\b\b\b\b\b\b\b\b\b\b\b\b\b\b\b\b\b\b\b\b\b\b\b\b\b\b\b\b\b\b\b\b\b\b\b\b\b\b\b\b\b\b\b\b\b\b\r2/2 [==============================] - 0s 29ms/step - loss: 0.0339 - val_loss: 0.0425\n",
            "Epoch 21/500\n",
            "1/2 [==============>...............] - ETA: 0s - loss: 0.0208"
          ]
        },
        {
          "output_type": "stream",
          "name": "stderr",
          "text": [
            "WARNING:tensorflow:Early stopping conditioned on metric `value_loss` which is not available. Available metrics are: loss,val_loss\n"
          ]
        },
        {
          "output_type": "stream",
          "name": "stdout",
          "text": [
            "\b\b\b\b\b\b\b\b\b\b\b\b\b\b\b\b\b\b\b\b\b\b\b\b\b\b\b\b\b\b\b\b\b\b\b\b\b\b\b\b\b\b\b\b\b\b\b\b\b\b\b\b\b\b\b\b\b\b\b\b\b\r2/2 [==============================] - 0s 29ms/step - loss: 0.0324 - val_loss: 0.0425\n",
            "Epoch 22/500\n",
            "1/2 [==============>...............] - ETA: 0s - loss: 0.0306"
          ]
        },
        {
          "output_type": "stream",
          "name": "stderr",
          "text": [
            "WARNING:tensorflow:Early stopping conditioned on metric `value_loss` which is not available. Available metrics are: loss,val_loss\n"
          ]
        },
        {
          "output_type": "stream",
          "name": "stdout",
          "text": [
            "\b\b\b\b\b\b\b\b\b\b\b\b\b\b\b\b\b\b\b\b\b\b\b\b\b\b\b\b\b\b\b\b\b\b\b\b\b\b\b\b\b\b\b\b\b\b\b\b\b\b\b\b\b\b\b\b\b\b\b\b\b\r2/2 [==============================] - 0s 29ms/step - loss: 0.0278 - val_loss: 0.0372\n",
            "Epoch 23/500\n",
            "1/2 [==============>...............] - ETA: 0s - loss: 0.0340"
          ]
        },
        {
          "output_type": "stream",
          "name": "stderr",
          "text": [
            "WARNING:tensorflow:Early stopping conditioned on metric `value_loss` which is not available. Available metrics are: loss,val_loss\n"
          ]
        },
        {
          "output_type": "stream",
          "name": "stdout",
          "text": [
            "\b\b\b\b\b\b\b\b\b\b\b\b\b\b\b\b\b\b\b\b\b\b\b\b\b\b\b\b\b\b\b\b\b\b\b\b\b\b\b\b\b\b\b\b\b\b\b\b\b\b\b\b\b\b\b\b\b\b\b\b\b\r2/2 [==============================] - 0s 23ms/step - loss: 0.0314 - val_loss: 0.0294\n",
            "Epoch 24/500\n",
            "1/2 [==============>...............] - ETA: 0s - loss: 0.0368"
          ]
        },
        {
          "output_type": "stream",
          "name": "stderr",
          "text": [
            "WARNING:tensorflow:Early stopping conditioned on metric `value_loss` which is not available. Available metrics are: loss,val_loss\n"
          ]
        },
        {
          "output_type": "stream",
          "name": "stdout",
          "text": [
            "\b\b\b\b\b\b\b\b\b\b\b\b\b\b\b\b\b\b\b\b\b\b\b\b\b\b\b\b\b\b\b\b\b\b\b\b\b\b\b\b\b\b\b\b\b\b\b\b\b\b\b\b\b\b\b\b\b\b\b\b\b\r2/2 [==============================] - 0s 30ms/step - loss: 0.0329 - val_loss: 0.0368\n",
            "Epoch 25/500\n",
            "1/2 [==============>...............] - ETA: 0s - loss: 0.0182"
          ]
        },
        {
          "output_type": "stream",
          "name": "stderr",
          "text": [
            "WARNING:tensorflow:Early stopping conditioned on metric `value_loss` which is not available. Available metrics are: loss,val_loss\n"
          ]
        },
        {
          "output_type": "stream",
          "name": "stdout",
          "text": [
            "\b\b\b\b\b\b\b\b\b\b\b\b\b\b\b\b\b\b\b\b\b\b\b\b\b\b\b\b\b\b\b\b\b\b\b\b\b\b\b\b\b\b\b\b\b\b\b\b\b\b\b\b\b\b\b\b\b\b\b\b\b\r2/2 [==============================] - 0s 31ms/step - loss: 0.0331 - val_loss: 0.0541\n",
            "Epoch 26/500\n",
            "1/2 [==============>...............] - ETA: 0s - loss: 0.0307"
          ]
        },
        {
          "output_type": "stream",
          "name": "stderr",
          "text": [
            "WARNING:tensorflow:Early stopping conditioned on metric `value_loss` which is not available. Available metrics are: loss,val_loss\n"
          ]
        },
        {
          "output_type": "stream",
          "name": "stdout",
          "text": [
            "\b\b\b\b\b\b\b\b\b\b\b\b\b\b\b\b\b\b\b\b\b\b\b\b\b\b\b\b\b\b\b\b\b\b\b\b\b\b\b\b\b\b\b\b\b\b\b\b\b\b\b\b\b\b\b\b\b\b\b\b\b\r2/2 [==============================] - 0s 25ms/step - loss: 0.0310 - val_loss: 0.0608\n",
            "Epoch 27/500\n",
            "1/2 [==============>...............] - ETA: 0s - loss: 0.0334"
          ]
        },
        {
          "output_type": "stream",
          "name": "stderr",
          "text": [
            "WARNING:tensorflow:Early stopping conditioned on metric `value_loss` which is not available. Available metrics are: loss,val_loss\n"
          ]
        },
        {
          "output_type": "stream",
          "name": "stdout",
          "text": [
            "\b\b\b\b\b\b\b\b\b\b\b\b\b\b\b\b\b\b\b\b\b\b\b\b\b\b\b\b\b\b\b\b\b\b\b\b\b\b\b\b\b\b\b\b\b\b\b\b\b\b\b\b\b\b\b\b\b\b\b\b\b\r2/2 [==============================] - 0s 22ms/step - loss: 0.0288 - val_loss: 0.0552\n",
            "Epoch 28/500\n",
            "1/2 [==============>...............] - ETA: 0s - loss: 0.0410"
          ]
        },
        {
          "output_type": "stream",
          "name": "stderr",
          "text": [
            "WARNING:tensorflow:Early stopping conditioned on metric `value_loss` which is not available. Available metrics are: loss,val_loss\n"
          ]
        },
        {
          "output_type": "stream",
          "name": "stdout",
          "text": [
            "\b\b\b\b\b\b\b\b\b\b\b\b\b\b\b\b\b\b\b\b\b\b\b\b\b\b\b\b\b\b\b\b\b\b\b\b\b\b\b\b\b\b\b\b\b\b\b\b\b\b\b\b\b\b\b\b\b\b\b\b\b\r2/2 [==============================] - 0s 34ms/step - loss: 0.0353 - val_loss: 0.0399\n",
            "Epoch 29/500\n",
            "1/2 [==============>...............] - ETA: 0s - loss: 0.0456"
          ]
        },
        {
          "output_type": "stream",
          "name": "stderr",
          "text": [
            "WARNING:tensorflow:Early stopping conditioned on metric `value_loss` which is not available. Available metrics are: loss,val_loss\n"
          ]
        },
        {
          "output_type": "stream",
          "name": "stdout",
          "text": [
            "\b\b\b\b\b\b\b\b\b\b\b\b\b\b\b\b\b\b\b\b\b\b\b\b\b\b\b\b\b\b\b\b\b\b\b\b\b\b\b\b\b\b\b\b\b\b\b\b\b\b\b\b\b\b\b\b\b\b\b\b\b\r2/2 [==============================] - 0s 21ms/step - loss: 0.0339 - val_loss: 0.0267\n",
            "Epoch 30/500\n",
            "1/2 [==============>...............] - ETA: 0s - loss: 0.0216"
          ]
        },
        {
          "output_type": "stream",
          "name": "stderr",
          "text": [
            "WARNING:tensorflow:Early stopping conditioned on metric `value_loss` which is not available. Available metrics are: loss,val_loss\n"
          ]
        },
        {
          "output_type": "stream",
          "name": "stdout",
          "text": [
            "\b\b\b\b\b\b\b\b\b\b\b\b\b\b\b\b\b\b\b\b\b\b\b\b\b\b\b\b\b\b\b\b\b\b\b\b\b\b\b\b\b\b\b\b\b\b\b\b\b\b\b\b\b\b\b\b\b\b\b\b\b\r2/2 [==============================] - 0s 21ms/step - loss: 0.0341 - val_loss: 0.0327\n",
            "Epoch 31/500\n",
            "1/2 [==============>...............] - ETA: 0s - loss: 0.0505"
          ]
        },
        {
          "output_type": "stream",
          "name": "stderr",
          "text": [
            "WARNING:tensorflow:Early stopping conditioned on metric `value_loss` which is not available. Available metrics are: loss,val_loss\n"
          ]
        },
        {
          "output_type": "stream",
          "name": "stdout",
          "text": [
            "\b\b\b\b\b\b\b\b\b\b\b\b\b\b\b\b\b\b\b\b\b\b\b\b\b\b\b\b\b\b\b\b\b\b\b\b\b\b\b\b\b\b\b\b\b\b\b\b\b\b\b\b\b\b\b\b\b\b\b\b\b\r2/2 [==============================] - 0s 23ms/step - loss: 0.0305 - val_loss: 0.0587\n",
            "Epoch 32/500\n",
            "1/2 [==============>...............] - ETA: 0s - loss: 0.0509"
          ]
        },
        {
          "output_type": "stream",
          "name": "stderr",
          "text": [
            "WARNING:tensorflow:Early stopping conditioned on metric `value_loss` which is not available. Available metrics are: loss,val_loss\n"
          ]
        },
        {
          "output_type": "stream",
          "name": "stdout",
          "text": [
            "\b\b\b\b\b\b\b\b\b\b\b\b\b\b\b\b\b\b\b\b\b\b\b\b\b\b\b\b\b\b\b\b\b\b\b\b\b\b\b\b\b\b\b\b\b\b\b\b\b\b\b\b\b\b\b\b\b\b\b\b\b\r2/2 [==============================] - 0s 28ms/step - loss: 0.0384 - val_loss: 0.0653\n",
            "Epoch 33/500\n",
            "1/2 [==============>...............] - ETA: 0s - loss: 0.0117"
          ]
        },
        {
          "output_type": "stream",
          "name": "stderr",
          "text": [
            "WARNING:tensorflow:Early stopping conditioned on metric `value_loss` which is not available. Available metrics are: loss,val_loss\n"
          ]
        },
        {
          "output_type": "stream",
          "name": "stdout",
          "text": [
            "\b\b\b\b\b\b\b\b\b\b\b\b\b\b\b\b\b\b\b\b\b\b\b\b\b\b\b\b\b\b\b\b\b\b\b\b\b\b\b\b\b\b\b\b\b\b\b\b\b\b\b\b\b\b\b\b\b\b\b\b\b\r2/2 [==============================] - 0s 22ms/step - loss: 0.0369 - val_loss: 0.0510\n",
            "Epoch 34/500\n",
            "1/2 [==============>...............] - ETA: 0s - loss: 0.0465"
          ]
        },
        {
          "output_type": "stream",
          "name": "stderr",
          "text": [
            "WARNING:tensorflow:Early stopping conditioned on metric `value_loss` which is not available. Available metrics are: loss,val_loss\n"
          ]
        },
        {
          "output_type": "stream",
          "name": "stdout",
          "text": [
            "\b\b\b\b\b\b\b\b\b\b\b\b\b\b\b\b\b\b\b\b\b\b\b\b\b\b\b\b\b\b\b\b\b\b\b\b\b\b\b\b\b\b\b\b\b\b\b\b\b\b\b\b\b\b\b\b\b\b\b\b\b\r2/2 [==============================] - 0s 25ms/step - loss: 0.0304 - val_loss: 0.0272\n",
            "Epoch 35/500\n",
            "1/2 [==============>...............] - ETA: 0s - loss: 0.0477"
          ]
        },
        {
          "output_type": "stream",
          "name": "stderr",
          "text": [
            "WARNING:tensorflow:Early stopping conditioned on metric `value_loss` which is not available. Available metrics are: loss,val_loss\n"
          ]
        },
        {
          "output_type": "stream",
          "name": "stdout",
          "text": [
            "\b\b\b\b\b\b\b\b\b\b\b\b\b\b\b\b\b\b\b\b\b\b\b\b\b\b\b\b\b\b\b\b\b\b\b\b\b\b\b\b\b\b\b\b\b\b\b\b\b\b\b\b\b\b\b\b\b\b\b\b\b\r2/2 [==============================] - 0s 28ms/step - loss: 0.0339 - val_loss: 0.0244\n",
            "Epoch 36/500\n",
            "1/2 [==============>...............] - ETA: 0s - loss: 0.0229"
          ]
        },
        {
          "output_type": "stream",
          "name": "stderr",
          "text": [
            "WARNING:tensorflow:Early stopping conditioned on metric `value_loss` which is not available. Available metrics are: loss,val_loss\n"
          ]
        },
        {
          "output_type": "stream",
          "name": "stdout",
          "text": [
            "\b\b\b\b\b\b\b\b\b\b\b\b\b\b\b\b\b\b\b\b\b\b\b\b\b\b\b\b\b\b\b\b\b\b\b\b\b\b\b\b\b\b\b\b\b\b\b\b\b\b\b\b\b\b\b\b\b\b\b\b\b\r2/2 [==============================] - 0s 22ms/step - loss: 0.0330 - val_loss: 0.0421\n",
            "Epoch 37/500\n",
            "1/2 [==============>...............] - ETA: 0s - loss: 0.0144"
          ]
        },
        {
          "output_type": "stream",
          "name": "stderr",
          "text": [
            "WARNING:tensorflow:Early stopping conditioned on metric `value_loss` which is not available. Available metrics are: loss,val_loss\n"
          ]
        },
        {
          "output_type": "stream",
          "name": "stdout",
          "text": [
            "\b\b\b\b\b\b\b\b\b\b\b\b\b\b\b\b\b\b\b\b\b\b\b\b\b\b\b\b\b\b\b\b\b\b\b\b\b\b\b\b\b\b\b\b\b\b\b\b\b\b\b\b\b\b\b\b\b\b\b\b\b\r2/2 [==============================] - 0s 22ms/step - loss: 0.0328 - val_loss: 0.0501\n",
            "Epoch 38/500\n",
            "1/2 [==============>...............] - ETA: 0s - loss: 0.0496"
          ]
        },
        {
          "output_type": "stream",
          "name": "stderr",
          "text": [
            "WARNING:tensorflow:Early stopping conditioned on metric `value_loss` which is not available. Available metrics are: loss,val_loss\n"
          ]
        },
        {
          "output_type": "stream",
          "name": "stdout",
          "text": [
            "\b\b\b\b\b\b\b\b\b\b\b\b\b\b\b\b\b\b\b\b\b\b\b\b\b\b\b\b\b\b\b\b\b\b\b\b\b\b\b\b\b\b\b\b\b\b\b\b\b\b\b\b\b\b\b\b\b\b\b\b\b\r2/2 [==============================] - 0s 21ms/step - loss: 0.0364 - val_loss: 0.0411\n",
            "Epoch 39/500\n",
            "1/2 [==============>...............] - ETA: 0s - loss: 0.0274"
          ]
        },
        {
          "output_type": "stream",
          "name": "stderr",
          "text": [
            "WARNING:tensorflow:Early stopping conditioned on metric `value_loss` which is not available. Available metrics are: loss,val_loss\n"
          ]
        },
        {
          "output_type": "stream",
          "name": "stdout",
          "text": [
            "\b\b\b\b\b\b\b\b\b\b\b\b\b\b\b\b\b\b\b\b\b\b\b\b\b\b\b\b\b\b\b\b\b\b\b\b\b\b\b\b\b\b\b\b\b\b\b\b\b\b\b\b\b\b\b\b\b\b\b\b\b\r2/2 [==============================] - 0s 21ms/step - loss: 0.0284 - val_loss: 0.0280\n",
            "Epoch 40/500\n",
            "1/2 [==============>...............] - ETA: 0s - loss: 0.0380"
          ]
        },
        {
          "output_type": "stream",
          "name": "stderr",
          "text": [
            "WARNING:tensorflow:Early stopping conditioned on metric `value_loss` which is not available. Available metrics are: loss,val_loss\n"
          ]
        },
        {
          "output_type": "stream",
          "name": "stdout",
          "text": [
            "\b\b\b\b\b\b\b\b\b\b\b\b\b\b\b\b\b\b\b\b\b\b\b\b\b\b\b\b\b\b\b\b\b\b\b\b\b\b\b\b\b\b\b\b\b\b\b\b\b\b\b\b\b\b\b\b\b\b\b\b\b\r2/2 [==============================] - 0s 26ms/step - loss: 0.0309 - val_loss: 0.0240\n",
            "Epoch 41/500\n",
            "1/2 [==============>...............] - ETA: 0s - loss: 0.0221"
          ]
        },
        {
          "output_type": "stream",
          "name": "stderr",
          "text": [
            "WARNING:tensorflow:Early stopping conditioned on metric `value_loss` which is not available. Available metrics are: loss,val_loss\n"
          ]
        },
        {
          "output_type": "stream",
          "name": "stdout",
          "text": [
            "\b\b\b\b\b\b\b\b\b\b\b\b\b\b\b\b\b\b\b\b\b\b\b\b\b\b\b\b\b\b\b\b\b\b\b\b\b\b\b\b\b\b\b\b\b\b\b\b\b\b\b\b\b\b\b\b\b\b\b\b\b\r2/2 [==============================] - 0s 22ms/step - loss: 0.0314 - val_loss: 0.0340\n",
            "Epoch 42/500\n",
            "1/2 [==============>...............] - ETA: 0s - loss: 0.0168"
          ]
        },
        {
          "output_type": "stream",
          "name": "stderr",
          "text": [
            "WARNING:tensorflow:Early stopping conditioned on metric `value_loss` which is not available. Available metrics are: loss,val_loss\n"
          ]
        },
        {
          "output_type": "stream",
          "name": "stdout",
          "text": [
            "\b\b\b\b\b\b\b\b\b\b\b\b\b\b\b\b\b\b\b\b\b\b\b\b\b\b\b\b\b\b\b\b\b\b\b\b\b\b\b\b\b\b\b\b\b\b\b\b\b\b\b\b\b\b\b\b\b\b\b\b\b\r2/2 [==============================] - 0s 29ms/step - loss: 0.0279 - val_loss: 0.0500\n",
            "Epoch 43/500\n",
            "1/2 [==============>...............] - ETA: 0s - loss: 0.0434"
          ]
        },
        {
          "output_type": "stream",
          "name": "stderr",
          "text": [
            "WARNING:tensorflow:Early stopping conditioned on metric `value_loss` which is not available. Available metrics are: loss,val_loss\n"
          ]
        },
        {
          "output_type": "stream",
          "name": "stdout",
          "text": [
            "\b\b\b\b\b\b\b\b\b\b\b\b\b\b\b\b\b\b\b\b\b\b\b\b\b\b\b\b\b\b\b\b\b\b\b\b\b\b\b\b\b\b\b\b\b\b\b\b\b\b\b\b\b\b\b\b\b\b\b\b\b\r2/2 [==============================] - 0s 22ms/step - loss: 0.0309 - val_loss: 0.0536\n",
            "Epoch 44/500\n",
            "1/2 [==============>...............] - ETA: 0s - loss: 0.0199"
          ]
        },
        {
          "output_type": "stream",
          "name": "stderr",
          "text": [
            "WARNING:tensorflow:Early stopping conditioned on metric `value_loss` which is not available. Available metrics are: loss,val_loss\n"
          ]
        },
        {
          "output_type": "stream",
          "name": "stdout",
          "text": [
            "\b\b\b\b\b\b\b\b\b\b\b\b\b\b\b\b\b\b\b\b\b\b\b\b\b\b\b\b\b\b\b\b\b\b\b\b\b\b\b\b\b\b\b\b\b\b\b\b\b\b\b\b\b\b\b\b\b\b\b\b\b\r2/2 [==============================] - 0s 23ms/step - loss: 0.0314 - val_loss: 0.0411\n",
            "Epoch 45/500\n",
            "1/2 [==============>...............] - ETA: 0s - loss: 0.0236"
          ]
        },
        {
          "output_type": "stream",
          "name": "stderr",
          "text": [
            "WARNING:tensorflow:Early stopping conditioned on metric `value_loss` which is not available. Available metrics are: loss,val_loss\n"
          ]
        },
        {
          "output_type": "stream",
          "name": "stdout",
          "text": [
            "\b\b\b\b\b\b\b\b\b\b\b\b\b\b\b\b\b\b\b\b\b\b\b\b\b\b\b\b\b\b\b\b\b\b\b\b\b\b\b\b\b\b\b\b\b\b\b\b\b\b\b\b\b\b\b\b\b\b\b\b\b\r2/2 [==============================] - 0s 22ms/step - loss: 0.0291 - val_loss: 0.0250\n",
            "Epoch 46/500\n",
            "1/2 [==============>...............] - ETA: 0s - loss: 0.0478"
          ]
        },
        {
          "output_type": "stream",
          "name": "stderr",
          "text": [
            "WARNING:tensorflow:Early stopping conditioned on metric `value_loss` which is not available. Available metrics are: loss,val_loss\n"
          ]
        },
        {
          "output_type": "stream",
          "name": "stdout",
          "text": [
            "\b\b\b\b\b\b\b\b\b\b\b\b\b\b\b\b\b\b\b\b\b\b\b\b\b\b\b\b\b\b\b\b\b\b\b\b\b\b\b\b\b\b\b\b\b\b\b\b\b\b\b\b\b\b\b\b\b\b\b\b\b\r2/2 [==============================] - 0s 26ms/step - loss: 0.0286 - val_loss: 0.0232\n",
            "Epoch 47/500\n",
            "1/2 [==============>...............] - ETA: 0s - loss: 0.0218"
          ]
        },
        {
          "output_type": "stream",
          "name": "stderr",
          "text": [
            "WARNING:tensorflow:Early stopping conditioned on metric `value_loss` which is not available. Available metrics are: loss,val_loss\n"
          ]
        },
        {
          "output_type": "stream",
          "name": "stdout",
          "text": [
            "\b\b\b\b\b\b\b\b\b\b\b\b\b\b\b\b\b\b\b\b\b\b\b\b\b\b\b\b\b\b\b\b\b\b\b\b\b\b\b\b\b\b\b\b\b\b\b\b\b\b\b\b\b\b\b\b\b\b\b\b\b\r2/2 [==============================] - 0s 48ms/step - loss: 0.0313 - val_loss: 0.0281\n",
            "Epoch 48/500\n",
            "1/2 [==============>...............] - ETA: 0s - loss: 0.0141"
          ]
        },
        {
          "output_type": "stream",
          "name": "stderr",
          "text": [
            "WARNING:tensorflow:Early stopping conditioned on metric `value_loss` which is not available. Available metrics are: loss,val_loss\n"
          ]
        },
        {
          "output_type": "stream",
          "name": "stdout",
          "text": [
            "\b\b\b\b\b\b\b\b\b\b\b\b\b\b\b\b\b\b\b\b\b\b\b\b\b\b\b\b\b\b\b\b\b\b\b\b\b\b\b\b\b\b\b\b\b\b\b\b\b\b\b\b\b\b\b\b\b\b\b\b\b\r2/2 [==============================] - 0s 23ms/step - loss: 0.0291 - val_loss: 0.0387\n",
            "Epoch 49/500\n",
            "1/2 [==============>...............] - ETA: 0s - loss: 0.0179"
          ]
        },
        {
          "output_type": "stream",
          "name": "stderr",
          "text": [
            "WARNING:tensorflow:Early stopping conditioned on metric `value_loss` which is not available. Available metrics are: loss,val_loss\n"
          ]
        },
        {
          "output_type": "stream",
          "name": "stdout",
          "text": [
            "\b\b\b\b\b\b\b\b\b\b\b\b\b\b\b\b\b\b\b\b\b\b\b\b\b\b\b\b\b\b\b\b\b\b\b\b\b\b\b\b\b\b\b\b\b\b\b\b\b\b\b\b\b\b\b\b\b\b\b\b\b\r2/2 [==============================] - 0s 25ms/step - loss: 0.0290 - val_loss: 0.0485\n",
            "Epoch 50/500\n",
            "1/2 [==============>...............] - ETA: 0s - loss: 0.0161"
          ]
        },
        {
          "output_type": "stream",
          "name": "stderr",
          "text": [
            "WARNING:tensorflow:Early stopping conditioned on metric `value_loss` which is not available. Available metrics are: loss,val_loss\n"
          ]
        },
        {
          "output_type": "stream",
          "name": "stdout",
          "text": [
            "\b\b\b\b\b\b\b\b\b\b\b\b\b\b\b\b\b\b\b\b\b\b\b\b\b\b\b\b\b\b\b\b\b\b\b\b\b\b\b\b\b\b\b\b\b\b\b\b\b\b\b\b\b\b\b\b\b\b\b\b\b\r2/2 [==============================] - 0s 26ms/step - loss: 0.0289 - val_loss: 0.0478\n",
            "Epoch 51/500\n",
            "1/2 [==============>...............] - ETA: 0s - loss: 0.0377"
          ]
        },
        {
          "output_type": "stream",
          "name": "stderr",
          "text": [
            "WARNING:tensorflow:Early stopping conditioned on metric `value_loss` which is not available. Available metrics are: loss,val_loss\n"
          ]
        },
        {
          "output_type": "stream",
          "name": "stdout",
          "text": [
            "\b\b\b\b\b\b\b\b\b\b\b\b\b\b\b\b\b\b\b\b\b\b\b\b\b\b\b\b\b\b\b\b\b\b\b\b\b\b\b\b\b\b\b\b\b\b\b\b\b\b\b\b\b\b\b\b\b\b\b\b\b\r2/2 [==============================] - 0s 25ms/step - loss: 0.0300 - val_loss: 0.0380\n",
            "Epoch 52/500\n",
            "1/2 [==============>...............] - ETA: 0s - loss: 0.0326"
          ]
        },
        {
          "output_type": "stream",
          "name": "stderr",
          "text": [
            "WARNING:tensorflow:Early stopping conditioned on metric `value_loss` which is not available. Available metrics are: loss,val_loss\n"
          ]
        },
        {
          "output_type": "stream",
          "name": "stdout",
          "text": [
            "\b\b\b\b\b\b\b\b\b\b\b\b\b\b\b\b\b\b\b\b\b\b\b\b\b\b\b\b\b\b\b\b\b\b\b\b\b\b\b\b\b\b\b\b\b\b\b\b\b\b\b\b\b\b\b\b\b\b\b\b\b\r2/2 [==============================] - 0s 29ms/step - loss: 0.0299 - val_loss: 0.0307\n",
            "Epoch 53/500\n",
            "1/2 [==============>...............] - ETA: 0s - loss: 0.0347"
          ]
        },
        {
          "output_type": "stream",
          "name": "stderr",
          "text": [
            "WARNING:tensorflow:Early stopping conditioned on metric `value_loss` which is not available. Available metrics are: loss,val_loss\n"
          ]
        },
        {
          "output_type": "stream",
          "name": "stdout",
          "text": [
            "\b\b\b\b\b\b\b\b\b\b\b\b\b\b\b\b\b\b\b\b\b\b\b\b\b\b\b\b\b\b\b\b\b\b\b\b\b\b\b\b\b\b\b\b\b\b\b\b\b\b\b\b\b\b\b\b\b\b\b\b\b\r2/2 [==============================] - 0s 19ms/step - loss: 0.0288 - val_loss: 0.0308\n",
            "Epoch 54/500\n",
            "1/2 [==============>...............] - ETA: 0s - loss: 0.0343"
          ]
        },
        {
          "output_type": "stream",
          "name": "stderr",
          "text": [
            "WARNING:tensorflow:Early stopping conditioned on metric `value_loss` which is not available. Available metrics are: loss,val_loss\n"
          ]
        },
        {
          "output_type": "stream",
          "name": "stdout",
          "text": [
            "\b\b\b\b\b\b\b\b\b\b\b\b\b\b\b\b\b\b\b\b\b\b\b\b\b\b\b\b\b\b\b\b\b\b\b\b\b\b\b\b\b\b\b\b\b\b\b\b\b\b\b\b\b\b\b\b\b\b\b\b\b\r2/2 [==============================] - 0s 27ms/step - loss: 0.0263 - val_loss: 0.0371\n",
            "Epoch 55/500\n",
            "1/2 [==============>...............] - ETA: 0s - loss: 0.0186"
          ]
        },
        {
          "output_type": "stream",
          "name": "stderr",
          "text": [
            "WARNING:tensorflow:Early stopping conditioned on metric `value_loss` which is not available. Available metrics are: loss,val_loss\n"
          ]
        },
        {
          "output_type": "stream",
          "name": "stdout",
          "text": [
            "\b\b\b\b\b\b\b\b\b\b\b\b\b\b\b\b\b\b\b\b\b\b\b\b\b\b\b\b\b\b\b\b\b\b\b\b\b\b\b\b\b\b\b\b\b\b\b\b\b\b\b\b\b\b\b\b\b\b\b\b\b\r2/2 [==============================] - 0s 26ms/step - loss: 0.0285 - val_loss: 0.0424\n",
            "Epoch 56/500\n",
            "1/2 [==============>...............] - ETA: 0s - loss: 0.0260"
          ]
        },
        {
          "output_type": "stream",
          "name": "stderr",
          "text": [
            "WARNING:tensorflow:Early stopping conditioned on metric `value_loss` which is not available. Available metrics are: loss,val_loss\n"
          ]
        },
        {
          "output_type": "stream",
          "name": "stdout",
          "text": [
            "\b\b\b\b\b\b\b\b\b\b\b\b\b\b\b\b\b\b\b\b\b\b\b\b\b\b\b\b\b\b\b\b\b\b\b\b\b\b\b\b\b\b\b\b\b\b\b\b\b\b\b\b\b\b\b\b\b\b\b\b\b\r2/2 [==============================] - 0s 25ms/step - loss: 0.0277 - val_loss: 0.0404\n",
            "Epoch 57/500\n",
            "1/2 [==============>...............] - ETA: 0s - loss: 0.0150"
          ]
        },
        {
          "output_type": "stream",
          "name": "stderr",
          "text": [
            "WARNING:tensorflow:Early stopping conditioned on metric `value_loss` which is not available. Available metrics are: loss,val_loss\n"
          ]
        },
        {
          "output_type": "stream",
          "name": "stdout",
          "text": [
            "\b\b\b\b\b\b\b\b\b\b\b\b\b\b\b\b\b\b\b\b\b\b\b\b\b\b\b\b\b\b\b\b\b\b\b\b\b\b\b\b\b\b\b\b\b\b\b\b\b\b\b\b\b\b\b\b\b\b\b\b\b\r2/2 [==============================] - 0s 27ms/step - loss: 0.0288 - val_loss: 0.0326\n",
            "Epoch 58/500\n",
            "1/2 [==============>...............] - ETA: 0s - loss: 0.0381"
          ]
        },
        {
          "output_type": "stream",
          "name": "stderr",
          "text": [
            "WARNING:tensorflow:Early stopping conditioned on metric `value_loss` which is not available. Available metrics are: loss,val_loss\n"
          ]
        },
        {
          "output_type": "stream",
          "name": "stdout",
          "text": [
            "\b\b\b\b\b\b\b\b\b\b\b\b\b\b\b\b\b\b\b\b\b\b\b\b\b\b\b\b\b\b\b\b\b\b\b\b\b\b\b\b\b\b\b\b\b\b\b\b\b\b\b\b\b\b\b\b\b\b\b\b\b\r2/2 [==============================] - 0s 47ms/step - loss: 0.0307 - val_loss: 0.0277\n",
            "Epoch 59/500\n",
            "1/2 [==============>...............] - ETA: 0s - loss: 0.0442"
          ]
        },
        {
          "output_type": "stream",
          "name": "stderr",
          "text": [
            "WARNING:tensorflow:Early stopping conditioned on metric `value_loss` which is not available. Available metrics are: loss,val_loss\n"
          ]
        },
        {
          "output_type": "stream",
          "name": "stdout",
          "text": [
            "\b\b\b\b\b\b\b\b\b\b\b\b\b\b\b\b\b\b\b\b\b\b\b\b\b\b\b\b\b\b\b\b\b\b\b\b\b\b\b\b\b\b\b\b\b\b\b\b\b\b\b\b\b\b\b\b\b\b\b\b\b\r2/2 [==============================] - 0s 23ms/step - loss: 0.0286 - val_loss: 0.0338\n",
            "Epoch 60/500\n",
            "1/2 [==============>...............] - ETA: 0s - loss: 0.0291"
          ]
        },
        {
          "output_type": "stream",
          "name": "stderr",
          "text": [
            "WARNING:tensorflow:Early stopping conditioned on metric `value_loss` which is not available. Available metrics are: loss,val_loss\n"
          ]
        },
        {
          "output_type": "stream",
          "name": "stdout",
          "text": [
            "\b\b\b\b\b\b\b\b\b\b\b\b\b\b\b\b\b\b\b\b\b\b\b\b\b\b\b\b\b\b\b\b\b\b\b\b\b\b\b\b\b\b\b\b\b\b\b\b\b\b\b\b\b\b\b\b\b\b\b\b\b\r2/2 [==============================] - 0s 23ms/step - loss: 0.0275 - val_loss: 0.0367\n",
            "Epoch 61/500\n",
            "1/2 [==============>...............] - ETA: 0s - loss: 0.0361"
          ]
        },
        {
          "output_type": "stream",
          "name": "stderr",
          "text": [
            "WARNING:tensorflow:Early stopping conditioned on metric `value_loss` which is not available. Available metrics are: loss,val_loss\n"
          ]
        },
        {
          "output_type": "stream",
          "name": "stdout",
          "text": [
            "\b\b\b\b\b\b\b\b\b\b\b\b\b\b\b\b\b\b\b\b\b\b\b\b\b\b\b\b\b\b\b\b\b\b\b\b\b\b\b\b\b\b\b\b\b\b\b\b\b\b\b\b\b\b\b\b\b\b\b\b\b\r2/2 [==============================] - 0s 22ms/step - loss: 0.0268 - val_loss: 0.0398\n",
            "Epoch 62/500\n",
            "1/2 [==============>...............] - ETA: 0s - loss: 0.0379"
          ]
        },
        {
          "output_type": "stream",
          "name": "stderr",
          "text": [
            "WARNING:tensorflow:Early stopping conditioned on metric `value_loss` which is not available. Available metrics are: loss,val_loss\n"
          ]
        },
        {
          "output_type": "stream",
          "name": "stdout",
          "text": [
            "\b\b\b\b\b\b\b\b\b\b\b\b\b\b\b\b\b\b\b\b\b\b\b\b\b\b\b\b\b\b\b\b\b\b\b\b\b\b\b\b\b\b\b\b\b\b\b\b\b\b\b\b\b\b\b\b\b\b\b\b\b\r2/2 [==============================] - 0s 38ms/step - loss: 0.0281 - val_loss: 0.0372\n",
            "Epoch 63/500\n",
            "1/2 [==============>...............] - ETA: 0s - loss: 0.0272"
          ]
        },
        {
          "output_type": "stream",
          "name": "stderr",
          "text": [
            "WARNING:tensorflow:Early stopping conditioned on metric `value_loss` which is not available. Available metrics are: loss,val_loss\n"
          ]
        },
        {
          "output_type": "stream",
          "name": "stdout",
          "text": [
            "\b\b\b\b\b\b\b\b\b\b\b\b\b\b\b\b\b\b\b\b\b\b\b\b\b\b\b\b\b\b\b\b\b\b\b\b\b\b\b\b\b\b\b\b\b\b\b\b\b\b\b\b\b\b\b\b\b\b\b\b\b\r2/2 [==============================] - 0s 29ms/step - loss: 0.0269 - val_loss: 0.0349\n",
            "Epoch 64/500\n",
            "1/2 [==============>...............] - ETA: 0s - loss: 0.0270"
          ]
        },
        {
          "output_type": "stream",
          "name": "stderr",
          "text": [
            "WARNING:tensorflow:Early stopping conditioned on metric `value_loss` which is not available. Available metrics are: loss,val_loss\n"
          ]
        },
        {
          "output_type": "stream",
          "name": "stdout",
          "text": [
            "\b\b\b\b\b\b\b\b\b\b\b\b\b\b\b\b\b\b\b\b\b\b\b\b\b\b\b\b\b\b\b\b\b\b\b\b\b\b\b\b\b\b\b\b\b\b\b\b\b\b\b\b\b\b\b\b\b\b\b\b\b\r2/2 [==============================] - 0s 25ms/step - loss: 0.0279 - val_loss: 0.0355\n",
            "Epoch 65/500\n",
            "1/2 [==============>...............] - ETA: 0s - loss: 0.0332"
          ]
        },
        {
          "output_type": "stream",
          "name": "stderr",
          "text": [
            "WARNING:tensorflow:Early stopping conditioned on metric `value_loss` which is not available. Available metrics are: loss,val_loss\n"
          ]
        },
        {
          "output_type": "stream",
          "name": "stdout",
          "text": [
            "\b\b\b\b\b\b\b\b\b\b\b\b\b\b\b\b\b\b\b\b\b\b\b\b\b\b\b\b\b\b\b\b\b\b\b\b\b\b\b\b\b\b\b\b\b\b\b\b\b\b\b\b\b\b\b\b\b\b\b\b\b\r2/2 [==============================] - 0s 22ms/step - loss: 0.0277 - val_loss: 0.0318\n",
            "Epoch 66/500\n",
            "1/2 [==============>...............] - ETA: 0s - loss: 0.0334"
          ]
        },
        {
          "output_type": "stream",
          "name": "stderr",
          "text": [
            "WARNING:tensorflow:Early stopping conditioned on metric `value_loss` which is not available. Available metrics are: loss,val_loss\n"
          ]
        },
        {
          "output_type": "stream",
          "name": "stdout",
          "text": [
            "\b\b\b\b\b\b\b\b\b\b\b\b\b\b\b\b\b\b\b\b\b\b\b\b\b\b\b\b\b\b\b\b\b\b\b\b\b\b\b\b\b\b\b\b\b\b\b\b\b\b\b\b\b\b\b\b\b\b\b\b\b\r2/2 [==============================] - 0s 20ms/step - loss: 0.0277 - val_loss: 0.0314\n",
            "Epoch 67/500\n",
            "1/2 [==============>...............] - ETA: 0s - loss: 0.0056"
          ]
        },
        {
          "output_type": "stream",
          "name": "stderr",
          "text": [
            "WARNING:tensorflow:Early stopping conditioned on metric `value_loss` which is not available. Available metrics are: loss,val_loss\n"
          ]
        },
        {
          "output_type": "stream",
          "name": "stdout",
          "text": [
            "\b\b\b\b\b\b\b\b\b\b\b\b\b\b\b\b\b\b\b\b\b\b\b\b\b\b\b\b\b\b\b\b\b\b\b\b\b\b\b\b\b\b\b\b\b\b\b\b\b\b\b\b\b\b\b\b\b\b\b\b\b\r2/2 [==============================] - 0s 23ms/step - loss: 0.0305 - val_loss: 0.0390\n",
            "Epoch 68/500\n",
            "1/2 [==============>...............] - ETA: 0s - loss: 0.0143"
          ]
        },
        {
          "output_type": "stream",
          "name": "stderr",
          "text": [
            "WARNING:tensorflow:Early stopping conditioned on metric `value_loss` which is not available. Available metrics are: loss,val_loss\n"
          ]
        },
        {
          "output_type": "stream",
          "name": "stdout",
          "text": [
            "\b\b\b\b\b\b\b\b\b\b\b\b\b\b\b\b\b\b\b\b\b\b\b\b\b\b\b\b\b\b\b\b\b\b\b\b\b\b\b\b\b\b\b\b\b\b\b\b\b\b\b\b\b\b\b\b\b\b\b\b\b\r2/2 [==============================] - 0s 26ms/step - loss: 0.0299 - val_loss: 0.0389\n",
            "Epoch 69/500\n",
            "1/2 [==============>...............] - ETA: 0s - loss: 0.0380"
          ]
        },
        {
          "output_type": "stream",
          "name": "stderr",
          "text": [
            "WARNING:tensorflow:Early stopping conditioned on metric `value_loss` which is not available. Available metrics are: loss,val_loss\n"
          ]
        },
        {
          "output_type": "stream",
          "name": "stdout",
          "text": [
            "\b\b\b\b\b\b\b\b\b\b\b\b\b\b\b\b\b\b\b\b\b\b\b\b\b\b\b\b\b\b\b\b\b\b\b\b\b\b\b\b\b\b\b\b\b\b\b\b\b\b\b\b\b\b\b\b\b\b\b\b\b\r2/2 [==============================] - 0s 48ms/step - loss: 0.0309 - val_loss: 0.0296\n",
            "Epoch 70/500\n",
            "1/2 [==============>...............] - ETA: 0s - loss: 0.0205"
          ]
        },
        {
          "output_type": "stream",
          "name": "stderr",
          "text": [
            "WARNING:tensorflow:Early stopping conditioned on metric `value_loss` which is not available. Available metrics are: loss,val_loss\n"
          ]
        },
        {
          "output_type": "stream",
          "name": "stdout",
          "text": [
            "\b\b\b\b\b\b\b\b\b\b\b\b\b\b\b\b\b\b\b\b\b\b\b\b\b\b\b\b\b\b\b\b\b\b\b\b\b\b\b\b\b\b\b\b\b\b\b\b\b\b\b\b\b\b\b\b\b\b\b\b\b\r2/2 [==============================] - 0s 26ms/step - loss: 0.0306 - val_loss: 0.0309\n",
            "Epoch 71/500\n",
            "1/2 [==============>...............] - ETA: 0s - loss: 0.0432"
          ]
        },
        {
          "output_type": "stream",
          "name": "stderr",
          "text": [
            "WARNING:tensorflow:Early stopping conditioned on metric `value_loss` which is not available. Available metrics are: loss,val_loss\n"
          ]
        },
        {
          "output_type": "stream",
          "name": "stdout",
          "text": [
            "\b\b\b\b\b\b\b\b\b\b\b\b\b\b\b\b\b\b\b\b\b\b\b\b\b\b\b\b\b\b\b\b\b\b\b\b\b\b\b\b\b\b\b\b\b\b\b\b\b\b\b\b\b\b\b\b\b\b\b\b\b\r2/2 [==============================] - 0s 26ms/step - loss: 0.0319 - val_loss: 0.0346\n",
            "Epoch 72/500\n",
            "1/2 [==============>...............] - ETA: 0s - loss: 0.0365"
          ]
        },
        {
          "output_type": "stream",
          "name": "stderr",
          "text": [
            "WARNING:tensorflow:Early stopping conditioned on metric `value_loss` which is not available. Available metrics are: loss,val_loss\n"
          ]
        },
        {
          "output_type": "stream",
          "name": "stdout",
          "text": [
            "\b\b\b\b\b\b\b\b\b\b\b\b\b\b\b\b\b\b\b\b\b\b\b\b\b\b\b\b\b\b\b\b\b\b\b\b\b\b\b\b\b\b\b\b\b\b\b\b\b\b\b\b\b\b\b\b\b\b\b\b\b\r2/2 [==============================] - 0s 29ms/step - loss: 0.0271 - val_loss: 0.0384\n",
            "Epoch 73/500\n",
            "1/2 [==============>...............] - ETA: 0s - loss: 0.0368"
          ]
        },
        {
          "output_type": "stream",
          "name": "stderr",
          "text": [
            "WARNING:tensorflow:Early stopping conditioned on metric `value_loss` which is not available. Available metrics are: loss,val_loss\n"
          ]
        },
        {
          "output_type": "stream",
          "name": "stdout",
          "text": [
            "\b\b\b\b\b\b\b\b\b\b\b\b\b\b\b\b\b\b\b\b\b\b\b\b\b\b\b\b\b\b\b\b\b\b\b\b\b\b\b\b\b\b\b\b\b\b\b\b\b\b\b\b\b\b\b\b\b\b\b\b\b\r2/2 [==============================] - 0s 28ms/step - loss: 0.0285 - val_loss: 0.0359\n",
            "Epoch 74/500\n",
            "1/2 [==============>...............] - ETA: 0s - loss: 0.0363"
          ]
        },
        {
          "output_type": "stream",
          "name": "stderr",
          "text": [
            "WARNING:tensorflow:Early stopping conditioned on metric `value_loss` which is not available. Available metrics are: loss,val_loss\n"
          ]
        },
        {
          "output_type": "stream",
          "name": "stdout",
          "text": [
            "\b\b\b\b\b\b\b\b\b\b\b\b\b\b\b\b\b\b\b\b\b\b\b\b\b\b\b\b\b\b\b\b\b\b\b\b\b\b\b\b\b\b\b\b\b\b\b\b\b\b\b\b\b\b\b\b\b\b\b\b\b\r2/2 [==============================] - 0s 30ms/step - loss: 0.0282 - val_loss: 0.0299\n",
            "Epoch 75/500\n",
            "1/2 [==============>...............] - ETA: 0s - loss: 0.0282"
          ]
        },
        {
          "output_type": "stream",
          "name": "stderr",
          "text": [
            "WARNING:tensorflow:Early stopping conditioned on metric `value_loss` which is not available. Available metrics are: loss,val_loss\n"
          ]
        },
        {
          "output_type": "stream",
          "name": "stdout",
          "text": [
            "\b\b\b\b\b\b\b\b\b\b\b\b\b\b\b\b\b\b\b\b\b\b\b\b\b\b\b\b\b\b\b\b\b\b\b\b\b\b\b\b\b\b\b\b\b\b\b\b\b\b\b\b\b\b\b\b\b\b\b\b\b\r2/2 [==============================] - 0s 28ms/step - loss: 0.0299 - val_loss: 0.0274\n",
            "Epoch 76/500\n",
            "1/2 [==============>...............] - ETA: 0s - loss: 0.0221"
          ]
        },
        {
          "output_type": "stream",
          "name": "stderr",
          "text": [
            "WARNING:tensorflow:Early stopping conditioned on metric `value_loss` which is not available. Available metrics are: loss,val_loss\n"
          ]
        },
        {
          "output_type": "stream",
          "name": "stdout",
          "text": [
            "\b\b\b\b\b\b\b\b\b\b\b\b\b\b\b\b\b\b\b\b\b\b\b\b\b\b\b\b\b\b\b\b\b\b\b\b\b\b\b\b\b\b\b\b\b\b\b\b\b\b\b\b\b\b\b\b\b\b\b\b\b\r2/2 [==============================] - 0s 27ms/step - loss: 0.0282 - val_loss: 0.0280\n",
            "Epoch 77/500\n",
            "1/2 [==============>...............] - ETA: 0s - loss: 0.0209"
          ]
        },
        {
          "output_type": "stream",
          "name": "stderr",
          "text": [
            "WARNING:tensorflow:Early stopping conditioned on metric `value_loss` which is not available. Available metrics are: loss,val_loss\n"
          ]
        },
        {
          "output_type": "stream",
          "name": "stdout",
          "text": [
            "\b\b\b\b\b\b\b\b\b\b\b\b\b\b\b\b\b\b\b\b\b\b\b\b\b\b\b\b\b\b\b\b\b\b\b\b\b\b\b\b\b\b\b\b\b\b\b\b\b\b\b\b\b\b\b\b\b\b\b\b\b\r2/2 [==============================] - 0s 29ms/step - loss: 0.0298 - val_loss: 0.0315\n",
            "Epoch 78/500\n",
            "1/2 [==============>...............] - ETA: 0s - loss: 0.0073"
          ]
        },
        {
          "output_type": "stream",
          "name": "stderr",
          "text": [
            "WARNING:tensorflow:Early stopping conditioned on metric `value_loss` which is not available. Available metrics are: loss,val_loss\n"
          ]
        },
        {
          "output_type": "stream",
          "name": "stdout",
          "text": [
            "\b\b\b\b\b\b\b\b\b\b\b\b\b\b\b\b\b\b\b\b\b\b\b\b\b\b\b\b\b\b\b\b\b\b\b\b\b\b\b\b\b\b\b\b\b\b\b\b\b\b\b\b\b\b\b\b\b\b\b\b\b\r2/2 [==============================] - 0s 32ms/step - loss: 0.0263 - val_loss: 0.0349\n",
            "Epoch 79/500\n",
            "1/2 [==============>...............] - ETA: 0s - loss: 0.0177"
          ]
        },
        {
          "output_type": "stream",
          "name": "stderr",
          "text": [
            "WARNING:tensorflow:Early stopping conditioned on metric `value_loss` which is not available. Available metrics are: loss,val_loss\n"
          ]
        },
        {
          "output_type": "stream",
          "name": "stdout",
          "text": [
            "\b\b\b\b\b\b\b\b\b\b\b\b\b\b\b\b\b\b\b\b\b\b\b\b\b\b\b\b\b\b\b\b\b\b\b\b\b\b\b\b\b\b\b\b\b\b\b\b\b\b\b\b\b\b\b\b\b\b\b\b\b\r2/2 [==============================] - 0s 24ms/step - loss: 0.0276 - val_loss: 0.0377\n",
            "Epoch 80/500\n",
            "1/2 [==============>...............] - ETA: 0s - loss: 0.0100"
          ]
        },
        {
          "output_type": "stream",
          "name": "stderr",
          "text": [
            "WARNING:tensorflow:Early stopping conditioned on metric `value_loss` which is not available. Available metrics are: loss,val_loss\n"
          ]
        },
        {
          "output_type": "stream",
          "name": "stdout",
          "text": [
            "\b\b\b\b\b\b\b\b\b\b\b\b\b\b\b\b\b\b\b\b\b\b\b\b\b\b\b\b\b\b\b\b\b\b\b\b\b\b\b\b\b\b\b\b\b\b\b\b\b\b\b\b\b\b\b\b\b\b\b\b\b\r2/2 [==============================] - 0s 30ms/step - loss: 0.0266 - val_loss: 0.0339\n",
            "Epoch 81/500\n",
            "1/2 [==============>...............] - ETA: 0s - loss: 0.0378"
          ]
        },
        {
          "output_type": "stream",
          "name": "stderr",
          "text": [
            "WARNING:tensorflow:Early stopping conditioned on metric `value_loss` which is not available. Available metrics are: loss,val_loss\n"
          ]
        },
        {
          "output_type": "stream",
          "name": "stdout",
          "text": [
            "\b\b\b\b\b\b\b\b\b\b\b\b\b\b\b\b\b\b\b\b\b\b\b\b\b\b\b\b\b\b\b\b\b\b\b\b\b\b\b\b\b\b\b\b\b\b\b\b\b\b\b\b\b\b\b\b\b\b\b\b\b\r2/2 [==============================] - 0s 26ms/step - loss: 0.0280 - val_loss: 0.0252\n",
            "Epoch 82/500\n",
            "1/2 [==============>...............] - ETA: 0s - loss: 0.0460"
          ]
        },
        {
          "output_type": "stream",
          "name": "stderr",
          "text": [
            "WARNING:tensorflow:Early stopping conditioned on metric `value_loss` which is not available. Available metrics are: loss,val_loss\n"
          ]
        },
        {
          "output_type": "stream",
          "name": "stdout",
          "text": [
            "\b\b\b\b\b\b\b\b\b\b\b\b\b\b\b\b\b\b\b\b\b\b\b\b\b\b\b\b\b\b\b\b\b\b\b\b\b\b\b\b\b\b\b\b\b\b\b\b\b\b\b\b\b\b\b\b\b\b\b\b\b\r2/2 [==============================] - 0s 36ms/step - loss: 0.0286 - val_loss: 0.0284\n",
            "Epoch 83/500\n",
            "1/2 [==============>...............] - ETA: 0s - loss: 0.0186"
          ]
        },
        {
          "output_type": "stream",
          "name": "stderr",
          "text": [
            "WARNING:tensorflow:Early stopping conditioned on metric `value_loss` which is not available. Available metrics are: loss,val_loss\n"
          ]
        },
        {
          "output_type": "stream",
          "name": "stdout",
          "text": [
            "\b\b\b\b\b\b\b\b\b\b\b\b\b\b\b\b\b\b\b\b\b\b\b\b\b\b\b\b\b\b\b\b\b\b\b\b\b\b\b\b\b\b\b\b\b\b\b\b\b\b\b\b\b\b\b\b\b\b\b\b\b\r2/2 [==============================] - 0s 27ms/step - loss: 0.0290 - val_loss: 0.0425\n",
            "Epoch 84/500\n",
            "1/2 [==============>...............] - ETA: 0s - loss: 0.0310"
          ]
        },
        {
          "output_type": "stream",
          "name": "stderr",
          "text": [
            "WARNING:tensorflow:Early stopping conditioned on metric `value_loss` which is not available. Available metrics are: loss,val_loss\n"
          ]
        },
        {
          "output_type": "stream",
          "name": "stdout",
          "text": [
            "\b\b\b\b\b\b\b\b\b\b\b\b\b\b\b\b\b\b\b\b\b\b\b\b\b\b\b\b\b\b\b\b\b\b\b\b\b\b\b\b\b\b\b\b\b\b\b\b\b\b\b\b\b\b\b\b\b\b\b\b\b\r2/2 [==============================] - 0s 25ms/step - loss: 0.0313 - val_loss: 0.0445\n",
            "Epoch 85/500\n",
            "1/2 [==============>...............] - ETA: 0s - loss: 0.0426"
          ]
        },
        {
          "output_type": "stream",
          "name": "stderr",
          "text": [
            "WARNING:tensorflow:Early stopping conditioned on metric `value_loss` which is not available. Available metrics are: loss,val_loss\n"
          ]
        },
        {
          "output_type": "stream",
          "name": "stdout",
          "text": [
            "\b\b\b\b\b\b\b\b\b\b\b\b\b\b\b\b\b\b\b\b\b\b\b\b\b\b\b\b\b\b\b\b\b\b\b\b\b\b\b\b\b\b\b\b\b\b\b\b\b\b\b\b\b\b\b\b\b\b\b\b\b\r2/2 [==============================] - 0s 35ms/step - loss: 0.0289 - val_loss: 0.0326\n",
            "Epoch 86/500\n",
            "1/2 [==============>...............] - ETA: 0s - loss: 0.0291"
          ]
        },
        {
          "output_type": "stream",
          "name": "stderr",
          "text": [
            "WARNING:tensorflow:Early stopping conditioned on metric `value_loss` which is not available. Available metrics are: loss,val_loss\n"
          ]
        },
        {
          "output_type": "stream",
          "name": "stdout",
          "text": [
            "\b\b\b\b\b\b\b\b\b\b\b\b\b\b\b\b\b\b\b\b\b\b\b\b\b\b\b\b\b\b\b\b\b\b\b\b\b\b\b\b\b\b\b\b\b\b\b\b\b\b\b\b\b\b\b\b\b\b\b\b\b\r2/2 [==============================] - 0s 23ms/step - loss: 0.0289 - val_loss: 0.0218\n",
            "Epoch 87/500\n",
            "1/2 [==============>...............] - ETA: 0s - loss: 0.0411"
          ]
        },
        {
          "output_type": "stream",
          "name": "stderr",
          "text": [
            "WARNING:tensorflow:Early stopping conditioned on metric `value_loss` which is not available. Available metrics are: loss,val_loss\n"
          ]
        },
        {
          "output_type": "stream",
          "name": "stdout",
          "text": [
            "\b\b\b\b\b\b\b\b\b\b\b\b\b\b\b\b\b\b\b\b\b\b\b\b\b\b\b\b\b\b\b\b\b\b\b\b\b\b\b\b\b\b\b\b\b\b\b\b\b\b\b\b\b\b\b\b\b\b\b\b\b\r2/2 [==============================] - 0s 27ms/step - loss: 0.0303 - val_loss: 0.0310\n",
            "Epoch 88/500\n",
            "1/2 [==============>...............] - ETA: 0s - loss: 0.0226"
          ]
        },
        {
          "output_type": "stream",
          "name": "stderr",
          "text": [
            "WARNING:tensorflow:Early stopping conditioned on metric `value_loss` which is not available. Available metrics are: loss,val_loss\n"
          ]
        },
        {
          "output_type": "stream",
          "name": "stdout",
          "text": [
            "\b\b\b\b\b\b\b\b\b\b\b\b\b\b\b\b\b\b\b\b\b\b\b\b\b\b\b\b\b\b\b\b\b\b\b\b\b\b\b\b\b\b\b\b\b\b\b\b\b\b\b\b\b\b\b\b\b\b\b\b\b\r2/2 [==============================] - 0s 26ms/step - loss: 0.0289 - val_loss: 0.0452\n",
            "Epoch 89/500\n",
            "1/2 [==============>...............] - ETA: 0s - loss: 0.0189"
          ]
        },
        {
          "output_type": "stream",
          "name": "stderr",
          "text": [
            "WARNING:tensorflow:Early stopping conditioned on metric `value_loss` which is not available. Available metrics are: loss,val_loss\n"
          ]
        },
        {
          "output_type": "stream",
          "name": "stdout",
          "text": [
            "\b\b\b\b\b\b\b\b\b\b\b\b\b\b\b\b\b\b\b\b\b\b\b\b\b\b\b\b\b\b\b\b\b\b\b\b\b\b\b\b\b\b\b\b\b\b\b\b\b\b\b\b\b\b\b\b\b\b\b\b\b\r2/2 [==============================] - 0s 26ms/step - loss: 0.0300 - val_loss: 0.0444\n",
            "Epoch 90/500\n",
            "1/2 [==============>...............] - ETA: 0s - loss: 0.0434"
          ]
        },
        {
          "output_type": "stream",
          "name": "stderr",
          "text": [
            "WARNING:tensorflow:Early stopping conditioned on metric `value_loss` which is not available. Available metrics are: loss,val_loss\n"
          ]
        },
        {
          "output_type": "stream",
          "name": "stdout",
          "text": [
            "\b\b\b\b\b\b\b\b\b\b\b\b\b\b\b\b\b\b\b\b\b\b\b\b\b\b\b\b\b\b\b\b\b\b\b\b\b\b\b\b\b\b\b\b\b\b\b\b\b\b\b\b\b\b\b\b\b\b\b\b\b\r2/2 [==============================] - 0s 23ms/step - loss: 0.0323 - val_loss: 0.0271\n",
            "Epoch 91/500\n",
            "1/2 [==============>...............] - ETA: 0s - loss: 0.0320"
          ]
        },
        {
          "output_type": "stream",
          "name": "stderr",
          "text": [
            "WARNING:tensorflow:Early stopping conditioned on metric `value_loss` which is not available. Available metrics are: loss,val_loss\n"
          ]
        },
        {
          "output_type": "stream",
          "name": "stdout",
          "text": [
            "\b\b\b\b\b\b\b\b\b\b\b\b\b\b\b\b\b\b\b\b\b\b\b\b\b\b\b\b\b\b\b\b\b\b\b\b\b\b\b\b\b\b\b\b\b\b\b\b\b\b\b\b\b\b\b\b\b\b\b\b\b\r2/2 [==============================] - 0s 23ms/step - loss: 0.0296 - val_loss: 0.0213\n",
            "Epoch 92/500\n",
            "1/2 [==============>...............] - ETA: 0s - loss: 0.0138"
          ]
        },
        {
          "output_type": "stream",
          "name": "stderr",
          "text": [
            "WARNING:tensorflow:Early stopping conditioned on metric `value_loss` which is not available. Available metrics are: loss,val_loss\n"
          ]
        },
        {
          "output_type": "stream",
          "name": "stdout",
          "text": [
            "\b\b\b\b\b\b\b\b\b\b\b\b\b\b\b\b\b\b\b\b\b\b\b\b\b\b\b\b\b\b\b\b\b\b\b\b\b\b\b\b\b\b\b\b\b\b\b\b\b\b\b\b\b\b\b\b\b\b\b\b\b\r2/2 [==============================] - 0s 23ms/step - loss: 0.0279 - val_loss: 0.0294\n",
            "Epoch 93/500\n",
            "1/2 [==============>...............] - ETA: 0s - loss: 0.0320"
          ]
        },
        {
          "output_type": "stream",
          "name": "stderr",
          "text": [
            "WARNING:tensorflow:Early stopping conditioned on metric `value_loss` which is not available. Available metrics are: loss,val_loss\n"
          ]
        },
        {
          "output_type": "stream",
          "name": "stdout",
          "text": [
            "\b\b\b\b\b\b\b\b\b\b\b\b\b\b\b\b\b\b\b\b\b\b\b\b\b\b\b\b\b\b\b\b\b\b\b\b\b\b\b\b\b\b\b\b\b\b\b\b\b\b\b\b\b\b\b\b\b\b\b\b\b\r2/2 [==============================] - 0s 21ms/step - loss: 0.0266 - val_loss: 0.0413\n",
            "Epoch 94/500\n",
            "1/2 [==============>...............] - ETA: 0s - loss: 0.0234"
          ]
        },
        {
          "output_type": "stream",
          "name": "stderr",
          "text": [
            "WARNING:tensorflow:Early stopping conditioned on metric `value_loss` which is not available. Available metrics are: loss,val_loss\n"
          ]
        },
        {
          "output_type": "stream",
          "name": "stdout",
          "text": [
            "\b\b\b\b\b\b\b\b\b\b\b\b\b\b\b\b\b\b\b\b\b\b\b\b\b\b\b\b\b\b\b\b\b\b\b\b\b\b\b\b\b\b\b\b\b\b\b\b\b\b\b\b\b\b\b\b\b\b\b\b\b\r2/2 [==============================] - 0s 23ms/step - loss: 0.0295 - val_loss: 0.0437\n",
            "Epoch 95/500\n",
            "1/2 [==============>...............] - ETA: 0s - loss: 0.0418"
          ]
        },
        {
          "output_type": "stream",
          "name": "stderr",
          "text": [
            "WARNING:tensorflow:Early stopping conditioned on metric `value_loss` which is not available. Available metrics are: loss,val_loss\n"
          ]
        },
        {
          "output_type": "stream",
          "name": "stdout",
          "text": [
            "\b\b\b\b\b\b\b\b\b\b\b\b\b\b\b\b\b\b\b\b\b\b\b\b\b\b\b\b\b\b\b\b\b\b\b\b\b\b\b\b\b\b\b\b\b\b\b\b\b\b\b\b\b\b\b\b\b\b\b\b\b\r2/2 [==============================] - 0s 22ms/step - loss: 0.0321 - val_loss: 0.0284\n",
            "Epoch 96/500\n",
            "1/2 [==============>...............] - ETA: 0s - loss: 0.0161"
          ]
        },
        {
          "output_type": "stream",
          "name": "stderr",
          "text": [
            "WARNING:tensorflow:Early stopping conditioned on metric `value_loss` which is not available. Available metrics are: loss,val_loss\n"
          ]
        },
        {
          "output_type": "stream",
          "name": "stdout",
          "text": [
            "\b\b\b\b\b\b\b\b\b\b\b\b\b\b\b\b\b\b\b\b\b\b\b\b\b\b\b\b\b\b\b\b\b\b\b\b\b\b\b\b\b\b\b\b\b\b\b\b\b\b\b\b\b\b\b\b\b\b\b\b\b\r2/2 [==============================] - 0s 25ms/step - loss: 0.0295 - val_loss: 0.0197\n",
            "Epoch 97/500\n",
            "1/2 [==============>...............] - ETA: 0s - loss: 0.0441"
          ]
        },
        {
          "output_type": "stream",
          "name": "stderr",
          "text": [
            "WARNING:tensorflow:Early stopping conditioned on metric `value_loss` which is not available. Available metrics are: loss,val_loss\n"
          ]
        },
        {
          "output_type": "stream",
          "name": "stdout",
          "text": [
            "\b\b\b\b\b\b\b\b\b\b\b\b\b\b\b\b\b\b\b\b\b\b\b\b\b\b\b\b\b\b\b\b\b\b\b\b\b\b\b\b\b\b\b\b\b\b\b\b\b\b\b\b\b\b\b\b\b\b\b\b\b\r2/2 [==============================] - 0s 21ms/step - loss: 0.0309 - val_loss: 0.0256\n",
            "Epoch 98/500\n",
            "1/2 [==============>...............] - ETA: 0s - loss: 0.0283"
          ]
        },
        {
          "output_type": "stream",
          "name": "stderr",
          "text": [
            "WARNING:tensorflow:Early stopping conditioned on metric `value_loss` which is not available. Available metrics are: loss,val_loss\n"
          ]
        },
        {
          "output_type": "stream",
          "name": "stdout",
          "text": [
            "\b\b\b\b\b\b\b\b\b\b\b\b\b\b\b\b\b\b\b\b\b\b\b\b\b\b\b\b\b\b\b\b\b\b\b\b\b\b\b\b\b\b\b\b\b\b\b\b\b\b\b\b\b\b\b\b\b\b\b\b\b\r2/2 [==============================] - 0s 21ms/step - loss: 0.0299 - val_loss: 0.0360\n",
            "Epoch 99/500\n",
            "1/2 [==============>...............] - ETA: 0s - loss: 0.0231"
          ]
        },
        {
          "output_type": "stream",
          "name": "stderr",
          "text": [
            "WARNING:tensorflow:Early stopping conditioned on metric `value_loss` which is not available. Available metrics are: loss,val_loss\n"
          ]
        },
        {
          "output_type": "stream",
          "name": "stdout",
          "text": [
            "\b\b\b\b\b\b\b\b\b\b\b\b\b\b\b\b\b\b\b\b\b\b\b\b\b\b\b\b\b\b\b\b\b\b\b\b\b\b\b\b\b\b\b\b\b\b\b\b\b\b\b\b\b\b\b\b\b\b\b\b\b\r2/2 [==============================] - 0s 26ms/step - loss: 0.0307 - val_loss: 0.0356\n",
            "Epoch 100/500\n",
            "1/2 [==============>...............] - ETA: 0s - loss: 0.0319"
          ]
        },
        {
          "output_type": "stream",
          "name": "stderr",
          "text": [
            "WARNING:tensorflow:Early stopping conditioned on metric `value_loss` which is not available. Available metrics are: loss,val_loss\n"
          ]
        },
        {
          "output_type": "stream",
          "name": "stdout",
          "text": [
            "\b\b\b\b\b\b\b\b\b\b\b\b\b\b\b\b\b\b\b\b\b\b\b\b\b\b\b\b\b\b\b\b\b\b\b\b\b\b\b\b\b\b\b\b\b\b\b\b\b\b\b\b\b\b\b\b\b\b\b\b\b\r2/2 [==============================] - 0s 20ms/step - loss: 0.0283 - val_loss: 0.0304\n",
            "Epoch 101/500\n",
            "1/2 [==============>...............] - ETA: 0s - loss: 0.0183"
          ]
        },
        {
          "output_type": "stream",
          "name": "stderr",
          "text": [
            "WARNING:tensorflow:Early stopping conditioned on metric `value_loss` which is not available. Available metrics are: loss,val_loss\n"
          ]
        },
        {
          "output_type": "stream",
          "name": "stdout",
          "text": [
            "\b\b\b\b\b\b\b\b\b\b\b\b\b\b\b\b\b\b\b\b\b\b\b\b\b\b\b\b\b\b\b\b\b\b\b\b\b\b\b\b\b\b\b\b\b\b\b\b\b\b\b\b\b\b\b\b\b\b\b\b\b\r2/2 [==============================] - 0s 21ms/step - loss: 0.0257 - val_loss: 0.0301\n",
            "Epoch 102/500\n",
            "1/2 [==============>...............] - ETA: 0s - loss: 0.0158"
          ]
        },
        {
          "output_type": "stream",
          "name": "stderr",
          "text": [
            "WARNING:tensorflow:Early stopping conditioned on metric `value_loss` which is not available. Available metrics are: loss,val_loss\n"
          ]
        },
        {
          "output_type": "stream",
          "name": "stdout",
          "text": [
            "\b\b\b\b\b\b\b\b\b\b\b\b\b\b\b\b\b\b\b\b\b\b\b\b\b\b\b\b\b\b\b\b\b\b\b\b\b\b\b\b\b\b\b\b\b\b\b\b\b\b\b\b\b\b\b\b\b\b\b\b\b\r2/2 [==============================] - 0s 31ms/step - loss: 0.0271 - val_loss: 0.0317\n",
            "Epoch 103/500\n",
            "1/2 [==============>...............] - ETA: 0s - loss: 0.0259"
          ]
        },
        {
          "output_type": "stream",
          "name": "stderr",
          "text": [
            "WARNING:tensorflow:Early stopping conditioned on metric `value_loss` which is not available. Available metrics are: loss,val_loss\n"
          ]
        },
        {
          "output_type": "stream",
          "name": "stdout",
          "text": [
            "\b\b\b\b\b\b\b\b\b\b\b\b\b\b\b\b\b\b\b\b\b\b\b\b\b\b\b\b\b\b\b\b\b\b\b\b\b\b\b\b\b\b\b\b\b\b\b\b\b\b\b\b\b\b\b\b\b\b\b\b\b\r2/2 [==============================] - 0s 22ms/step - loss: 0.0297 - val_loss: 0.0294\n",
            "Epoch 104/500\n",
            "1/2 [==============>...............] - ETA: 0s - loss: 0.0357"
          ]
        },
        {
          "output_type": "stream",
          "name": "stderr",
          "text": [
            "WARNING:tensorflow:Early stopping conditioned on metric `value_loss` which is not available. Available metrics are: loss,val_loss\n"
          ]
        },
        {
          "output_type": "stream",
          "name": "stdout",
          "text": [
            "\b\b\b\b\b\b\b\b\b\b\b\b\b\b\b\b\b\b\b\b\b\b\b\b\b\b\b\b\b\b\b\b\b\b\b\b\b\b\b\b\b\b\b\b\b\b\b\b\b\b\b\b\b\b\b\b\b\b\b\b\b\r2/2 [==============================] - 0s 26ms/step - loss: 0.0274 - val_loss: 0.0287\n",
            "Epoch 105/500\n",
            "1/2 [==============>...............] - ETA: 0s - loss: 0.0344"
          ]
        },
        {
          "output_type": "stream",
          "name": "stderr",
          "text": [
            "WARNING:tensorflow:Early stopping conditioned on metric `value_loss` which is not available. Available metrics are: loss,val_loss\n"
          ]
        },
        {
          "output_type": "stream",
          "name": "stdout",
          "text": [
            "\b\b\b\b\b\b\b\b\b\b\b\b\b\b\b\b\b\b\b\b\b\b\b\b\b\b\b\b\b\b\b\b\b\b\b\b\b\b\b\b\b\b\b\b\b\b\b\b\b\b\b\b\b\b\b\b\b\b\b\b\b\r2/2 [==============================] - 0s 27ms/step - loss: 0.0287 - val_loss: 0.0303\n",
            "Epoch 106/500\n",
            "1/2 [==============>...............] - ETA: 0s - loss: 0.0168"
          ]
        },
        {
          "output_type": "stream",
          "name": "stderr",
          "text": [
            "WARNING:tensorflow:Early stopping conditioned on metric `value_loss` which is not available. Available metrics are: loss,val_loss\n"
          ]
        },
        {
          "output_type": "stream",
          "name": "stdout",
          "text": [
            "\b\b\b\b\b\b\b\b\b\b\b\b\b\b\b\b\b\b\b\b\b\b\b\b\b\b\b\b\b\b\b\b\b\b\b\b\b\b\b\b\b\b\b\b\b\b\b\b\b\b\b\b\b\b\b\b\b\b\b\b\b\r2/2 [==============================] - 0s 24ms/step - loss: 0.0298 - val_loss: 0.0293\n",
            "Epoch 107/500\n",
            "1/2 [==============>...............] - ETA: 0s - loss: 0.0416"
          ]
        },
        {
          "output_type": "stream",
          "name": "stderr",
          "text": [
            "WARNING:tensorflow:Early stopping conditioned on metric `value_loss` which is not available. Available metrics are: loss,val_loss\n"
          ]
        },
        {
          "output_type": "stream",
          "name": "stdout",
          "text": [
            "\b\b\b\b\b\b\b\b\b\b\b\b\b\b\b\b\b\b\b\b\b\b\b\b\b\b\b\b\b\b\b\b\b\b\b\b\b\b\b\b\b\b\b\b\b\b\b\b\b\b\b\b\b\b\b\b\b\b\b\b\b\r2/2 [==============================] - 0s 27ms/step - loss: 0.0268 - val_loss: 0.0339\n",
            "Epoch 108/500\n",
            "1/2 [==============>...............] - ETA: 0s - loss: 0.0386"
          ]
        },
        {
          "output_type": "stream",
          "name": "stderr",
          "text": [
            "WARNING:tensorflow:Early stopping conditioned on metric `value_loss` which is not available. Available metrics are: loss,val_loss\n"
          ]
        },
        {
          "output_type": "stream",
          "name": "stdout",
          "text": [
            "\b\b\b\b\b\b\b\b\b\b\b\b\b\b\b\b\b\b\b\b\b\b\b\b\b\b\b\b\b\b\b\b\b\b\b\b\b\b\b\b\b\b\b\b\b\b\b\b\b\b\b\b\b\b\b\b\b\b\b\b\b\r2/2 [==============================] - 0s 23ms/step - loss: 0.0252 - val_loss: 0.0361\n",
            "Epoch 109/500\n",
            "1/2 [==============>...............] - ETA: 0s - loss: 0.0159"
          ]
        },
        {
          "output_type": "stream",
          "name": "stderr",
          "text": [
            "WARNING:tensorflow:Early stopping conditioned on metric `value_loss` which is not available. Available metrics are: loss,val_loss\n"
          ]
        },
        {
          "output_type": "stream",
          "name": "stdout",
          "text": [
            "\b\b\b\b\b\b\b\b\b\b\b\b\b\b\b\b\b\b\b\b\b\b\b\b\b\b\b\b\b\b\b\b\b\b\b\b\b\b\b\b\b\b\b\b\b\b\b\b\b\b\b\b\b\b\b\b\b\b\b\b\b\r2/2 [==============================] - 0s 27ms/step - loss: 0.0275 - val_loss: 0.0326\n",
            "Epoch 110/500\n",
            "1/2 [==============>...............] - ETA: 0s - loss: 0.0395"
          ]
        },
        {
          "output_type": "stream",
          "name": "stderr",
          "text": [
            "WARNING:tensorflow:Early stopping conditioned on metric `value_loss` which is not available. Available metrics are: loss,val_loss\n"
          ]
        },
        {
          "output_type": "stream",
          "name": "stdout",
          "text": [
            "\b\b\b\b\b\b\b\b\b\b\b\b\b\b\b\b\b\b\b\b\b\b\b\b\b\b\b\b\b\b\b\b\b\b\b\b\b\b\b\b\b\b\b\b\b\b\b\b\b\b\b\b\b\b\b\b\b\b\b\b\b\r2/2 [==============================] - 0s 27ms/step - loss: 0.0252 - val_loss: 0.0246\n",
            "Epoch 111/500\n",
            "1/2 [==============>...............] - ETA: 0s - loss: 0.0350"
          ]
        },
        {
          "output_type": "stream",
          "name": "stderr",
          "text": [
            "WARNING:tensorflow:Early stopping conditioned on metric `value_loss` which is not available. Available metrics are: loss,val_loss\n"
          ]
        },
        {
          "output_type": "stream",
          "name": "stdout",
          "text": [
            "\b\b\b\b\b\b\b\b\b\b\b\b\b\b\b\b\b\b\b\b\b\b\b\b\b\b\b\b\b\b\b\b\b\b\b\b\b\b\b\b\b\b\b\b\b\b\b\b\b\b\b\b\b\b\b\b\b\b\b\b\b\r2/2 [==============================] - 0s 29ms/step - loss: 0.0282 - val_loss: 0.0232\n",
            "Epoch 112/500\n",
            "1/2 [==============>...............] - ETA: 0s - loss: 0.0377"
          ]
        },
        {
          "output_type": "stream",
          "name": "stderr",
          "text": [
            "WARNING:tensorflow:Early stopping conditioned on metric `value_loss` which is not available. Available metrics are: loss,val_loss\n"
          ]
        },
        {
          "output_type": "stream",
          "name": "stdout",
          "text": [
            "\b\b\b\b\b\b\b\b\b\b\b\b\b\b\b\b\b\b\b\b\b\b\b\b\b\b\b\b\b\b\b\b\b\b\b\b\b\b\b\b\b\b\b\b\b\b\b\b\b\b\b\b\b\b\b\b\b\b\b\b\b\r2/2 [==============================] - 0s 24ms/step - loss: 0.0287 - val_loss: 0.0316\n",
            "Epoch 113/500\n",
            "1/2 [==============>...............] - ETA: 0s - loss: 0.0391"
          ]
        },
        {
          "output_type": "stream",
          "name": "stderr",
          "text": [
            "WARNING:tensorflow:Early stopping conditioned on metric `value_loss` which is not available. Available metrics are: loss,val_loss\n"
          ]
        },
        {
          "output_type": "stream",
          "name": "stdout",
          "text": [
            "\b\b\b\b\b\b\b\b\b\b\b\b\b\b\b\b\b\b\b\b\b\b\b\b\b\b\b\b\b\b\b\b\b\b\b\b\b\b\b\b\b\b\b\b\b\b\b\b\b\b\b\b\b\b\b\b\b\b\b\b\b\r2/2 [==============================] - 0s 23ms/step - loss: 0.0285 - val_loss: 0.0406\n",
            "Epoch 114/500\n",
            "1/2 [==============>...............] - ETA: 0s - loss: 0.0410"
          ]
        },
        {
          "output_type": "stream",
          "name": "stderr",
          "text": [
            "WARNING:tensorflow:Early stopping conditioned on metric `value_loss` which is not available. Available metrics are: loss,val_loss\n"
          ]
        },
        {
          "output_type": "stream",
          "name": "stdout",
          "text": [
            "\b\b\b\b\b\b\b\b\b\b\b\b\b\b\b\b\b\b\b\b\b\b\b\b\b\b\b\b\b\b\b\b\b\b\b\b\b\b\b\b\b\b\b\b\b\b\b\b\b\b\b\b\b\b\b\b\b\b\b\b\b\r2/2 [==============================] - 0s 25ms/step - loss: 0.0287 - val_loss: 0.0357\n",
            "Epoch 115/500\n",
            "1/2 [==============>...............] - ETA: 0s - loss: 0.0452"
          ]
        },
        {
          "output_type": "stream",
          "name": "stderr",
          "text": [
            "WARNING:tensorflow:Early stopping conditioned on metric `value_loss` which is not available. Available metrics are: loss,val_loss\n"
          ]
        },
        {
          "output_type": "stream",
          "name": "stdout",
          "text": [
            "\b\b\b\b\b\b\b\b\b\b\b\b\b\b\b\b\b\b\b\b\b\b\b\b\b\b\b\b\b\b\b\b\b\b\b\b\b\b\b\b\b\b\b\b\b\b\b\b\b\b\b\b\b\b\b\b\b\b\b\b\b\r2/2 [==============================] - 0s 27ms/step - loss: 0.0293 - val_loss: 0.0292\n",
            "Epoch 116/500\n",
            "1/2 [==============>...............] - ETA: 0s - loss: 0.0146"
          ]
        },
        {
          "output_type": "stream",
          "name": "stderr",
          "text": [
            "WARNING:tensorflow:Early stopping conditioned on metric `value_loss` which is not available. Available metrics are: loss,val_loss\n"
          ]
        },
        {
          "output_type": "stream",
          "name": "stdout",
          "text": [
            "\b\b\b\b\b\b\b\b\b\b\b\b\b\b\b\b\b\b\b\b\b\b\b\b\b\b\b\b\b\b\b\b\b\b\b\b\b\b\b\b\b\b\b\b\b\b\b\b\b\b\b\b\b\b\b\b\b\b\b\b\b\r2/2 [==============================] - 0s 24ms/step - loss: 0.0270 - val_loss: 0.0280\n",
            "Epoch 117/500\n",
            "1/2 [==============>...............] - ETA: 0s - loss: 0.0350"
          ]
        },
        {
          "output_type": "stream",
          "name": "stderr",
          "text": [
            "WARNING:tensorflow:Early stopping conditioned on metric `value_loss` which is not available. Available metrics are: loss,val_loss\n"
          ]
        },
        {
          "output_type": "stream",
          "name": "stdout",
          "text": [
            "\b\b\b\b\b\b\b\b\b\b\b\b\b\b\b\b\b\b\b\b\b\b\b\b\b\b\b\b\b\b\b\b\b\b\b\b\b\b\b\b\b\b\b\b\b\b\b\b\b\b\b\b\b\b\b\b\b\b\b\b\b\r2/2 [==============================] - 0s 25ms/step - loss: 0.0273 - val_loss: 0.0292\n",
            "Epoch 118/500\n",
            "1/2 [==============>...............] - ETA: 0s - loss: 0.0269"
          ]
        },
        {
          "output_type": "stream",
          "name": "stderr",
          "text": [
            "WARNING:tensorflow:Early stopping conditioned on metric `value_loss` which is not available. Available metrics are: loss,val_loss\n"
          ]
        },
        {
          "output_type": "stream",
          "name": "stdout",
          "text": [
            "\b\b\b\b\b\b\b\b\b\b\b\b\b\b\b\b\b\b\b\b\b\b\b\b\b\b\b\b\b\b\b\b\b\b\b\b\b\b\b\b\b\b\b\b\b\b\b\b\b\b\b\b\b\b\b\b\b\b\b\b\b\r2/2 [==============================] - 0s 26ms/step - loss: 0.0290 - val_loss: 0.0289\n",
            "Epoch 119/500\n",
            "1/2 [==============>...............] - ETA: 0s - loss: 0.0352"
          ]
        },
        {
          "output_type": "stream",
          "name": "stderr",
          "text": [
            "WARNING:tensorflow:Early stopping conditioned on metric `value_loss` which is not available. Available metrics are: loss,val_loss\n"
          ]
        },
        {
          "output_type": "stream",
          "name": "stdout",
          "text": [
            "\b\b\b\b\b\b\b\b\b\b\b\b\b\b\b\b\b\b\b\b\b\b\b\b\b\b\b\b\b\b\b\b\b\b\b\b\b\b\b\b\b\b\b\b\b\b\b\b\b\b\b\b\b\b\b\b\b\b\b\b\b\r2/2 [==============================] - 0s 25ms/step - loss: 0.0271 - val_loss: 0.0280\n",
            "Epoch 120/500\n",
            "1/2 [==============>...............] - ETA: 0s - loss: 0.0097"
          ]
        },
        {
          "output_type": "stream",
          "name": "stderr",
          "text": [
            "WARNING:tensorflow:Early stopping conditioned on metric `value_loss` which is not available. Available metrics are: loss,val_loss\n"
          ]
        },
        {
          "output_type": "stream",
          "name": "stdout",
          "text": [
            "\b\b\b\b\b\b\b\b\b\b\b\b\b\b\b\b\b\b\b\b\b\b\b\b\b\b\b\b\b\b\b\b\b\b\b\b\b\b\b\b\b\b\b\b\b\b\b\b\b\b\b\b\b\b\b\b\b\b\b\b\b\r2/2 [==============================] - 0s 30ms/step - loss: 0.0294 - val_loss: 0.0380\n",
            "Epoch 121/500\n",
            "1/2 [==============>...............] - ETA: 0s - loss: 0.0236"
          ]
        },
        {
          "output_type": "stream",
          "name": "stderr",
          "text": [
            "WARNING:tensorflow:Early stopping conditioned on metric `value_loss` which is not available. Available metrics are: loss,val_loss\n"
          ]
        },
        {
          "output_type": "stream",
          "name": "stdout",
          "text": [
            "\b\b\b\b\b\b\b\b\b\b\b\b\b\b\b\b\b\b\b\b\b\b\b\b\b\b\b\b\b\b\b\b\b\b\b\b\b\b\b\b\b\b\b\b\b\b\b\b\b\b\b\b\b\b\b\b\b\b\b\b\b\r2/2 [==============================] - 0s 23ms/step - loss: 0.0290 - val_loss: 0.0330\n",
            "Epoch 122/500\n",
            "1/2 [==============>...............] - ETA: 0s - loss: 0.0225"
          ]
        },
        {
          "output_type": "stream",
          "name": "stderr",
          "text": [
            "WARNING:tensorflow:Early stopping conditioned on metric `value_loss` which is not available. Available metrics are: loss,val_loss\n"
          ]
        },
        {
          "output_type": "stream",
          "name": "stdout",
          "text": [
            "\b\b\b\b\b\b\b\b\b\b\b\b\b\b\b\b\b\b\b\b\b\b\b\b\b\b\b\b\b\b\b\b\b\b\b\b\b\b\b\b\b\b\b\b\b\b\b\b\b\b\b\b\b\b\b\b\b\b\b\b\b\r2/2 [==============================] - 0s 29ms/step - loss: 0.0277 - val_loss: 0.0219\n",
            "Epoch 123/500\n",
            "1/2 [==============>...............] - ETA: 0s - loss: 0.0400"
          ]
        },
        {
          "output_type": "stream",
          "name": "stderr",
          "text": [
            "WARNING:tensorflow:Early stopping conditioned on metric `value_loss` which is not available. Available metrics are: loss,val_loss\n"
          ]
        },
        {
          "output_type": "stream",
          "name": "stdout",
          "text": [
            "\b\b\b\b\b\b\b\b\b\b\b\b\b\b\b\b\b\b\b\b\b\b\b\b\b\b\b\b\b\b\b\b\b\b\b\b\b\b\b\b\b\b\b\b\b\b\b\b\b\b\b\b\b\b\b\b\b\b\b\b\b\r2/2 [==============================] - 0s 32ms/step - loss: 0.0262 - val_loss: 0.0245\n",
            "Epoch 124/500\n",
            "1/2 [==============>...............] - ETA: 0s - loss: 0.0381"
          ]
        },
        {
          "output_type": "stream",
          "name": "stderr",
          "text": [
            "WARNING:tensorflow:Early stopping conditioned on metric `value_loss` which is not available. Available metrics are: loss,val_loss\n"
          ]
        },
        {
          "output_type": "stream",
          "name": "stdout",
          "text": [
            "\b\b\b\b\b\b\b\b\b\b\b\b\b\b\b\b\b\b\b\b\b\b\b\b\b\b\b\b\b\b\b\b\b\b\b\b\b\b\b\b\b\b\b\b\b\b\b\b\b\b\b\b\b\b\b\b\b\b\b\b\b\r2/2 [==============================] - 0s 24ms/step - loss: 0.0300 - val_loss: 0.0347\n",
            "Epoch 125/500\n",
            "1/2 [==============>...............] - ETA: 0s - loss: 0.0297"
          ]
        },
        {
          "output_type": "stream",
          "name": "stderr",
          "text": [
            "WARNING:tensorflow:Early stopping conditioned on metric `value_loss` which is not available. Available metrics are: loss,val_loss\n"
          ]
        },
        {
          "output_type": "stream",
          "name": "stdout",
          "text": [
            "\b\b\b\b\b\b\b\b\b\b\b\b\b\b\b\b\b\b\b\b\b\b\b\b\b\b\b\b\b\b\b\b\b\b\b\b\b\b\b\b\b\b\b\b\b\b\b\b\b\b\b\b\b\b\b\b\b\b\b\b\b\r2/2 [==============================] - 0s 49ms/step - loss: 0.0252 - val_loss: 0.0387\n",
            "Epoch 126/500\n",
            "1/2 [==============>...............] - ETA: 0s - loss: 0.0390"
          ]
        },
        {
          "output_type": "stream",
          "name": "stderr",
          "text": [
            "WARNING:tensorflow:Early stopping conditioned on metric `value_loss` which is not available. Available metrics are: loss,val_loss\n"
          ]
        },
        {
          "output_type": "stream",
          "name": "stdout",
          "text": [
            "\b\b\b\b\b\b\b\b\b\b\b\b\b\b\b\b\b\b\b\b\b\b\b\b\b\b\b\b\b\b\b\b\b\b\b\b\b\b\b\b\b\b\b\b\b\b\b\b\b\b\b\b\b\b\b\b\b\b\b\b\b\r2/2 [==============================] - 0s 26ms/step - loss: 0.0285 - val_loss: 0.0334\n",
            "Epoch 127/500\n",
            "1/2 [==============>...............] - ETA: 0s - loss: 0.0502"
          ]
        },
        {
          "output_type": "stream",
          "name": "stderr",
          "text": [
            "WARNING:tensorflow:Early stopping conditioned on metric `value_loss` which is not available. Available metrics are: loss,val_loss\n"
          ]
        },
        {
          "output_type": "stream",
          "name": "stdout",
          "text": [
            "\b\b\b\b\b\b\b\b\b\b\b\b\b\b\b\b\b\b\b\b\b\b\b\b\b\b\b\b\b\b\b\b\b\b\b\b\b\b\b\b\b\b\b\b\b\b\b\b\b\b\b\b\b\b\b\b\b\b\b\b\b\r2/2 [==============================] - 0s 31ms/step - loss: 0.0303 - val_loss: 0.0224\n",
            "Epoch 128/500\n",
            "1/2 [==============>...............] - ETA: 0s - loss: 0.0075"
          ]
        },
        {
          "output_type": "stream",
          "name": "stderr",
          "text": [
            "WARNING:tensorflow:Early stopping conditioned on metric `value_loss` which is not available. Available metrics are: loss,val_loss\n"
          ]
        },
        {
          "output_type": "stream",
          "name": "stdout",
          "text": [
            "\b\b\b\b\b\b\b\b\b\b\b\b\b\b\b\b\b\b\b\b\b\b\b\b\b\b\b\b\b\b\b\b\b\b\b\b\b\b\b\b\b\b\b\b\b\b\b\b\b\b\b\b\b\b\b\b\b\b\b\b\b\r2/2 [==============================] - 0s 24ms/step - loss: 0.0296 - val_loss: 0.0232\n",
            "Epoch 129/500\n",
            "1/2 [==============>...............] - ETA: 0s - loss: 0.0249"
          ]
        },
        {
          "output_type": "stream",
          "name": "stderr",
          "text": [
            "WARNING:tensorflow:Early stopping conditioned on metric `value_loss` which is not available. Available metrics are: loss,val_loss\n"
          ]
        },
        {
          "output_type": "stream",
          "name": "stdout",
          "text": [
            "\b\b\b\b\b\b\b\b\b\b\b\b\b\b\b\b\b\b\b\b\b\b\b\b\b\b\b\b\b\b\b\b\b\b\b\b\b\b\b\b\b\b\b\b\b\b\b\b\b\b\b\b\b\b\b\b\b\b\b\b\b\r2/2 [==============================] - 0s 26ms/step - loss: 0.0282 - val_loss: 0.0309\n",
            "Epoch 130/500\n",
            "1/2 [==============>...............] - ETA: 0s - loss: 0.0300"
          ]
        },
        {
          "output_type": "stream",
          "name": "stderr",
          "text": [
            "WARNING:tensorflow:Early stopping conditioned on metric `value_loss` which is not available. Available metrics are: loss,val_loss\n"
          ]
        },
        {
          "output_type": "stream",
          "name": "stdout",
          "text": [
            "\b\b\b\b\b\b\b\b\b\b\b\b\b\b\b\b\b\b\b\b\b\b\b\b\b\b\b\b\b\b\b\b\b\b\b\b\b\b\b\b\b\b\b\b\b\b\b\b\b\b\b\b\b\b\b\b\b\b\b\b\b\r2/2 [==============================] - 0s 25ms/step - loss: 0.0266 - val_loss: 0.0367\n",
            "Epoch 131/500\n",
            "1/2 [==============>...............] - ETA: 0s - loss: 0.0071"
          ]
        },
        {
          "output_type": "stream",
          "name": "stderr",
          "text": [
            "WARNING:tensorflow:Early stopping conditioned on metric `value_loss` which is not available. Available metrics are: loss,val_loss\n"
          ]
        },
        {
          "output_type": "stream",
          "name": "stdout",
          "text": [
            "\b\b\b\b\b\b\b\b\b\b\b\b\b\b\b\b\b\b\b\b\b\b\b\b\b\b\b\b\b\b\b\b\b\b\b\b\b\b\b\b\b\b\b\b\b\b\b\b\b\b\b\b\b\b\b\b\b\b\b\b\b\r2/2 [==============================] - 0s 27ms/step - loss: 0.0290 - val_loss: 0.0321\n",
            "Epoch 132/500\n",
            "1/2 [==============>...............] - ETA: 0s - loss: 0.0303"
          ]
        },
        {
          "output_type": "stream",
          "name": "stderr",
          "text": [
            "WARNING:tensorflow:Early stopping conditioned on metric `value_loss` which is not available. Available metrics are: loss,val_loss\n"
          ]
        },
        {
          "output_type": "stream",
          "name": "stdout",
          "text": [
            "\b\b\b\b\b\b\b\b\b\b\b\b\b\b\b\b\b\b\b\b\b\b\b\b\b\b\b\b\b\b\b\b\b\b\b\b\b\b\b\b\b\b\b\b\b\b\b\b\b\b\b\b\b\b\b\b\b\b\b\b\b\r2/2 [==============================] - 0s 24ms/step - loss: 0.0287 - val_loss: 0.0240\n",
            "Epoch 133/500\n",
            "1/2 [==============>...............] - ETA: 0s - loss: 0.0358"
          ]
        },
        {
          "output_type": "stream",
          "name": "stderr",
          "text": [
            "WARNING:tensorflow:Early stopping conditioned on metric `value_loss` which is not available. Available metrics are: loss,val_loss\n"
          ]
        },
        {
          "output_type": "stream",
          "name": "stdout",
          "text": [
            "\b\b\b\b\b\b\b\b\b\b\b\b\b\b\b\b\b\b\b\b\b\b\b\b\b\b\b\b\b\b\b\b\b\b\b\b\b\b\b\b\b\b\b\b\b\b\b\b\b\b\b\b\b\b\b\b\b\b\b\b\b\r2/2 [==============================] - 0s 29ms/step - loss: 0.0288 - val_loss: 0.0289\n",
            "Epoch 134/500\n",
            "1/2 [==============>...............] - ETA: 0s - loss: 0.0216"
          ]
        },
        {
          "output_type": "stream",
          "name": "stderr",
          "text": [
            "WARNING:tensorflow:Early stopping conditioned on metric `value_loss` which is not available. Available metrics are: loss,val_loss\n"
          ]
        },
        {
          "output_type": "stream",
          "name": "stdout",
          "text": [
            "\b\b\b\b\b\b\b\b\b\b\b\b\b\b\b\b\b\b\b\b\b\b\b\b\b\b\b\b\b\b\b\b\b\b\b\b\b\b\b\b\b\b\b\b\b\b\b\b\b\b\b\b\b\b\b\b\b\b\b\b\b\r2/2 [==============================] - 0s 41ms/step - loss: 0.0277 - val_loss: 0.0368\n",
            "Epoch 135/500\n",
            "1/2 [==============>...............] - ETA: 0s - loss: 0.0377"
          ]
        },
        {
          "output_type": "stream",
          "name": "stderr",
          "text": [
            "WARNING:tensorflow:Early stopping conditioned on metric `value_loss` which is not available. Available metrics are: loss,val_loss\n"
          ]
        },
        {
          "output_type": "stream",
          "name": "stdout",
          "text": [
            "\b\b\b\b\b\b\b\b\b\b\b\b\b\b\b\b\b\b\b\b\b\b\b\b\b\b\b\b\b\b\b\b\b\b\b\b\b\b\b\b\b\b\b\b\b\b\b\b\b\b\b\b\b\b\b\b\b\b\b\b\b\r2/2 [==============================] - 0s 31ms/step - loss: 0.0277 - val_loss: 0.0327\n",
            "Epoch 136/500\n",
            "1/2 [==============>...............] - ETA: 0s - loss: 0.0289"
          ]
        },
        {
          "output_type": "stream",
          "name": "stderr",
          "text": [
            "WARNING:tensorflow:Early stopping conditioned on metric `value_loss` which is not available. Available metrics are: loss,val_loss\n"
          ]
        },
        {
          "output_type": "stream",
          "name": "stdout",
          "text": [
            "\b\b\b\b\b\b\b\b\b\b\b\b\b\b\b\b\b\b\b\b\b\b\b\b\b\b\b\b\b\b\b\b\b\b\b\b\b\b\b\b\b\b\b\b\b\b\b\b\b\b\b\b\b\b\b\b\b\b\b\b\b\r2/2 [==============================] - 0s 29ms/step - loss: 0.0279 - val_loss: 0.0250\n",
            "Epoch 137/500\n",
            "1/2 [==============>...............] - ETA: 0s - loss: 0.0083"
          ]
        },
        {
          "output_type": "stream",
          "name": "stderr",
          "text": [
            "WARNING:tensorflow:Early stopping conditioned on metric `value_loss` which is not available. Available metrics are: loss,val_loss\n"
          ]
        },
        {
          "output_type": "stream",
          "name": "stdout",
          "text": [
            "\b\b\b\b\b\b\b\b\b\b\b\b\b\b\b\b\b\b\b\b\b\b\b\b\b\b\b\b\b\b\b\b\b\b\b\b\b\b\b\b\b\b\b\b\b\b\b\b\b\b\b\b\b\b\b\b\b\b\b\b\b\r2/2 [==============================] - 0s 34ms/step - loss: 0.0282 - val_loss: 0.0257\n",
            "Epoch 138/500\n",
            "1/2 [==============>...............] - ETA: 0s - loss: 0.0162"
          ]
        },
        {
          "output_type": "stream",
          "name": "stderr",
          "text": [
            "WARNING:tensorflow:Early stopping conditioned on metric `value_loss` which is not available. Available metrics are: loss,val_loss\n"
          ]
        },
        {
          "output_type": "stream",
          "name": "stdout",
          "text": [
            "\b\b\b\b\b\b\b\b\b\b\b\b\b\b\b\b\b\b\b\b\b\b\b\b\b\b\b\b\b\b\b\b\b\b\b\b\b\b\b\b\b\b\b\b\b\b\b\b\b\b\b\b\b\b\b\b\b\b\b\b\b\r2/2 [==============================] - 0s 28ms/step - loss: 0.0261 - val_loss: 0.0271\n",
            "Epoch 139/500\n",
            "1/2 [==============>...............] - ETA: 0s - loss: 0.0354"
          ]
        },
        {
          "output_type": "stream",
          "name": "stderr",
          "text": [
            "WARNING:tensorflow:Early stopping conditioned on metric `value_loss` which is not available. Available metrics are: loss,val_loss\n"
          ]
        },
        {
          "output_type": "stream",
          "name": "stdout",
          "text": [
            "\b\b\b\b\b\b\b\b\b\b\b\b\b\b\b\b\b\b\b\b\b\b\b\b\b\b\b\b\b\b\b\b\b\b\b\b\b\b\b\b\b\b\b\b\b\b\b\b\b\b\b\b\b\b\b\b\b\b\b\b\b\r2/2 [==============================] - 0s 27ms/step - loss: 0.0269 - val_loss: 0.0328\n",
            "Epoch 140/500\n",
            "1/2 [==============>...............] - ETA: 0s - loss: 0.0375"
          ]
        },
        {
          "output_type": "stream",
          "name": "stderr",
          "text": [
            "WARNING:tensorflow:Early stopping conditioned on metric `value_loss` which is not available. Available metrics are: loss,val_loss\n"
          ]
        },
        {
          "output_type": "stream",
          "name": "stdout",
          "text": [
            "\b\b\b\b\b\b\b\b\b\b\b\b\b\b\b\b\b\b\b\b\b\b\b\b\b\b\b\b\b\b\b\b\b\b\b\b\b\b\b\b\b\b\b\b\b\b\b\b\b\b\b\b\b\b\b\b\b\b\b\b\b\r2/2 [==============================] - 0s 27ms/step - loss: 0.0285 - val_loss: 0.0343\n",
            "Epoch 141/500\n",
            "1/2 [==============>...............] - ETA: 0s - loss: 0.0254"
          ]
        },
        {
          "output_type": "stream",
          "name": "stderr",
          "text": [
            "WARNING:tensorflow:Early stopping conditioned on metric `value_loss` which is not available. Available metrics are: loss,val_loss\n"
          ]
        },
        {
          "output_type": "stream",
          "name": "stdout",
          "text": [
            "\b\b\b\b\b\b\b\b\b\b\b\b\b\b\b\b\b\b\b\b\b\b\b\b\b\b\b\b\b\b\b\b\b\b\b\b\b\b\b\b\b\b\b\b\b\b\b\b\b\b\b\b\b\b\b\b\b\b\b\b\b\r2/2 [==============================] - 0s 26ms/step - loss: 0.0278 - val_loss: 0.0312\n",
            "Epoch 142/500\n",
            "1/2 [==============>...............] - ETA: 0s - loss: 0.0275"
          ]
        },
        {
          "output_type": "stream",
          "name": "stderr",
          "text": [
            "WARNING:tensorflow:Early stopping conditioned on metric `value_loss` which is not available. Available metrics are: loss,val_loss\n"
          ]
        },
        {
          "output_type": "stream",
          "name": "stdout",
          "text": [
            "\b\b\b\b\b\b\b\b\b\b\b\b\b\b\b\b\b\b\b\b\b\b\b\b\b\b\b\b\b\b\b\b\b\b\b\b\b\b\b\b\b\b\b\b\b\b\b\b\b\b\b\b\b\b\b\b\b\b\b\b\b\r2/2 [==============================] - 0s 33ms/step - loss: 0.0254 - val_loss: 0.0249\n",
            "Epoch 143/500\n",
            "1/2 [==============>...............] - ETA: 0s - loss: 0.0276"
          ]
        },
        {
          "output_type": "stream",
          "name": "stderr",
          "text": [
            "WARNING:tensorflow:Early stopping conditioned on metric `value_loss` which is not available. Available metrics are: loss,val_loss\n"
          ]
        },
        {
          "output_type": "stream",
          "name": "stdout",
          "text": [
            "\b\b\b\b\b\b\b\b\b\b\b\b\b\b\b\b\b\b\b\b\b\b\b\b\b\b\b\b\b\b\b\b\b\b\b\b\b\b\b\b\b\b\b\b\b\b\b\b\b\b\b\b\b\b\b\b\b\b\b\b\b\r2/2 [==============================] - 0s 27ms/step - loss: 0.0281 - val_loss: 0.0291\n",
            "Epoch 144/500\n",
            "1/2 [==============>...............] - ETA: 0s - loss: 0.0325"
          ]
        },
        {
          "output_type": "stream",
          "name": "stderr",
          "text": [
            "WARNING:tensorflow:Early stopping conditioned on metric `value_loss` which is not available. Available metrics are: loss,val_loss\n"
          ]
        },
        {
          "output_type": "stream",
          "name": "stdout",
          "text": [
            "\b\b\b\b\b\b\b\b\b\b\b\b\b\b\b\b\b\b\b\b\b\b\b\b\b\b\b\b\b\b\b\b\b\b\b\b\b\b\b\b\b\b\b\b\b\b\b\b\b\b\b\b\b\b\b\b\b\b\b\b\b\r2/2 [==============================] - 0s 24ms/step - loss: 0.0242 - val_loss: 0.0364\n",
            "Epoch 145/500\n",
            "1/2 [==============>...............] - ETA: 0s - loss: 0.0106"
          ]
        },
        {
          "output_type": "stream",
          "name": "stderr",
          "text": [
            "WARNING:tensorflow:Early stopping conditioned on metric `value_loss` which is not available. Available metrics are: loss,val_loss\n"
          ]
        },
        {
          "output_type": "stream",
          "name": "stdout",
          "text": [
            "\b\b\b\b\b\b\b\b\b\b\b\b\b\b\b\b\b\b\b\b\b\b\b\b\b\b\b\b\b\b\b\b\b\b\b\b\b\b\b\b\b\b\b\b\b\b\b\b\b\b\b\b\b\b\b\b\b\b\b\b\b\r2/2 [==============================] - 0s 28ms/step - loss: 0.0279 - val_loss: 0.0396\n",
            "Epoch 146/500\n",
            "1/2 [==============>...............] - ETA: 0s - loss: 0.0463"
          ]
        },
        {
          "output_type": "stream",
          "name": "stderr",
          "text": [
            "WARNING:tensorflow:Early stopping conditioned on metric `value_loss` which is not available. Available metrics are: loss,val_loss\n"
          ]
        },
        {
          "output_type": "stream",
          "name": "stdout",
          "text": [
            "\b\b\b\b\b\b\b\b\b\b\b\b\b\b\b\b\b\b\b\b\b\b\b\b\b\b\b\b\b\b\b\b\b\b\b\b\b\b\b\b\b\b\b\b\b\b\b\b\b\b\b\b\b\b\b\b\b\b\b\b\b\r2/2 [==============================] - 0s 31ms/step - loss: 0.0280 - val_loss: 0.0347\n",
            "Epoch 147/500\n",
            "1/2 [==============>...............] - ETA: 0s - loss: 0.0365"
          ]
        },
        {
          "output_type": "stream",
          "name": "stderr",
          "text": [
            "WARNING:tensorflow:Early stopping conditioned on metric `value_loss` which is not available. Available metrics are: loss,val_loss\n"
          ]
        },
        {
          "output_type": "stream",
          "name": "stdout",
          "text": [
            "\b\b\b\b\b\b\b\b\b\b\b\b\b\b\b\b\b\b\b\b\b\b\b\b\b\b\b\b\b\b\b\b\b\b\b\b\b\b\b\b\b\b\b\b\b\b\b\b\b\b\b\b\b\b\b\b\b\b\b\b\b\r2/2 [==============================] - 0s 25ms/step - loss: 0.0255 - val_loss: 0.0332\n",
            "Epoch 148/500\n",
            "1/2 [==============>...............] - ETA: 0s - loss: 0.0459"
          ]
        },
        {
          "output_type": "stream",
          "name": "stderr",
          "text": [
            "WARNING:tensorflow:Early stopping conditioned on metric `value_loss` which is not available. Available metrics are: loss,val_loss\n"
          ]
        },
        {
          "output_type": "stream",
          "name": "stdout",
          "text": [
            "\b\b\b\b\b\b\b\b\b\b\b\b\b\b\b\b\b\b\b\b\b\b\b\b\b\b\b\b\b\b\b\b\b\b\b\b\b\b\b\b\b\b\b\b\b\b\b\b\b\b\b\b\b\b\b\b\b\b\b\b\b\r2/2 [==============================] - 0s 29ms/step - loss: 0.0282 - val_loss: 0.0302\n",
            "Epoch 149/500\n",
            "1/2 [==============>...............] - ETA: 0s - loss: 0.0400"
          ]
        },
        {
          "output_type": "stream",
          "name": "stderr",
          "text": [
            "WARNING:tensorflow:Early stopping conditioned on metric `value_loss` which is not available. Available metrics are: loss,val_loss\n"
          ]
        },
        {
          "output_type": "stream",
          "name": "stdout",
          "text": [
            "\b\b\b\b\b\b\b\b\b\b\b\b\b\b\b\b\b\b\b\b\b\b\b\b\b\b\b\b\b\b\b\b\b\b\b\b\b\b\b\b\b\b\b\b\b\b\b\b\b\b\b\b\b\b\b\b\b\b\b\b\b\r2/2 [==============================] - 0s 26ms/step - loss: 0.0272 - val_loss: 0.0333\n",
            "Epoch 150/500\n",
            "1/2 [==============>...............] - ETA: 0s - loss: 0.0384"
          ]
        },
        {
          "output_type": "stream",
          "name": "stderr",
          "text": [
            "WARNING:tensorflow:Early stopping conditioned on metric `value_loss` which is not available. Available metrics are: loss,val_loss\n"
          ]
        },
        {
          "output_type": "stream",
          "name": "stdout",
          "text": [
            "\b\b\b\b\b\b\b\b\b\b\b\b\b\b\b\b\b\b\b\b\b\b\b\b\b\b\b\b\b\b\b\b\b\b\b\b\b\b\b\b\b\b\b\b\b\b\b\b\b\b\b\b\b\b\b\b\b\b\b\b\b\r2/2 [==============================] - 0s 26ms/step - loss: 0.0261 - val_loss: 0.0375\n",
            "Epoch 151/500\n",
            "1/2 [==============>...............] - ETA: 0s - loss: 0.0378"
          ]
        },
        {
          "output_type": "stream",
          "name": "stderr",
          "text": [
            "WARNING:tensorflow:Early stopping conditioned on metric `value_loss` which is not available. Available metrics are: loss,val_loss\n"
          ]
        },
        {
          "output_type": "stream",
          "name": "stdout",
          "text": [
            "\b\b\b\b\b\b\b\b\b\b\b\b\b\b\b\b\b\b\b\b\b\b\b\b\b\b\b\b\b\b\b\b\b\b\b\b\b\b\b\b\b\b\b\b\b\b\b\b\b\b\b\b\b\b\b\b\b\b\b\b\b\r2/2 [==============================] - 0s 30ms/step - loss: 0.0305 - val_loss: 0.0311\n",
            "Epoch 152/500\n",
            "1/2 [==============>...............] - ETA: 0s - loss: 0.0090"
          ]
        },
        {
          "output_type": "stream",
          "name": "stderr",
          "text": [
            "WARNING:tensorflow:Early stopping conditioned on metric `value_loss` which is not available. Available metrics are: loss,val_loss\n"
          ]
        },
        {
          "output_type": "stream",
          "name": "stdout",
          "text": [
            "\b\b\b\b\b\b\b\b\b\b\b\b\b\b\b\b\b\b\b\b\b\b\b\b\b\b\b\b\b\b\b\b\b\b\b\b\b\b\b\b\b\b\b\b\b\b\b\b\b\b\b\b\b\b\b\b\b\b\b\b\b\r2/2 [==============================] - 0s 45ms/step - loss: 0.0270 - val_loss: 0.0227\n",
            "Epoch 153/500\n",
            "1/2 [==============>...............] - ETA: 0s - loss: 0.0189"
          ]
        },
        {
          "output_type": "stream",
          "name": "stderr",
          "text": [
            "WARNING:tensorflow:Early stopping conditioned on metric `value_loss` which is not available. Available metrics are: loss,val_loss\n"
          ]
        },
        {
          "output_type": "stream",
          "name": "stdout",
          "text": [
            "\b\b\b\b\b\b\b\b\b\b\b\b\b\b\b\b\b\b\b\b\b\b\b\b\b\b\b\b\b\b\b\b\b\b\b\b\b\b\b\b\b\b\b\b\b\b\b\b\b\b\b\b\b\b\b\b\b\b\b\b\b\r2/2 [==============================] - 0s 25ms/step - loss: 0.0292 - val_loss: 0.0332\n",
            "Epoch 154/500\n",
            "1/2 [==============>...............] - ETA: 0s - loss: 0.0283"
          ]
        },
        {
          "output_type": "stream",
          "name": "stderr",
          "text": [
            "WARNING:tensorflow:Early stopping conditioned on metric `value_loss` which is not available. Available metrics are: loss,val_loss\n"
          ]
        },
        {
          "output_type": "stream",
          "name": "stdout",
          "text": [
            "\b\b\b\b\b\b\b\b\b\b\b\b\b\b\b\b\b\b\b\b\b\b\b\b\b\b\b\b\b\b\b\b\b\b\b\b\b\b\b\b\b\b\b\b\b\b\b\b\b\b\b\b\b\b\b\b\b\b\b\b\b\r2/2 [==============================] - 0s 27ms/step - loss: 0.0286 - val_loss: 0.0429\n",
            "Epoch 155/500\n",
            "1/2 [==============>...............] - ETA: 0s - loss: 0.0328"
          ]
        },
        {
          "output_type": "stream",
          "name": "stderr",
          "text": [
            "WARNING:tensorflow:Early stopping conditioned on metric `value_loss` which is not available. Available metrics are: loss,val_loss\n"
          ]
        },
        {
          "output_type": "stream",
          "name": "stdout",
          "text": [
            "\b\b\b\b\b\b\b\b\b\b\b\b\b\b\b\b\b\b\b\b\b\b\b\b\b\b\b\b\b\b\b\b\b\b\b\b\b\b\b\b\b\b\b\b\b\b\b\b\b\b\b\b\b\b\b\b\b\b\b\b\b\r2/2 [==============================] - 0s 30ms/step - loss: 0.0275 - val_loss: 0.0350\n",
            "Epoch 156/500\n",
            "1/2 [==============>...............] - ETA: 0s - loss: 0.0367"
          ]
        },
        {
          "output_type": "stream",
          "name": "stderr",
          "text": [
            "WARNING:tensorflow:Early stopping conditioned on metric `value_loss` which is not available. Available metrics are: loss,val_loss\n"
          ]
        },
        {
          "output_type": "stream",
          "name": "stdout",
          "text": [
            "\b\b\b\b\b\b\b\b\b\b\b\b\b\b\b\b\b\b\b\b\b\b\b\b\b\b\b\b\b\b\b\b\b\b\b\b\b\b\b\b\b\b\b\b\b\b\b\b\b\b\b\b\b\b\b\b\b\b\b\b\b\r2/2 [==============================] - 0s 29ms/step - loss: 0.0277 - val_loss: 0.0228\n",
            "Epoch 157/500\n",
            "1/2 [==============>...............] - ETA: 0s - loss: 0.0368"
          ]
        },
        {
          "output_type": "stream",
          "name": "stderr",
          "text": [
            "WARNING:tensorflow:Early stopping conditioned on metric `value_loss` which is not available. Available metrics are: loss,val_loss\n"
          ]
        },
        {
          "output_type": "stream",
          "name": "stdout",
          "text": [
            "\b\b\b\b\b\b\b\b\b\b\b\b\b\b\b\b\b\b\b\b\b\b\b\b\b\b\b\b\b\b\b\b\b\b\b\b\b\b\b\b\b\b\b\b\b\b\b\b\b\b\b\b\b\b\b\b\b\b\b\b\b\r2/2 [==============================] - 0s 26ms/step - loss: 0.0250 - val_loss: 0.0234\n",
            "Epoch 158/500\n",
            "1/2 [==============>...............] - ETA: 0s - loss: 0.0341"
          ]
        },
        {
          "output_type": "stream",
          "name": "stderr",
          "text": [
            "WARNING:tensorflow:Early stopping conditioned on metric `value_loss` which is not available. Available metrics are: loss,val_loss\n"
          ]
        },
        {
          "output_type": "stream",
          "name": "stdout",
          "text": [
            "\b\b\b\b\b\b\b\b\b\b\b\b\b\b\b\b\b\b\b\b\b\b\b\b\b\b\b\b\b\b\b\b\b\b\b\b\b\b\b\b\b\b\b\b\b\b\b\b\b\b\b\b\b\b\b\b\b\b\b\b\b\r2/2 [==============================] - 0s 29ms/step - loss: 0.0240 - val_loss: 0.0315\n",
            "Epoch 159/500\n",
            "1/2 [==============>...............] - ETA: 0s - loss: 0.0241"
          ]
        },
        {
          "output_type": "stream",
          "name": "stderr",
          "text": [
            "WARNING:tensorflow:Early stopping conditioned on metric `value_loss` which is not available. Available metrics are: loss,val_loss\n"
          ]
        },
        {
          "output_type": "stream",
          "name": "stdout",
          "text": [
            "\b\b\b\b\b\b\b\b\b\b\b\b\b\b\b\b\b\b\b\b\b\b\b\b\b\b\b\b\b\b\b\b\b\b\b\b\b\b\b\b\b\b\b\b\b\b\b\b\b\b\b\b\b\b\b\b\b\b\b\b\b\r2/2 [==============================] - 0s 28ms/step - loss: 0.0261 - val_loss: 0.0380\n",
            "Epoch 160/500\n",
            "1/2 [==============>...............] - ETA: 0s - loss: 0.0213"
          ]
        },
        {
          "output_type": "stream",
          "name": "stderr",
          "text": [
            "WARNING:tensorflow:Early stopping conditioned on metric `value_loss` which is not available. Available metrics are: loss,val_loss\n"
          ]
        },
        {
          "output_type": "stream",
          "name": "stdout",
          "text": [
            "\b\b\b\b\b\b\b\b\b\b\b\b\b\b\b\b\b\b\b\b\b\b\b\b\b\b\b\b\b\b\b\b\b\b\b\b\b\b\b\b\b\b\b\b\b\b\b\b\b\b\b\b\b\b\b\b\b\b\b\b\b\r2/2 [==============================] - 0s 29ms/step - loss: 0.0280 - val_loss: 0.0319\n",
            "Epoch 161/500\n",
            "1/2 [==============>...............] - ETA: 0s - loss: 0.0113"
          ]
        },
        {
          "output_type": "stream",
          "name": "stderr",
          "text": [
            "WARNING:tensorflow:Early stopping conditioned on metric `value_loss` which is not available. Available metrics are: loss,val_loss\n"
          ]
        },
        {
          "output_type": "stream",
          "name": "stdout",
          "text": [
            "\b\b\b\b\b\b\b\b\b\b\b\b\b\b\b\b\b\b\b\b\b\b\b\b\b\b\b\b\b\b\b\b\b\b\b\b\b\b\b\b\b\b\b\b\b\b\b\b\b\b\b\b\b\b\b\b\b\b\b\b\b\r2/2 [==============================] - 0s 27ms/step - loss: 0.0233 - val_loss: 0.0267\n",
            "Epoch 162/500\n",
            "1/2 [==============>...............] - ETA: 0s - loss: 0.0352"
          ]
        },
        {
          "output_type": "stream",
          "name": "stderr",
          "text": [
            "WARNING:tensorflow:Early stopping conditioned on metric `value_loss` which is not available. Available metrics are: loss,val_loss\n"
          ]
        },
        {
          "output_type": "stream",
          "name": "stdout",
          "text": [
            "\b\b\b\b\b\b\b\b\b\b\b\b\b\b\b\b\b\b\b\b\b\b\b\b\b\b\b\b\b\b\b\b\b\b\b\b\b\b\b\b\b\b\b\b\b\b\b\b\b\b\b\b\b\b\b\b\b\b\b\b\b\r2/2 [==============================] - 0s 40ms/step - loss: 0.0299 - val_loss: 0.0299\n",
            "Epoch 163/500\n",
            "1/2 [==============>...............] - ETA: 0s - loss: 0.0365"
          ]
        },
        {
          "output_type": "stream",
          "name": "stderr",
          "text": [
            "WARNING:tensorflow:Early stopping conditioned on metric `value_loss` which is not available. Available metrics are: loss,val_loss\n"
          ]
        },
        {
          "output_type": "stream",
          "name": "stdout",
          "text": [
            "\b\b\b\b\b\b\b\b\b\b\b\b\b\b\b\b\b\b\b\b\b\b\b\b\b\b\b\b\b\b\b\b\b\b\b\b\b\b\b\b\b\b\b\b\b\b\b\b\b\b\b\b\b\b\b\b\b\b\b\b\b\r2/2 [==============================] - 0s 30ms/step - loss: 0.0261 - val_loss: 0.0321\n",
            "Epoch 164/500\n",
            "1/2 [==============>...............] - ETA: 0s - loss: 0.0241"
          ]
        },
        {
          "output_type": "stream",
          "name": "stderr",
          "text": [
            "WARNING:tensorflow:Early stopping conditioned on metric `value_loss` which is not available. Available metrics are: loss,val_loss\n"
          ]
        },
        {
          "output_type": "stream",
          "name": "stdout",
          "text": [
            "\b\b\b\b\b\b\b\b\b\b\b\b\b\b\b\b\b\b\b\b\b\b\b\b\b\b\b\b\b\b\b\b\b\b\b\b\b\b\b\b\b\b\b\b\b\b\b\b\b\b\b\b\b\b\b\b\b\b\b\b\b\r2/2 [==============================] - 0s 27ms/step - loss: 0.0233 - val_loss: 0.0334\n",
            "Epoch 165/500\n",
            "1/2 [==============>...............] - ETA: 0s - loss: 0.0403"
          ]
        },
        {
          "output_type": "stream",
          "name": "stderr",
          "text": [
            "WARNING:tensorflow:Early stopping conditioned on metric `value_loss` which is not available. Available metrics are: loss,val_loss\n"
          ]
        },
        {
          "output_type": "stream",
          "name": "stdout",
          "text": [
            "\b\b\b\b\b\b\b\b\b\b\b\b\b\b\b\b\b\b\b\b\b\b\b\b\b\b\b\b\b\b\b\b\b\b\b\b\b\b\b\b\b\b\b\b\b\b\b\b\b\b\b\b\b\b\b\b\b\b\b\b\b\r2/2 [==============================] - 0s 30ms/step - loss: 0.0280 - val_loss: 0.0321\n",
            "Epoch 166/500\n",
            "1/2 [==============>...............] - ETA: 0s - loss: 0.0395"
          ]
        },
        {
          "output_type": "stream",
          "name": "stderr",
          "text": [
            "WARNING:tensorflow:Early stopping conditioned on metric `value_loss` which is not available. Available metrics are: loss,val_loss\n"
          ]
        },
        {
          "output_type": "stream",
          "name": "stdout",
          "text": [
            "\b\b\b\b\b\b\b\b\b\b\b\b\b\b\b\b\b\b\b\b\b\b\b\b\b\b\b\b\b\b\b\b\b\b\b\b\b\b\b\b\b\b\b\b\b\b\b\b\b\b\b\b\b\b\b\b\b\b\b\b\b\r2/2 [==============================] - 0s 28ms/step - loss: 0.0304 - val_loss: 0.0342\n",
            "Epoch 167/500\n",
            "1/2 [==============>...............] - ETA: 0s - loss: 0.0073"
          ]
        },
        {
          "output_type": "stream",
          "name": "stderr",
          "text": [
            "WARNING:tensorflow:Early stopping conditioned on metric `value_loss` which is not available. Available metrics are: loss,val_loss\n"
          ]
        },
        {
          "output_type": "stream",
          "name": "stdout",
          "text": [
            "\b\b\b\b\b\b\b\b\b\b\b\b\b\b\b\b\b\b\b\b\b\b\b\b\b\b\b\b\b\b\b\b\b\b\b\b\b\b\b\b\b\b\b\b\b\b\b\b\b\b\b\b\b\b\b\b\b\b\b\b\b\r2/2 [==============================] - 0s 28ms/step - loss: 0.0296 - val_loss: 0.0370\n",
            "Epoch 168/500\n",
            "1/2 [==============>...............] - ETA: 0s - loss: 0.0311"
          ]
        },
        {
          "output_type": "stream",
          "name": "stderr",
          "text": [
            "WARNING:tensorflow:Early stopping conditioned on metric `value_loss` which is not available. Available metrics are: loss,val_loss\n"
          ]
        },
        {
          "output_type": "stream",
          "name": "stdout",
          "text": [
            "\b\b\b\b\b\b\b\b\b\b\b\b\b\b\b\b\b\b\b\b\b\b\b\b\b\b\b\b\b\b\b\b\b\b\b\b\b\b\b\b\b\b\b\b\b\b\b\b\b\b\b\b\b\b\b\b\b\b\b\b\b\r2/2 [==============================] - 0s 26ms/step - loss: 0.0325 - val_loss: 0.0339\n",
            "Epoch 169/500\n",
            "1/2 [==============>...............] - ETA: 0s - loss: 0.0361"
          ]
        },
        {
          "output_type": "stream",
          "name": "stderr",
          "text": [
            "WARNING:tensorflow:Early stopping conditioned on metric `value_loss` which is not available. Available metrics are: loss,val_loss\n"
          ]
        },
        {
          "output_type": "stream",
          "name": "stdout",
          "text": [
            "\b\b\b\b\b\b\b\b\b\b\b\b\b\b\b\b\b\b\b\b\b\b\b\b\b\b\b\b\b\b\b\b\b\b\b\b\b\b\b\b\b\b\b\b\b\b\b\b\b\b\b\b\b\b\b\b\b\b\b\b\b\r2/2 [==============================] - 0s 29ms/step - loss: 0.0294 - val_loss: 0.0334\n",
            "Epoch 170/500\n",
            "1/2 [==============>...............] - ETA: 0s - loss: 0.0472"
          ]
        },
        {
          "output_type": "stream",
          "name": "stderr",
          "text": [
            "WARNING:tensorflow:Early stopping conditioned on metric `value_loss` which is not available. Available metrics are: loss,val_loss\n"
          ]
        },
        {
          "output_type": "stream",
          "name": "stdout",
          "text": [
            "\b\b\b\b\b\b\b\b\b\b\b\b\b\b\b\b\b\b\b\b\b\b\b\b\b\b\b\b\b\b\b\b\b\b\b\b\b\b\b\b\b\b\b\b\b\b\b\b\b\b\b\b\b\b\b\b\b\b\b\b\b\r2/2 [==============================] - 0s 34ms/step - loss: 0.0256 - val_loss: 0.0350\n",
            "Epoch 171/500\n",
            "1/2 [==============>...............] - ETA: 0s - loss: 0.0180"
          ]
        },
        {
          "output_type": "stream",
          "name": "stderr",
          "text": [
            "WARNING:tensorflow:Early stopping conditioned on metric `value_loss` which is not available. Available metrics are: loss,val_loss\n"
          ]
        },
        {
          "output_type": "stream",
          "name": "stdout",
          "text": [
            "\b\b\b\b\b\b\b\b\b\b\b\b\b\b\b\b\b\b\b\b\b\b\b\b\b\b\b\b\b\b\b\b\b\b\b\b\b\b\b\b\b\b\b\b\b\b\b\b\b\b\b\b\b\b\b\b\b\b\b\b\b\r2/2 [==============================] - 0s 32ms/step - loss: 0.0279 - val_loss: 0.0370\n",
            "Epoch 172/500\n",
            "1/2 [==============>...............] - ETA: 0s - loss: 0.0177"
          ]
        },
        {
          "output_type": "stream",
          "name": "stderr",
          "text": [
            "WARNING:tensorflow:Early stopping conditioned on metric `value_loss` which is not available. Available metrics are: loss,val_loss\n"
          ]
        },
        {
          "output_type": "stream",
          "name": "stdout",
          "text": [
            "\b\b\b\b\b\b\b\b\b\b\b\b\b\b\b\b\b\b\b\b\b\b\b\b\b\b\b\b\b\b\b\b\b\b\b\b\b\b\b\b\b\b\b\b\b\b\b\b\b\b\b\b\b\b\b\b\b\b\b\b\b\r2/2 [==============================] - 0s 26ms/step - loss: 0.0289 - val_loss: 0.0313\n",
            "Epoch 173/500\n",
            "1/2 [==============>...............] - ETA: 0s - loss: 0.0211"
          ]
        },
        {
          "output_type": "stream",
          "name": "stderr",
          "text": [
            "WARNING:tensorflow:Early stopping conditioned on metric `value_loss` which is not available. Available metrics are: loss,val_loss\n"
          ]
        },
        {
          "output_type": "stream",
          "name": "stdout",
          "text": [
            "\b\b\b\b\b\b\b\b\b\b\b\b\b\b\b\b\b\b\b\b\b\b\b\b\b\b\b\b\b\b\b\b\b\b\b\b\b\b\b\b\b\b\b\b\b\b\b\b\b\b\b\b\b\b\b\b\b\b\b\b\b\r2/2 [==============================] - 0s 25ms/step - loss: 0.0270 - val_loss: 0.0286\n",
            "Epoch 174/500\n",
            "1/2 [==============>...............] - ETA: 0s - loss: 0.0482"
          ]
        },
        {
          "output_type": "stream",
          "name": "stderr",
          "text": [
            "WARNING:tensorflow:Early stopping conditioned on metric `value_loss` which is not available. Available metrics are: loss,val_loss\n"
          ]
        },
        {
          "output_type": "stream",
          "name": "stdout",
          "text": [
            "\b\b\b\b\b\b\b\b\b\b\b\b\b\b\b\b\b\b\b\b\b\b\b\b\b\b\b\b\b\b\b\b\b\b\b\b\b\b\b\b\b\b\b\b\b\b\b\b\b\b\b\b\b\b\b\b\b\b\b\b\b\r2/2 [==============================] - 0s 26ms/step - loss: 0.0262 - val_loss: 0.0315\n",
            "Epoch 175/500\n",
            "1/2 [==============>...............] - ETA: 0s - loss: 0.0474"
          ]
        },
        {
          "output_type": "stream",
          "name": "stderr",
          "text": [
            "WARNING:tensorflow:Early stopping conditioned on metric `value_loss` which is not available. Available metrics are: loss,val_loss\n"
          ]
        },
        {
          "output_type": "stream",
          "name": "stdout",
          "text": [
            "\b\b\b\b\b\b\b\b\b\b\b\b\b\b\b\b\b\b\b\b\b\b\b\b\b\b\b\b\b\b\b\b\b\b\b\b\b\b\b\b\b\b\b\b\b\b\b\b\b\b\b\b\b\b\b\b\b\b\b\b\b\r2/2 [==============================] - 0s 26ms/step - loss: 0.0258 - val_loss: 0.0371\n",
            "Epoch 176/500\n",
            "1/2 [==============>...............] - ETA: 0s - loss: 0.0400"
          ]
        },
        {
          "output_type": "stream",
          "name": "stderr",
          "text": [
            "WARNING:tensorflow:Early stopping conditioned on metric `value_loss` which is not available. Available metrics are: loss,val_loss\n"
          ]
        },
        {
          "output_type": "stream",
          "name": "stdout",
          "text": [
            "\b\b\b\b\b\b\b\b\b\b\b\b\b\b\b\b\b\b\b\b\b\b\b\b\b\b\b\b\b\b\b\b\b\b\b\b\b\b\b\b\b\b\b\b\b\b\b\b\b\b\b\b\b\b\b\b\b\b\b\b\b\r2/2 [==============================] - 0s 24ms/step - loss: 0.0264 - val_loss: 0.0379\n",
            "Epoch 177/500\n",
            "1/2 [==============>...............] - ETA: 0s - loss: 0.0371"
          ]
        },
        {
          "output_type": "stream",
          "name": "stderr",
          "text": [
            "WARNING:tensorflow:Early stopping conditioned on metric `value_loss` which is not available. Available metrics are: loss,val_loss\n"
          ]
        },
        {
          "output_type": "stream",
          "name": "stdout",
          "text": [
            "\b\b\b\b\b\b\b\b\b\b\b\b\b\b\b\b\b\b\b\b\b\b\b\b\b\b\b\b\b\b\b\b\b\b\b\b\b\b\b\b\b\b\b\b\b\b\b\b\b\b\b\b\b\b\b\b\b\b\b\b\b\r2/2 [==============================] - 0s 26ms/step - loss: 0.0258 - val_loss: 0.0309\n",
            "Epoch 178/500\n",
            "1/2 [==============>...............] - ETA: 0s - loss: 0.0330"
          ]
        },
        {
          "output_type": "stream",
          "name": "stderr",
          "text": [
            "WARNING:tensorflow:Early stopping conditioned on metric `value_loss` which is not available. Available metrics are: loss,val_loss\n"
          ]
        },
        {
          "output_type": "stream",
          "name": "stdout",
          "text": [
            "\b\b\b\b\b\b\b\b\b\b\b\b\b\b\b\b\b\b\b\b\b\b\b\b\b\b\b\b\b\b\b\b\b\b\b\b\b\b\b\b\b\b\b\b\b\b\b\b\b\b\b\b\b\b\b\b\b\b\b\b\b\r2/2 [==============================] - 0s 23ms/step - loss: 0.0264 - val_loss: 0.0302\n",
            "Epoch 179/500\n",
            "1/2 [==============>...............] - ETA: 0s - loss: 0.0220"
          ]
        },
        {
          "output_type": "stream",
          "name": "stderr",
          "text": [
            "WARNING:tensorflow:Early stopping conditioned on metric `value_loss` which is not available. Available metrics are: loss,val_loss\n"
          ]
        },
        {
          "output_type": "stream",
          "name": "stdout",
          "text": [
            "\b\b\b\b\b\b\b\b\b\b\b\b\b\b\b\b\b\b\b\b\b\b\b\b\b\b\b\b\b\b\b\b\b\b\b\b\b\b\b\b\b\b\b\b\b\b\b\b\b\b\b\b\b\b\b\b\b\b\b\b\b\r2/2 [==============================] - 0s 24ms/step - loss: 0.0260 - val_loss: 0.0426\n",
            "Epoch 180/500\n",
            "1/2 [==============>...............] - ETA: 0s - loss: 0.0341"
          ]
        },
        {
          "output_type": "stream",
          "name": "stderr",
          "text": [
            "WARNING:tensorflow:Early stopping conditioned on metric `value_loss` which is not available. Available metrics are: loss,val_loss\n"
          ]
        },
        {
          "output_type": "stream",
          "name": "stdout",
          "text": [
            "\b\b\b\b\b\b\b\b\b\b\b\b\b\b\b\b\b\b\b\b\b\b\b\b\b\b\b\b\b\b\b\b\b\b\b\b\b\b\b\b\b\b\b\b\b\b\b\b\b\b\b\b\b\b\b\b\b\b\b\b\b\r2/2 [==============================] - 0s 24ms/step - loss: 0.0283 - val_loss: 0.0370\n",
            "Epoch 181/500\n",
            "1/2 [==============>...............] - ETA: 0s - loss: 0.0361"
          ]
        },
        {
          "output_type": "stream",
          "name": "stderr",
          "text": [
            "WARNING:tensorflow:Early stopping conditioned on metric `value_loss` which is not available. Available metrics are: loss,val_loss\n"
          ]
        },
        {
          "output_type": "stream",
          "name": "stdout",
          "text": [
            "\b\b\b\b\b\b\b\b\b\b\b\b\b\b\b\b\b\b\b\b\b\b\b\b\b\b\b\b\b\b\b\b\b\b\b\b\b\b\b\b\b\b\b\b\b\b\b\b\b\b\b\b\b\b\b\b\b\b\b\b\b\r2/2 [==============================] - 0s 30ms/step - loss: 0.0250 - val_loss: 0.0304\n",
            "Epoch 182/500\n",
            "1/2 [==============>...............] - ETA: 0s - loss: 0.0185"
          ]
        },
        {
          "output_type": "stream",
          "name": "stderr",
          "text": [
            "WARNING:tensorflow:Early stopping conditioned on metric `value_loss` which is not available. Available metrics are: loss,val_loss\n"
          ]
        },
        {
          "output_type": "stream",
          "name": "stdout",
          "text": [
            "\b\b\b\b\b\b\b\b\b\b\b\b\b\b\b\b\b\b\b\b\b\b\b\b\b\b\b\b\b\b\b\b\b\b\b\b\b\b\b\b\b\b\b\b\b\b\b\b\b\b\b\b\b\b\b\b\b\b\b\b\b\r2/2 [==============================] - 0s 23ms/step - loss: 0.0267 - val_loss: 0.0373\n",
            "Epoch 183/500\n",
            "1/2 [==============>...............] - ETA: 0s - loss: 0.0377"
          ]
        },
        {
          "output_type": "stream",
          "name": "stderr",
          "text": [
            "WARNING:tensorflow:Early stopping conditioned on metric `value_loss` which is not available. Available metrics are: loss,val_loss\n"
          ]
        },
        {
          "output_type": "stream",
          "name": "stdout",
          "text": [
            "\b\b\b\b\b\b\b\b\b\b\b\b\b\b\b\b\b\b\b\b\b\b\b\b\b\b\b\b\b\b\b\b\b\b\b\b\b\b\b\b\b\b\b\b\b\b\b\b\b\b\b\b\b\b\b\b\b\b\b\b\b\r2/2 [==============================] - 0s 26ms/step - loss: 0.0287 - val_loss: 0.0419\n",
            "Epoch 184/500\n",
            "1/2 [==============>...............] - ETA: 0s - loss: 0.0367"
          ]
        },
        {
          "output_type": "stream",
          "name": "stderr",
          "text": [
            "WARNING:tensorflow:Early stopping conditioned on metric `value_loss` which is not available. Available metrics are: loss,val_loss\n"
          ]
        },
        {
          "output_type": "stream",
          "name": "stdout",
          "text": [
            "\b\b\b\b\b\b\b\b\b\b\b\b\b\b\b\b\b\b\b\b\b\b\b\b\b\b\b\b\b\b\b\b\b\b\b\b\b\b\b\b\b\b\b\b\b\b\b\b\b\b\b\b\b\b\b\b\b\b\b\b\b\r2/2 [==============================] - 0s 26ms/step - loss: 0.0280 - val_loss: 0.0399\n",
            "Epoch 185/500\n",
            "1/2 [==============>...............] - ETA: 0s - loss: 0.0189"
          ]
        },
        {
          "output_type": "stream",
          "name": "stderr",
          "text": [
            "WARNING:tensorflow:Early stopping conditioned on metric `value_loss` which is not available. Available metrics are: loss,val_loss\n"
          ]
        },
        {
          "output_type": "stream",
          "name": "stdout",
          "text": [
            "\b\b\b\b\b\b\b\b\b\b\b\b\b\b\b\b\b\b\b\b\b\b\b\b\b\b\b\b\b\b\b\b\b\b\b\b\b\b\b\b\b\b\b\b\b\b\b\b\b\b\b\b\b\b\b\b\b\b\b\b\b\r2/2 [==============================] - 0s 26ms/step - loss: 0.0300 - val_loss: 0.0316\n",
            "Epoch 186/500\n",
            "1/2 [==============>...............] - ETA: 0s - loss: 0.0197"
          ]
        },
        {
          "output_type": "stream",
          "name": "stderr",
          "text": [
            "WARNING:tensorflow:Early stopping conditioned on metric `value_loss` which is not available. Available metrics are: loss,val_loss\n"
          ]
        },
        {
          "output_type": "stream",
          "name": "stdout",
          "text": [
            "\b\b\b\b\b\b\b\b\b\b\b\b\b\b\b\b\b\b\b\b\b\b\b\b\b\b\b\b\b\b\b\b\b\b\b\b\b\b\b\b\b\b\b\b\b\b\b\b\b\b\b\b\b\b\b\b\b\b\b\b\b\r2/2 [==============================] - 0s 22ms/step - loss: 0.0277 - val_loss: 0.0311\n",
            "Epoch 187/500\n",
            "1/2 [==============>...............] - ETA: 0s - loss: 0.0416"
          ]
        },
        {
          "output_type": "stream",
          "name": "stderr",
          "text": [
            "WARNING:tensorflow:Early stopping conditioned on metric `value_loss` which is not available. Available metrics are: loss,val_loss\n"
          ]
        },
        {
          "output_type": "stream",
          "name": "stdout",
          "text": [
            "\b\b\b\b\b\b\b\b\b\b\b\b\b\b\b\b\b\b\b\b\b\b\b\b\b\b\b\b\b\b\b\b\b\b\b\b\b\b\b\b\b\b\b\b\b\b\b\b\b\b\b\b\b\b\b\b\b\b\b\b\b\r2/2 [==============================] - 0s 27ms/step - loss: 0.0268 - val_loss: 0.0388\n",
            "Epoch 188/500\n",
            "1/2 [==============>...............] - ETA: 0s - loss: 0.0279"
          ]
        },
        {
          "output_type": "stream",
          "name": "stderr",
          "text": [
            "WARNING:tensorflow:Early stopping conditioned on metric `value_loss` which is not available. Available metrics are: loss,val_loss\n"
          ]
        },
        {
          "output_type": "stream",
          "name": "stdout",
          "text": [
            "\b\b\b\b\b\b\b\b\b\b\b\b\b\b\b\b\b\b\b\b\b\b\b\b\b\b\b\b\b\b\b\b\b\b\b\b\b\b\b\b\b\b\b\b\b\b\b\b\b\b\b\b\b\b\b\b\b\b\b\b\b\r2/2 [==============================] - 0s 24ms/step - loss: 0.0262 - val_loss: 0.0372\n",
            "Epoch 189/500\n",
            "1/2 [==============>...............] - ETA: 0s - loss: 0.0335"
          ]
        },
        {
          "output_type": "stream",
          "name": "stderr",
          "text": [
            "WARNING:tensorflow:Early stopping conditioned on metric `value_loss` which is not available. Available metrics are: loss,val_loss\n"
          ]
        },
        {
          "output_type": "stream",
          "name": "stdout",
          "text": [
            "\b\b\b\b\b\b\b\b\b\b\b\b\b\b\b\b\b\b\b\b\b\b\b\b\b\b\b\b\b\b\b\b\b\b\b\b\b\b\b\b\b\b\b\b\b\b\b\b\b\b\b\b\b\b\b\b\b\b\b\b\b\r2/2 [==============================] - 0s 32ms/step - loss: 0.0252 - val_loss: 0.0310\n",
            "Epoch 190/500\n",
            "1/2 [==============>...............] - ETA: 0s - loss: 0.0412"
          ]
        },
        {
          "output_type": "stream",
          "name": "stderr",
          "text": [
            "WARNING:tensorflow:Early stopping conditioned on metric `value_loss` which is not available. Available metrics are: loss,val_loss\n"
          ]
        },
        {
          "output_type": "stream",
          "name": "stdout",
          "text": [
            "\b\b\b\b\b\b\b\b\b\b\b\b\b\b\b\b\b\b\b\b\b\b\b\b\b\b\b\b\b\b\b\b\b\b\b\b\b\b\b\b\b\b\b\b\b\b\b\b\b\b\b\b\b\b\b\b\b\b\b\b\b\r2/2 [==============================] - 0s 25ms/step - loss: 0.0284 - val_loss: 0.0300\n",
            "Epoch 191/500\n",
            "1/2 [==============>...............] - ETA: 0s - loss: 0.0453"
          ]
        },
        {
          "output_type": "stream",
          "name": "stderr",
          "text": [
            "WARNING:tensorflow:Early stopping conditioned on metric `value_loss` which is not available. Available metrics are: loss,val_loss\n"
          ]
        },
        {
          "output_type": "stream",
          "name": "stdout",
          "text": [
            "\b\b\b\b\b\b\b\b\b\b\b\b\b\b\b\b\b\b\b\b\b\b\b\b\b\b\b\b\b\b\b\b\b\b\b\b\b\b\b\b\b\b\b\b\b\b\b\b\b\b\b\b\b\b\b\b\b\b\b\b\b\r2/2 [==============================] - 0s 24ms/step - loss: 0.0272 - val_loss: 0.0388\n",
            "Epoch 192/500\n",
            "1/2 [==============>...............] - ETA: 0s - loss: 0.0376"
          ]
        },
        {
          "output_type": "stream",
          "name": "stderr",
          "text": [
            "WARNING:tensorflow:Early stopping conditioned on metric `value_loss` which is not available. Available metrics are: loss,val_loss\n"
          ]
        },
        {
          "output_type": "stream",
          "name": "stdout",
          "text": [
            "\b\b\b\b\b\b\b\b\b\b\b\b\b\b\b\b\b\b\b\b\b\b\b\b\b\b\b\b\b\b\b\b\b\b\b\b\b\b\b\b\b\b\b\b\b\b\b\b\b\b\b\b\b\b\b\b\b\b\b\b\b\r2/2 [==============================] - 0s 23ms/step - loss: 0.0246 - val_loss: 0.0395\n",
            "Epoch 193/500\n",
            "1/2 [==============>...............] - ETA: 0s - loss: 0.0268"
          ]
        },
        {
          "output_type": "stream",
          "name": "stderr",
          "text": [
            "WARNING:tensorflow:Early stopping conditioned on metric `value_loss` which is not available. Available metrics are: loss,val_loss\n"
          ]
        },
        {
          "output_type": "stream",
          "name": "stdout",
          "text": [
            "\b\b\b\b\b\b\b\b\b\b\b\b\b\b\b\b\b\b\b\b\b\b\b\b\b\b\b\b\b\b\b\b\b\b\b\b\b\b\b\b\b\b\b\b\b\b\b\b\b\b\b\b\b\b\b\b\b\b\b\b\b\r2/2 [==============================] - 0s 27ms/step - loss: 0.0263 - val_loss: 0.0358\n",
            "Epoch 194/500\n",
            "1/2 [==============>...............] - ETA: 0s - loss: 0.0333"
          ]
        },
        {
          "output_type": "stream",
          "name": "stderr",
          "text": [
            "WARNING:tensorflow:Early stopping conditioned on metric `value_loss` which is not available. Available metrics are: loss,val_loss\n"
          ]
        },
        {
          "output_type": "stream",
          "name": "stdout",
          "text": [
            "\b\b\b\b\b\b\b\b\b\b\b\b\b\b\b\b\b\b\b\b\b\b\b\b\b\b\b\b\b\b\b\b\b\b\b\b\b\b\b\b\b\b\b\b\b\b\b\b\b\b\b\b\b\b\b\b\b\b\b\b\b\r2/2 [==============================] - 0s 28ms/step - loss: 0.0244 - val_loss: 0.0369\n",
            "Epoch 195/500\n",
            "1/2 [==============>...............] - ETA: 0s - loss: 0.0239"
          ]
        },
        {
          "output_type": "stream",
          "name": "stderr",
          "text": [
            "WARNING:tensorflow:Early stopping conditioned on metric `value_loss` which is not available. Available metrics are: loss,val_loss\n"
          ]
        },
        {
          "output_type": "stream",
          "name": "stdout",
          "text": [
            "\b\b\b\b\b\b\b\b\b\b\b\b\b\b\b\b\b\b\b\b\b\b\b\b\b\b\b\b\b\b\b\b\b\b\b\b\b\b\b\b\b\b\b\b\b\b\b\b\b\b\b\b\b\b\b\b\b\b\b\b\b\r2/2 [==============================] - 0s 21ms/step - loss: 0.0304 - val_loss: 0.0308\n",
            "Epoch 196/500\n",
            "1/2 [==============>...............] - ETA: 0s - loss: 0.0404"
          ]
        },
        {
          "output_type": "stream",
          "name": "stderr",
          "text": [
            "WARNING:tensorflow:Early stopping conditioned on metric `value_loss` which is not available. Available metrics are: loss,val_loss\n"
          ]
        },
        {
          "output_type": "stream",
          "name": "stdout",
          "text": [
            "\b\b\b\b\b\b\b\b\b\b\b\b\b\b\b\b\b\b\b\b\b\b\b\b\b\b\b\b\b\b\b\b\b\b\b\b\b\b\b\b\b\b\b\b\b\b\b\b\b\b\b\b\b\b\b\b\b\b\b\b\b\r2/2 [==============================] - 0s 26ms/step - loss: 0.0273 - val_loss: 0.0303\n",
            "Epoch 197/500\n",
            "1/2 [==============>...............] - ETA: 0s - loss: 0.0290"
          ]
        },
        {
          "output_type": "stream",
          "name": "stderr",
          "text": [
            "WARNING:tensorflow:Early stopping conditioned on metric `value_loss` which is not available. Available metrics are: loss,val_loss\n"
          ]
        },
        {
          "output_type": "stream",
          "name": "stdout",
          "text": [
            "\b\b\b\b\b\b\b\b\b\b\b\b\b\b\b\b\b\b\b\b\b\b\b\b\b\b\b\b\b\b\b\b\b\b\b\b\b\b\b\b\b\b\b\b\b\b\b\b\b\b\b\b\b\b\b\b\b\b\b\b\b\r2/2 [==============================] - 0s 22ms/step - loss: 0.0291 - val_loss: 0.0407\n",
            "Epoch 198/500\n",
            "1/2 [==============>...............] - ETA: 0s - loss: 0.0178"
          ]
        },
        {
          "output_type": "stream",
          "name": "stderr",
          "text": [
            "WARNING:tensorflow:Early stopping conditioned on metric `value_loss` which is not available. Available metrics are: loss,val_loss\n"
          ]
        },
        {
          "output_type": "stream",
          "name": "stdout",
          "text": [
            "\b\b\b\b\b\b\b\b\b\b\b\b\b\b\b\b\b\b\b\b\b\b\b\b\b\b\b\b\b\b\b\b\b\b\b\b\b\b\b\b\b\b\b\b\b\b\b\b\b\b\b\b\b\b\b\b\b\b\b\b\b\r2/2 [==============================] - 0s 24ms/step - loss: 0.0256 - val_loss: 0.0451\n",
            "Epoch 199/500\n",
            "1/2 [==============>...............] - ETA: 0s - loss: 0.0281"
          ]
        },
        {
          "output_type": "stream",
          "name": "stderr",
          "text": [
            "WARNING:tensorflow:Early stopping conditioned on metric `value_loss` which is not available. Available metrics are: loss,val_loss\n"
          ]
        },
        {
          "output_type": "stream",
          "name": "stdout",
          "text": [
            "\b\b\b\b\b\b\b\b\b\b\b\b\b\b\b\b\b\b\b\b\b\b\b\b\b\b\b\b\b\b\b\b\b\b\b\b\b\b\b\b\b\b\b\b\b\b\b\b\b\b\b\b\b\b\b\b\b\b\b\b\b\r2/2 [==============================] - 0s 28ms/step - loss: 0.0247 - val_loss: 0.0370\n",
            "Epoch 200/500\n",
            "1/2 [==============>...............] - ETA: 0s - loss: 0.0383"
          ]
        },
        {
          "output_type": "stream",
          "name": "stderr",
          "text": [
            "WARNING:tensorflow:Early stopping conditioned on metric `value_loss` which is not available. Available metrics are: loss,val_loss\n"
          ]
        },
        {
          "output_type": "stream",
          "name": "stdout",
          "text": [
            "\b\b\b\b\b\b\b\b\b\b\b\b\b\b\b\b\b\b\b\b\b\b\b\b\b\b\b\b\b\b\b\b\b\b\b\b\b\b\b\b\b\b\b\b\b\b\b\b\b\b\b\b\b\b\b\b\b\b\b\b\b\r2/2 [==============================] - 0s 24ms/step - loss: 0.0264 - val_loss: 0.0320\n",
            "Epoch 201/500\n",
            "1/2 [==============>...............] - ETA: 0s - loss: 0.0161"
          ]
        },
        {
          "output_type": "stream",
          "name": "stderr",
          "text": [
            "WARNING:tensorflow:Early stopping conditioned on metric `value_loss` which is not available. Available metrics are: loss,val_loss\n"
          ]
        },
        {
          "output_type": "stream",
          "name": "stdout",
          "text": [
            "\b\b\b\b\b\b\b\b\b\b\b\b\b\b\b\b\b\b\b\b\b\b\b\b\b\b\b\b\b\b\b\b\b\b\b\b\b\b\b\b\b\b\b\b\b\b\b\b\b\b\b\b\b\b\b\b\b\b\b\b\b\r2/2 [==============================] - 0s 30ms/step - loss: 0.0249 - val_loss: 0.0363\n",
            "Epoch 202/500\n",
            "1/2 [==============>...............] - ETA: 0s - loss: 0.0320"
          ]
        },
        {
          "output_type": "stream",
          "name": "stderr",
          "text": [
            "WARNING:tensorflow:Early stopping conditioned on metric `value_loss` which is not available. Available metrics are: loss,val_loss\n"
          ]
        },
        {
          "output_type": "stream",
          "name": "stdout",
          "text": [
            "\b\b\b\b\b\b\b\b\b\b\b\b\b\b\b\b\b\b\b\b\b\b\b\b\b\b\b\b\b\b\b\b\b\b\b\b\b\b\b\b\b\b\b\b\b\b\b\b\b\b\b\b\b\b\b\b\b\b\b\b\b\r2/2 [==============================] - 0s 42ms/step - loss: 0.0262 - val_loss: 0.0382\n",
            "Epoch 203/500\n",
            "1/2 [==============>...............] - ETA: 0s - loss: 0.0369"
          ]
        },
        {
          "output_type": "stream",
          "name": "stderr",
          "text": [
            "WARNING:tensorflow:Early stopping conditioned on metric `value_loss` which is not available. Available metrics are: loss,val_loss\n"
          ]
        },
        {
          "output_type": "stream",
          "name": "stdout",
          "text": [
            "\b\b\b\b\b\b\b\b\b\b\b\b\b\b\b\b\b\b\b\b\b\b\b\b\b\b\b\b\b\b\b\b\b\b\b\b\b\b\b\b\b\b\b\b\b\b\b\b\b\b\b\b\b\b\b\b\b\b\b\b\b\r2/2 [==============================] - 0s 28ms/step - loss: 0.0259 - val_loss: 0.0355\n",
            "Epoch 204/500\n",
            "1/2 [==============>...............] - ETA: 0s - loss: 0.0121"
          ]
        },
        {
          "output_type": "stream",
          "name": "stderr",
          "text": [
            "WARNING:tensorflow:Early stopping conditioned on metric `value_loss` which is not available. Available metrics are: loss,val_loss\n"
          ]
        },
        {
          "output_type": "stream",
          "name": "stdout",
          "text": [
            "\b\b\b\b\b\b\b\b\b\b\b\b\b\b\b\b\b\b\b\b\b\b\b\b\b\b\b\b\b\b\b\b\b\b\b\b\b\b\b\b\b\b\b\b\b\b\b\b\b\b\b\b\b\b\b\b\b\b\b\b\b\r2/2 [==============================] - 0s 34ms/step - loss: 0.0259 - val_loss: 0.0305\n",
            "Epoch 205/500\n",
            "1/2 [==============>...............] - ETA: 0s - loss: 0.0483"
          ]
        },
        {
          "output_type": "stream",
          "name": "stderr",
          "text": [
            "WARNING:tensorflow:Early stopping conditioned on metric `value_loss` which is not available. Available metrics are: loss,val_loss\n"
          ]
        },
        {
          "output_type": "stream",
          "name": "stdout",
          "text": [
            "\b\b\b\b\b\b\b\b\b\b\b\b\b\b\b\b\b\b\b\b\b\b\b\b\b\b\b\b\b\b\b\b\b\b\b\b\b\b\b\b\b\b\b\b\b\b\b\b\b\b\b\b\b\b\b\b\b\b\b\b\b\r2/2 [==============================] - 0s 49ms/step - loss: 0.0282 - val_loss: 0.0353\n",
            "Epoch 206/500\n",
            "1/2 [==============>...............] - ETA: 0s - loss: 0.0143"
          ]
        },
        {
          "output_type": "stream",
          "name": "stderr",
          "text": [
            "WARNING:tensorflow:Early stopping conditioned on metric `value_loss` which is not available. Available metrics are: loss,val_loss\n"
          ]
        },
        {
          "output_type": "stream",
          "name": "stdout",
          "text": [
            "\b\b\b\b\b\b\b\b\b\b\b\b\b\b\b\b\b\b\b\b\b\b\b\b\b\b\b\b\b\b\b\b\b\b\b\b\b\b\b\b\b\b\b\b\b\b\b\b\b\b\b\b\b\b\b\b\b\b\b\b\b\r2/2 [==============================] - 0s 30ms/step - loss: 0.0259 - val_loss: 0.0415\n",
            "Epoch 207/500\n",
            "1/2 [==============>...............] - ETA: 0s - loss: 0.0313"
          ]
        },
        {
          "output_type": "stream",
          "name": "stderr",
          "text": [
            "WARNING:tensorflow:Early stopping conditioned on metric `value_loss` which is not available. Available metrics are: loss,val_loss\n"
          ]
        },
        {
          "output_type": "stream",
          "name": "stdout",
          "text": [
            "\b\b\b\b\b\b\b\b\b\b\b\b\b\b\b\b\b\b\b\b\b\b\b\b\b\b\b\b\b\b\b\b\b\b\b\b\b\b\b\b\b\b\b\b\b\b\b\b\b\b\b\b\b\b\b\b\b\b\b\b\b\r2/2 [==============================] - 0s 46ms/step - loss: 0.0260 - val_loss: 0.0354\n",
            "Epoch 208/500\n",
            "1/2 [==============>...............] - ETA: 0s - loss: 0.0136"
          ]
        },
        {
          "output_type": "stream",
          "name": "stderr",
          "text": [
            "WARNING:tensorflow:Early stopping conditioned on metric `value_loss` which is not available. Available metrics are: loss,val_loss\n"
          ]
        },
        {
          "output_type": "stream",
          "name": "stdout",
          "text": [
            "\b\b\b\b\b\b\b\b\b\b\b\b\b\b\b\b\b\b\b\b\b\b\b\b\b\b\b\b\b\b\b\b\b\b\b\b\b\b\b\b\b\b\b\b\b\b\b\b\b\b\b\b\b\b\b\b\b\b\b\b\b\r2/2 [==============================] - 0s 32ms/step - loss: 0.0251 - val_loss: 0.0320\n",
            "Epoch 209/500\n",
            "1/2 [==============>...............] - ETA: 0s - loss: 0.0295"
          ]
        },
        {
          "output_type": "stream",
          "name": "stderr",
          "text": [
            "WARNING:tensorflow:Early stopping conditioned on metric `value_loss` which is not available. Available metrics are: loss,val_loss\n"
          ]
        },
        {
          "output_type": "stream",
          "name": "stdout",
          "text": [
            "\b\b\b\b\b\b\b\b\b\b\b\b\b\b\b\b\b\b\b\b\b\b\b\b\b\b\b\b\b\b\b\b\b\b\b\b\b\b\b\b\b\b\b\b\b\b\b\b\b\b\b\b\b\b\b\b\b\b\b\b\b\r2/2 [==============================] - 0s 65ms/step - loss: 0.0266 - val_loss: 0.0323\n",
            "Epoch 210/500\n",
            "1/2 [==============>...............] - ETA: 0s - loss: 0.0165"
          ]
        },
        {
          "output_type": "stream",
          "name": "stderr",
          "text": [
            "WARNING:tensorflow:Early stopping conditioned on metric `value_loss` which is not available. Available metrics are: loss,val_loss\n"
          ]
        },
        {
          "output_type": "stream",
          "name": "stdout",
          "text": [
            "\b\b\b\b\b\b\b\b\b\b\b\b\b\b\b\b\b\b\b\b\b\b\b\b\b\b\b\b\b\b\b\b\b\b\b\b\b\b\b\b\b\b\b\b\b\b\b\b\b\b\b\b\b\b\b\b\b\b\b\b\b\r2/2 [==============================] - 0s 32ms/step - loss: 0.0256 - val_loss: 0.0365\n",
            "Epoch 211/500\n",
            "1/2 [==============>...............] - ETA: 0s - loss: 0.0394"
          ]
        },
        {
          "output_type": "stream",
          "name": "stderr",
          "text": [
            "WARNING:tensorflow:Early stopping conditioned on metric `value_loss` which is not available. Available metrics are: loss,val_loss\n"
          ]
        },
        {
          "output_type": "stream",
          "name": "stdout",
          "text": [
            "\b\b\b\b\b\b\b\b\b\b\b\b\b\b\b\b\b\b\b\b\b\b\b\b\b\b\b\b\b\b\b\b\b\b\b\b\b\b\b\b\b\b\b\b\b\b\b\b\b\b\b\b\b\b\b\b\b\b\b\b\b\r2/2 [==============================] - 0s 43ms/step - loss: 0.0255 - val_loss: 0.0384\n",
            "Epoch 212/500\n",
            "1/2 [==============>...............] - ETA: 0s - loss: 0.0388"
          ]
        },
        {
          "output_type": "stream",
          "name": "stderr",
          "text": [
            "WARNING:tensorflow:Early stopping conditioned on metric `value_loss` which is not available. Available metrics are: loss,val_loss\n"
          ]
        },
        {
          "output_type": "stream",
          "name": "stdout",
          "text": [
            "\b\b\b\b\b\b\b\b\b\b\b\b\b\b\b\b\b\b\b\b\b\b\b\b\b\b\b\b\b\b\b\b\b\b\b\b\b\b\b\b\b\b\b\b\b\b\b\b\b\b\b\b\b\b\b\b\b\b\b\b\b\r2/2 [==============================] - 0s 27ms/step - loss: 0.0244 - val_loss: 0.0347\n",
            "Epoch 213/500\n",
            "1/2 [==============>...............] - ETA: 0s - loss: 0.0203"
          ]
        },
        {
          "output_type": "stream",
          "name": "stderr",
          "text": [
            "WARNING:tensorflow:Early stopping conditioned on metric `value_loss` which is not available. Available metrics are: loss,val_loss\n"
          ]
        },
        {
          "output_type": "stream",
          "name": "stdout",
          "text": [
            "\b\b\b\b\b\b\b\b\b\b\b\b\b\b\b\b\b\b\b\b\b\b\b\b\b\b\b\b\b\b\b\b\b\b\b\b\b\b\b\b\b\b\b\b\b\b\b\b\b\b\b\b\b\b\b\b\b\b\b\b\b\r2/2 [==============================] - 0s 55ms/step - loss: 0.0272 - val_loss: 0.0342\n",
            "Epoch 214/500\n",
            "1/2 [==============>...............] - ETA: 0s - loss: 0.0312"
          ]
        },
        {
          "output_type": "stream",
          "name": "stderr",
          "text": [
            "WARNING:tensorflow:Early stopping conditioned on metric `value_loss` which is not available. Available metrics are: loss,val_loss\n"
          ]
        },
        {
          "output_type": "stream",
          "name": "stdout",
          "text": [
            "\b\b\b\b\b\b\b\b\b\b\b\b\b\b\b\b\b\b\b\b\b\b\b\b\b\b\b\b\b\b\b\b\b\b\b\b\b\b\b\b\b\b\b\b\b\b\b\b\b\b\b\b\b\b\b\b\b\b\b\b\b\r2/2 [==============================] - 0s 30ms/step - loss: 0.0280 - val_loss: 0.0305\n",
            "Epoch 215/500\n",
            "1/2 [==============>...............] - ETA: 0s - loss: 0.0191"
          ]
        },
        {
          "output_type": "stream",
          "name": "stderr",
          "text": [
            "WARNING:tensorflow:Early stopping conditioned on metric `value_loss` which is not available. Available metrics are: loss,val_loss\n"
          ]
        },
        {
          "output_type": "stream",
          "name": "stdout",
          "text": [
            "\b\b\b\b\b\b\b\b\b\b\b\b\b\b\b\b\b\b\b\b\b\b\b\b\b\b\b\b\b\b\b\b\b\b\b\b\b\b\b\b\b\b\b\b\b\b\b\b\b\b\b\b\b\b\b\b\b\b\b\b\b\r2/2 [==============================] - 0s 28ms/step - loss: 0.0298 - val_loss: 0.0392\n",
            "Epoch 216/500\n",
            "1/2 [==============>...............] - ETA: 0s - loss: 0.0103"
          ]
        },
        {
          "output_type": "stream",
          "name": "stderr",
          "text": [
            "WARNING:tensorflow:Early stopping conditioned on metric `value_loss` which is not available. Available metrics are: loss,val_loss\n"
          ]
        },
        {
          "output_type": "stream",
          "name": "stdout",
          "text": [
            "\b\b\b\b\b\b\b\b\b\b\b\b\b\b\b\b\b\b\b\b\b\b\b\b\b\b\b\b\b\b\b\b\b\b\b\b\b\b\b\b\b\b\b\b\b\b\b\b\b\b\b\b\b\b\b\b\b\b\b\b\b\r2/2 [==============================] - 0s 29ms/step - loss: 0.0259 - val_loss: 0.0391\n",
            "Epoch 217/500\n",
            "1/2 [==============>...............] - ETA: 0s - loss: 0.0087"
          ]
        },
        {
          "output_type": "stream",
          "name": "stderr",
          "text": [
            "WARNING:tensorflow:Early stopping conditioned on metric `value_loss` which is not available. Available metrics are: loss,val_loss\n"
          ]
        },
        {
          "output_type": "stream",
          "name": "stdout",
          "text": [
            "\b\b\b\b\b\b\b\b\b\b\b\b\b\b\b\b\b\b\b\b\b\b\b\b\b\b\b\b\b\b\b\b\b\b\b\b\b\b\b\b\b\b\b\b\b\b\b\b\b\b\b\b\b\b\b\b\b\b\b\b\b\r2/2 [==============================] - 0s 29ms/step - loss: 0.0265 - val_loss: 0.0331\n",
            "Epoch 218/500\n",
            "1/2 [==============>...............] - ETA: 0s - loss: 0.0455"
          ]
        },
        {
          "output_type": "stream",
          "name": "stderr",
          "text": [
            "WARNING:tensorflow:Early stopping conditioned on metric `value_loss` which is not available. Available metrics are: loss,val_loss\n"
          ]
        },
        {
          "output_type": "stream",
          "name": "stdout",
          "text": [
            "\b\b\b\b\b\b\b\b\b\b\b\b\b\b\b\b\b\b\b\b\b\b\b\b\b\b\b\b\b\b\b\b\b\b\b\b\b\b\b\b\b\b\b\b\b\b\b\b\b\b\b\b\b\b\b\b\b\b\b\b\b\r2/2 [==============================] - 0s 27ms/step - loss: 0.0269 - val_loss: 0.0333\n",
            "Epoch 219/500\n",
            "1/2 [==============>...............] - ETA: 0s - loss: 6.7173e-04"
          ]
        },
        {
          "output_type": "stream",
          "name": "stderr",
          "text": [
            "WARNING:tensorflow:Early stopping conditioned on metric `value_loss` which is not available. Available metrics are: loss,val_loss\n"
          ]
        },
        {
          "output_type": "stream",
          "name": "stdout",
          "text": [
            "\b\b\b\b\b\b\b\b\b\b\b\b\b\b\b\b\b\b\b\b\b\b\b\b\b\b\b\b\b\b\b\b\b\b\b\b\b\b\b\b\b\b\b\b\b\b\b\b\b\b\b\b\b\b\b\b\b\b\b\b\b\b\b\b\b\r2/2 [==============================] - 0s 27ms/step - loss: 0.0253 - val_loss: 0.0424\n",
            "Epoch 220/500\n",
            "1/2 [==============>...............] - ETA: 0s - loss: 0.0327"
          ]
        },
        {
          "output_type": "stream",
          "name": "stderr",
          "text": [
            "WARNING:tensorflow:Early stopping conditioned on metric `value_loss` which is not available. Available metrics are: loss,val_loss\n"
          ]
        },
        {
          "output_type": "stream",
          "name": "stdout",
          "text": [
            "\b\b\b\b\b\b\b\b\b\b\b\b\b\b\b\b\b\b\b\b\b\b\b\b\b\b\b\b\b\b\b\b\b\b\b\b\b\b\b\b\b\b\b\b\b\b\b\b\b\b\b\b\b\b\b\b\b\b\b\b\b\r2/2 [==============================] - 0s 30ms/step - loss: 0.0259 - val_loss: 0.0437\n",
            "Epoch 221/500\n",
            "1/2 [==============>...............] - ETA: 0s - loss: 0.0459"
          ]
        },
        {
          "output_type": "stream",
          "name": "stderr",
          "text": [
            "WARNING:tensorflow:Early stopping conditioned on metric `value_loss` which is not available. Available metrics are: loss,val_loss\n"
          ]
        },
        {
          "output_type": "stream",
          "name": "stdout",
          "text": [
            "\b\b\b\b\b\b\b\b\b\b\b\b\b\b\b\b\b\b\b\b\b\b\b\b\b\b\b\b\b\b\b\b\b\b\b\b\b\b\b\b\b\b\b\b\b\b\b\b\b\b\b\b\b\b\b\b\b\b\b\b\b\r2/2 [==============================] - 0s 31ms/step - loss: 0.0250 - val_loss: 0.0339\n",
            "Epoch 222/500\n",
            "1/2 [==============>...............] - ETA: 0s - loss: 0.0415"
          ]
        },
        {
          "output_type": "stream",
          "name": "stderr",
          "text": [
            "WARNING:tensorflow:Early stopping conditioned on metric `value_loss` which is not available. Available metrics are: loss,val_loss\n"
          ]
        },
        {
          "output_type": "stream",
          "name": "stdout",
          "text": [
            "\b\b\b\b\b\b\b\b\b\b\b\b\b\b\b\b\b\b\b\b\b\b\b\b\b\b\b\b\b\b\b\b\b\b\b\b\b\b\b\b\b\b\b\b\b\b\b\b\b\b\b\b\b\b\b\b\b\b\b\b\b\r2/2 [==============================] - 0s 31ms/step - loss: 0.0253 - val_loss: 0.0283\n",
            "Epoch 223/500\n",
            "1/2 [==============>...............] - ETA: 0s - loss: 0.0097"
          ]
        },
        {
          "output_type": "stream",
          "name": "stderr",
          "text": [
            "WARNING:tensorflow:Early stopping conditioned on metric `value_loss` which is not available. Available metrics are: loss,val_loss\n"
          ]
        },
        {
          "output_type": "stream",
          "name": "stdout",
          "text": [
            "\b\b\b\b\b\b\b\b\b\b\b\b\b\b\b\b\b\b\b\b\b\b\b\b\b\b\b\b\b\b\b\b\b\b\b\b\b\b\b\b\b\b\b\b\b\b\b\b\b\b\b\b\b\b\b\b\b\b\b\b\b\r2/2 [==============================] - 0s 37ms/step - loss: 0.0264 - val_loss: 0.0361\n",
            "Epoch 224/500\n",
            "1/2 [==============>...............] - ETA: 0s - loss: 0.0401"
          ]
        },
        {
          "output_type": "stream",
          "name": "stderr",
          "text": [
            "WARNING:tensorflow:Early stopping conditioned on metric `value_loss` which is not available. Available metrics are: loss,val_loss\n"
          ]
        },
        {
          "output_type": "stream",
          "name": "stdout",
          "text": [
            "\b\b\b\b\b\b\b\b\b\b\b\b\b\b\b\b\b\b\b\b\b\b\b\b\b\b\b\b\b\b\b\b\b\b\b\b\b\b\b\b\b\b\b\b\b\b\b\b\b\b\b\b\b\b\b\b\b\b\b\b\b\r2/2 [==============================] - 0s 30ms/step - loss: 0.0253 - val_loss: 0.0406\n",
            "Epoch 225/500\n",
            "1/2 [==============>...............] - ETA: 0s - loss: 0.0277"
          ]
        },
        {
          "output_type": "stream",
          "name": "stderr",
          "text": [
            "WARNING:tensorflow:Early stopping conditioned on metric `value_loss` which is not available. Available metrics are: loss,val_loss\n"
          ]
        },
        {
          "output_type": "stream",
          "name": "stdout",
          "text": [
            "\b\b\b\b\b\b\b\b\b\b\b\b\b\b\b\b\b\b\b\b\b\b\b\b\b\b\b\b\b\b\b\b\b\b\b\b\b\b\b\b\b\b\b\b\b\b\b\b\b\b\b\b\b\b\b\b\b\b\b\b\b\r2/2 [==============================] - 0s 29ms/step - loss: 0.0271 - val_loss: 0.0365\n",
            "Epoch 226/500\n",
            "1/2 [==============>...............] - ETA: 0s - loss: 0.0249"
          ]
        },
        {
          "output_type": "stream",
          "name": "stderr",
          "text": [
            "WARNING:tensorflow:Early stopping conditioned on metric `value_loss` which is not available. Available metrics are: loss,val_loss\n"
          ]
        },
        {
          "output_type": "stream",
          "name": "stdout",
          "text": [
            "\b\b\b\b\b\b\b\b\b\b\b\b\b\b\b\b\b\b\b\b\b\b\b\b\b\b\b\b\b\b\b\b\b\b\b\b\b\b\b\b\b\b\b\b\b\b\b\b\b\b\b\b\b\b\b\b\b\b\b\b\b\r2/2 [==============================] - 0s 28ms/step - loss: 0.0259 - val_loss: 0.0294\n",
            "Epoch 227/500\n",
            "1/2 [==============>...............] - ETA: 0s - loss: 0.0278"
          ]
        },
        {
          "output_type": "stream",
          "name": "stderr",
          "text": [
            "WARNING:tensorflow:Early stopping conditioned on metric `value_loss` which is not available. Available metrics are: loss,val_loss\n"
          ]
        },
        {
          "output_type": "stream",
          "name": "stdout",
          "text": [
            "\b\b\b\b\b\b\b\b\b\b\b\b\b\b\b\b\b\b\b\b\b\b\b\b\b\b\b\b\b\b\b\b\b\b\b\b\b\b\b\b\b\b\b\b\b\b\b\b\b\b\b\b\b\b\b\b\b\b\b\b\b\r2/2 [==============================] - 0s 32ms/step - loss: 0.0268 - val_loss: 0.0357\n",
            "Epoch 228/500\n",
            "1/2 [==============>...............] - ETA: 0s - loss: 0.0469"
          ]
        },
        {
          "output_type": "stream",
          "name": "stderr",
          "text": [
            "WARNING:tensorflow:Early stopping conditioned on metric `value_loss` which is not available. Available metrics are: loss,val_loss\n"
          ]
        },
        {
          "output_type": "stream",
          "name": "stdout",
          "text": [
            "\b\b\b\b\b\b\b\b\b\b\b\b\b\b\b\b\b\b\b\b\b\b\b\b\b\b\b\b\b\b\b\b\b\b\b\b\b\b\b\b\b\b\b\b\b\b\b\b\b\b\b\b\b\b\b\b\b\b\b\b\b\r2/2 [==============================] - 0s 32ms/step - loss: 0.0253 - val_loss: 0.0431\n",
            "Epoch 229/500\n",
            "1/2 [==============>...............] - ETA: 0s - loss: 0.0310"
          ]
        },
        {
          "output_type": "stream",
          "name": "stderr",
          "text": [
            "WARNING:tensorflow:Early stopping conditioned on metric `value_loss` which is not available. Available metrics are: loss,val_loss\n"
          ]
        },
        {
          "output_type": "stream",
          "name": "stdout",
          "text": [
            "\b\b\b\b\b\b\b\b\b\b\b\b\b\b\b\b\b\b\b\b\b\b\b\b\b\b\b\b\b\b\b\b\b\b\b\b\b\b\b\b\b\b\b\b\b\b\b\b\b\b\b\b\b\b\b\b\b\b\b\b\b\r2/2 [==============================] - 0s 32ms/step - loss: 0.0263 - val_loss: 0.0375\n",
            "Epoch 230/500\n",
            "1/2 [==============>...............] - ETA: 0s - loss: 0.0367"
          ]
        },
        {
          "output_type": "stream",
          "name": "stderr",
          "text": [
            "WARNING:tensorflow:Early stopping conditioned on metric `value_loss` which is not available. Available metrics are: loss,val_loss\n"
          ]
        },
        {
          "output_type": "stream",
          "name": "stdout",
          "text": [
            "\b\b\b\b\b\b\b\b\b\b\b\b\b\b\b\b\b\b\b\b\b\b\b\b\b\b\b\b\b\b\b\b\b\b\b\b\b\b\b\b\b\b\b\b\b\b\b\b\b\b\b\b\b\b\b\b\b\b\b\b\b\r2/2 [==============================] - 0s 28ms/step - loss: 0.0253 - val_loss: 0.0331\n",
            "Epoch 231/500\n",
            "1/2 [==============>...............] - ETA: 0s - loss: 0.0193"
          ]
        },
        {
          "output_type": "stream",
          "name": "stderr",
          "text": [
            "WARNING:tensorflow:Early stopping conditioned on metric `value_loss` which is not available. Available metrics are: loss,val_loss\n"
          ]
        },
        {
          "output_type": "stream",
          "name": "stdout",
          "text": [
            "\b\b\b\b\b\b\b\b\b\b\b\b\b\b\b\b\b\b\b\b\b\b\b\b\b\b\b\b\b\b\b\b\b\b\b\b\b\b\b\b\b\b\b\b\b\b\b\b\b\b\b\b\b\b\b\b\b\b\b\b\b\r2/2 [==============================] - 0s 27ms/step - loss: 0.0250 - val_loss: 0.0312\n",
            "Epoch 232/500\n",
            "1/2 [==============>...............] - ETA: 0s - loss: 0.0300"
          ]
        },
        {
          "output_type": "stream",
          "name": "stderr",
          "text": [
            "WARNING:tensorflow:Early stopping conditioned on metric `value_loss` which is not available. Available metrics are: loss,val_loss\n"
          ]
        },
        {
          "output_type": "stream",
          "name": "stdout",
          "text": [
            "\b\b\b\b\b\b\b\b\b\b\b\b\b\b\b\b\b\b\b\b\b\b\b\b\b\b\b\b\b\b\b\b\b\b\b\b\b\b\b\b\b\b\b\b\b\b\b\b\b\b\b\b\b\b\b\b\b\b\b\b\b\r2/2 [==============================] - 0s 34ms/step - loss: 0.0255 - val_loss: 0.0368\n",
            "Epoch 233/500\n",
            "1/2 [==============>...............] - ETA: 0s - loss: 0.0087"
          ]
        },
        {
          "output_type": "stream",
          "name": "stderr",
          "text": [
            "WARNING:tensorflow:Early stopping conditioned on metric `value_loss` which is not available. Available metrics are: loss,val_loss\n"
          ]
        },
        {
          "output_type": "stream",
          "name": "stdout",
          "text": [
            "\b\b\b\b\b\b\b\b\b\b\b\b\b\b\b\b\b\b\b\b\b\b\b\b\b\b\b\b\b\b\b\b\b\b\b\b\b\b\b\b\b\b\b\b\b\b\b\b\b\b\b\b\b\b\b\b\b\b\b\b\b\r2/2 [==============================] - 0s 32ms/step - loss: 0.0285 - val_loss: 0.0383\n",
            "Epoch 234/500\n",
            "1/2 [==============>...............] - ETA: 0s - loss: 0.0116"
          ]
        },
        {
          "output_type": "stream",
          "name": "stderr",
          "text": [
            "WARNING:tensorflow:Early stopping conditioned on metric `value_loss` which is not available. Available metrics are: loss,val_loss\n"
          ]
        },
        {
          "output_type": "stream",
          "name": "stdout",
          "text": [
            "\b\b\b\b\b\b\b\b\b\b\b\b\b\b\b\b\b\b\b\b\b\b\b\b\b\b\b\b\b\b\b\b\b\b\b\b\b\b\b\b\b\b\b\b\b\b\b\b\b\b\b\b\b\b\b\b\b\b\b\b\b\r2/2 [==============================] - 0s 30ms/step - loss: 0.0247 - val_loss: 0.0376\n",
            "Epoch 235/500\n",
            "1/2 [==============>...............] - ETA: 0s - loss: 0.0142"
          ]
        },
        {
          "output_type": "stream",
          "name": "stderr",
          "text": [
            "WARNING:tensorflow:Early stopping conditioned on metric `value_loss` which is not available. Available metrics are: loss,val_loss\n"
          ]
        },
        {
          "output_type": "stream",
          "name": "stdout",
          "text": [
            "\b\b\b\b\b\b\b\b\b\b\b\b\b\b\b\b\b\b\b\b\b\b\b\b\b\b\b\b\b\b\b\b\b\b\b\b\b\b\b\b\b\b\b\b\b\b\b\b\b\b\b\b\b\b\b\b\b\b\b\b\b\r2/2 [==============================] - 0s 29ms/step - loss: 0.0266 - val_loss: 0.0388\n",
            "Epoch 236/500\n",
            "1/2 [==============>...............] - ETA: 0s - loss: 0.0299"
          ]
        },
        {
          "output_type": "stream",
          "name": "stderr",
          "text": [
            "WARNING:tensorflow:Early stopping conditioned on metric `value_loss` which is not available. Available metrics are: loss,val_loss\n"
          ]
        },
        {
          "output_type": "stream",
          "name": "stdout",
          "text": [
            "\b\b\b\b\b\b\b\b\b\b\b\b\b\b\b\b\b\b\b\b\b\b\b\b\b\b\b\b\b\b\b\b\b\b\b\b\b\b\b\b\b\b\b\b\b\b\b\b\b\b\b\b\b\b\b\b\b\b\b\b\b\r2/2 [==============================] - 0s 28ms/step - loss: 0.0230 - val_loss: 0.0387\n",
            "Epoch 237/500\n",
            "1/2 [==============>...............] - ETA: 0s - loss: 0.0209"
          ]
        },
        {
          "output_type": "stream",
          "name": "stderr",
          "text": [
            "WARNING:tensorflow:Early stopping conditioned on metric `value_loss` which is not available. Available metrics are: loss,val_loss\n"
          ]
        },
        {
          "output_type": "stream",
          "name": "stdout",
          "text": [
            "\b\b\b\b\b\b\b\b\b\b\b\b\b\b\b\b\b\b\b\b\b\b\b\b\b\b\b\b\b\b\b\b\b\b\b\b\b\b\b\b\b\b\b\b\b\b\b\b\b\b\b\b\b\b\b\b\b\b\b\b\b\r2/2 [==============================] - 0s 26ms/step - loss: 0.0280 - val_loss: 0.0407\n",
            "Epoch 238/500\n",
            "1/2 [==============>...............] - ETA: 0s - loss: 0.0149"
          ]
        },
        {
          "output_type": "stream",
          "name": "stderr",
          "text": [
            "WARNING:tensorflow:Early stopping conditioned on metric `value_loss` which is not available. Available metrics are: loss,val_loss\n"
          ]
        },
        {
          "output_type": "stream",
          "name": "stdout",
          "text": [
            "\b\b\b\b\b\b\b\b\b\b\b\b\b\b\b\b\b\b\b\b\b\b\b\b\b\b\b\b\b\b\b\b\b\b\b\b\b\b\b\b\b\b\b\b\b\b\b\b\b\b\b\b\b\b\b\b\b\b\b\b\b\r2/2 [==============================] - 0s 38ms/step - loss: 0.0234 - val_loss: 0.0370\n",
            "Epoch 239/500\n",
            "1/2 [==============>...............] - ETA: 0s - loss: 0.0441"
          ]
        },
        {
          "output_type": "stream",
          "name": "stderr",
          "text": [
            "WARNING:tensorflow:Early stopping conditioned on metric `value_loss` which is not available. Available metrics are: loss,val_loss\n"
          ]
        },
        {
          "output_type": "stream",
          "name": "stdout",
          "text": [
            "\b\b\b\b\b\b\b\b\b\b\b\b\b\b\b\b\b\b\b\b\b\b\b\b\b\b\b\b\b\b\b\b\b\b\b\b\b\b\b\b\b\b\b\b\b\b\b\b\b\b\b\b\b\b\b\b\b\b\b\b\b\r2/2 [==============================] - 0s 39ms/step - loss: 0.0263 - val_loss: 0.0389\n",
            "Epoch 240/500\n",
            "1/2 [==============>...............] - ETA: 0s - loss: 0.0328"
          ]
        },
        {
          "output_type": "stream",
          "name": "stderr",
          "text": [
            "WARNING:tensorflow:Early stopping conditioned on metric `value_loss` which is not available. Available metrics are: loss,val_loss\n"
          ]
        },
        {
          "output_type": "stream",
          "name": "stdout",
          "text": [
            "\b\b\b\b\b\b\b\b\b\b\b\b\b\b\b\b\b\b\b\b\b\b\b\b\b\b\b\b\b\b\b\b\b\b\b\b\b\b\b\b\b\b\b\b\b\b\b\b\b\b\b\b\b\b\b\b\b\b\b\b\b\r2/2 [==============================] - 0s 28ms/step - loss: 0.0279 - val_loss: 0.0483\n",
            "Epoch 241/500\n",
            "1/2 [==============>...............] - ETA: 0s - loss: 0.0445"
          ]
        },
        {
          "output_type": "stream",
          "name": "stderr",
          "text": [
            "WARNING:tensorflow:Early stopping conditioned on metric `value_loss` which is not available. Available metrics are: loss,val_loss\n"
          ]
        },
        {
          "output_type": "stream",
          "name": "stdout",
          "text": [
            "\b\b\b\b\b\b\b\b\b\b\b\b\b\b\b\b\b\b\b\b\b\b\b\b\b\b\b\b\b\b\b\b\b\b\b\b\b\b\b\b\b\b\b\b\b\b\b\b\b\b\b\b\b\b\b\b\b\b\b\b\b\r2/2 [==============================] - 0s 31ms/step - loss: 0.0276 - val_loss: 0.0421\n",
            "Epoch 242/500\n",
            "1/2 [==============>...............] - ETA: 0s - loss: 0.0420"
          ]
        },
        {
          "output_type": "stream",
          "name": "stderr",
          "text": [
            "WARNING:tensorflow:Early stopping conditioned on metric `value_loss` which is not available. Available metrics are: loss,val_loss\n"
          ]
        },
        {
          "output_type": "stream",
          "name": "stdout",
          "text": [
            "\b\b\b\b\b\b\b\b\b\b\b\b\b\b\b\b\b\b\b\b\b\b\b\b\b\b\b\b\b\b\b\b\b\b\b\b\b\b\b\b\b\b\b\b\b\b\b\b\b\b\b\b\b\b\b\b\b\b\b\b\b\r2/2 [==============================] - 0s 31ms/step - loss: 0.0272 - val_loss: 0.0268\n",
            "Epoch 243/500\n",
            "1/2 [==============>...............] - ETA: 0s - loss: 0.0333"
          ]
        },
        {
          "output_type": "stream",
          "name": "stderr",
          "text": [
            "WARNING:tensorflow:Early stopping conditioned on metric `value_loss` which is not available. Available metrics are: loss,val_loss\n"
          ]
        },
        {
          "output_type": "stream",
          "name": "stdout",
          "text": [
            "\b\b\b\b\b\b\b\b\b\b\b\b\b\b\b\b\b\b\b\b\b\b\b\b\b\b\b\b\b\b\b\b\b\b\b\b\b\b\b\b\b\b\b\b\b\b\b\b\b\b\b\b\b\b\b\b\b\b\b\b\b\r2/2 [==============================] - 0s 29ms/step - loss: 0.0294 - val_loss: 0.0277\n",
            "Epoch 244/500\n",
            "1/2 [==============>...............] - ETA: 0s - loss: 0.0224"
          ]
        },
        {
          "output_type": "stream",
          "name": "stderr",
          "text": [
            "WARNING:tensorflow:Early stopping conditioned on metric `value_loss` which is not available. Available metrics are: loss,val_loss\n"
          ]
        },
        {
          "output_type": "stream",
          "name": "stdout",
          "text": [
            "\b\b\b\b\b\b\b\b\b\b\b\b\b\b\b\b\b\b\b\b\b\b\b\b\b\b\b\b\b\b\b\b\b\b\b\b\b\b\b\b\b\b\b\b\b\b\b\b\b\b\b\b\b\b\b\b\b\b\b\b\b\r2/2 [==============================] - 0s 35ms/step - loss: 0.0263 - val_loss: 0.0458\n",
            "Epoch 245/500\n",
            "1/2 [==============>...............] - ETA: 0s - loss: 0.0133"
          ]
        },
        {
          "output_type": "stream",
          "name": "stderr",
          "text": [
            "WARNING:tensorflow:Early stopping conditioned on metric `value_loss` which is not available. Available metrics are: loss,val_loss\n"
          ]
        },
        {
          "output_type": "stream",
          "name": "stdout",
          "text": [
            "\b\b\b\b\b\b\b\b\b\b\b\b\b\b\b\b\b\b\b\b\b\b\b\b\b\b\b\b\b\b\b\b\b\b\b\b\b\b\b\b\b\b\b\b\b\b\b\b\b\b\b\b\b\b\b\b\b\b\b\b\b\r2/2 [==============================] - 0s 29ms/step - loss: 0.0268 - val_loss: 0.0435\n",
            "Epoch 246/500\n",
            "1/2 [==============>...............] - ETA: 0s - loss: 0.0189"
          ]
        },
        {
          "output_type": "stream",
          "name": "stderr",
          "text": [
            "WARNING:tensorflow:Early stopping conditioned on metric `value_loss` which is not available. Available metrics are: loss,val_loss\n"
          ]
        },
        {
          "output_type": "stream",
          "name": "stdout",
          "text": [
            "\b\b\b\b\b\b\b\b\b\b\b\b\b\b\b\b\b\b\b\b\b\b\b\b\b\b\b\b\b\b\b\b\b\b\b\b\b\b\b\b\b\b\b\b\b\b\b\b\b\b\b\b\b\b\b\b\b\b\b\b\b\r2/2 [==============================] - 0s 29ms/step - loss: 0.0279 - val_loss: 0.0292\n",
            "Epoch 247/500\n",
            "1/2 [==============>...............] - ETA: 0s - loss: 0.0392"
          ]
        },
        {
          "output_type": "stream",
          "name": "stderr",
          "text": [
            "WARNING:tensorflow:Early stopping conditioned on metric `value_loss` which is not available. Available metrics are: loss,val_loss\n"
          ]
        },
        {
          "output_type": "stream",
          "name": "stdout",
          "text": [
            "\b\b\b\b\b\b\b\b\b\b\b\b\b\b\b\b\b\b\b\b\b\b\b\b\b\b\b\b\b\b\b\b\b\b\b\b\b\b\b\b\b\b\b\b\b\b\b\b\b\b\b\b\b\b\b\b\b\b\b\b\b\r2/2 [==============================] - 0s 34ms/step - loss: 0.0269 - val_loss: 0.0259\n",
            "Epoch 248/500\n",
            "1/2 [==============>...............] - ETA: 0s - loss: 0.0119"
          ]
        },
        {
          "output_type": "stream",
          "name": "stderr",
          "text": [
            "WARNING:tensorflow:Early stopping conditioned on metric `value_loss` which is not available. Available metrics are: loss,val_loss\n"
          ]
        },
        {
          "output_type": "stream",
          "name": "stdout",
          "text": [
            "\b\b\b\b\b\b\b\b\b\b\b\b\b\b\b\b\b\b\b\b\b\b\b\b\b\b\b\b\b\b\b\b\b\b\b\b\b\b\b\b\b\b\b\b\b\b\b\b\b\b\b\b\b\b\b\b\b\b\b\b\b\r2/2 [==============================] - 0s 28ms/step - loss: 0.0234 - val_loss: 0.0428\n",
            "Epoch 249/500\n",
            "1/2 [==============>...............] - ETA: 0s - loss: 0.0175"
          ]
        },
        {
          "output_type": "stream",
          "name": "stderr",
          "text": [
            "WARNING:tensorflow:Early stopping conditioned on metric `value_loss` which is not available. Available metrics are: loss,val_loss\n"
          ]
        },
        {
          "output_type": "stream",
          "name": "stdout",
          "text": [
            "\b\b\b\b\b\b\b\b\b\b\b\b\b\b\b\b\b\b\b\b\b\b\b\b\b\b\b\b\b\b\b\b\b\b\b\b\b\b\b\b\b\b\b\b\b\b\b\b\b\b\b\b\b\b\b\b\b\b\b\b\b\r2/2 [==============================] - 0s 30ms/step - loss: 0.0296 - val_loss: 0.0553\n",
            "Epoch 250/500\n",
            "1/2 [==============>...............] - ETA: 0s - loss: 0.0214"
          ]
        },
        {
          "output_type": "stream",
          "name": "stderr",
          "text": [
            "WARNING:tensorflow:Early stopping conditioned on metric `value_loss` which is not available. Available metrics are: loss,val_loss\n"
          ]
        },
        {
          "output_type": "stream",
          "name": "stdout",
          "text": [
            "\b\b\b\b\b\b\b\b\b\b\b\b\b\b\b\b\b\b\b\b\b\b\b\b\b\b\b\b\b\b\b\b\b\b\b\b\b\b\b\b\b\b\b\b\b\b\b\b\b\b\b\b\b\b\b\b\b\b\b\b\b\r2/2 [==============================] - 0s 30ms/step - loss: 0.0286 - val_loss: 0.0395\n",
            "Epoch 251/500\n",
            "1/2 [==============>...............] - ETA: 0s - loss: 0.0401"
          ]
        },
        {
          "output_type": "stream",
          "name": "stderr",
          "text": [
            "WARNING:tensorflow:Early stopping conditioned on metric `value_loss` which is not available. Available metrics are: loss,val_loss\n"
          ]
        },
        {
          "output_type": "stream",
          "name": "stdout",
          "text": [
            "\b\b\b\b\b\b\b\b\b\b\b\b\b\b\b\b\b\b\b\b\b\b\b\b\b\b\b\b\b\b\b\b\b\b\b\b\b\b\b\b\b\b\b\b\b\b\b\b\b\b\b\b\b\b\b\b\b\b\b\b\b\r2/2 [==============================] - 0s 35ms/step - loss: 0.0264 - val_loss: 0.0248\n",
            "Epoch 252/500\n",
            "1/2 [==============>...............] - ETA: 0s - loss: 0.0275"
          ]
        },
        {
          "output_type": "stream",
          "name": "stderr",
          "text": [
            "WARNING:tensorflow:Early stopping conditioned on metric `value_loss` which is not available. Available metrics are: loss,val_loss\n"
          ]
        },
        {
          "output_type": "stream",
          "name": "stdout",
          "text": [
            "\b\b\b\b\b\b\b\b\b\b\b\b\b\b\b\b\b\b\b\b\b\b\b\b\b\b\b\b\b\b\b\b\b\b\b\b\b\b\b\b\b\b\b\b\b\b\b\b\b\b\b\b\b\b\b\b\b\b\b\b\b\r2/2 [==============================] - 0s 29ms/step - loss: 0.0298 - val_loss: 0.0396\n",
            "Epoch 253/500\n",
            "1/2 [==============>...............] - ETA: 0s - loss: 0.0185"
          ]
        },
        {
          "output_type": "stream",
          "name": "stderr",
          "text": [
            "WARNING:tensorflow:Early stopping conditioned on metric `value_loss` which is not available. Available metrics are: loss,val_loss\n"
          ]
        },
        {
          "output_type": "stream",
          "name": "stdout",
          "text": [
            "\b\b\b\b\b\b\b\b\b\b\b\b\b\b\b\b\b\b\b\b\b\b\b\b\b\b\b\b\b\b\b\b\b\b\b\b\b\b\b\b\b\b\b\b\b\b\b\b\b\b\b\b\b\b\b\b\b\b\b\b\b\r2/2 [==============================] - 0s 32ms/step - loss: 0.0260 - val_loss: 0.0496\n",
            "Epoch 254/500\n",
            "1/2 [==============>...............] - ETA: 0s - loss: 0.0355"
          ]
        },
        {
          "output_type": "stream",
          "name": "stderr",
          "text": [
            "WARNING:tensorflow:Early stopping conditioned on metric `value_loss` which is not available. Available metrics are: loss,val_loss\n"
          ]
        },
        {
          "output_type": "stream",
          "name": "stdout",
          "text": [
            "\b\b\b\b\b\b\b\b\b\b\b\b\b\b\b\b\b\b\b\b\b\b\b\b\b\b\b\b\b\b\b\b\b\b\b\b\b\b\b\b\b\b\b\b\b\b\b\b\b\b\b\b\b\b\b\b\b\b\b\b\b\r2/2 [==============================] - 0s 33ms/step - loss: 0.0267 - val_loss: 0.0374\n",
            "Epoch 255/500\n",
            "1/2 [==============>...............] - ETA: 0s - loss: 0.0321"
          ]
        },
        {
          "output_type": "stream",
          "name": "stderr",
          "text": [
            "WARNING:tensorflow:Early stopping conditioned on metric `value_loss` which is not available. Available metrics are: loss,val_loss\n"
          ]
        },
        {
          "output_type": "stream",
          "name": "stdout",
          "text": [
            "\b\b\b\b\b\b\b\b\b\b\b\b\b\b\b\b\b\b\b\b\b\b\b\b\b\b\b\b\b\b\b\b\b\b\b\b\b\b\b\b\b\b\b\b\b\b\b\b\b\b\b\b\b\b\b\b\b\b\b\b\b\r2/2 [==============================] - 0s 31ms/step - loss: 0.0222 - val_loss: 0.0299\n",
            "Epoch 256/500\n",
            "1/2 [==============>...............] - ETA: 0s - loss: 0.0137"
          ]
        },
        {
          "output_type": "stream",
          "name": "stderr",
          "text": [
            "WARNING:tensorflow:Early stopping conditioned on metric `value_loss` which is not available. Available metrics are: loss,val_loss\n"
          ]
        },
        {
          "output_type": "stream",
          "name": "stdout",
          "text": [
            "\b\b\b\b\b\b\b\b\b\b\b\b\b\b\b\b\b\b\b\b\b\b\b\b\b\b\b\b\b\b\b\b\b\b\b\b\b\b\b\b\b\b\b\b\b\b\b\b\b\b\b\b\b\b\b\b\b\b\b\b\b\r2/2 [==============================] - 0s 30ms/step - loss: 0.0272 - val_loss: 0.0378\n",
            "Epoch 257/500\n",
            "1/2 [==============>...............] - ETA: 0s - loss: 0.0396"
          ]
        },
        {
          "output_type": "stream",
          "name": "stderr",
          "text": [
            "WARNING:tensorflow:Early stopping conditioned on metric `value_loss` which is not available. Available metrics are: loss,val_loss\n"
          ]
        },
        {
          "output_type": "stream",
          "name": "stdout",
          "text": [
            "\b\b\b\b\b\b\b\b\b\b\b\b\b\b\b\b\b\b\b\b\b\b\b\b\b\b\b\b\b\b\b\b\b\b\b\b\b\b\b\b\b\b\b\b\b\b\b\b\b\b\b\b\b\b\b\b\b\b\b\b\b\r2/2 [==============================] - 0s 34ms/step - loss: 0.0257 - val_loss: 0.0465\n",
            "Epoch 258/500\n",
            "1/2 [==============>...............] - ETA: 0s - loss: 0.0260"
          ]
        },
        {
          "output_type": "stream",
          "name": "stderr",
          "text": [
            "WARNING:tensorflow:Early stopping conditioned on metric `value_loss` which is not available. Available metrics are: loss,val_loss\n"
          ]
        },
        {
          "output_type": "stream",
          "name": "stdout",
          "text": [
            "\b\b\b\b\b\b\b\b\b\b\b\b\b\b\b\b\b\b\b\b\b\b\b\b\b\b\b\b\b\b\b\b\b\b\b\b\b\b\b\b\b\b\b\b\b\b\b\b\b\b\b\b\b\b\b\b\b\b\b\b\b\r2/2 [==============================] - 0s 30ms/step - loss: 0.0285 - val_loss: 0.0411\n",
            "Epoch 259/500\n",
            "1/2 [==============>...............] - ETA: 0s - loss: 0.0415"
          ]
        },
        {
          "output_type": "stream",
          "name": "stderr",
          "text": [
            "WARNING:tensorflow:Early stopping conditioned on metric `value_loss` which is not available. Available metrics are: loss,val_loss\n"
          ]
        },
        {
          "output_type": "stream",
          "name": "stdout",
          "text": [
            "\b\b\b\b\b\b\b\b\b\b\b\b\b\b\b\b\b\b\b\b\b\b\b\b\b\b\b\b\b\b\b\b\b\b\b\b\b\b\b\b\b\b\b\b\b\b\b\b\b\b\b\b\b\b\b\b\b\b\b\b\b\r2/2 [==============================] - 0s 30ms/step - loss: 0.0278 - val_loss: 0.0341\n",
            "Epoch 260/500\n",
            "1/2 [==============>...............] - ETA: 0s - loss: 0.0414"
          ]
        },
        {
          "output_type": "stream",
          "name": "stderr",
          "text": [
            "WARNING:tensorflow:Early stopping conditioned on metric `value_loss` which is not available. Available metrics are: loss,val_loss\n"
          ]
        },
        {
          "output_type": "stream",
          "name": "stdout",
          "text": [
            "\b\b\b\b\b\b\b\b\b\b\b\b\b\b\b\b\b\b\b\b\b\b\b\b\b\b\b\b\b\b\b\b\b\b\b\b\b\b\b\b\b\b\b\b\b\b\b\b\b\b\b\b\b\b\b\b\b\b\b\b\b\r2/2 [==============================] - 0s 29ms/step - loss: 0.0277 - val_loss: 0.0336\n",
            "Epoch 261/500\n",
            "1/2 [==============>...............] - ETA: 0s - loss: 0.0212"
          ]
        },
        {
          "output_type": "stream",
          "name": "stderr",
          "text": [
            "WARNING:tensorflow:Early stopping conditioned on metric `value_loss` which is not available. Available metrics are: loss,val_loss\n"
          ]
        },
        {
          "output_type": "stream",
          "name": "stdout",
          "text": [
            "\b\b\b\b\b\b\b\b\b\b\b\b\b\b\b\b\b\b\b\b\b\b\b\b\b\b\b\b\b\b\b\b\b\b\b\b\b\b\b\b\b\b\b\b\b\b\b\b\b\b\b\b\b\b\b\b\b\b\b\b\b\r2/2 [==============================] - 0s 30ms/step - loss: 0.0255 - val_loss: 0.0373\n",
            "Epoch 262/500\n",
            "1/2 [==============>...............] - ETA: 0s - loss: 0.0303"
          ]
        },
        {
          "output_type": "stream",
          "name": "stderr",
          "text": [
            "WARNING:tensorflow:Early stopping conditioned on metric `value_loss` which is not available. Available metrics are: loss,val_loss\n"
          ]
        },
        {
          "output_type": "stream",
          "name": "stdout",
          "text": [
            "\b\b\b\b\b\b\b\b\b\b\b\b\b\b\b\b\b\b\b\b\b\b\b\b\b\b\b\b\b\b\b\b\b\b\b\b\b\b\b\b\b\b\b\b\b\b\b\b\b\b\b\b\b\b\b\b\b\b\b\b\b\r2/2 [==============================] - 0s 39ms/step - loss: 0.0257 - val_loss: 0.0351\n",
            "Epoch 263/500\n",
            "1/2 [==============>...............] - ETA: 0s - loss: 0.0427"
          ]
        },
        {
          "output_type": "stream",
          "name": "stderr",
          "text": [
            "WARNING:tensorflow:Early stopping conditioned on metric `value_loss` which is not available. Available metrics are: loss,val_loss\n"
          ]
        },
        {
          "output_type": "stream",
          "name": "stdout",
          "text": [
            "\b\b\b\b\b\b\b\b\b\b\b\b\b\b\b\b\b\b\b\b\b\b\b\b\b\b\b\b\b\b\b\b\b\b\b\b\b\b\b\b\b\b\b\b\b\b\b\b\b\b\b\b\b\b\b\b\b\b\b\b\b\r2/2 [==============================] - 0s 32ms/step - loss: 0.0272 - val_loss: 0.0317\n",
            "Epoch 264/500\n",
            "1/2 [==============>...............] - ETA: 0s - loss: 0.0270"
          ]
        },
        {
          "output_type": "stream",
          "name": "stderr",
          "text": [
            "WARNING:tensorflow:Early stopping conditioned on metric `value_loss` which is not available. Available metrics are: loss,val_loss\n"
          ]
        },
        {
          "output_type": "stream",
          "name": "stdout",
          "text": [
            "\b\b\b\b\b\b\b\b\b\b\b\b\b\b\b\b\b\b\b\b\b\b\b\b\b\b\b\b\b\b\b\b\b\b\b\b\b\b\b\b\b\b\b\b\b\b\b\b\b\b\b\b\b\b\b\b\b\b\b\b\b\r2/2 [==============================] - 0s 34ms/step - loss: 0.0276 - val_loss: 0.0330\n",
            "Epoch 265/500\n",
            "1/2 [==============>...............] - ETA: 0s - loss: 0.0162"
          ]
        },
        {
          "output_type": "stream",
          "name": "stderr",
          "text": [
            "WARNING:tensorflow:Early stopping conditioned on metric `value_loss` which is not available. Available metrics are: loss,val_loss\n"
          ]
        },
        {
          "output_type": "stream",
          "name": "stdout",
          "text": [
            "\b\b\b\b\b\b\b\b\b\b\b\b\b\b\b\b\b\b\b\b\b\b\b\b\b\b\b\b\b\b\b\b\b\b\b\b\b\b\b\b\b\b\b\b\b\b\b\b\b\b\b\b\b\b\b\b\b\b\b\b\b\r2/2 [==============================] - 0s 30ms/step - loss: 0.0270 - val_loss: 0.0342\n",
            "Epoch 266/500\n",
            "1/2 [==============>...............] - ETA: 0s - loss: 0.0040"
          ]
        },
        {
          "output_type": "stream",
          "name": "stderr",
          "text": [
            "WARNING:tensorflow:Early stopping conditioned on metric `value_loss` which is not available. Available metrics are: loss,val_loss\n"
          ]
        },
        {
          "output_type": "stream",
          "name": "stdout",
          "text": [
            "\b\b\b\b\b\b\b\b\b\b\b\b\b\b\b\b\b\b\b\b\b\b\b\b\b\b\b\b\b\b\b\b\b\b\b\b\b\b\b\b\b\b\b\b\b\b\b\b\b\b\b\b\b\b\b\b\b\b\b\b\b\r2/2 [==============================] - 0s 33ms/step - loss: 0.0288 - val_loss: 0.0373\n",
            "Epoch 267/500\n",
            "1/2 [==============>...............] - ETA: 0s - loss: 0.0107"
          ]
        },
        {
          "output_type": "stream",
          "name": "stderr",
          "text": [
            "WARNING:tensorflow:Early stopping conditioned on metric `value_loss` which is not available. Available metrics are: loss,val_loss\n"
          ]
        },
        {
          "output_type": "stream",
          "name": "stdout",
          "text": [
            "\b\b\b\b\b\b\b\b\b\b\b\b\b\b\b\b\b\b\b\b\b\b\b\b\b\b\b\b\b\b\b\b\b\b\b\b\b\b\b\b\b\b\b\b\b\b\b\b\b\b\b\b\b\b\b\b\b\b\b\b\b\r2/2 [==============================] - 0s 30ms/step - loss: 0.0257 - val_loss: 0.0413\n",
            "Epoch 268/500\n",
            "1/2 [==============>...............] - ETA: 0s - loss: 0.0288"
          ]
        },
        {
          "output_type": "stream",
          "name": "stderr",
          "text": [
            "WARNING:tensorflow:Early stopping conditioned on metric `value_loss` which is not available. Available metrics are: loss,val_loss\n"
          ]
        },
        {
          "output_type": "stream",
          "name": "stdout",
          "text": [
            "\b\b\b\b\b\b\b\b\b\b\b\b\b\b\b\b\b\b\b\b\b\b\b\b\b\b\b\b\b\b\b\b\b\b\b\b\b\b\b\b\b\b\b\b\b\b\b\b\b\b\b\b\b\b\b\b\b\b\b\b\b\r2/2 [==============================] - 0s 31ms/step - loss: 0.0257 - val_loss: 0.0381\n",
            "Epoch 269/500\n",
            "1/2 [==============>...............] - ETA: 0s - loss: 0.0202"
          ]
        },
        {
          "output_type": "stream",
          "name": "stderr",
          "text": [
            "WARNING:tensorflow:Early stopping conditioned on metric `value_loss` which is not available. Available metrics are: loss,val_loss\n"
          ]
        },
        {
          "output_type": "stream",
          "name": "stdout",
          "text": [
            "\b\b\b\b\b\b\b\b\b\b\b\b\b\b\b\b\b\b\b\b\b\b\b\b\b\b\b\b\b\b\b\b\b\b\b\b\b\b\b\b\b\b\b\b\b\b\b\b\b\b\b\b\b\b\b\b\b\b\b\b\b\r2/2 [==============================] - 0s 34ms/step - loss: 0.0268 - val_loss: 0.0405\n",
            "Epoch 270/500\n",
            "1/2 [==============>...............] - ETA: 0s - loss: 0.0308"
          ]
        },
        {
          "output_type": "stream",
          "name": "stderr",
          "text": [
            "WARNING:tensorflow:Early stopping conditioned on metric `value_loss` which is not available. Available metrics are: loss,val_loss\n"
          ]
        },
        {
          "output_type": "stream",
          "name": "stdout",
          "text": [
            "\b\b\b\b\b\b\b\b\b\b\b\b\b\b\b\b\b\b\b\b\b\b\b\b\b\b\b\b\b\b\b\b\b\b\b\b\b\b\b\b\b\b\b\b\b\b\b\b\b\b\b\b\b\b\b\b\b\b\b\b\b\r2/2 [==============================] - 0s 31ms/step - loss: 0.0269 - val_loss: 0.0418\n",
            "Epoch 271/500\n",
            "1/2 [==============>...............] - ETA: 0s - loss: 0.0396"
          ]
        },
        {
          "output_type": "stream",
          "name": "stderr",
          "text": [
            "WARNING:tensorflow:Early stopping conditioned on metric `value_loss` which is not available. Available metrics are: loss,val_loss\n"
          ]
        },
        {
          "output_type": "stream",
          "name": "stdout",
          "text": [
            "\b\b\b\b\b\b\b\b\b\b\b\b\b\b\b\b\b\b\b\b\b\b\b\b\b\b\b\b\b\b\b\b\b\b\b\b\b\b\b\b\b\b\b\b\b\b\b\b\b\b\b\b\b\b\b\b\b\b\b\b\b\r2/2 [==============================] - 0s 32ms/step - loss: 0.0283 - val_loss: 0.0326\n",
            "Epoch 272/500\n",
            "1/2 [==============>...............] - ETA: 0s - loss: 0.0335"
          ]
        },
        {
          "output_type": "stream",
          "name": "stderr",
          "text": [
            "WARNING:tensorflow:Early stopping conditioned on metric `value_loss` which is not available. Available metrics are: loss,val_loss\n"
          ]
        },
        {
          "output_type": "stream",
          "name": "stdout",
          "text": [
            "\b\b\b\b\b\b\b\b\b\b\b\b\b\b\b\b\b\b\b\b\b\b\b\b\b\b\b\b\b\b\b\b\b\b\b\b\b\b\b\b\b\b\b\b\b\b\b\b\b\b\b\b\b\b\b\b\b\b\b\b\b\r2/2 [==============================] - 0s 28ms/step - loss: 0.0282 - val_loss: 0.0261\n",
            "Epoch 273/500\n",
            "1/2 [==============>...............] - ETA: 0s - loss: 0.0161"
          ]
        },
        {
          "output_type": "stream",
          "name": "stderr",
          "text": [
            "WARNING:tensorflow:Early stopping conditioned on metric `value_loss` which is not available. Available metrics are: loss,val_loss\n"
          ]
        },
        {
          "output_type": "stream",
          "name": "stdout",
          "text": [
            "\b\b\b\b\b\b\b\b\b\b\b\b\b\b\b\b\b\b\b\b\b\b\b\b\b\b\b\b\b\b\b\b\b\b\b\b\b\b\b\b\b\b\b\b\b\b\b\b\b\b\b\b\b\b\b\b\b\b\b\b\b\r2/2 [==============================] - 0s 30ms/step - loss: 0.0264 - val_loss: 0.0336\n",
            "Epoch 274/500\n",
            "1/2 [==============>...............] - ETA: 0s - loss: 0.0236"
          ]
        },
        {
          "output_type": "stream",
          "name": "stderr",
          "text": [
            "WARNING:tensorflow:Early stopping conditioned on metric `value_loss` which is not available. Available metrics are: loss,val_loss\n"
          ]
        },
        {
          "output_type": "stream",
          "name": "stdout",
          "text": [
            "\b\b\b\b\b\b\b\b\b\b\b\b\b\b\b\b\b\b\b\b\b\b\b\b\b\b\b\b\b\b\b\b\b\b\b\b\b\b\b\b\b\b\b\b\b\b\b\b\b\b\b\b\b\b\b\b\b\b\b\b\b\r2/2 [==============================] - 0s 33ms/step - loss: 0.0251 - val_loss: 0.0408\n",
            "Epoch 275/500\n",
            "1/2 [==============>...............] - ETA: 0s - loss: 0.0178"
          ]
        },
        {
          "output_type": "stream",
          "name": "stderr",
          "text": [
            "WARNING:tensorflow:Early stopping conditioned on metric `value_loss` which is not available. Available metrics are: loss,val_loss\n"
          ]
        },
        {
          "output_type": "stream",
          "name": "stdout",
          "text": [
            "\b\b\b\b\b\b\b\b\b\b\b\b\b\b\b\b\b\b\b\b\b\b\b\b\b\b\b\b\b\b\b\b\b\b\b\b\b\b\b\b\b\b\b\b\b\b\b\b\b\b\b\b\b\b\b\b\b\b\b\b\b\r2/2 [==============================] - 0s 32ms/step - loss: 0.0263 - val_loss: 0.0310\n",
            "Epoch 276/500\n",
            "1/2 [==============>...............] - ETA: 0s - loss: 0.0286"
          ]
        },
        {
          "output_type": "stream",
          "name": "stderr",
          "text": [
            "WARNING:tensorflow:Early stopping conditioned on metric `value_loss` which is not available. Available metrics are: loss,val_loss\n"
          ]
        },
        {
          "output_type": "stream",
          "name": "stdout",
          "text": [
            "\b\b\b\b\b\b\b\b\b\b\b\b\b\b\b\b\b\b\b\b\b\b\b\b\b\b\b\b\b\b\b\b\b\b\b\b\b\b\b\b\b\b\b\b\b\b\b\b\b\b\b\b\b\b\b\b\b\b\b\b\b\r2/2 [==============================] - 0s 31ms/step - loss: 0.0265 - val_loss: 0.0273\n",
            "Epoch 277/500\n",
            "1/2 [==============>...............] - ETA: 0s - loss: 0.0423"
          ]
        },
        {
          "output_type": "stream",
          "name": "stderr",
          "text": [
            "WARNING:tensorflow:Early stopping conditioned on metric `value_loss` which is not available. Available metrics are: loss,val_loss\n"
          ]
        },
        {
          "output_type": "stream",
          "name": "stdout",
          "text": [
            "\b\b\b\b\b\b\b\b\b\b\b\b\b\b\b\b\b\b\b\b\b\b\b\b\b\b\b\b\b\b\b\b\b\b\b\b\b\b\b\b\b\b\b\b\b\b\b\b\b\b\b\b\b\b\b\b\b\b\b\b\b\r2/2 [==============================] - 0s 42ms/step - loss: 0.0272 - val_loss: 0.0345\n",
            "Epoch 278/500\n",
            "1/2 [==============>...............] - ETA: 0s - loss: 0.0322"
          ]
        },
        {
          "output_type": "stream",
          "name": "stderr",
          "text": [
            "WARNING:tensorflow:Early stopping conditioned on metric `value_loss` which is not available. Available metrics are: loss,val_loss\n"
          ]
        },
        {
          "output_type": "stream",
          "name": "stdout",
          "text": [
            "\b\b\b\b\b\b\b\b\b\b\b\b\b\b\b\b\b\b\b\b\b\b\b\b\b\b\b\b\b\b\b\b\b\b\b\b\b\b\b\b\b\b\b\b\b\b\b\b\b\b\b\b\b\b\b\b\b\b\b\b\b\r2/2 [==============================] - 0s 35ms/step - loss: 0.0266 - val_loss: 0.0424\n",
            "Epoch 279/500\n",
            "1/2 [==============>...............] - ETA: 0s - loss: 0.0412"
          ]
        },
        {
          "output_type": "stream",
          "name": "stderr",
          "text": [
            "WARNING:tensorflow:Early stopping conditioned on metric `value_loss` which is not available. Available metrics are: loss,val_loss\n"
          ]
        },
        {
          "output_type": "stream",
          "name": "stdout",
          "text": [
            "\b\b\b\b\b\b\b\b\b\b\b\b\b\b\b\b\b\b\b\b\b\b\b\b\b\b\b\b\b\b\b\b\b\b\b\b\b\b\b\b\b\b\b\b\b\b\b\b\b\b\b\b\b\b\b\b\b\b\b\b\b\r2/2 [==============================] - 0s 31ms/step - loss: 0.0264 - val_loss: 0.0377\n",
            "Epoch 280/500\n",
            "1/2 [==============>...............] - ETA: 0s - loss: 0.0449"
          ]
        },
        {
          "output_type": "stream",
          "name": "stderr",
          "text": [
            "WARNING:tensorflow:Early stopping conditioned on metric `value_loss` which is not available. Available metrics are: loss,val_loss\n"
          ]
        },
        {
          "output_type": "stream",
          "name": "stdout",
          "text": [
            "\b\b\b\b\b\b\b\b\b\b\b\b\b\b\b\b\b\b\b\b\b\b\b\b\b\b\b\b\b\b\b\b\b\b\b\b\b\b\b\b\b\b\b\b\b\b\b\b\b\b\b\b\b\b\b\b\b\b\b\b\b\r2/2 [==============================] - 0s 34ms/step - loss: 0.0245 - val_loss: 0.0266\n",
            "Epoch 281/500\n",
            "1/2 [==============>...............] - ETA: 0s - loss: 0.0187"
          ]
        },
        {
          "output_type": "stream",
          "name": "stderr",
          "text": [
            "WARNING:tensorflow:Early stopping conditioned on metric `value_loss` which is not available. Available metrics are: loss,val_loss\n"
          ]
        },
        {
          "output_type": "stream",
          "name": "stdout",
          "text": [
            "\b\b\b\b\b\b\b\b\b\b\b\b\b\b\b\b\b\b\b\b\b\b\b\b\b\b\b\b\b\b\b\b\b\b\b\b\b\b\b\b\b\b\b\b\b\b\b\b\b\b\b\b\b\b\b\b\b\b\b\b\b\r2/2 [==============================] - 0s 30ms/step - loss: 0.0265 - val_loss: 0.0281\n",
            "Epoch 282/500\n",
            "1/2 [==============>...............] - ETA: 0s - loss: 0.0437"
          ]
        },
        {
          "output_type": "stream",
          "name": "stderr",
          "text": [
            "WARNING:tensorflow:Early stopping conditioned on metric `value_loss` which is not available. Available metrics are: loss,val_loss\n"
          ]
        },
        {
          "output_type": "stream",
          "name": "stdout",
          "text": [
            "\b\b\b\b\b\b\b\b\b\b\b\b\b\b\b\b\b\b\b\b\b\b\b\b\b\b\b\b\b\b\b\b\b\b\b\b\b\b\b\b\b\b\b\b\b\b\b\b\b\b\b\b\b\b\b\b\b\b\b\b\b\r2/2 [==============================] - 0s 32ms/step - loss: 0.0253 - val_loss: 0.0421\n",
            "Epoch 283/500\n",
            "1/2 [==============>...............] - ETA: 0s - loss: 0.0119"
          ]
        },
        {
          "output_type": "stream",
          "name": "stderr",
          "text": [
            "WARNING:tensorflow:Early stopping conditioned on metric `value_loss` which is not available. Available metrics are: loss,val_loss\n"
          ]
        },
        {
          "output_type": "stream",
          "name": "stdout",
          "text": [
            "\b\b\b\b\b\b\b\b\b\b\b\b\b\b\b\b\b\b\b\b\b\b\b\b\b\b\b\b\b\b\b\b\b\b\b\b\b\b\b\b\b\b\b\b\b\b\b\b\b\b\b\b\b\b\b\b\b\b\b\b\b\r2/2 [==============================] - 0s 29ms/step - loss: 0.0285 - val_loss: 0.0474\n",
            "Epoch 284/500\n",
            "1/2 [==============>...............] - ETA: 0s - loss: 0.0386"
          ]
        },
        {
          "output_type": "stream",
          "name": "stderr",
          "text": [
            "WARNING:tensorflow:Early stopping conditioned on metric `value_loss` which is not available. Available metrics are: loss,val_loss\n"
          ]
        },
        {
          "output_type": "stream",
          "name": "stdout",
          "text": [
            "\b\b\b\b\b\b\b\b\b\b\b\b\b\b\b\b\b\b\b\b\b\b\b\b\b\b\b\b\b\b\b\b\b\b\b\b\b\b\b\b\b\b\b\b\b\b\b\b\b\b\b\b\b\b\b\b\b\b\b\b\b\r2/2 [==============================] - 0s 34ms/step - loss: 0.0296 - val_loss: 0.0366\n",
            "Epoch 285/500\n",
            "1/2 [==============>...............] - ETA: 0s - loss: 0.0136"
          ]
        },
        {
          "output_type": "stream",
          "name": "stderr",
          "text": [
            "WARNING:tensorflow:Early stopping conditioned on metric `value_loss` which is not available. Available metrics are: loss,val_loss\n"
          ]
        },
        {
          "output_type": "stream",
          "name": "stdout",
          "text": [
            "\b\b\b\b\b\b\b\b\b\b\b\b\b\b\b\b\b\b\b\b\b\b\b\b\b\b\b\b\b\b\b\b\b\b\b\b\b\b\b\b\b\b\b\b\b\b\b\b\b\b\b\b\b\b\b\b\b\b\b\b\b\r2/2 [==============================] - 0s 29ms/step - loss: 0.0272 - val_loss: 0.0292\n",
            "Epoch 286/500\n",
            "1/2 [==============>...............] - ETA: 0s - loss: 0.0375"
          ]
        },
        {
          "output_type": "stream",
          "name": "stderr",
          "text": [
            "WARNING:tensorflow:Early stopping conditioned on metric `value_loss` which is not available. Available metrics are: loss,val_loss\n"
          ]
        },
        {
          "output_type": "stream",
          "name": "stdout",
          "text": [
            "\b\b\b\b\b\b\b\b\b\b\b\b\b\b\b\b\b\b\b\b\b\b\b\b\b\b\b\b\b\b\b\b\b\b\b\b\b\b\b\b\b\b\b\b\b\b\b\b\b\b\b\b\b\b\b\b\b\b\b\b\b\r2/2 [==============================] - 0s 30ms/step - loss: 0.0268 - val_loss: 0.0296\n",
            "Epoch 287/500\n",
            "1/2 [==============>...............] - ETA: 0s - loss: 0.0150"
          ]
        },
        {
          "output_type": "stream",
          "name": "stderr",
          "text": [
            "WARNING:tensorflow:Early stopping conditioned on metric `value_loss` which is not available. Available metrics are: loss,val_loss\n"
          ]
        },
        {
          "output_type": "stream",
          "name": "stdout",
          "text": [
            "\b\b\b\b\b\b\b\b\b\b\b\b\b\b\b\b\b\b\b\b\b\b\b\b\b\b\b\b\b\b\b\b\b\b\b\b\b\b\b\b\b\b\b\b\b\b\b\b\b\b\b\b\b\b\b\b\b\b\b\b\b\r2/2 [==============================] - 0s 39ms/step - loss: 0.0282 - val_loss: 0.0388\n",
            "Epoch 288/500\n",
            "1/2 [==============>...............] - ETA: 0s - loss: 0.0254"
          ]
        },
        {
          "output_type": "stream",
          "name": "stderr",
          "text": [
            "WARNING:tensorflow:Early stopping conditioned on metric `value_loss` which is not available. Available metrics are: loss,val_loss\n"
          ]
        },
        {
          "output_type": "stream",
          "name": "stdout",
          "text": [
            "\b\b\b\b\b\b\b\b\b\b\b\b\b\b\b\b\b\b\b\b\b\b\b\b\b\b\b\b\b\b\b\b\b\b\b\b\b\b\b\b\b\b\b\b\b\b\b\b\b\b\b\b\b\b\b\b\b\b\b\b\b\r2/2 [==============================] - 0s 27ms/step - loss: 0.0300 - val_loss: 0.0361\n",
            "Epoch 289/500\n",
            "1/2 [==============>...............] - ETA: 0s - loss: 0.0087"
          ]
        },
        {
          "output_type": "stream",
          "name": "stderr",
          "text": [
            "WARNING:tensorflow:Early stopping conditioned on metric `value_loss` which is not available. Available metrics are: loss,val_loss\n"
          ]
        },
        {
          "output_type": "stream",
          "name": "stdout",
          "text": [
            "\b\b\b\b\b\b\b\b\b\b\b\b\b\b\b\b\b\b\b\b\b\b\b\b\b\b\b\b\b\b\b\b\b\b\b\b\b\b\b\b\b\b\b\b\b\b\b\b\b\b\b\b\b\b\b\b\b\b\b\b\b\r2/2 [==============================] - 0s 54ms/step - loss: 0.0226 - val_loss: 0.0276\n",
            "Epoch 290/500\n",
            "1/2 [==============>...............] - ETA: 0s - loss: 0.0357"
          ]
        },
        {
          "output_type": "stream",
          "name": "stderr",
          "text": [
            "WARNING:tensorflow:Early stopping conditioned on metric `value_loss` which is not available. Available metrics are: loss,val_loss\n"
          ]
        },
        {
          "output_type": "stream",
          "name": "stdout",
          "text": [
            "\b\b\b\b\b\b\b\b\b\b\b\b\b\b\b\b\b\b\b\b\b\b\b\b\b\b\b\b\b\b\b\b\b\b\b\b\b\b\b\b\b\b\b\b\b\b\b\b\b\b\b\b\b\b\b\b\b\b\b\b\b\r2/2 [==============================] - 0s 30ms/step - loss: 0.0279 - val_loss: 0.0258\n",
            "Epoch 291/500\n",
            "1/2 [==============>...............] - ETA: 0s - loss: 0.0396"
          ]
        },
        {
          "output_type": "stream",
          "name": "stderr",
          "text": [
            "WARNING:tensorflow:Early stopping conditioned on metric `value_loss` which is not available. Available metrics are: loss,val_loss\n"
          ]
        },
        {
          "output_type": "stream",
          "name": "stdout",
          "text": [
            "\b\b\b\b\b\b\b\b\b\b\b\b\b\b\b\b\b\b\b\b\b\b\b\b\b\b\b\b\b\b\b\b\b\b\b\b\b\b\b\b\b\b\b\b\b\b\b\b\b\b\b\b\b\b\b\b\b\b\b\b\b\r2/2 [==============================] - 0s 32ms/step - loss: 0.0242 - val_loss: 0.0329\n",
            "Epoch 292/500\n",
            "1/2 [==============>...............] - ETA: 0s - loss: 0.0360"
          ]
        },
        {
          "output_type": "stream",
          "name": "stderr",
          "text": [
            "WARNING:tensorflow:Early stopping conditioned on metric `value_loss` which is not available. Available metrics are: loss,val_loss\n"
          ]
        },
        {
          "output_type": "stream",
          "name": "stdout",
          "text": [
            "\b\b\b\b\b\b\b\b\b\b\b\b\b\b\b\b\b\b\b\b\b\b\b\b\b\b\b\b\b\b\b\b\b\b\b\b\b\b\b\b\b\b\b\b\b\b\b\b\b\b\b\b\b\b\b\b\b\b\b\b\b\r2/2 [==============================] - 0s 37ms/step - loss: 0.0280 - val_loss: 0.0389\n",
            "Epoch 293/500\n",
            "1/2 [==============>...............] - ETA: 0s - loss: 0.0439"
          ]
        },
        {
          "output_type": "stream",
          "name": "stderr",
          "text": [
            "WARNING:tensorflow:Early stopping conditioned on metric `value_loss` which is not available. Available metrics are: loss,val_loss\n"
          ]
        },
        {
          "output_type": "stream",
          "name": "stdout",
          "text": [
            "\b\b\b\b\b\b\b\b\b\b\b\b\b\b\b\b\b\b\b\b\b\b\b\b\b\b\b\b\b\b\b\b\b\b\b\b\b\b\b\b\b\b\b\b\b\b\b\b\b\b\b\b\b\b\b\b\b\b\b\b\b\r2/2 [==============================] - 0s 42ms/step - loss: 0.0281 - val_loss: 0.0365\n",
            "Epoch 294/500\n",
            "1/2 [==============>...............] - ETA: 0s - loss: 0.0213"
          ]
        },
        {
          "output_type": "stream",
          "name": "stderr",
          "text": [
            "WARNING:tensorflow:Early stopping conditioned on metric `value_loss` which is not available. Available metrics are: loss,val_loss\n"
          ]
        },
        {
          "output_type": "stream",
          "name": "stdout",
          "text": [
            "\b\b\b\b\b\b\b\b\b\b\b\b\b\b\b\b\b\b\b\b\b\b\b\b\b\b\b\b\b\b\b\b\b\b\b\b\b\b\b\b\b\b\b\b\b\b\b\b\b\b\b\b\b\b\b\b\b\b\b\b\b\r2/2 [==============================] - 0s 38ms/step - loss: 0.0226 - val_loss: 0.0280\n",
            "Epoch 295/500\n",
            "1/2 [==============>...............] - ETA: 0s - loss: 0.0361"
          ]
        },
        {
          "output_type": "stream",
          "name": "stderr",
          "text": [
            "WARNING:tensorflow:Early stopping conditioned on metric `value_loss` which is not available. Available metrics are: loss,val_loss\n"
          ]
        },
        {
          "output_type": "stream",
          "name": "stdout",
          "text": [
            "\b\b\b\b\b\b\b\b\b\b\b\b\b\b\b\b\b\b\b\b\b\b\b\b\b\b\b\b\b\b\b\b\b\b\b\b\b\b\b\b\b\b\b\b\b\b\b\b\b\b\b\b\b\b\b\b\b\b\b\b\b\r2/2 [==============================] - 0s 35ms/step - loss: 0.0312 - val_loss: 0.0351\n",
            "Epoch 296/500\n",
            "1/2 [==============>...............] - ETA: 0s - loss: 0.0340"
          ]
        },
        {
          "output_type": "stream",
          "name": "stderr",
          "text": [
            "WARNING:tensorflow:Early stopping conditioned on metric `value_loss` which is not available. Available metrics are: loss,val_loss\n"
          ]
        },
        {
          "output_type": "stream",
          "name": "stdout",
          "text": [
            "\b\b\b\b\b\b\b\b\b\b\b\b\b\b\b\b\b\b\b\b\b\b\b\b\b\b\b\b\b\b\b\b\b\b\b\b\b\b\b\b\b\b\b\b\b\b\b\b\b\b\b\b\b\b\b\b\b\b\b\b\b\r2/2 [==============================] - 0s 32ms/step - loss: 0.0284 - val_loss: 0.0456\n",
            "Epoch 297/500\n",
            "1/2 [==============>...............] - ETA: 0s - loss: 0.0114"
          ]
        },
        {
          "output_type": "stream",
          "name": "stderr",
          "text": [
            "WARNING:tensorflow:Early stopping conditioned on metric `value_loss` which is not available. Available metrics are: loss,val_loss\n"
          ]
        },
        {
          "output_type": "stream",
          "name": "stdout",
          "text": [
            "\b\b\b\b\b\b\b\b\b\b\b\b\b\b\b\b\b\b\b\b\b\b\b\b\b\b\b\b\b\b\b\b\b\b\b\b\b\b\b\b\b\b\b\b\b\b\b\b\b\b\b\b\b\b\b\b\b\b\b\b\b\r2/2 [==============================] - 0s 32ms/step - loss: 0.0277 - val_loss: 0.0430\n",
            "Epoch 298/500\n",
            "1/2 [==============>...............] - ETA: 0s - loss: 0.0303"
          ]
        },
        {
          "output_type": "stream",
          "name": "stderr",
          "text": [
            "WARNING:tensorflow:Early stopping conditioned on metric `value_loss` which is not available. Available metrics are: loss,val_loss\n"
          ]
        },
        {
          "output_type": "stream",
          "name": "stdout",
          "text": [
            "\b\b\b\b\b\b\b\b\b\b\b\b\b\b\b\b\b\b\b\b\b\b\b\b\b\b\b\b\b\b\b\b\b\b\b\b\b\b\b\b\b\b\b\b\b\b\b\b\b\b\b\b\b\b\b\b\b\b\b\b\b\r2/2 [==============================] - 0s 29ms/step - loss: 0.0251 - val_loss: 0.0305\n",
            "Epoch 299/500\n",
            "1/2 [==============>...............] - ETA: 0s - loss: 0.0428"
          ]
        },
        {
          "output_type": "stream",
          "name": "stderr",
          "text": [
            "WARNING:tensorflow:Early stopping conditioned on metric `value_loss` which is not available. Available metrics are: loss,val_loss\n"
          ]
        },
        {
          "output_type": "stream",
          "name": "stdout",
          "text": [
            "\b\b\b\b\b\b\b\b\b\b\b\b\b\b\b\b\b\b\b\b\b\b\b\b\b\b\b\b\b\b\b\b\b\b\b\b\b\b\b\b\b\b\b\b\b\b\b\b\b\b\b\b\b\b\b\b\b\b\b\b\b\r2/2 [==============================] - 0s 28ms/step - loss: 0.0291 - val_loss: 0.0347\n",
            "Epoch 300/500\n",
            "1/2 [==============>...............] - ETA: 0s - loss: 0.0200"
          ]
        },
        {
          "output_type": "stream",
          "name": "stderr",
          "text": [
            "WARNING:tensorflow:Early stopping conditioned on metric `value_loss` which is not available. Available metrics are: loss,val_loss\n"
          ]
        },
        {
          "output_type": "stream",
          "name": "stdout",
          "text": [
            "\b\b\b\b\b\b\b\b\b\b\b\b\b\b\b\b\b\b\b\b\b\b\b\b\b\b\b\b\b\b\b\b\b\b\b\b\b\b\b\b\b\b\b\b\b\b\b\b\b\b\b\b\b\b\b\b\b\b\b\b\b\r2/2 [==============================] - 0s 30ms/step - loss: 0.0249 - val_loss: 0.0443\n",
            "Epoch 301/500\n",
            "1/2 [==============>...............] - ETA: 0s - loss: 0.0395"
          ]
        },
        {
          "output_type": "stream",
          "name": "stderr",
          "text": [
            "WARNING:tensorflow:Early stopping conditioned on metric `value_loss` which is not available. Available metrics are: loss,val_loss\n"
          ]
        },
        {
          "output_type": "stream",
          "name": "stdout",
          "text": [
            "\b\b\b\b\b\b\b\b\b\b\b\b\b\b\b\b\b\b\b\b\b\b\b\b\b\b\b\b\b\b\b\b\b\b\b\b\b\b\b\b\b\b\b\b\b\b\b\b\b\b\b\b\b\b\b\b\b\b\b\b\b\r2/2 [==============================] - 0s 29ms/step - loss: 0.0291 - val_loss: 0.0374\n",
            "Epoch 302/500\n",
            "1/2 [==============>...............] - ETA: 0s - loss: 0.0073"
          ]
        },
        {
          "output_type": "stream",
          "name": "stderr",
          "text": [
            "WARNING:tensorflow:Early stopping conditioned on metric `value_loss` which is not available. Available metrics are: loss,val_loss\n"
          ]
        },
        {
          "output_type": "stream",
          "name": "stdout",
          "text": [
            "\b\b\b\b\b\b\b\b\b\b\b\b\b\b\b\b\b\b\b\b\b\b\b\b\b\b\b\b\b\b\b\b\b\b\b\b\b\b\b\b\b\b\b\b\b\b\b\b\b\b\b\b\b\b\b\b\b\b\b\b\b\r2/2 [==============================] - 0s 30ms/step - loss: 0.0253 - val_loss: 0.0318\n",
            "Epoch 303/500\n",
            "1/2 [==============>...............] - ETA: 0s - loss: 0.0419"
          ]
        },
        {
          "output_type": "stream",
          "name": "stderr",
          "text": [
            "WARNING:tensorflow:Early stopping conditioned on metric `value_loss` which is not available. Available metrics are: loss,val_loss\n"
          ]
        },
        {
          "output_type": "stream",
          "name": "stdout",
          "text": [
            "\b\b\b\b\b\b\b\b\b\b\b\b\b\b\b\b\b\b\b\b\b\b\b\b\b\b\b\b\b\b\b\b\b\b\b\b\b\b\b\b\b\b\b\b\b\b\b\b\b\b\b\b\b\b\b\b\b\b\b\b\b\r2/2 [==============================] - 0s 30ms/step - loss: 0.0276 - val_loss: 0.0349\n",
            "Epoch 304/500\n",
            "1/2 [==============>...............] - ETA: 0s - loss: 0.0269"
          ]
        },
        {
          "output_type": "stream",
          "name": "stderr",
          "text": [
            "WARNING:tensorflow:Early stopping conditioned on metric `value_loss` which is not available. Available metrics are: loss,val_loss\n"
          ]
        },
        {
          "output_type": "stream",
          "name": "stdout",
          "text": [
            "\b\b\b\b\b\b\b\b\b\b\b\b\b\b\b\b\b\b\b\b\b\b\b\b\b\b\b\b\b\b\b\b\b\b\b\b\b\b\b\b\b\b\b\b\b\b\b\b\b\b\b\b\b\b\b\b\b\b\b\b\b\r2/2 [==============================] - 0s 31ms/step - loss: 0.0285 - val_loss: 0.0376\n",
            "Epoch 305/500\n",
            "1/2 [==============>...............] - ETA: 0s - loss: 0.0069"
          ]
        },
        {
          "output_type": "stream",
          "name": "stderr",
          "text": [
            "WARNING:tensorflow:Early stopping conditioned on metric `value_loss` which is not available. Available metrics are: loss,val_loss\n"
          ]
        },
        {
          "output_type": "stream",
          "name": "stdout",
          "text": [
            "\b\b\b\b\b\b\b\b\b\b\b\b\b\b\b\b\b\b\b\b\b\b\b\b\b\b\b\b\b\b\b\b\b\b\b\b\b\b\b\b\b\b\b\b\b\b\b\b\b\b\b\b\b\b\b\b\b\b\b\b\b\r2/2 [==============================] - 0s 39ms/step - loss: 0.0237 - val_loss: 0.0359\n",
            "Epoch 306/500\n",
            "1/2 [==============>...............] - ETA: 0s - loss: 0.0333"
          ]
        },
        {
          "output_type": "stream",
          "name": "stderr",
          "text": [
            "WARNING:tensorflow:Early stopping conditioned on metric `value_loss` which is not available. Available metrics are: loss,val_loss\n"
          ]
        },
        {
          "output_type": "stream",
          "name": "stdout",
          "text": [
            "\b\b\b\b\b\b\b\b\b\b\b\b\b\b\b\b\b\b\b\b\b\b\b\b\b\b\b\b\b\b\b\b\b\b\b\b\b\b\b\b\b\b\b\b\b\b\b\b\b\b\b\b\b\b\b\b\b\b\b\b\b\r2/2 [==============================] - 0s 31ms/step - loss: 0.0267 - val_loss: 0.0320\n",
            "Epoch 307/500\n",
            "1/2 [==============>...............] - ETA: 0s - loss: 0.0257"
          ]
        },
        {
          "output_type": "stream",
          "name": "stderr",
          "text": [
            "WARNING:tensorflow:Early stopping conditioned on metric `value_loss` which is not available. Available metrics are: loss,val_loss\n"
          ]
        },
        {
          "output_type": "stream",
          "name": "stdout",
          "text": [
            "\b\b\b\b\b\b\b\b\b\b\b\b\b\b\b\b\b\b\b\b\b\b\b\b\b\b\b\b\b\b\b\b\b\b\b\b\b\b\b\b\b\b\b\b\b\b\b\b\b\b\b\b\b\b\b\b\b\b\b\b\b\r2/2 [==============================] - 0s 37ms/step - loss: 0.0244 - val_loss: 0.0329\n",
            "Epoch 308/500\n",
            "1/2 [==============>...............] - ETA: 0s - loss: 0.0142"
          ]
        },
        {
          "output_type": "stream",
          "name": "stderr",
          "text": [
            "WARNING:tensorflow:Early stopping conditioned on metric `value_loss` which is not available. Available metrics are: loss,val_loss\n"
          ]
        },
        {
          "output_type": "stream",
          "name": "stdout",
          "text": [
            "\b\b\b\b\b\b\b\b\b\b\b\b\b\b\b\b\b\b\b\b\b\b\b\b\b\b\b\b\b\b\b\b\b\b\b\b\b\b\b\b\b\b\b\b\b\b\b\b\b\b\b\b\b\b\b\b\b\b\b\b\b\r2/2 [==============================] - 0s 27ms/step - loss: 0.0244 - val_loss: 0.0351\n",
            "Epoch 309/500\n",
            "1/2 [==============>...............] - ETA: 0s - loss: 0.0315"
          ]
        },
        {
          "output_type": "stream",
          "name": "stderr",
          "text": [
            "WARNING:tensorflow:Early stopping conditioned on metric `value_loss` which is not available. Available metrics are: loss,val_loss\n"
          ]
        },
        {
          "output_type": "stream",
          "name": "stdout",
          "text": [
            "\b\b\b\b\b\b\b\b\b\b\b\b\b\b\b\b\b\b\b\b\b\b\b\b\b\b\b\b\b\b\b\b\b\b\b\b\b\b\b\b\b\b\b\b\b\b\b\b\b\b\b\b\b\b\b\b\b\b\b\b\b\r2/2 [==============================] - 0s 27ms/step - loss: 0.0241 - val_loss: 0.0306\n",
            "Epoch 310/500\n",
            "1/2 [==============>...............] - ETA: 0s - loss: 0.0359"
          ]
        },
        {
          "output_type": "stream",
          "name": "stderr",
          "text": [
            "WARNING:tensorflow:Early stopping conditioned on metric `value_loss` which is not available. Available metrics are: loss,val_loss\n"
          ]
        },
        {
          "output_type": "stream",
          "name": "stdout",
          "text": [
            "\b\b\b\b\b\b\b\b\b\b\b\b\b\b\b\b\b\b\b\b\b\b\b\b\b\b\b\b\b\b\b\b\b\b\b\b\b\b\b\b\b\b\b\b\b\b\b\b\b\b\b\b\b\b\b\b\b\b\b\b\b\r2/2 [==============================] - 0s 40ms/step - loss: 0.0245 - val_loss: 0.0292\n",
            "Epoch 311/500\n",
            "1/2 [==============>...............] - ETA: 0s - loss: 0.0122"
          ]
        },
        {
          "output_type": "stream",
          "name": "stderr",
          "text": [
            "WARNING:tensorflow:Early stopping conditioned on metric `value_loss` which is not available. Available metrics are: loss,val_loss\n"
          ]
        },
        {
          "output_type": "stream",
          "name": "stdout",
          "text": [
            "\b\b\b\b\b\b\b\b\b\b\b\b\b\b\b\b\b\b\b\b\b\b\b\b\b\b\b\b\b\b\b\b\b\b\b\b\b\b\b\b\b\b\b\b\b\b\b\b\b\b\b\b\b\b\b\b\b\b\b\b\b\r2/2 [==============================] - 0s 34ms/step - loss: 0.0240 - val_loss: 0.0377\n",
            "Epoch 312/500\n",
            "1/2 [==============>...............] - ETA: 0s - loss: 0.0335"
          ]
        },
        {
          "output_type": "stream",
          "name": "stderr",
          "text": [
            "WARNING:tensorflow:Early stopping conditioned on metric `value_loss` which is not available. Available metrics are: loss,val_loss\n"
          ]
        },
        {
          "output_type": "stream",
          "name": "stdout",
          "text": [
            "\b\b\b\b\b\b\b\b\b\b\b\b\b\b\b\b\b\b\b\b\b\b\b\b\b\b\b\b\b\b\b\b\b\b\b\b\b\b\b\b\b\b\b\b\b\b\b\b\b\b\b\b\b\b\b\b\b\b\b\b\b\r2/2 [==============================] - 0s 28ms/step - loss: 0.0247 - val_loss: 0.0369\n",
            "Epoch 313/500\n",
            "1/2 [==============>...............] - ETA: 0s - loss: 0.0100"
          ]
        },
        {
          "output_type": "stream",
          "name": "stderr",
          "text": [
            "WARNING:tensorflow:Early stopping conditioned on metric `value_loss` which is not available. Available metrics are: loss,val_loss\n"
          ]
        },
        {
          "output_type": "stream",
          "name": "stdout",
          "text": [
            "\b\b\b\b\b\b\b\b\b\b\b\b\b\b\b\b\b\b\b\b\b\b\b\b\b\b\b\b\b\b\b\b\b\b\b\b\b\b\b\b\b\b\b\b\b\b\b\b\b\b\b\b\b\b\b\b\b\b\b\b\b\r2/2 [==============================] - 0s 29ms/step - loss: 0.0276 - val_loss: 0.0302\n",
            "Epoch 314/500\n",
            "1/2 [==============>...............] - ETA: 0s - loss: 0.0411"
          ]
        },
        {
          "output_type": "stream",
          "name": "stderr",
          "text": [
            "WARNING:tensorflow:Early stopping conditioned on metric `value_loss` which is not available. Available metrics are: loss,val_loss\n"
          ]
        },
        {
          "output_type": "stream",
          "name": "stdout",
          "text": [
            "\b\b\b\b\b\b\b\b\b\b\b\b\b\b\b\b\b\b\b\b\b\b\b\b\b\b\b\b\b\b\b\b\b\b\b\b\b\b\b\b\b\b\b\b\b\b\b\b\b\b\b\b\b\b\b\b\b\b\b\b\b\r2/2 [==============================] - 0s 29ms/step - loss: 0.0271 - val_loss: 0.0301\n",
            "Epoch 315/500\n",
            "1/2 [==============>...............] - ETA: 0s - loss: 0.0412"
          ]
        },
        {
          "output_type": "stream",
          "name": "stderr",
          "text": [
            "WARNING:tensorflow:Early stopping conditioned on metric `value_loss` which is not available. Available metrics are: loss,val_loss\n"
          ]
        },
        {
          "output_type": "stream",
          "name": "stdout",
          "text": [
            "\b\b\b\b\b\b\b\b\b\b\b\b\b\b\b\b\b\b\b\b\b\b\b\b\b\b\b\b\b\b\b\b\b\b\b\b\b\b\b\b\b\b\b\b\b\b\b\b\b\b\b\b\b\b\b\b\b\b\b\b\b\r2/2 [==============================] - 0s 34ms/step - loss: 0.0289 - val_loss: 0.0398\n",
            "Epoch 316/500\n",
            "1/2 [==============>...............] - ETA: 0s - loss: 0.0279"
          ]
        },
        {
          "output_type": "stream",
          "name": "stderr",
          "text": [
            "WARNING:tensorflow:Early stopping conditioned on metric `value_loss` which is not available. Available metrics are: loss,val_loss\n"
          ]
        },
        {
          "output_type": "stream",
          "name": "stdout",
          "text": [
            "\b\b\b\b\b\b\b\b\b\b\b\b\b\b\b\b\b\b\b\b\b\b\b\b\b\b\b\b\b\b\b\b\b\b\b\b\b\b\b\b\b\b\b\b\b\b\b\b\b\b\b\b\b\b\b\b\b\b\b\b\b\r2/2 [==============================] - 0s 31ms/step - loss: 0.0266 - val_loss: 0.0388\n",
            "Epoch 317/500\n",
            "1/2 [==============>...............] - ETA: 0s - loss: 0.0266"
          ]
        },
        {
          "output_type": "stream",
          "name": "stderr",
          "text": [
            "WARNING:tensorflow:Early stopping conditioned on metric `value_loss` which is not available. Available metrics are: loss,val_loss\n"
          ]
        },
        {
          "output_type": "stream",
          "name": "stdout",
          "text": [
            "\b\b\b\b\b\b\b\b\b\b\b\b\b\b\b\b\b\b\b\b\b\b\b\b\b\b\b\b\b\b\b\b\b\b\b\b\b\b\b\b\b\b\b\b\b\b\b\b\b\b\b\b\b\b\b\b\b\b\b\b\b\r2/2 [==============================] - 0s 31ms/step - loss: 0.0257 - val_loss: 0.0311\n",
            "Epoch 318/500\n",
            "1/2 [==============>...............] - ETA: 0s - loss: 0.0295"
          ]
        },
        {
          "output_type": "stream",
          "name": "stderr",
          "text": [
            "WARNING:tensorflow:Early stopping conditioned on metric `value_loss` which is not available. Available metrics are: loss,val_loss\n"
          ]
        },
        {
          "output_type": "stream",
          "name": "stdout",
          "text": [
            "\b\b\b\b\b\b\b\b\b\b\b\b\b\b\b\b\b\b\b\b\b\b\b\b\b\b\b\b\b\b\b\b\b\b\b\b\b\b\b\b\b\b\b\b\b\b\b\b\b\b\b\b\b\b\b\b\b\b\b\b\b\r2/2 [==============================] - 0s 35ms/step - loss: 0.0237 - val_loss: 0.0282\n",
            "Epoch 319/500\n",
            "1/2 [==============>...............] - ETA: 0s - loss: 0.0398"
          ]
        },
        {
          "output_type": "stream",
          "name": "stderr",
          "text": [
            "WARNING:tensorflow:Early stopping conditioned on metric `value_loss` which is not available. Available metrics are: loss,val_loss\n"
          ]
        },
        {
          "output_type": "stream",
          "name": "stdout",
          "text": [
            "\b\b\b\b\b\b\b\b\b\b\b\b\b\b\b\b\b\b\b\b\b\b\b\b\b\b\b\b\b\b\b\b\b\b\b\b\b\b\b\b\b\b\b\b\b\b\b\b\b\b\b\b\b\b\b\b\b\b\b\b\b\r2/2 [==============================] - 0s 25ms/step - loss: 0.0259 - val_loss: 0.0334\n",
            "Epoch 320/500\n",
            "1/2 [==============>...............] - ETA: 0s - loss: 0.0136"
          ]
        },
        {
          "output_type": "stream",
          "name": "stderr",
          "text": [
            "WARNING:tensorflow:Early stopping conditioned on metric `value_loss` which is not available. Available metrics are: loss,val_loss\n"
          ]
        },
        {
          "output_type": "stream",
          "name": "stdout",
          "text": [
            "\b\b\b\b\b\b\b\b\b\b\b\b\b\b\b\b\b\b\b\b\b\b\b\b\b\b\b\b\b\b\b\b\b\b\b\b\b\b\b\b\b\b\b\b\b\b\b\b\b\b\b\b\b\b\b\b\b\b\b\b\b\r2/2 [==============================] - 0s 35ms/step - loss: 0.0290 - val_loss: 0.0375\n",
            "Epoch 321/500\n",
            "1/2 [==============>...............] - ETA: 0s - loss: 0.0203"
          ]
        },
        {
          "output_type": "stream",
          "name": "stderr",
          "text": [
            "WARNING:tensorflow:Early stopping conditioned on metric `value_loss` which is not available. Available metrics are: loss,val_loss\n"
          ]
        },
        {
          "output_type": "stream",
          "name": "stdout",
          "text": [
            "\b\b\b\b\b\b\b\b\b\b\b\b\b\b\b\b\b\b\b\b\b\b\b\b\b\b\b\b\b\b\b\b\b\b\b\b\b\b\b\b\b\b\b\b\b\b\b\b\b\b\b\b\b\b\b\b\b\b\b\b\b\r2/2 [==============================] - 0s 29ms/step - loss: 0.0278 - val_loss: 0.0386\n",
            "Epoch 322/500\n",
            "1/2 [==============>...............] - ETA: 0s - loss: 0.0411"
          ]
        },
        {
          "output_type": "stream",
          "name": "stderr",
          "text": [
            "WARNING:tensorflow:Early stopping conditioned on metric `value_loss` which is not available. Available metrics are: loss,val_loss\n"
          ]
        },
        {
          "output_type": "stream",
          "name": "stdout",
          "text": [
            "\b\b\b\b\b\b\b\b\b\b\b\b\b\b\b\b\b\b\b\b\b\b\b\b\b\b\b\b\b\b\b\b\b\b\b\b\b\b\b\b\b\b\b\b\b\b\b\b\b\b\b\b\b\b\b\b\b\b\b\b\b\r2/2 [==============================] - 0s 26ms/step - loss: 0.0227 - val_loss: 0.0360\n",
            "Epoch 323/500\n",
            "1/2 [==============>...............] - ETA: 0s - loss: 0.0100"
          ]
        },
        {
          "output_type": "stream",
          "name": "stderr",
          "text": [
            "WARNING:tensorflow:Early stopping conditioned on metric `value_loss` which is not available. Available metrics are: loss,val_loss\n"
          ]
        },
        {
          "output_type": "stream",
          "name": "stdout",
          "text": [
            "\b\b\b\b\b\b\b\b\b\b\b\b\b\b\b\b\b\b\b\b\b\b\b\b\b\b\b\b\b\b\b\b\b\b\b\b\b\b\b\b\b\b\b\b\b\b\b\b\b\b\b\b\b\b\b\b\b\b\b\b\b\r2/2 [==============================] - 0s 28ms/step - loss: 0.0212 - val_loss: 0.0352\n",
            "Epoch 324/500\n",
            "1/2 [==============>...............] - ETA: 0s - loss: 0.0404"
          ]
        },
        {
          "output_type": "stream",
          "name": "stderr",
          "text": [
            "WARNING:tensorflow:Early stopping conditioned on metric `value_loss` which is not available. Available metrics are: loss,val_loss\n"
          ]
        },
        {
          "output_type": "stream",
          "name": "stdout",
          "text": [
            "\b\b\b\b\b\b\b\b\b\b\b\b\b\b\b\b\b\b\b\b\b\b\b\b\b\b\b\b\b\b\b\b\b\b\b\b\b\b\b\b\b\b\b\b\b\b\b\b\b\b\b\b\b\b\b\b\b\b\b\b\b\r2/2 [==============================] - 0s 37ms/step - loss: 0.0255 - val_loss: 0.0366\n",
            "Epoch 325/500\n",
            "1/2 [==============>...............] - ETA: 0s - loss: 0.0216"
          ]
        },
        {
          "output_type": "stream",
          "name": "stderr",
          "text": [
            "WARNING:tensorflow:Early stopping conditioned on metric `value_loss` which is not available. Available metrics are: loss,val_loss\n"
          ]
        },
        {
          "output_type": "stream",
          "name": "stdout",
          "text": [
            "\b\b\b\b\b\b\b\b\b\b\b\b\b\b\b\b\b\b\b\b\b\b\b\b\b\b\b\b\b\b\b\b\b\b\b\b\b\b\b\b\b\b\b\b\b\b\b\b\b\b\b\b\b\b\b\b\b\b\b\b\b\r2/2 [==============================] - 0s 30ms/step - loss: 0.0297 - val_loss: 0.0380\n",
            "Epoch 326/500\n",
            "1/2 [==============>...............] - ETA: 0s - loss: 0.0229"
          ]
        },
        {
          "output_type": "stream",
          "name": "stderr",
          "text": [
            "WARNING:tensorflow:Early stopping conditioned on metric `value_loss` which is not available. Available metrics are: loss,val_loss\n"
          ]
        },
        {
          "output_type": "stream",
          "name": "stdout",
          "text": [
            "\b\b\b\b\b\b\b\b\b\b\b\b\b\b\b\b\b\b\b\b\b\b\b\b\b\b\b\b\b\b\b\b\b\b\b\b\b\b\b\b\b\b\b\b\b\b\b\b\b\b\b\b\b\b\b\b\b\b\b\b\b\r2/2 [==============================] - 0s 28ms/step - loss: 0.0258 - val_loss: 0.0377\n",
            "Epoch 327/500\n",
            "1/2 [==============>...............] - ETA: 0s - loss: 0.0290"
          ]
        },
        {
          "output_type": "stream",
          "name": "stderr",
          "text": [
            "WARNING:tensorflow:Early stopping conditioned on metric `value_loss` which is not available. Available metrics are: loss,val_loss\n"
          ]
        },
        {
          "output_type": "stream",
          "name": "stdout",
          "text": [
            "\b\b\b\b\b\b\b\b\b\b\b\b\b\b\b\b\b\b\b\b\b\b\b\b\b\b\b\b\b\b\b\b\b\b\b\b\b\b\b\b\b\b\b\b\b\b\b\b\b\b\b\b\b\b\b\b\b\b\b\b\b\r2/2 [==============================] - 0s 28ms/step - loss: 0.0304 - val_loss: 0.0337\n",
            "Epoch 328/500\n",
            "1/2 [==============>...............] - ETA: 0s - loss: 0.0179"
          ]
        },
        {
          "output_type": "stream",
          "name": "stderr",
          "text": [
            "WARNING:tensorflow:Early stopping conditioned on metric `value_loss` which is not available. Available metrics are: loss,val_loss\n"
          ]
        },
        {
          "output_type": "stream",
          "name": "stdout",
          "text": [
            "\b\b\b\b\b\b\b\b\b\b\b\b\b\b\b\b\b\b\b\b\b\b\b\b\b\b\b\b\b\b\b\b\b\b\b\b\b\b\b\b\b\b\b\b\b\b\b\b\b\b\b\b\b\b\b\b\b\b\b\b\b\r2/2 [==============================] - 0s 36ms/step - loss: 0.0259 - val_loss: 0.0364\n",
            "Epoch 329/500\n",
            "1/2 [==============>...............] - ETA: 0s - loss: 0.0371"
          ]
        },
        {
          "output_type": "stream",
          "name": "stderr",
          "text": [
            "WARNING:tensorflow:Early stopping conditioned on metric `value_loss` which is not available. Available metrics are: loss,val_loss\n"
          ]
        },
        {
          "output_type": "stream",
          "name": "stdout",
          "text": [
            "\b\b\b\b\b\b\b\b\b\b\b\b\b\b\b\b\b\b\b\b\b\b\b\b\b\b\b\b\b\b\b\b\b\b\b\b\b\b\b\b\b\b\b\b\b\b\b\b\b\b\b\b\b\b\b\b\b\b\b\b\b\r2/2 [==============================] - 0s 36ms/step - loss: 0.0288 - val_loss: 0.0316\n",
            "Epoch 330/500\n",
            "1/2 [==============>...............] - ETA: 0s - loss: 0.0228"
          ]
        },
        {
          "output_type": "stream",
          "name": "stderr",
          "text": [
            "WARNING:tensorflow:Early stopping conditioned on metric `value_loss` which is not available. Available metrics are: loss,val_loss\n"
          ]
        },
        {
          "output_type": "stream",
          "name": "stdout",
          "text": [
            "\b\b\b\b\b\b\b\b\b\b\b\b\b\b\b\b\b\b\b\b\b\b\b\b\b\b\b\b\b\b\b\b\b\b\b\b\b\b\b\b\b\b\b\b\b\b\b\b\b\b\b\b\b\b\b\b\b\b\b\b\b\r2/2 [==============================] - 0s 27ms/step - loss: 0.0288 - val_loss: 0.0294\n",
            "Epoch 331/500\n",
            "1/2 [==============>...............] - ETA: 0s - loss: 0.0266"
          ]
        },
        {
          "output_type": "stream",
          "name": "stderr",
          "text": [
            "WARNING:tensorflow:Early stopping conditioned on metric `value_loss` which is not available. Available metrics are: loss,val_loss\n"
          ]
        },
        {
          "output_type": "stream",
          "name": "stdout",
          "text": [
            "\b\b\b\b\b\b\b\b\b\b\b\b\b\b\b\b\b\b\b\b\b\b\b\b\b\b\b\b\b\b\b\b\b\b\b\b\b\b\b\b\b\b\b\b\b\b\b\b\b\b\b\b\b\b\b\b\b\b\b\b\b\r2/2 [==============================] - 0s 30ms/step - loss: 0.0278 - val_loss: 0.0349\n",
            "Epoch 332/500\n",
            "1/2 [==============>...............] - ETA: 0s - loss: 0.0285"
          ]
        },
        {
          "output_type": "stream",
          "name": "stderr",
          "text": [
            "WARNING:tensorflow:Early stopping conditioned on metric `value_loss` which is not available. Available metrics are: loss,val_loss\n"
          ]
        },
        {
          "output_type": "stream",
          "name": "stdout",
          "text": [
            "\b\b\b\b\b\b\b\b\b\b\b\b\b\b\b\b\b\b\b\b\b\b\b\b\b\b\b\b\b\b\b\b\b\b\b\b\b\b\b\b\b\b\b\b\b\b\b\b\b\b\b\b\b\b\b\b\b\b\b\b\b\r2/2 [==============================] - 0s 52ms/step - loss: 0.0258 - val_loss: 0.0349\n",
            "Epoch 333/500\n",
            "1/2 [==============>...............] - ETA: 0s - loss: 0.0263"
          ]
        },
        {
          "output_type": "stream",
          "name": "stderr",
          "text": [
            "WARNING:tensorflow:Early stopping conditioned on metric `value_loss` which is not available. Available metrics are: loss,val_loss\n"
          ]
        },
        {
          "output_type": "stream",
          "name": "stdout",
          "text": [
            "\b\b\b\b\b\b\b\b\b\b\b\b\b\b\b\b\b\b\b\b\b\b\b\b\b\b\b\b\b\b\b\b\b\b\b\b\b\b\b\b\b\b\b\b\b\b\b\b\b\b\b\b\b\b\b\b\b\b\b\b\b\r2/2 [==============================] - 0s 25ms/step - loss: 0.0221 - val_loss: 0.0328\n",
            "Epoch 334/500\n",
            "1/2 [==============>...............] - ETA: 0s - loss: 0.0188"
          ]
        },
        {
          "output_type": "stream",
          "name": "stderr",
          "text": [
            "WARNING:tensorflow:Early stopping conditioned on metric `value_loss` which is not available. Available metrics are: loss,val_loss\n"
          ]
        },
        {
          "output_type": "stream",
          "name": "stdout",
          "text": [
            "\b\b\b\b\b\b\b\b\b\b\b\b\b\b\b\b\b\b\b\b\b\b\b\b\b\b\b\b\b\b\b\b\b\b\b\b\b\b\b\b\b\b\b\b\b\b\b\b\b\b\b\b\b\b\b\b\b\b\b\b\b\r2/2 [==============================] - 0s 29ms/step - loss: 0.0258 - val_loss: 0.0354\n",
            "Epoch 335/500\n",
            "1/2 [==============>...............] - ETA: 0s - loss: 0.0071"
          ]
        },
        {
          "output_type": "stream",
          "name": "stderr",
          "text": [
            "WARNING:tensorflow:Early stopping conditioned on metric `value_loss` which is not available. Available metrics are: loss,val_loss\n"
          ]
        },
        {
          "output_type": "stream",
          "name": "stdout",
          "text": [
            "\b\b\b\b\b\b\b\b\b\b\b\b\b\b\b\b\b\b\b\b\b\b\b\b\b\b\b\b\b\b\b\b\b\b\b\b\b\b\b\b\b\b\b\b\b\b\b\b\b\b\b\b\b\b\b\b\b\b\b\b\b\r2/2 [==============================] - 0s 31ms/step - loss: 0.0265 - val_loss: 0.0333\n",
            "Epoch 336/500\n",
            "1/2 [==============>...............] - ETA: 0s - loss: 0.0421"
          ]
        },
        {
          "output_type": "stream",
          "name": "stderr",
          "text": [
            "WARNING:tensorflow:Early stopping conditioned on metric `value_loss` which is not available. Available metrics are: loss,val_loss\n"
          ]
        },
        {
          "output_type": "stream",
          "name": "stdout",
          "text": [
            "\b\b\b\b\b\b\b\b\b\b\b\b\b\b\b\b\b\b\b\b\b\b\b\b\b\b\b\b\b\b\b\b\b\b\b\b\b\b\b\b\b\b\b\b\b\b\b\b\b\b\b\b\b\b\b\b\b\b\b\b\b\r2/2 [==============================] - 0s 31ms/step - loss: 0.0304 - val_loss: 0.0342\n",
            "Epoch 337/500\n",
            "1/2 [==============>...............] - ETA: 0s - loss: 0.0197"
          ]
        },
        {
          "output_type": "stream",
          "name": "stderr",
          "text": [
            "WARNING:tensorflow:Early stopping conditioned on metric `value_loss` which is not available. Available metrics are: loss,val_loss\n"
          ]
        },
        {
          "output_type": "stream",
          "name": "stdout",
          "text": [
            "\b\b\b\b\b\b\b\b\b\b\b\b\b\b\b\b\b\b\b\b\b\b\b\b\b\b\b\b\b\b\b\b\b\b\b\b\b\b\b\b\b\b\b\b\b\b\b\b\b\b\b\b\b\b\b\b\b\b\b\b\b\r2/2 [==============================] - 0s 28ms/step - loss: 0.0234 - val_loss: 0.0358\n",
            "Epoch 338/500\n",
            "1/2 [==============>...............] - ETA: 0s - loss: 0.0271"
          ]
        },
        {
          "output_type": "stream",
          "name": "stderr",
          "text": [
            "WARNING:tensorflow:Early stopping conditioned on metric `value_loss` which is not available. Available metrics are: loss,val_loss\n"
          ]
        },
        {
          "output_type": "stream",
          "name": "stdout",
          "text": [
            "\b\b\b\b\b\b\b\b\b\b\b\b\b\b\b\b\b\b\b\b\b\b\b\b\b\b\b\b\b\b\b\b\b\b\b\b\b\b\b\b\b\b\b\b\b\b\b\b\b\b\b\b\b\b\b\b\b\b\b\b\b\r2/2 [==============================] - 0s 48ms/step - loss: 0.0256 - val_loss: 0.0346\n",
            "Epoch 339/500\n",
            "1/2 [==============>...............] - ETA: 0s - loss: 0.0433"
          ]
        },
        {
          "output_type": "stream",
          "name": "stderr",
          "text": [
            "WARNING:tensorflow:Early stopping conditioned on metric `value_loss` which is not available. Available metrics are: loss,val_loss\n"
          ]
        },
        {
          "output_type": "stream",
          "name": "stdout",
          "text": [
            "\b\b\b\b\b\b\b\b\b\b\b\b\b\b\b\b\b\b\b\b\b\b\b\b\b\b\b\b\b\b\b\b\b\b\b\b\b\b\b\b\b\b\b\b\b\b\b\b\b\b\b\b\b\b\b\b\b\b\b\b\b\r2/2 [==============================] - 0s 28ms/step - loss: 0.0234 - val_loss: 0.0347\n",
            "Epoch 340/500\n",
            "1/2 [==============>...............] - ETA: 0s - loss: 0.0159"
          ]
        },
        {
          "output_type": "stream",
          "name": "stderr",
          "text": [
            "WARNING:tensorflow:Early stopping conditioned on metric `value_loss` which is not available. Available metrics are: loss,val_loss\n"
          ]
        },
        {
          "output_type": "stream",
          "name": "stdout",
          "text": [
            "\b\b\b\b\b\b\b\b\b\b\b\b\b\b\b\b\b\b\b\b\b\b\b\b\b\b\b\b\b\b\b\b\b\b\b\b\b\b\b\b\b\b\b\b\b\b\b\b\b\b\b\b\b\b\b\b\b\b\b\b\b\r2/2 [==============================] - 0s 34ms/step - loss: 0.0251 - val_loss: 0.0345\n",
            "Epoch 341/500\n",
            "1/2 [==============>...............] - ETA: 0s - loss: 0.0171"
          ]
        },
        {
          "output_type": "stream",
          "name": "stderr",
          "text": [
            "WARNING:tensorflow:Early stopping conditioned on metric `value_loss` which is not available. Available metrics are: loss,val_loss\n"
          ]
        },
        {
          "output_type": "stream",
          "name": "stdout",
          "text": [
            "\b\b\b\b\b\b\b\b\b\b\b\b\b\b\b\b\b\b\b\b\b\b\b\b\b\b\b\b\b\b\b\b\b\b\b\b\b\b\b\b\b\b\b\b\b\b\b\b\b\b\b\b\b\b\b\b\b\b\b\b\b\r2/2 [==============================] - 0s 29ms/step - loss: 0.0267 - val_loss: 0.0363\n",
            "Epoch 342/500\n",
            "1/2 [==============>...............] - ETA: 0s - loss: 0.0314"
          ]
        },
        {
          "output_type": "stream",
          "name": "stderr",
          "text": [
            "WARNING:tensorflow:Early stopping conditioned on metric `value_loss` which is not available. Available metrics are: loss,val_loss\n"
          ]
        },
        {
          "output_type": "stream",
          "name": "stdout",
          "text": [
            "\b\b\b\b\b\b\b\b\b\b\b\b\b\b\b\b\b\b\b\b\b\b\b\b\b\b\b\b\b\b\b\b\b\b\b\b\b\b\b\b\b\b\b\b\b\b\b\b\b\b\b\b\b\b\b\b\b\b\b\b\b\r2/2 [==============================] - 0s 30ms/step - loss: 0.0256 - val_loss: 0.0342\n",
            "Epoch 343/500\n",
            "1/2 [==============>...............] - ETA: 0s - loss: 0.0160"
          ]
        },
        {
          "output_type": "stream",
          "name": "stderr",
          "text": [
            "WARNING:tensorflow:Early stopping conditioned on metric `value_loss` which is not available. Available metrics are: loss,val_loss\n"
          ]
        },
        {
          "output_type": "stream",
          "name": "stdout",
          "text": [
            "\b\b\b\b\b\b\b\b\b\b\b\b\b\b\b\b\b\b\b\b\b\b\b\b\b\b\b\b\b\b\b\b\b\b\b\b\b\b\b\b\b\b\b\b\b\b\b\b\b\b\b\b\b\b\b\b\b\b\b\b\b\r2/2 [==============================] - 0s 26ms/step - loss: 0.0254 - val_loss: 0.0362\n",
            "Epoch 344/500\n",
            "1/2 [==============>...............] - ETA: 0s - loss: 0.0110"
          ]
        },
        {
          "output_type": "stream",
          "name": "stderr",
          "text": [
            "WARNING:tensorflow:Early stopping conditioned on metric `value_loss` which is not available. Available metrics are: loss,val_loss\n"
          ]
        },
        {
          "output_type": "stream",
          "name": "stdout",
          "text": [
            "\b\b\b\b\b\b\b\b\b\b\b\b\b\b\b\b\b\b\b\b\b\b\b\b\b\b\b\b\b\b\b\b\b\b\b\b\b\b\b\b\b\b\b\b\b\b\b\b\b\b\b\b\b\b\b\b\b\b\b\b\b\r2/2 [==============================] - 0s 28ms/step - loss: 0.0268 - val_loss: 0.0332\n",
            "Epoch 345/500\n",
            "1/2 [==============>...............] - ETA: 0s - loss: 0.0320"
          ]
        },
        {
          "output_type": "stream",
          "name": "stderr",
          "text": [
            "WARNING:tensorflow:Early stopping conditioned on metric `value_loss` which is not available. Available metrics are: loss,val_loss\n"
          ]
        },
        {
          "output_type": "stream",
          "name": "stdout",
          "text": [
            "\b\b\b\b\b\b\b\b\b\b\b\b\b\b\b\b\b\b\b\b\b\b\b\b\b\b\b\b\b\b\b\b\b\b\b\b\b\b\b\b\b\b\b\b\b\b\b\b\b\b\b\b\b\b\b\b\b\b\b\b\b\r2/2 [==============================] - 0s 27ms/step - loss: 0.0242 - val_loss: 0.0342\n",
            "Epoch 346/500\n",
            "1/2 [==============>...............] - ETA: 0s - loss: 0.0170"
          ]
        },
        {
          "output_type": "stream",
          "name": "stderr",
          "text": [
            "WARNING:tensorflow:Early stopping conditioned on metric `value_loss` which is not available. Available metrics are: loss,val_loss\n"
          ]
        },
        {
          "output_type": "stream",
          "name": "stdout",
          "text": [
            "\b\b\b\b\b\b\b\b\b\b\b\b\b\b\b\b\b\b\b\b\b\b\b\b\b\b\b\b\b\b\b\b\b\b\b\b\b\b\b\b\b\b\b\b\b\b\b\b\b\b\b\b\b\b\b\b\b\b\b\b\b\r2/2 [==============================] - 0s 26ms/step - loss: 0.0229 - val_loss: 0.0344\n",
            "Epoch 347/500\n",
            "1/2 [==============>...............] - ETA: 0s - loss: 0.0238"
          ]
        },
        {
          "output_type": "stream",
          "name": "stderr",
          "text": [
            "WARNING:tensorflow:Early stopping conditioned on metric `value_loss` which is not available. Available metrics are: loss,val_loss\n"
          ]
        },
        {
          "output_type": "stream",
          "name": "stdout",
          "text": [
            "\b\b\b\b\b\b\b\b\b\b\b\b\b\b\b\b\b\b\b\b\b\b\b\b\b\b\b\b\b\b\b\b\b\b\b\b\b\b\b\b\b\b\b\b\b\b\b\b\b\b\b\b\b\b\b\b\b\b\b\b\b\r2/2 [==============================] - 0s 35ms/step - loss: 0.0254 - val_loss: 0.0334\n",
            "Epoch 348/500\n",
            "1/2 [==============>...............] - ETA: 0s - loss: 0.0216"
          ]
        },
        {
          "output_type": "stream",
          "name": "stderr",
          "text": [
            "WARNING:tensorflow:Early stopping conditioned on metric `value_loss` which is not available. Available metrics are: loss,val_loss\n"
          ]
        },
        {
          "output_type": "stream",
          "name": "stdout",
          "text": [
            "\b\b\b\b\b\b\b\b\b\b\b\b\b\b\b\b\b\b\b\b\b\b\b\b\b\b\b\b\b\b\b\b\b\b\b\b\b\b\b\b\b\b\b\b\b\b\b\b\b\b\b\b\b\b\b\b\b\b\b\b\b\r2/2 [==============================] - 0s 28ms/step - loss: 0.0257 - val_loss: 0.0345\n",
            "Epoch 349/500\n",
            "1/2 [==============>...............] - ETA: 0s - loss: 0.0248"
          ]
        },
        {
          "output_type": "stream",
          "name": "stderr",
          "text": [
            "WARNING:tensorflow:Early stopping conditioned on metric `value_loss` which is not available. Available metrics are: loss,val_loss\n"
          ]
        },
        {
          "output_type": "stream",
          "name": "stdout",
          "text": [
            "\b\b\b\b\b\b\b\b\b\b\b\b\b\b\b\b\b\b\b\b\b\b\b\b\b\b\b\b\b\b\b\b\b\b\b\b\b\b\b\b\b\b\b\b\b\b\b\b\b\b\b\b\b\b\b\b\b\b\b\b\b\r2/2 [==============================] - 0s 33ms/step - loss: 0.0242 - val_loss: 0.0337\n",
            "Epoch 350/500\n",
            "1/2 [==============>...............] - ETA: 0s - loss: 0.0567"
          ]
        },
        {
          "output_type": "stream",
          "name": "stderr",
          "text": [
            "WARNING:tensorflow:Early stopping conditioned on metric `value_loss` which is not available. Available metrics are: loss,val_loss\n"
          ]
        },
        {
          "output_type": "stream",
          "name": "stdout",
          "text": [
            "\b\b\b\b\b\b\b\b\b\b\b\b\b\b\b\b\b\b\b\b\b\b\b\b\b\b\b\b\b\b\b\b\b\b\b\b\b\b\b\b\b\b\b\b\b\b\b\b\b\b\b\b\b\b\b\b\b\b\b\b\b\r2/2 [==============================] - 0s 33ms/step - loss: 0.0310 - val_loss: 0.0391\n",
            "Epoch 351/500\n",
            "1/2 [==============>...............] - ETA: 0s - loss: 0.0334"
          ]
        },
        {
          "output_type": "stream",
          "name": "stderr",
          "text": [
            "WARNING:tensorflow:Early stopping conditioned on metric `value_loss` which is not available. Available metrics are: loss,val_loss\n"
          ]
        },
        {
          "output_type": "stream",
          "name": "stdout",
          "text": [
            "\b\b\b\b\b\b\b\b\b\b\b\b\b\b\b\b\b\b\b\b\b\b\b\b\b\b\b\b\b\b\b\b\b\b\b\b\b\b\b\b\b\b\b\b\b\b\b\b\b\b\b\b\b\b\b\b\b\b\b\b\b\r2/2 [==============================] - 0s 29ms/step - loss: 0.0265 - val_loss: 0.0368\n",
            "Epoch 352/500\n",
            "1/2 [==============>...............] - ETA: 0s - loss: 0.0446"
          ]
        },
        {
          "output_type": "stream",
          "name": "stderr",
          "text": [
            "WARNING:tensorflow:Early stopping conditioned on metric `value_loss` which is not available. Available metrics are: loss,val_loss\n"
          ]
        },
        {
          "output_type": "stream",
          "name": "stdout",
          "text": [
            "\b\b\b\b\b\b\b\b\b\b\b\b\b\b\b\b\b\b\b\b\b\b\b\b\b\b\b\b\b\b\b\b\b\b\b\b\b\b\b\b\b\b\b\b\b\b\b\b\b\b\b\b\b\b\b\b\b\b\b\b\b\r2/2 [==============================] - 0s 31ms/step - loss: 0.0290 - val_loss: 0.0373\n",
            "Epoch 353/500\n",
            "1/2 [==============>...............] - ETA: 0s - loss: 0.0334"
          ]
        },
        {
          "output_type": "stream",
          "name": "stderr",
          "text": [
            "WARNING:tensorflow:Early stopping conditioned on metric `value_loss` which is not available. Available metrics are: loss,val_loss\n"
          ]
        },
        {
          "output_type": "stream",
          "name": "stdout",
          "text": [
            "\b\b\b\b\b\b\b\b\b\b\b\b\b\b\b\b\b\b\b\b\b\b\b\b\b\b\b\b\b\b\b\b\b\b\b\b\b\b\b\b\b\b\b\b\b\b\b\b\b\b\b\b\b\b\b\b\b\b\b\b\b\r2/2 [==============================] - 0s 30ms/step - loss: 0.0244 - val_loss: 0.0357\n",
            "Epoch 354/500\n",
            "1/2 [==============>...............] - ETA: 0s - loss: 0.0337"
          ]
        },
        {
          "output_type": "stream",
          "name": "stderr",
          "text": [
            "WARNING:tensorflow:Early stopping conditioned on metric `value_loss` which is not available. Available metrics are: loss,val_loss\n"
          ]
        },
        {
          "output_type": "stream",
          "name": "stdout",
          "text": [
            "\b\b\b\b\b\b\b\b\b\b\b\b\b\b\b\b\b\b\b\b\b\b\b\b\b\b\b\b\b\b\b\b\b\b\b\b\b\b\b\b\b\b\b\b\b\b\b\b\b\b\b\b\b\b\b\b\b\b\b\b\b\r2/2 [==============================] - 0s 29ms/step - loss: 0.0261 - val_loss: 0.0282\n",
            "Epoch 355/500\n",
            "1/2 [==============>...............] - ETA: 0s - loss: 0.0340"
          ]
        },
        {
          "output_type": "stream",
          "name": "stderr",
          "text": [
            "WARNING:tensorflow:Early stopping conditioned on metric `value_loss` which is not available. Available metrics are: loss,val_loss\n"
          ]
        },
        {
          "output_type": "stream",
          "name": "stdout",
          "text": [
            "\b\b\b\b\b\b\b\b\b\b\b\b\b\b\b\b\b\b\b\b\b\b\b\b\b\b\b\b\b\b\b\b\b\b\b\b\b\b\b\b\b\b\b\b\b\b\b\b\b\b\b\b\b\b\b\b\b\b\b\b\b\r2/2 [==============================] - 0s 29ms/step - loss: 0.0270 - val_loss: 0.0285\n",
            "Epoch 356/500\n",
            "1/2 [==============>...............] - ETA: 0s - loss: 0.0111"
          ]
        },
        {
          "output_type": "stream",
          "name": "stderr",
          "text": [
            "WARNING:tensorflow:Early stopping conditioned on metric `value_loss` which is not available. Available metrics are: loss,val_loss\n"
          ]
        },
        {
          "output_type": "stream",
          "name": "stdout",
          "text": [
            "\b\b\b\b\b\b\b\b\b\b\b\b\b\b\b\b\b\b\b\b\b\b\b\b\b\b\b\b\b\b\b\b\b\b\b\b\b\b\b\b\b\b\b\b\b\b\b\b\b\b\b\b\b\b\b\b\b\b\b\b\b\r2/2 [==============================] - 0s 30ms/step - loss: 0.0276 - val_loss: 0.0395\n",
            "Epoch 357/500\n",
            "1/2 [==============>...............] - ETA: 0s - loss: 0.0252"
          ]
        },
        {
          "output_type": "stream",
          "name": "stderr",
          "text": [
            "WARNING:tensorflow:Early stopping conditioned on metric `value_loss` which is not available. Available metrics are: loss,val_loss\n"
          ]
        },
        {
          "output_type": "stream",
          "name": "stdout",
          "text": [
            "\b\b\b\b\b\b\b\b\b\b\b\b\b\b\b\b\b\b\b\b\b\b\b\b\b\b\b\b\b\b\b\b\b\b\b\b\b\b\b\b\b\b\b\b\b\b\b\b\b\b\b\b\b\b\b\b\b\b\b\b\b\r2/2 [==============================] - 0s 31ms/step - loss: 0.0229 - val_loss: 0.0383\n",
            "Epoch 358/500\n",
            "1/2 [==============>...............] - ETA: 0s - loss: 0.0392"
          ]
        },
        {
          "output_type": "stream",
          "name": "stderr",
          "text": [
            "WARNING:tensorflow:Early stopping conditioned on metric `value_loss` which is not available. Available metrics are: loss,val_loss\n"
          ]
        },
        {
          "output_type": "stream",
          "name": "stdout",
          "text": [
            "\b\b\b\b\b\b\b\b\b\b\b\b\b\b\b\b\b\b\b\b\b\b\b\b\b\b\b\b\b\b\b\b\b\b\b\b\b\b\b\b\b\b\b\b\b\b\b\b\b\b\b\b\b\b\b\b\b\b\b\b\b\r2/2 [==============================] - 0s 25ms/step - loss: 0.0292 - val_loss: 0.0326\n",
            "Epoch 359/500\n",
            "1/2 [==============>...............] - ETA: 0s - loss: 0.0140"
          ]
        },
        {
          "output_type": "stream",
          "name": "stderr",
          "text": [
            "WARNING:tensorflow:Early stopping conditioned on metric `value_loss` which is not available. Available metrics are: loss,val_loss\n"
          ]
        },
        {
          "output_type": "stream",
          "name": "stdout",
          "text": [
            "\b\b\b\b\b\b\b\b\b\b\b\b\b\b\b\b\b\b\b\b\b\b\b\b\b\b\b\b\b\b\b\b\b\b\b\b\b\b\b\b\b\b\b\b\b\b\b\b\b\b\b\b\b\b\b\b\b\b\b\b\b\r2/2 [==============================] - 0s 32ms/step - loss: 0.0278 - val_loss: 0.0355\n",
            "Epoch 360/500\n",
            "1/2 [==============>...............] - ETA: 0s - loss: 0.0460"
          ]
        },
        {
          "output_type": "stream",
          "name": "stderr",
          "text": [
            "WARNING:tensorflow:Early stopping conditioned on metric `value_loss` which is not available. Available metrics are: loss,val_loss\n"
          ]
        },
        {
          "output_type": "stream",
          "name": "stdout",
          "text": [
            "\b\b\b\b\b\b\b\b\b\b\b\b\b\b\b\b\b\b\b\b\b\b\b\b\b\b\b\b\b\b\b\b\b\b\b\b\b\b\b\b\b\b\b\b\b\b\b\b\b\b\b\b\b\b\b\b\b\b\b\b\b\r2/2 [==============================] - 0s 37ms/step - loss: 0.0295 - val_loss: 0.0423\n",
            "Epoch 361/500\n",
            "1/2 [==============>...............] - ETA: 0s - loss: 0.0342"
          ]
        },
        {
          "output_type": "stream",
          "name": "stderr",
          "text": [
            "WARNING:tensorflow:Early stopping conditioned on metric `value_loss` which is not available. Available metrics are: loss,val_loss\n"
          ]
        },
        {
          "output_type": "stream",
          "name": "stdout",
          "text": [
            "\b\b\b\b\b\b\b\b\b\b\b\b\b\b\b\b\b\b\b\b\b\b\b\b\b\b\b\b\b\b\b\b\b\b\b\b\b\b\b\b\b\b\b\b\b\b\b\b\b\b\b\b\b\b\b\b\b\b\b\b\b\r2/2 [==============================] - 0s 38ms/step - loss: 0.0264 - val_loss: 0.0394\n",
            "Epoch 362/500\n",
            "1/2 [==============>...............] - ETA: 0s - loss: 0.0134"
          ]
        },
        {
          "output_type": "stream",
          "name": "stderr",
          "text": [
            "WARNING:tensorflow:Early stopping conditioned on metric `value_loss` which is not available. Available metrics are: loss,val_loss\n"
          ]
        },
        {
          "output_type": "stream",
          "name": "stdout",
          "text": [
            "\b\b\b\b\b\b\b\b\b\b\b\b\b\b\b\b\b\b\b\b\b\b\b\b\b\b\b\b\b\b\b\b\b\b\b\b\b\b\b\b\b\b\b\b\b\b\b\b\b\b\b\b\b\b\b\b\b\b\b\b\b\r2/2 [==============================] - 0s 41ms/step - loss: 0.0265 - val_loss: 0.0279\n",
            "Epoch 363/500\n",
            "1/2 [==============>...............] - ETA: 0s - loss: 0.0259"
          ]
        },
        {
          "output_type": "stream",
          "name": "stderr",
          "text": [
            "WARNING:tensorflow:Early stopping conditioned on metric `value_loss` which is not available. Available metrics are: loss,val_loss\n"
          ]
        },
        {
          "output_type": "stream",
          "name": "stdout",
          "text": [
            "\b\b\b\b\b\b\b\b\b\b\b\b\b\b\b\b\b\b\b\b\b\b\b\b\b\b\b\b\b\b\b\b\b\b\b\b\b\b\b\b\b\b\b\b\b\b\b\b\b\b\b\b\b\b\b\b\b\b\b\b\b\r2/2 [==============================] - 0s 35ms/step - loss: 0.0282 - val_loss: 0.0309\n",
            "Epoch 364/500\n",
            "1/2 [==============>...............] - ETA: 0s - loss: 0.0239"
          ]
        },
        {
          "output_type": "stream",
          "name": "stderr",
          "text": [
            "WARNING:tensorflow:Early stopping conditioned on metric `value_loss` which is not available. Available metrics are: loss,val_loss\n"
          ]
        },
        {
          "output_type": "stream",
          "name": "stdout",
          "text": [
            "\b\b\b\b\b\b\b\b\b\b\b\b\b\b\b\b\b\b\b\b\b\b\b\b\b\b\b\b\b\b\b\b\b\b\b\b\b\b\b\b\b\b\b\b\b\b\b\b\b\b\b\b\b\b\b\b\b\b\b\b\b\r2/2 [==============================] - 0s 29ms/step - loss: 0.0255 - val_loss: 0.0360\n",
            "Epoch 365/500\n",
            "1/2 [==============>...............] - ETA: 0s - loss: 0.0202"
          ]
        },
        {
          "output_type": "stream",
          "name": "stderr",
          "text": [
            "WARNING:tensorflow:Early stopping conditioned on metric `value_loss` which is not available. Available metrics are: loss,val_loss\n"
          ]
        },
        {
          "output_type": "stream",
          "name": "stdout",
          "text": [
            "\b\b\b\b\b\b\b\b\b\b\b\b\b\b\b\b\b\b\b\b\b\b\b\b\b\b\b\b\b\b\b\b\b\b\b\b\b\b\b\b\b\b\b\b\b\b\b\b\b\b\b\b\b\b\b\b\b\b\b\b\b\r2/2 [==============================] - 0s 29ms/step - loss: 0.0278 - val_loss: 0.0370\n",
            "Epoch 366/500\n",
            "1/2 [==============>...............] - ETA: 0s - loss: 0.0324"
          ]
        },
        {
          "output_type": "stream",
          "name": "stderr",
          "text": [
            "WARNING:tensorflow:Early stopping conditioned on metric `value_loss` which is not available. Available metrics are: loss,val_loss\n"
          ]
        },
        {
          "output_type": "stream",
          "name": "stdout",
          "text": [
            "\b\b\b\b\b\b\b\b\b\b\b\b\b\b\b\b\b\b\b\b\b\b\b\b\b\b\b\b\b\b\b\b\b\b\b\b\b\b\b\b\b\b\b\b\b\b\b\b\b\b\b\b\b\b\b\b\b\b\b\b\b\r2/2 [==============================] - 0s 32ms/step - loss: 0.0279 - val_loss: 0.0269\n",
            "Epoch 367/500\n",
            "1/2 [==============>...............] - ETA: 0s - loss: 0.0402"
          ]
        },
        {
          "output_type": "stream",
          "name": "stderr",
          "text": [
            "WARNING:tensorflow:Early stopping conditioned on metric `value_loss` which is not available. Available metrics are: loss,val_loss\n"
          ]
        },
        {
          "output_type": "stream",
          "name": "stdout",
          "text": [
            "\b\b\b\b\b\b\b\b\b\b\b\b\b\b\b\b\b\b\b\b\b\b\b\b\b\b\b\b\b\b\b\b\b\b\b\b\b\b\b\b\b\b\b\b\b\b\b\b\b\b\b\b\b\b\b\b\b\b\b\b\b\r2/2 [==============================] - 0s 26ms/step - loss: 0.0302 - val_loss: 0.0362\n",
            "Epoch 368/500\n",
            "1/2 [==============>...............] - ETA: 0s - loss: 0.0258"
          ]
        },
        {
          "output_type": "stream",
          "name": "stderr",
          "text": [
            "WARNING:tensorflow:Early stopping conditioned on metric `value_loss` which is not available. Available metrics are: loss,val_loss\n"
          ]
        },
        {
          "output_type": "stream",
          "name": "stdout",
          "text": [
            "\b\b\b\b\b\b\b\b\b\b\b\b\b\b\b\b\b\b\b\b\b\b\b\b\b\b\b\b\b\b\b\b\b\b\b\b\b\b\b\b\b\b\b\b\b\b\b\b\b\b\b\b\b\b\b\b\b\b\b\b\b\r2/2 [==============================] - 0s 28ms/step - loss: 0.0270 - val_loss: 0.0450\n",
            "Epoch 369/500\n",
            "1/2 [==============>...............] - ETA: 0s - loss: 0.0311"
          ]
        },
        {
          "output_type": "stream",
          "name": "stderr",
          "text": [
            "WARNING:tensorflow:Early stopping conditioned on metric `value_loss` which is not available. Available metrics are: loss,val_loss\n"
          ]
        },
        {
          "output_type": "stream",
          "name": "stdout",
          "text": [
            "\b\b\b\b\b\b\b\b\b\b\b\b\b\b\b\b\b\b\b\b\b\b\b\b\b\b\b\b\b\b\b\b\b\b\b\b\b\b\b\b\b\b\b\b\b\b\b\b\b\b\b\b\b\b\b\b\b\b\b\b\b\r2/2 [==============================] - 0s 28ms/step - loss: 0.0264 - val_loss: 0.0322\n",
            "Epoch 370/500\n",
            "1/2 [==============>...............] - ETA: 0s - loss: 0.0317"
          ]
        },
        {
          "output_type": "stream",
          "name": "stderr",
          "text": [
            "WARNING:tensorflow:Early stopping conditioned on metric `value_loss` which is not available. Available metrics are: loss,val_loss\n"
          ]
        },
        {
          "output_type": "stream",
          "name": "stdout",
          "text": [
            "\b\b\b\b\b\b\b\b\b\b\b\b\b\b\b\b\b\b\b\b\b\b\b\b\b\b\b\b\b\b\b\b\b\b\b\b\b\b\b\b\b\b\b\b\b\b\b\b\b\b\b\b\b\b\b\b\b\b\b\b\b\r2/2 [==============================] - 0s 29ms/step - loss: 0.0317 - val_loss: 0.0269\n",
            "Epoch 371/500\n",
            "1/2 [==============>...............] - ETA: 0s - loss: 0.0357"
          ]
        },
        {
          "output_type": "stream",
          "name": "stderr",
          "text": [
            "WARNING:tensorflow:Early stopping conditioned on metric `value_loss` which is not available. Available metrics are: loss,val_loss\n"
          ]
        },
        {
          "output_type": "stream",
          "name": "stdout",
          "text": [
            "\b\b\b\b\b\b\b\b\b\b\b\b\b\b\b\b\b\b\b\b\b\b\b\b\b\b\b\b\b\b\b\b\b\b\b\b\b\b\b\b\b\b\b\b\b\b\b\b\b\b\b\b\b\b\b\b\b\b\b\b\b\r2/2 [==============================] - 0s 27ms/step - loss: 0.0273 - val_loss: 0.0325\n",
            "Epoch 372/500\n",
            "1/2 [==============>...............] - ETA: 0s - loss: 0.0124"
          ]
        },
        {
          "output_type": "stream",
          "name": "stderr",
          "text": [
            "WARNING:tensorflow:Early stopping conditioned on metric `value_loss` which is not available. Available metrics are: loss,val_loss\n"
          ]
        },
        {
          "output_type": "stream",
          "name": "stdout",
          "text": [
            "\b\b\b\b\b\b\b\b\b\b\b\b\b\b\b\b\b\b\b\b\b\b\b\b\b\b\b\b\b\b\b\b\b\b\b\b\b\b\b\b\b\b\b\b\b\b\b\b\b\b\b\b\b\b\b\b\b\b\b\b\b\r2/2 [==============================] - 0s 33ms/step - loss: 0.0270 - val_loss: 0.0371\n",
            "Epoch 373/500\n",
            "1/2 [==============>...............] - ETA: 0s - loss: 0.0354"
          ]
        },
        {
          "output_type": "stream",
          "name": "stderr",
          "text": [
            "WARNING:tensorflow:Early stopping conditioned on metric `value_loss` which is not available. Available metrics are: loss,val_loss\n"
          ]
        },
        {
          "output_type": "stream",
          "name": "stdout",
          "text": [
            "\b\b\b\b\b\b\b\b\b\b\b\b\b\b\b\b\b\b\b\b\b\b\b\b\b\b\b\b\b\b\b\b\b\b\b\b\b\b\b\b\b\b\b\b\b\b\b\b\b\b\b\b\b\b\b\b\b\b\b\b\b\r2/2 [==============================] - 0s 29ms/step - loss: 0.0265 - val_loss: 0.0330\n",
            "Epoch 374/500\n",
            "1/2 [==============>...............] - ETA: 0s - loss: 0.0269"
          ]
        },
        {
          "output_type": "stream",
          "name": "stderr",
          "text": [
            "WARNING:tensorflow:Early stopping conditioned on metric `value_loss` which is not available. Available metrics are: loss,val_loss\n"
          ]
        },
        {
          "output_type": "stream",
          "name": "stdout",
          "text": [
            "\b\b\b\b\b\b\b\b\b\b\b\b\b\b\b\b\b\b\b\b\b\b\b\b\b\b\b\b\b\b\b\b\b\b\b\b\b\b\b\b\b\b\b\b\b\b\b\b\b\b\b\b\b\b\b\b\b\b\b\b\b\r2/2 [==============================] - 0s 36ms/step - loss: 0.0269 - val_loss: 0.0250\n",
            "Epoch 375/500\n",
            "1/2 [==============>...............] - ETA: 0s - loss: 0.0304"
          ]
        },
        {
          "output_type": "stream",
          "name": "stderr",
          "text": [
            "WARNING:tensorflow:Early stopping conditioned on metric `value_loss` which is not available. Available metrics are: loss,val_loss\n"
          ]
        },
        {
          "output_type": "stream",
          "name": "stdout",
          "text": [
            "\b\b\b\b\b\b\b\b\b\b\b\b\b\b\b\b\b\b\b\b\b\b\b\b\b\b\b\b\b\b\b\b\b\b\b\b\b\b\b\b\b\b\b\b\b\b\b\b\b\b\b\b\b\b\b\b\b\b\b\b\b\r2/2 [==============================] - 0s 35ms/step - loss: 0.0265 - val_loss: 0.0323\n",
            "Epoch 376/500\n",
            "1/2 [==============>...............] - ETA: 0s - loss: 0.0296"
          ]
        },
        {
          "output_type": "stream",
          "name": "stderr",
          "text": [
            "WARNING:tensorflow:Early stopping conditioned on metric `value_loss` which is not available. Available metrics are: loss,val_loss\n"
          ]
        },
        {
          "output_type": "stream",
          "name": "stdout",
          "text": [
            "\b\b\b\b\b\b\b\b\b\b\b\b\b\b\b\b\b\b\b\b\b\b\b\b\b\b\b\b\b\b\b\b\b\b\b\b\b\b\b\b\b\b\b\b\b\b\b\b\b\b\b\b\b\b\b\b\b\b\b\b\b\r2/2 [==============================] - 0s 30ms/step - loss: 0.0263 - val_loss: 0.0402\n",
            "Epoch 377/500\n",
            "1/2 [==============>...............] - ETA: 0s - loss: 0.0101"
          ]
        },
        {
          "output_type": "stream",
          "name": "stderr",
          "text": [
            "WARNING:tensorflow:Early stopping conditioned on metric `value_loss` which is not available. Available metrics are: loss,val_loss\n"
          ]
        },
        {
          "output_type": "stream",
          "name": "stdout",
          "text": [
            "\b\b\b\b\b\b\b\b\b\b\b\b\b\b\b\b\b\b\b\b\b\b\b\b\b\b\b\b\b\b\b\b\b\b\b\b\b\b\b\b\b\b\b\b\b\b\b\b\b\b\b\b\b\b\b\b\b\b\b\b\b\r2/2 [==============================] - 0s 30ms/step - loss: 0.0283 - val_loss: 0.0320\n",
            "Epoch 378/500\n",
            "1/2 [==============>...............] - ETA: 0s - loss: 0.0373"
          ]
        },
        {
          "output_type": "stream",
          "name": "stderr",
          "text": [
            "WARNING:tensorflow:Early stopping conditioned on metric `value_loss` which is not available. Available metrics are: loss,val_loss\n"
          ]
        },
        {
          "output_type": "stream",
          "name": "stdout",
          "text": [
            "\b\b\b\b\b\b\b\b\b\b\b\b\b\b\b\b\b\b\b\b\b\b\b\b\b\b\b\b\b\b\b\b\b\b\b\b\b\b\b\b\b\b\b\b\b\b\b\b\b\b\b\b\b\b\b\b\b\b\b\b\b\r2/2 [==============================] - 0s 36ms/step - loss: 0.0252 - val_loss: 0.0255\n",
            "Epoch 379/500\n",
            "1/2 [==============>...............] - ETA: 0s - loss: 0.0409"
          ]
        },
        {
          "output_type": "stream",
          "name": "stderr",
          "text": [
            "WARNING:tensorflow:Early stopping conditioned on metric `value_loss` which is not available. Available metrics are: loss,val_loss\n"
          ]
        },
        {
          "output_type": "stream",
          "name": "stdout",
          "text": [
            "\b\b\b\b\b\b\b\b\b\b\b\b\b\b\b\b\b\b\b\b\b\b\b\b\b\b\b\b\b\b\b\b\b\b\b\b\b\b\b\b\b\b\b\b\b\b\b\b\b\b\b\b\b\b\b\b\b\b\b\b\b\r2/2 [==============================] - 0s 25ms/step - loss: 0.0296 - val_loss: 0.0422\n",
            "Epoch 380/500\n",
            "1/2 [==============>...............] - ETA: 0s - loss: 0.0029"
          ]
        },
        {
          "output_type": "stream",
          "name": "stderr",
          "text": [
            "WARNING:tensorflow:Early stopping conditioned on metric `value_loss` which is not available. Available metrics are: loss,val_loss\n"
          ]
        },
        {
          "output_type": "stream",
          "name": "stdout",
          "text": [
            "\b\b\b\b\b\b\b\b\b\b\b\b\b\b\b\b\b\b\b\b\b\b\b\b\b\b\b\b\b\b\b\b\b\b\b\b\b\b\b\b\b\b\b\b\b\b\b\b\b\b\b\b\b\b\b\b\b\b\b\b\b\r2/2 [==============================] - 0s 25ms/step - loss: 0.0280 - val_loss: 0.0405\n",
            "Epoch 381/500\n",
            "1/2 [==============>...............] - ETA: 0s - loss: 0.0412"
          ]
        },
        {
          "output_type": "stream",
          "name": "stderr",
          "text": [
            "WARNING:tensorflow:Early stopping conditioned on metric `value_loss` which is not available. Available metrics are: loss,val_loss\n"
          ]
        },
        {
          "output_type": "stream",
          "name": "stdout",
          "text": [
            "\b\b\b\b\b\b\b\b\b\b\b\b\b\b\b\b\b\b\b\b\b\b\b\b\b\b\b\b\b\b\b\b\b\b\b\b\b\b\b\b\b\b\b\b\b\b\b\b\b\b\b\b\b\b\b\b\b\b\b\b\b\r2/2 [==============================] - 0s 25ms/step - loss: 0.0263 - val_loss: 0.0256\n",
            "Epoch 382/500\n",
            "1/2 [==============>...............] - ETA: 0s - loss: 0.0383"
          ]
        },
        {
          "output_type": "stream",
          "name": "stderr",
          "text": [
            "WARNING:tensorflow:Early stopping conditioned on metric `value_loss` which is not available. Available metrics are: loss,val_loss\n"
          ]
        },
        {
          "output_type": "stream",
          "name": "stdout",
          "text": [
            "\b\b\b\b\b\b\b\b\b\b\b\b\b\b\b\b\b\b\b\b\b\b\b\b\b\b\b\b\b\b\b\b\b\b\b\b\b\b\b\b\b\b\b\b\b\b\b\b\b\b\b\b\b\b\b\b\b\b\b\b\b\r2/2 [==============================] - 0s 29ms/step - loss: 0.0295 - val_loss: 0.0181\n",
            "Epoch 383/500\n",
            "1/2 [==============>...............] - ETA: 0s - loss: 0.0175"
          ]
        },
        {
          "output_type": "stream",
          "name": "stderr",
          "text": [
            "WARNING:tensorflow:Early stopping conditioned on metric `value_loss` which is not available. Available metrics are: loss,val_loss\n"
          ]
        },
        {
          "output_type": "stream",
          "name": "stdout",
          "text": [
            "\b\b\b\b\b\b\b\b\b\b\b\b\b\b\b\b\b\b\b\b\b\b\b\b\b\b\b\b\b\b\b\b\b\b\b\b\b\b\b\b\b\b\b\b\b\b\b\b\b\b\b\b\b\b\b\b\b\b\b\b\b\r2/2 [==============================] - 0s 31ms/step - loss: 0.0284 - val_loss: 0.0447\n",
            "Epoch 384/500\n",
            "1/2 [==============>...............] - ETA: 0s - loss: 0.0323"
          ]
        },
        {
          "output_type": "stream",
          "name": "stderr",
          "text": [
            "WARNING:tensorflow:Early stopping conditioned on metric `value_loss` which is not available. Available metrics are: loss,val_loss\n"
          ]
        },
        {
          "output_type": "stream",
          "name": "stdout",
          "text": [
            "\b\b\b\b\b\b\b\b\b\b\b\b\b\b\b\b\b\b\b\b\b\b\b\b\b\b\b\b\b\b\b\b\b\b\b\b\b\b\b\b\b\b\b\b\b\b\b\b\b\b\b\b\b\b\b\b\b\b\b\b\b\r2/2 [==============================] - 0s 25ms/step - loss: 0.0299 - val_loss: 0.0502\n",
            "Epoch 385/500\n",
            "1/2 [==============>...............] - ETA: 0s - loss: 0.0366"
          ]
        },
        {
          "output_type": "stream",
          "name": "stderr",
          "text": [
            "WARNING:tensorflow:Early stopping conditioned on metric `value_loss` which is not available. Available metrics are: loss,val_loss\n"
          ]
        },
        {
          "output_type": "stream",
          "name": "stdout",
          "text": [
            "\b\b\b\b\b\b\b\b\b\b\b\b\b\b\b\b\b\b\b\b\b\b\b\b\b\b\b\b\b\b\b\b\b\b\b\b\b\b\b\b\b\b\b\b\b\b\b\b\b\b\b\b\b\b\b\b\b\b\b\b\b\r2/2 [==============================] - 0s 24ms/step - loss: 0.0272 - val_loss: 0.0297\n",
            "Epoch 386/500\n",
            "1/2 [==============>...............] - ETA: 0s - loss: 0.0011"
          ]
        },
        {
          "output_type": "stream",
          "name": "stderr",
          "text": [
            "WARNING:tensorflow:Early stopping conditioned on metric `value_loss` which is not available. Available metrics are: loss,val_loss\n"
          ]
        },
        {
          "output_type": "stream",
          "name": "stdout",
          "text": [
            "\b\b\b\b\b\b\b\b\b\b\b\b\b\b\b\b\b\b\b\b\b\b\b\b\b\b\b\b\b\b\b\b\b\b\b\b\b\b\b\b\b\b\b\b\b\b\b\b\b\b\b\b\b\b\b\b\b\b\b\b\b\r2/2 [==============================] - 0s 28ms/step - loss: 0.0274 - val_loss: 0.0175\n",
            "Epoch 387/500\n",
            "1/2 [==============>...............] - ETA: 0s - loss: 0.0146"
          ]
        },
        {
          "output_type": "stream",
          "name": "stderr",
          "text": [
            "WARNING:tensorflow:Early stopping conditioned on metric `value_loss` which is not available. Available metrics are: loss,val_loss\n"
          ]
        },
        {
          "output_type": "stream",
          "name": "stdout",
          "text": [
            "\b\b\b\b\b\b\b\b\b\b\b\b\b\b\b\b\b\b\b\b\b\b\b\b\b\b\b\b\b\b\b\b\b\b\b\b\b\b\b\b\b\b\b\b\b\b\b\b\b\b\b\b\b\b\b\b\b\b\b\b\b\r2/2 [==============================] - 0s 31ms/step - loss: 0.0273 - val_loss: 0.0338\n",
            "Epoch 388/500\n",
            "1/2 [==============>...............] - ETA: 0s - loss: 0.0354"
          ]
        },
        {
          "output_type": "stream",
          "name": "stderr",
          "text": [
            "WARNING:tensorflow:Early stopping conditioned on metric `value_loss` which is not available. Available metrics are: loss,val_loss\n"
          ]
        },
        {
          "output_type": "stream",
          "name": "stdout",
          "text": [
            "\b\b\b\b\b\b\b\b\b\b\b\b\b\b\b\b\b\b\b\b\b\b\b\b\b\b\b\b\b\b\b\b\b\b\b\b\b\b\b\b\b\b\b\b\b\b\b\b\b\b\b\b\b\b\b\b\b\b\b\b\b\r2/2 [==============================] - 0s 27ms/step - loss: 0.0241 - val_loss: 0.0439\n",
            "Epoch 389/500\n",
            "1/2 [==============>...............] - ETA: 0s - loss: 0.0303"
          ]
        },
        {
          "output_type": "stream",
          "name": "stderr",
          "text": [
            "WARNING:tensorflow:Early stopping conditioned on metric `value_loss` which is not available. Available metrics are: loss,val_loss\n"
          ]
        },
        {
          "output_type": "stream",
          "name": "stdout",
          "text": [
            "\b\b\b\b\b\b\b\b\b\b\b\b\b\b\b\b\b\b\b\b\b\b\b\b\b\b\b\b\b\b\b\b\b\b\b\b\b\b\b\b\b\b\b\b\b\b\b\b\b\b\b\b\b\b\b\b\b\b\b\b\b\r2/2 [==============================] - 0s 33ms/step - loss: 0.0306 - val_loss: 0.0343\n",
            "Epoch 390/500\n",
            "1/2 [==============>...............] - ETA: 0s - loss: 0.0409"
          ]
        },
        {
          "output_type": "stream",
          "name": "stderr",
          "text": [
            "WARNING:tensorflow:Early stopping conditioned on metric `value_loss` which is not available. Available metrics are: loss,val_loss\n"
          ]
        },
        {
          "output_type": "stream",
          "name": "stdout",
          "text": [
            "\b\b\b\b\b\b\b\b\b\b\b\b\b\b\b\b\b\b\b\b\b\b\b\b\b\b\b\b\b\b\b\b\b\b\b\b\b\b\b\b\b\b\b\b\b\b\b\b\b\b\b\b\b\b\b\b\b\b\b\b\b\r2/2 [==============================] - 0s 36ms/step - loss: 0.0232 - val_loss: 0.0229\n",
            "Epoch 391/500\n",
            "1/2 [==============>...............] - ETA: 0s - loss: 0.0385"
          ]
        },
        {
          "output_type": "stream",
          "name": "stderr",
          "text": [
            "WARNING:tensorflow:Early stopping conditioned on metric `value_loss` which is not available. Available metrics are: loss,val_loss\n"
          ]
        },
        {
          "output_type": "stream",
          "name": "stdout",
          "text": [
            "\b\b\b\b\b\b\b\b\b\b\b\b\b\b\b\b\b\b\b\b\b\b\b\b\b\b\b\b\b\b\b\b\b\b\b\b\b\b\b\b\b\b\b\b\b\b\b\b\b\b\b\b\b\b\b\b\b\b\b\b\b\r2/2 [==============================] - 0s 35ms/step - loss: 0.0269 - val_loss: 0.0329\n",
            "Epoch 392/500\n",
            "1/2 [==============>...............] - ETA: 0s - loss: 0.0504"
          ]
        },
        {
          "output_type": "stream",
          "name": "stderr",
          "text": [
            "WARNING:tensorflow:Early stopping conditioned on metric `value_loss` which is not available. Available metrics are: loss,val_loss\n"
          ]
        },
        {
          "output_type": "stream",
          "name": "stdout",
          "text": [
            "\b\b\b\b\b\b\b\b\b\b\b\b\b\b\b\b\b\b\b\b\b\b\b\b\b\b\b\b\b\b\b\b\b\b\b\b\b\b\b\b\b\b\b\b\b\b\b\b\b\b\b\b\b\b\b\b\b\b\b\b\b\r2/2 [==============================] - 0s 34ms/step - loss: 0.0283 - val_loss: 0.0449\n",
            "Epoch 393/500\n",
            "1/2 [==============>...............] - ETA: 0s - loss: 0.0293"
          ]
        },
        {
          "output_type": "stream",
          "name": "stderr",
          "text": [
            "WARNING:tensorflow:Early stopping conditioned on metric `value_loss` which is not available. Available metrics are: loss,val_loss\n"
          ]
        },
        {
          "output_type": "stream",
          "name": "stdout",
          "text": [
            "\b\b\b\b\b\b\b\b\b\b\b\b\b\b\b\b\b\b\b\b\b\b\b\b\b\b\b\b\b\b\b\b\b\b\b\b\b\b\b\b\b\b\b\b\b\b\b\b\b\b\b\b\b\b\b\b\b\b\b\b\b\r2/2 [==============================] - 0s 34ms/step - loss: 0.0286 - val_loss: 0.0353\n",
            "Epoch 394/500\n",
            "1/2 [==============>...............] - ETA: 0s - loss: 0.0346"
          ]
        },
        {
          "output_type": "stream",
          "name": "stderr",
          "text": [
            "WARNING:tensorflow:Early stopping conditioned on metric `value_loss` which is not available. Available metrics are: loss,val_loss\n"
          ]
        },
        {
          "output_type": "stream",
          "name": "stdout",
          "text": [
            "\b\b\b\b\b\b\b\b\b\b\b\b\b\b\b\b\b\b\b\b\b\b\b\b\b\b\b\b\b\b\b\b\b\b\b\b\b\b\b\b\b\b\b\b\b\b\b\b\b\b\b\b\b\b\b\b\b\b\b\b\b\r2/2 [==============================] - 0s 32ms/step - loss: 0.0278 - val_loss: 0.0302\n",
            "Epoch 395/500\n",
            "1/2 [==============>...............] - ETA: 0s - loss: 0.0405"
          ]
        },
        {
          "output_type": "stream",
          "name": "stderr",
          "text": [
            "WARNING:tensorflow:Early stopping conditioned on metric `value_loss` which is not available. Available metrics are: loss,val_loss\n"
          ]
        },
        {
          "output_type": "stream",
          "name": "stdout",
          "text": [
            "\b\b\b\b\b\b\b\b\b\b\b\b\b\b\b\b\b\b\b\b\b\b\b\b\b\b\b\b\b\b\b\b\b\b\b\b\b\b\b\b\b\b\b\b\b\b\b\b\b\b\b\b\b\b\b\b\b\b\b\b\b\r2/2 [==============================] - 0s 34ms/step - loss: 0.0272 - val_loss: 0.0340\n",
            "Epoch 396/500\n",
            "1/2 [==============>...............] - ETA: 0s - loss: 0.0096"
          ]
        },
        {
          "output_type": "stream",
          "name": "stderr",
          "text": [
            "WARNING:tensorflow:Early stopping conditioned on metric `value_loss` which is not available. Available metrics are: loss,val_loss\n"
          ]
        },
        {
          "output_type": "stream",
          "name": "stdout",
          "text": [
            "\b\b\b\b\b\b\b\b\b\b\b\b\b\b\b\b\b\b\b\b\b\b\b\b\b\b\b\b\b\b\b\b\b\b\b\b\b\b\b\b\b\b\b\b\b\b\b\b\b\b\b\b\b\b\b\b\b\b\b\b\b\r2/2 [==============================] - 0s 37ms/step - loss: 0.0255 - val_loss: 0.0394\n",
            "Epoch 397/500\n",
            "1/2 [==============>...............] - ETA: 0s - loss: 0.0180"
          ]
        },
        {
          "output_type": "stream",
          "name": "stderr",
          "text": [
            "WARNING:tensorflow:Early stopping conditioned on metric `value_loss` which is not available. Available metrics are: loss,val_loss\n"
          ]
        },
        {
          "output_type": "stream",
          "name": "stdout",
          "text": [
            "\b\b\b\b\b\b\b\b\b\b\b\b\b\b\b\b\b\b\b\b\b\b\b\b\b\b\b\b\b\b\b\b\b\b\b\b\b\b\b\b\b\b\b\b\b\b\b\b\b\b\b\b\b\b\b\b\b\b\b\b\b\r2/2 [==============================] - 0s 39ms/step - loss: 0.0269 - val_loss: 0.0348\n",
            "Epoch 398/500\n",
            "1/2 [==============>...............] - ETA: 0s - loss: 0.0443"
          ]
        },
        {
          "output_type": "stream",
          "name": "stderr",
          "text": [
            "WARNING:tensorflow:Early stopping conditioned on metric `value_loss` which is not available. Available metrics are: loss,val_loss\n"
          ]
        },
        {
          "output_type": "stream",
          "name": "stdout",
          "text": [
            "\b\b\b\b\b\b\b\b\b\b\b\b\b\b\b\b\b\b\b\b\b\b\b\b\b\b\b\b\b\b\b\b\b\b\b\b\b\b\b\b\b\b\b\b\b\b\b\b\b\b\b\b\b\b\b\b\b\b\b\b\b\r2/2 [==============================] - 0s 44ms/step - loss: 0.0269 - val_loss: 0.0275\n",
            "Epoch 399/500\n",
            "1/2 [==============>...............] - ETA: 0s - loss: 0.0399"
          ]
        },
        {
          "output_type": "stream",
          "name": "stderr",
          "text": [
            "WARNING:tensorflow:Early stopping conditioned on metric `value_loss` which is not available. Available metrics are: loss,val_loss\n"
          ]
        },
        {
          "output_type": "stream",
          "name": "stdout",
          "text": [
            "\b\b\b\b\b\b\b\b\b\b\b\b\b\b\b\b\b\b\b\b\b\b\b\b\b\b\b\b\b\b\b\b\b\b\b\b\b\b\b\b\b\b\b\b\b\b\b\b\b\b\b\b\b\b\b\b\b\b\b\b\b\r2/2 [==============================] - 0s 49ms/step - loss: 0.0262 - val_loss: 0.0320\n",
            "Epoch 400/500\n",
            "1/2 [==============>...............] - ETA: 0s - loss: 0.0100"
          ]
        },
        {
          "output_type": "stream",
          "name": "stderr",
          "text": [
            "WARNING:tensorflow:Early stopping conditioned on metric `value_loss` which is not available. Available metrics are: loss,val_loss\n"
          ]
        },
        {
          "output_type": "stream",
          "name": "stdout",
          "text": [
            "\b\b\b\b\b\b\b\b\b\b\b\b\b\b\b\b\b\b\b\b\b\b\b\b\b\b\b\b\b\b\b\b\b\b\b\b\b\b\b\b\b\b\b\b\b\b\b\b\b\b\b\b\b\b\b\b\b\b\b\b\b\r2/2 [==============================] - 0s 54ms/step - loss: 0.0256 - val_loss: 0.0429\n",
            "Epoch 401/500\n",
            "1/2 [==============>...............] - ETA: 0s - loss: 0.0335"
          ]
        },
        {
          "output_type": "stream",
          "name": "stderr",
          "text": [
            "WARNING:tensorflow:Early stopping conditioned on metric `value_loss` which is not available. Available metrics are: loss,val_loss\n"
          ]
        },
        {
          "output_type": "stream",
          "name": "stdout",
          "text": [
            "\b\b\b\b\b\b\b\b\b\b\b\b\b\b\b\b\b\b\b\b\b\b\b\b\b\b\b\b\b\b\b\b\b\b\b\b\b\b\b\b\b\b\b\b\b\b\b\b\b\b\b\b\b\b\b\b\b\b\b\b\b\r2/2 [==============================] - 0s 40ms/step - loss: 0.0263 - val_loss: 0.0344\n",
            "Epoch 402/500\n",
            "1/2 [==============>...............] - ETA: 0s - loss: 0.0030"
          ]
        },
        {
          "output_type": "stream",
          "name": "stderr",
          "text": [
            "WARNING:tensorflow:Early stopping conditioned on metric `value_loss` which is not available. Available metrics are: loss,val_loss\n"
          ]
        },
        {
          "output_type": "stream",
          "name": "stdout",
          "text": [
            "\b\b\b\b\b\b\b\b\b\b\b\b\b\b\b\b\b\b\b\b\b\b\b\b\b\b\b\b\b\b\b\b\b\b\b\b\b\b\b\b\b\b\b\b\b\b\b\b\b\b\b\b\b\b\b\b\b\b\b\b\b\r2/2 [==============================] - 0s 44ms/step - loss: 0.0270 - val_loss: 0.0229\n",
            "Epoch 403/500\n",
            "1/2 [==============>...............] - ETA: 0s - loss: 0.0220"
          ]
        },
        {
          "output_type": "stream",
          "name": "stderr",
          "text": [
            "WARNING:tensorflow:Early stopping conditioned on metric `value_loss` which is not available. Available metrics are: loss,val_loss\n"
          ]
        },
        {
          "output_type": "stream",
          "name": "stdout",
          "text": [
            "\b\b\b\b\b\b\b\b\b\b\b\b\b\b\b\b\b\b\b\b\b\b\b\b\b\b\b\b\b\b\b\b\b\b\b\b\b\b\b\b\b\b\b\b\b\b\b\b\b\b\b\b\b\b\b\b\b\b\b\b\b\r2/2 [==============================] - 0s 43ms/step - loss: 0.0282 - val_loss: 0.0324\n",
            "Epoch 404/500\n",
            "1/2 [==============>...............] - ETA: 0s - loss: 0.0297"
          ]
        },
        {
          "output_type": "stream",
          "name": "stderr",
          "text": [
            "WARNING:tensorflow:Early stopping conditioned on metric `value_loss` which is not available. Available metrics are: loss,val_loss\n"
          ]
        },
        {
          "output_type": "stream",
          "name": "stdout",
          "text": [
            "\b\b\b\b\b\b\b\b\b\b\b\b\b\b\b\b\b\b\b\b\b\b\b\b\b\b\b\b\b\b\b\b\b\b\b\b\b\b\b\b\b\b\b\b\b\b\b\b\b\b\b\b\b\b\b\b\b\b\b\b\b\r2/2 [==============================] - 0s 42ms/step - loss: 0.0282 - val_loss: 0.0414\n",
            "Epoch 405/500\n",
            "1/2 [==============>...............] - ETA: 0s - loss: 0.0451"
          ]
        },
        {
          "output_type": "stream",
          "name": "stderr",
          "text": [
            "WARNING:tensorflow:Early stopping conditioned on metric `value_loss` which is not available. Available metrics are: loss,val_loss\n"
          ]
        },
        {
          "output_type": "stream",
          "name": "stdout",
          "text": [
            "\b\b\b\b\b\b\b\b\b\b\b\b\b\b\b\b\b\b\b\b\b\b\b\b\b\b\b\b\b\b\b\b\b\b\b\b\b\b\b\b\b\b\b\b\b\b\b\b\b\b\b\b\b\b\b\b\b\b\b\b\b\r2/2 [==============================] - 0s 47ms/step - loss: 0.0292 - val_loss: 0.0365\n",
            "Epoch 406/500\n",
            "1/2 [==============>...............] - ETA: 0s - loss: 0.0369"
          ]
        },
        {
          "output_type": "stream",
          "name": "stderr",
          "text": [
            "WARNING:tensorflow:Early stopping conditioned on metric `value_loss` which is not available. Available metrics are: loss,val_loss\n"
          ]
        },
        {
          "output_type": "stream",
          "name": "stdout",
          "text": [
            "\b\b\b\b\b\b\b\b\b\b\b\b\b\b\b\b\b\b\b\b\b\b\b\b\b\b\b\b\b\b\b\b\b\b\b\b\b\b\b\b\b\b\b\b\b\b\b\b\b\b\b\b\b\b\b\b\b\b\b\b\b\r2/2 [==============================] - 0s 45ms/step - loss: 0.0253 - val_loss: 0.0262\n",
            "Epoch 407/500\n",
            "1/2 [==============>...............] - ETA: 0s - loss: 0.0112"
          ]
        },
        {
          "output_type": "stream",
          "name": "stderr",
          "text": [
            "WARNING:tensorflow:Early stopping conditioned on metric `value_loss` which is not available. Available metrics are: loss,val_loss\n"
          ]
        },
        {
          "output_type": "stream",
          "name": "stdout",
          "text": [
            "\b\b\b\b\b\b\b\b\b\b\b\b\b\b\b\b\b\b\b\b\b\b\b\b\b\b\b\b\b\b\b\b\b\b\b\b\b\b\b\b\b\b\b\b\b\b\b\b\b\b\b\b\b\b\b\b\b\b\b\b\b\r2/2 [==============================] - 0s 50ms/step - loss: 0.0263 - val_loss: 0.0298\n",
            "Epoch 408/500\n",
            "1/2 [==============>...............] - ETA: 0s - loss: 0.0347"
          ]
        },
        {
          "output_type": "stream",
          "name": "stderr",
          "text": [
            "WARNING:tensorflow:Early stopping conditioned on metric `value_loss` which is not available. Available metrics are: loss,val_loss\n"
          ]
        },
        {
          "output_type": "stream",
          "name": "stdout",
          "text": [
            "\b\b\b\b\b\b\b\b\b\b\b\b\b\b\b\b\b\b\b\b\b\b\b\b\b\b\b\b\b\b\b\b\b\b\b\b\b\b\b\b\b\b\b\b\b\b\b\b\b\b\b\b\b\b\b\b\b\b\b\b\b\r2/2 [==============================] - 0s 41ms/step - loss: 0.0261 - val_loss: 0.0362\n",
            "Epoch 409/500\n",
            "1/2 [==============>...............] - ETA: 0s - loss: 0.0263"
          ]
        },
        {
          "output_type": "stream",
          "name": "stderr",
          "text": [
            "WARNING:tensorflow:Early stopping conditioned on metric `value_loss` which is not available. Available metrics are: loss,val_loss\n"
          ]
        },
        {
          "output_type": "stream",
          "name": "stdout",
          "text": [
            "\b\b\b\b\b\b\b\b\b\b\b\b\b\b\b\b\b\b\b\b\b\b\b\b\b\b\b\b\b\b\b\b\b\b\b\b\b\b\b\b\b\b\b\b\b\b\b\b\b\b\b\b\b\b\b\b\b\b\b\b\b\r2/2 [==============================] - 0s 75ms/step - loss: 0.0252 - val_loss: 0.0334\n",
            "Epoch 410/500\n",
            "1/2 [==============>...............] - ETA: 0s - loss: 0.0196"
          ]
        },
        {
          "output_type": "stream",
          "name": "stderr",
          "text": [
            "WARNING:tensorflow:Early stopping conditioned on metric `value_loss` which is not available. Available metrics are: loss,val_loss\n"
          ]
        },
        {
          "output_type": "stream",
          "name": "stdout",
          "text": [
            "\b\b\b\b\b\b\b\b\b\b\b\b\b\b\b\b\b\b\b\b\b\b\b\b\b\b\b\b\b\b\b\b\b\b\b\b\b\b\b\b\b\b\b\b\b\b\b\b\b\b\b\b\b\b\b\b\b\b\b\b\b\r2/2 [==============================] - 0s 53ms/step - loss: 0.0260 - val_loss: 0.0320\n",
            "Epoch 411/500\n",
            "1/2 [==============>...............] - ETA: 0s - loss: 0.0184"
          ]
        },
        {
          "output_type": "stream",
          "name": "stderr",
          "text": [
            "WARNING:tensorflow:Early stopping conditioned on metric `value_loss` which is not available. Available metrics are: loss,val_loss\n"
          ]
        },
        {
          "output_type": "stream",
          "name": "stdout",
          "text": [
            "\b\b\b\b\b\b\b\b\b\b\b\b\b\b\b\b\b\b\b\b\b\b\b\b\b\b\b\b\b\b\b\b\b\b\b\b\b\b\b\b\b\b\b\b\b\b\b\b\b\b\b\b\b\b\b\b\b\b\b\b\b\r2/2 [==============================] - 0s 42ms/step - loss: 0.0266 - val_loss: 0.0283\n",
            "Epoch 412/500\n",
            "1/2 [==============>...............] - ETA: 0s - loss: 0.0473"
          ]
        },
        {
          "output_type": "stream",
          "name": "stderr",
          "text": [
            "WARNING:tensorflow:Early stopping conditioned on metric `value_loss` which is not available. Available metrics are: loss,val_loss\n"
          ]
        },
        {
          "output_type": "stream",
          "name": "stdout",
          "text": [
            "\b\b\b\b\b\b\b\b\b\b\b\b\b\b\b\b\b\b\b\b\b\b\b\b\b\b\b\b\b\b\b\b\b\b\b\b\b\b\b\b\b\b\b\b\b\b\b\b\b\b\b\b\b\b\b\b\b\b\b\b\b\r2/2 [==============================] - 0s 45ms/step - loss: 0.0257 - val_loss: 0.0343\n",
            "Epoch 413/500\n",
            "1/2 [==============>...............] - ETA: 0s - loss: 0.0442"
          ]
        },
        {
          "output_type": "stream",
          "name": "stderr",
          "text": [
            "WARNING:tensorflow:Early stopping conditioned on metric `value_loss` which is not available. Available metrics are: loss,val_loss\n"
          ]
        },
        {
          "output_type": "stream",
          "name": "stdout",
          "text": [
            "\b\b\b\b\b\b\b\b\b\b\b\b\b\b\b\b\b\b\b\b\b\b\b\b\b\b\b\b\b\b\b\b\b\b\b\b\b\b\b\b\b\b\b\b\b\b\b\b\b\b\b\b\b\b\b\b\b\b\b\b\b\r2/2 [==============================] - 0s 49ms/step - loss: 0.0276 - val_loss: 0.0358\n",
            "Epoch 414/500\n",
            "1/2 [==============>...............] - ETA: 0s - loss: 0.0178"
          ]
        },
        {
          "output_type": "stream",
          "name": "stderr",
          "text": [
            "WARNING:tensorflow:Early stopping conditioned on metric `value_loss` which is not available. Available metrics are: loss,val_loss\n"
          ]
        },
        {
          "output_type": "stream",
          "name": "stdout",
          "text": [
            "\b\b\b\b\b\b\b\b\b\b\b\b\b\b\b\b\b\b\b\b\b\b\b\b\b\b\b\b\b\b\b\b\b\b\b\b\b\b\b\b\b\b\b\b\b\b\b\b\b\b\b\b\b\b\b\b\b\b\b\b\b\r2/2 [==============================] - 0s 43ms/step - loss: 0.0262 - val_loss: 0.0319\n",
            "Epoch 415/500\n",
            "1/2 [==============>...............] - ETA: 0s - loss: 0.0426"
          ]
        },
        {
          "output_type": "stream",
          "name": "stderr",
          "text": [
            "WARNING:tensorflow:Early stopping conditioned on metric `value_loss` which is not available. Available metrics are: loss,val_loss\n"
          ]
        },
        {
          "output_type": "stream",
          "name": "stdout",
          "text": [
            "\b\b\b\b\b\b\b\b\b\b\b\b\b\b\b\b\b\b\b\b\b\b\b\b\b\b\b\b\b\b\b\b\b\b\b\b\b\b\b\b\b\b\b\b\b\b\b\b\b\b\b\b\b\b\b\b\b\b\b\b\b\r2/2 [==============================] - 0s 44ms/step - loss: 0.0251 - val_loss: 0.0293\n",
            "Epoch 416/500\n",
            "1/2 [==============>...............] - ETA: 0s - loss: 0.0078"
          ]
        },
        {
          "output_type": "stream",
          "name": "stderr",
          "text": [
            "WARNING:tensorflow:Early stopping conditioned on metric `value_loss` which is not available. Available metrics are: loss,val_loss\n"
          ]
        },
        {
          "output_type": "stream",
          "name": "stdout",
          "text": [
            "\b\b\b\b\b\b\b\b\b\b\b\b\b\b\b\b\b\b\b\b\b\b\b\b\b\b\b\b\b\b\b\b\b\b\b\b\b\b\b\b\b\b\b\b\b\b\b\b\b\b\b\b\b\b\b\b\b\b\b\b\b\r2/2 [==============================] - 0s 57ms/step - loss: 0.0259 - val_loss: 0.0368\n",
            "Epoch 417/500\n",
            "1/2 [==============>...............] - ETA: 0s - loss: 0.0091"
          ]
        },
        {
          "output_type": "stream",
          "name": "stderr",
          "text": [
            "WARNING:tensorflow:Early stopping conditioned on metric `value_loss` which is not available. Available metrics are: loss,val_loss\n"
          ]
        },
        {
          "output_type": "stream",
          "name": "stdout",
          "text": [
            "\b\b\b\b\b\b\b\b\b\b\b\b\b\b\b\b\b\b\b\b\b\b\b\b\b\b\b\b\b\b\b\b\b\b\b\b\b\b\b\b\b\b\b\b\b\b\b\b\b\b\b\b\b\b\b\b\b\b\b\b\b\r2/2 [==============================] - 0s 32ms/step - loss: 0.0268 - val_loss: 0.0365\n",
            "Epoch 418/500\n",
            "1/2 [==============>...............] - ETA: 0s - loss: 0.0365"
          ]
        },
        {
          "output_type": "stream",
          "name": "stderr",
          "text": [
            "WARNING:tensorflow:Early stopping conditioned on metric `value_loss` which is not available. Available metrics are: loss,val_loss\n"
          ]
        },
        {
          "output_type": "stream",
          "name": "stdout",
          "text": [
            "\b\b\b\b\b\b\b\b\b\b\b\b\b\b\b\b\b\b\b\b\b\b\b\b\b\b\b\b\b\b\b\b\b\b\b\b\b\b\b\b\b\b\b\b\b\b\b\b\b\b\b\b\b\b\b\b\b\b\b\b\b\r2/2 [==============================] - 0s 38ms/step - loss: 0.0268 - val_loss: 0.0298\n",
            "Epoch 419/500\n",
            "1/2 [==============>...............] - ETA: 0s - loss: 0.0138"
          ]
        },
        {
          "output_type": "stream",
          "name": "stderr",
          "text": [
            "WARNING:tensorflow:Early stopping conditioned on metric `value_loss` which is not available. Available metrics are: loss,val_loss\n"
          ]
        },
        {
          "output_type": "stream",
          "name": "stdout",
          "text": [
            "\b\b\b\b\b\b\b\b\b\b\b\b\b\b\b\b\b\b\b\b\b\b\b\b\b\b\b\b\b\b\b\b\b\b\b\b\b\b\b\b\b\b\b\b\b\b\b\b\b\b\b\b\b\b\b\b\b\b\b\b\b\r2/2 [==============================] - 0s 32ms/step - loss: 0.0293 - val_loss: 0.0382\n",
            "Epoch 420/500\n",
            "1/2 [==============>...............] - ETA: 0s - loss: 0.0376"
          ]
        },
        {
          "output_type": "stream",
          "name": "stderr",
          "text": [
            "WARNING:tensorflow:Early stopping conditioned on metric `value_loss` which is not available. Available metrics are: loss,val_loss\n"
          ]
        },
        {
          "output_type": "stream",
          "name": "stdout",
          "text": [
            "\b\b\b\b\b\b\b\b\b\b\b\b\b\b\b\b\b\b\b\b\b\b\b\b\b\b\b\b\b\b\b\b\b\b\b\b\b\b\b\b\b\b\b\b\b\b\b\b\b\b\b\b\b\b\b\b\b\b\b\b\b\r2/2 [==============================] - 0s 29ms/step - loss: 0.0269 - val_loss: 0.0405\n",
            "Epoch 421/500\n",
            "1/2 [==============>...............] - ETA: 0s - loss: 0.0312"
          ]
        },
        {
          "output_type": "stream",
          "name": "stderr",
          "text": [
            "WARNING:tensorflow:Early stopping conditioned on metric `value_loss` which is not available. Available metrics are: loss,val_loss\n"
          ]
        },
        {
          "output_type": "stream",
          "name": "stdout",
          "text": [
            "\b\b\b\b\b\b\b\b\b\b\b\b\b\b\b\b\b\b\b\b\b\b\b\b\b\b\b\b\b\b\b\b\b\b\b\b\b\b\b\b\b\b\b\b\b\b\b\b\b\b\b\b\b\b\b\b\b\b\b\b\b\r2/2 [==============================] - 0s 40ms/step - loss: 0.0262 - val_loss: 0.0277\n",
            "Epoch 422/500\n",
            "1/2 [==============>...............] - ETA: 0s - loss: 0.0077"
          ]
        },
        {
          "output_type": "stream",
          "name": "stderr",
          "text": [
            "WARNING:tensorflow:Early stopping conditioned on metric `value_loss` which is not available. Available metrics are: loss,val_loss\n"
          ]
        },
        {
          "output_type": "stream",
          "name": "stdout",
          "text": [
            "\b\b\b\b\b\b\b\b\b\b\b\b\b\b\b\b\b\b\b\b\b\b\b\b\b\b\b\b\b\b\b\b\b\b\b\b\b\b\b\b\b\b\b\b\b\b\b\b\b\b\b\b\b\b\b\b\b\b\b\b\b\r2/2 [==============================] - 0s 40ms/step - loss: 0.0264 - val_loss: 0.0283\n",
            "Epoch 423/500\n",
            "1/2 [==============>...............] - ETA: 0s - loss: 0.0141"
          ]
        },
        {
          "output_type": "stream",
          "name": "stderr",
          "text": [
            "WARNING:tensorflow:Early stopping conditioned on metric `value_loss` which is not available. Available metrics are: loss,val_loss\n"
          ]
        },
        {
          "output_type": "stream",
          "name": "stdout",
          "text": [
            "\b\b\b\b\b\b\b\b\b\b\b\b\b\b\b\b\b\b\b\b\b\b\b\b\b\b\b\b\b\b\b\b\b\b\b\b\b\b\b\b\b\b\b\b\b\b\b\b\b\b\b\b\b\b\b\b\b\b\b\b\b\r2/2 [==============================] - 0s 44ms/step - loss: 0.0291 - val_loss: 0.0300\n",
            "Epoch 424/500\n",
            "1/2 [==============>...............] - ETA: 0s - loss: 0.0115"
          ]
        },
        {
          "output_type": "stream",
          "name": "stderr",
          "text": [
            "WARNING:tensorflow:Early stopping conditioned on metric `value_loss` which is not available. Available metrics are: loss,val_loss\n"
          ]
        },
        {
          "output_type": "stream",
          "name": "stdout",
          "text": [
            "\b\b\b\b\b\b\b\b\b\b\b\b\b\b\b\b\b\b\b\b\b\b\b\b\b\b\b\b\b\b\b\b\b\b\b\b\b\b\b\b\b\b\b\b\b\b\b\b\b\b\b\b\b\b\b\b\b\b\b\b\b\r2/2 [==============================] - 0s 58ms/step - loss: 0.0257 - val_loss: 0.0335\n",
            "Epoch 425/500\n",
            "1/2 [==============>...............] - ETA: 0s - loss: 0.0419"
          ]
        },
        {
          "output_type": "stream",
          "name": "stderr",
          "text": [
            "WARNING:tensorflow:Early stopping conditioned on metric `value_loss` which is not available. Available metrics are: loss,val_loss\n"
          ]
        },
        {
          "output_type": "stream",
          "name": "stdout",
          "text": [
            "\b\b\b\b\b\b\b\b\b\b\b\b\b\b\b\b\b\b\b\b\b\b\b\b\b\b\b\b\b\b\b\b\b\b\b\b\b\b\b\b\b\b\b\b\b\b\b\b\b\b\b\b\b\b\b\b\b\b\b\b\b\r2/2 [==============================] - 0s 42ms/step - loss: 0.0269 - val_loss: 0.0348\n",
            "Epoch 426/500\n",
            "1/2 [==============>...............] - ETA: 0s - loss: 0.0178"
          ]
        },
        {
          "output_type": "stream",
          "name": "stderr",
          "text": [
            "WARNING:tensorflow:Early stopping conditioned on metric `value_loss` which is not available. Available metrics are: loss,val_loss\n"
          ]
        },
        {
          "output_type": "stream",
          "name": "stdout",
          "text": [
            "\b\b\b\b\b\b\b\b\b\b\b\b\b\b\b\b\b\b\b\b\b\b\b\b\b\b\b\b\b\b\b\b\b\b\b\b\b\b\b\b\b\b\b\b\b\b\b\b\b\b\b\b\b\b\b\b\b\b\b\b\b\r2/2 [==============================] - 0s 48ms/step - loss: 0.0283 - val_loss: 0.0341\n",
            "Epoch 427/500\n",
            "1/2 [==============>...............] - ETA: 0s - loss: 0.0311"
          ]
        },
        {
          "output_type": "stream",
          "name": "stderr",
          "text": [
            "WARNING:tensorflow:Early stopping conditioned on metric `value_loss` which is not available. Available metrics are: loss,val_loss\n"
          ]
        },
        {
          "output_type": "stream",
          "name": "stdout",
          "text": [
            "\b\b\b\b\b\b\b\b\b\b\b\b\b\b\b\b\b\b\b\b\b\b\b\b\b\b\b\b\b\b\b\b\b\b\b\b\b\b\b\b\b\b\b\b\b\b\b\b\b\b\b\b\b\b\b\b\b\b\b\b\b\r2/2 [==============================] - 0s 60ms/step - loss: 0.0252 - val_loss: 0.0294\n",
            "Epoch 428/500\n",
            "1/2 [==============>...............] - ETA: 0s - loss: 0.0087"
          ]
        },
        {
          "output_type": "stream",
          "name": "stderr",
          "text": [
            "WARNING:tensorflow:Early stopping conditioned on metric `value_loss` which is not available. Available metrics are: loss,val_loss\n"
          ]
        },
        {
          "output_type": "stream",
          "name": "stdout",
          "text": [
            "\b\b\b\b\b\b\b\b\b\b\b\b\b\b\b\b\b\b\b\b\b\b\b\b\b\b\b\b\b\b\b\b\b\b\b\b\b\b\b\b\b\b\b\b\b\b\b\b\b\b\b\b\b\b\b\b\b\b\b\b\b\r2/2 [==============================] - 0s 36ms/step - loss: 0.0259 - val_loss: 0.0325\n",
            "Epoch 429/500\n",
            "1/2 [==============>...............] - ETA: 0s - loss: 0.0174"
          ]
        },
        {
          "output_type": "stream",
          "name": "stderr",
          "text": [
            "WARNING:tensorflow:Early stopping conditioned on metric `value_loss` which is not available. Available metrics are: loss,val_loss\n"
          ]
        },
        {
          "output_type": "stream",
          "name": "stdout",
          "text": [
            "\b\b\b\b\b\b\b\b\b\b\b\b\b\b\b\b\b\b\b\b\b\b\b\b\b\b\b\b\b\b\b\b\b\b\b\b\b\b\b\b\b\b\b\b\b\b\b\b\b\b\b\b\b\b\b\b\b\b\b\b\b\r2/2 [==============================] - 0s 45ms/step - loss: 0.0260 - val_loss: 0.0326\n",
            "Epoch 430/500\n",
            "1/2 [==============>...............] - ETA: 0s - loss: 0.0378"
          ]
        },
        {
          "output_type": "stream",
          "name": "stderr",
          "text": [
            "WARNING:tensorflow:Early stopping conditioned on metric `value_loss` which is not available. Available metrics are: loss,val_loss\n"
          ]
        },
        {
          "output_type": "stream",
          "name": "stdout",
          "text": [
            "\b\b\b\b\b\b\b\b\b\b\b\b\b\b\b\b\b\b\b\b\b\b\b\b\b\b\b\b\b\b\b\b\b\b\b\b\b\b\b\b\b\b\b\b\b\b\b\b\b\b\b\b\b\b\b\b\b\b\b\b\b\r2/2 [==============================] - 0s 40ms/step - loss: 0.0248 - val_loss: 0.0310\n",
            "Epoch 431/500\n",
            "1/2 [==============>...............] - ETA: 0s - loss: 0.0222"
          ]
        },
        {
          "output_type": "stream",
          "name": "stderr",
          "text": [
            "WARNING:tensorflow:Early stopping conditioned on metric `value_loss` which is not available. Available metrics are: loss,val_loss\n"
          ]
        },
        {
          "output_type": "stream",
          "name": "stdout",
          "text": [
            "\b\b\b\b\b\b\b\b\b\b\b\b\b\b\b\b\b\b\b\b\b\b\b\b\b\b\b\b\b\b\b\b\b\b\b\b\b\b\b\b\b\b\b\b\b\b\b\b\b\b\b\b\b\b\b\b\b\b\b\b\b\r2/2 [==============================] - 0s 43ms/step - loss: 0.0258 - val_loss: 0.0314\n",
            "Epoch 432/500\n",
            "1/2 [==============>...............] - ETA: 0s - loss: 0.0327"
          ]
        },
        {
          "output_type": "stream",
          "name": "stderr",
          "text": [
            "WARNING:tensorflow:Early stopping conditioned on metric `value_loss` which is not available. Available metrics are: loss,val_loss\n"
          ]
        },
        {
          "output_type": "stream",
          "name": "stdout",
          "text": [
            "\b\b\b\b\b\b\b\b\b\b\b\b\b\b\b\b\b\b\b\b\b\b\b\b\b\b\b\b\b\b\b\b\b\b\b\b\b\b\b\b\b\b\b\b\b\b\b\b\b\b\b\b\b\b\b\b\b\b\b\b\b\r2/2 [==============================] - 0s 43ms/step - loss: 0.0263 - val_loss: 0.0309\n",
            "Epoch 433/500\n",
            "1/2 [==============>...............] - ETA: 0s - loss: 0.0225"
          ]
        },
        {
          "output_type": "stream",
          "name": "stderr",
          "text": [
            "WARNING:tensorflow:Early stopping conditioned on metric `value_loss` which is not available. Available metrics are: loss,val_loss\n"
          ]
        },
        {
          "output_type": "stream",
          "name": "stdout",
          "text": [
            "\b\b\b\b\b\b\b\b\b\b\b\b\b\b\b\b\b\b\b\b\b\b\b\b\b\b\b\b\b\b\b\b\b\b\b\b\b\b\b\b\b\b\b\b\b\b\b\b\b\b\b\b\b\b\b\b\b\b\b\b\b\r2/2 [==============================] - 0s 35ms/step - loss: 0.0251 - val_loss: 0.0367\n",
            "Epoch 434/500\n",
            "1/2 [==============>...............] - ETA: 0s - loss: 0.0214"
          ]
        },
        {
          "output_type": "stream",
          "name": "stderr",
          "text": [
            "WARNING:tensorflow:Early stopping conditioned on metric `value_loss` which is not available. Available metrics are: loss,val_loss\n"
          ]
        },
        {
          "output_type": "stream",
          "name": "stdout",
          "text": [
            "\b\b\b\b\b\b\b\b\b\b\b\b\b\b\b\b\b\b\b\b\b\b\b\b\b\b\b\b\b\b\b\b\b\b\b\b\b\b\b\b\b\b\b\b\b\b\b\b\b\b\b\b\b\b\b\b\b\b\b\b\b\r2/2 [==============================] - 0s 35ms/step - loss: 0.0244 - val_loss: 0.0369\n",
            "Epoch 435/500\n",
            "1/2 [==============>...............] - ETA: 0s - loss: 0.0313"
          ]
        },
        {
          "output_type": "stream",
          "name": "stderr",
          "text": [
            "WARNING:tensorflow:Early stopping conditioned on metric `value_loss` which is not available. Available metrics are: loss,val_loss\n"
          ]
        },
        {
          "output_type": "stream",
          "name": "stdout",
          "text": [
            "\b\b\b\b\b\b\b\b\b\b\b\b\b\b\b\b\b\b\b\b\b\b\b\b\b\b\b\b\b\b\b\b\b\b\b\b\b\b\b\b\b\b\b\b\b\b\b\b\b\b\b\b\b\b\b\b\b\b\b\b\b\r2/2 [==============================] - 0s 32ms/step - loss: 0.0248 - val_loss: 0.0338\n",
            "Epoch 436/500\n",
            "1/2 [==============>...............] - ETA: 0s - loss: 0.0203"
          ]
        },
        {
          "output_type": "stream",
          "name": "stderr",
          "text": [
            "WARNING:tensorflow:Early stopping conditioned on metric `value_loss` which is not available. Available metrics are: loss,val_loss\n"
          ]
        },
        {
          "output_type": "stream",
          "name": "stdout",
          "text": [
            "\b\b\b\b\b\b\b\b\b\b\b\b\b\b\b\b\b\b\b\b\b\b\b\b\b\b\b\b\b\b\b\b\b\b\b\b\b\b\b\b\b\b\b\b\b\b\b\b\b\b\b\b\b\b\b\b\b\b\b\b\b\r2/2 [==============================] - 0s 29ms/step - loss: 0.0278 - val_loss: 0.0327\n",
            "Epoch 437/500\n",
            "1/2 [==============>...............] - ETA: 0s - loss: 0.0335"
          ]
        },
        {
          "output_type": "stream",
          "name": "stderr",
          "text": [
            "WARNING:tensorflow:Early stopping conditioned on metric `value_loss` which is not available. Available metrics are: loss,val_loss\n"
          ]
        },
        {
          "output_type": "stream",
          "name": "stdout",
          "text": [
            "\b\b\b\b\b\b\b\b\b\b\b\b\b\b\b\b\b\b\b\b\b\b\b\b\b\b\b\b\b\b\b\b\b\b\b\b\b\b\b\b\b\b\b\b\b\b\b\b\b\b\b\b\b\b\b\b\b\b\b\b\b\r2/2 [==============================] - 0s 32ms/step - loss: 0.0252 - val_loss: 0.0330\n",
            "Epoch 438/500\n",
            "1/2 [==============>...............] - ETA: 0s - loss: 0.0269"
          ]
        },
        {
          "output_type": "stream",
          "name": "stderr",
          "text": [
            "WARNING:tensorflow:Early stopping conditioned on metric `value_loss` which is not available. Available metrics are: loss,val_loss\n"
          ]
        },
        {
          "output_type": "stream",
          "name": "stdout",
          "text": [
            "\b\b\b\b\b\b\b\b\b\b\b\b\b\b\b\b\b\b\b\b\b\b\b\b\b\b\b\b\b\b\b\b\b\b\b\b\b\b\b\b\b\b\b\b\b\b\b\b\b\b\b\b\b\b\b\b\b\b\b\b\b\r2/2 [==============================] - 0s 30ms/step - loss: 0.0254 - val_loss: 0.0385\n",
            "Epoch 439/500\n",
            "1/2 [==============>...............] - ETA: 0s - loss: 0.0343"
          ]
        },
        {
          "output_type": "stream",
          "name": "stderr",
          "text": [
            "WARNING:tensorflow:Early stopping conditioned on metric `value_loss` which is not available. Available metrics are: loss,val_loss\n"
          ]
        },
        {
          "output_type": "stream",
          "name": "stdout",
          "text": [
            "\b\b\b\b\b\b\b\b\b\b\b\b\b\b\b\b\b\b\b\b\b\b\b\b\b\b\b\b\b\b\b\b\b\b\b\b\b\b\b\b\b\b\b\b\b\b\b\b\b\b\b\b\b\b\b\b\b\b\b\b\b\r2/2 [==============================] - 0s 25ms/step - loss: 0.0237 - val_loss: 0.0360\n",
            "Epoch 440/500\n",
            "1/2 [==============>...............] - ETA: 0s - loss: 0.0378"
          ]
        },
        {
          "output_type": "stream",
          "name": "stderr",
          "text": [
            "WARNING:tensorflow:Early stopping conditioned on metric `value_loss` which is not available. Available metrics are: loss,val_loss\n"
          ]
        },
        {
          "output_type": "stream",
          "name": "stdout",
          "text": [
            "\b\b\b\b\b\b\b\b\b\b\b\b\b\b\b\b\b\b\b\b\b\b\b\b\b\b\b\b\b\b\b\b\b\b\b\b\b\b\b\b\b\b\b\b\b\b\b\b\b\b\b\b\b\b\b\b\b\b\b\b\b\r2/2 [==============================] - 0s 32ms/step - loss: 0.0257 - val_loss: 0.0332\n",
            "Epoch 441/500\n",
            "1/2 [==============>...............] - ETA: 0s - loss: 0.0232"
          ]
        },
        {
          "output_type": "stream",
          "name": "stderr",
          "text": [
            "WARNING:tensorflow:Early stopping conditioned on metric `value_loss` which is not available. Available metrics are: loss,val_loss\n"
          ]
        },
        {
          "output_type": "stream",
          "name": "stdout",
          "text": [
            "\b\b\b\b\b\b\b\b\b\b\b\b\b\b\b\b\b\b\b\b\b\b\b\b\b\b\b\b\b\b\b\b\b\b\b\b\b\b\b\b\b\b\b\b\b\b\b\b\b\b\b\b\b\b\b\b\b\b\b\b\b\r2/2 [==============================] - 0s 48ms/step - loss: 0.0244 - val_loss: 0.0357\n",
            "Epoch 442/500\n",
            "1/2 [==============>...............] - ETA: 0s - loss: 0.0103"
          ]
        },
        {
          "output_type": "stream",
          "name": "stderr",
          "text": [
            "WARNING:tensorflow:Early stopping conditioned on metric `value_loss` which is not available. Available metrics are: loss,val_loss\n"
          ]
        },
        {
          "output_type": "stream",
          "name": "stdout",
          "text": [
            "\b\b\b\b\b\b\b\b\b\b\b\b\b\b\b\b\b\b\b\b\b\b\b\b\b\b\b\b\b\b\b\b\b\b\b\b\b\b\b\b\b\b\b\b\b\b\b\b\b\b\b\b\b\b\b\b\b\b\b\b\b\r2/2 [==============================] - 0s 24ms/step - loss: 0.0253 - val_loss: 0.0372\n",
            "Epoch 443/500\n",
            "1/2 [==============>...............] - ETA: 0s - loss: 0.0194"
          ]
        },
        {
          "output_type": "stream",
          "name": "stderr",
          "text": [
            "WARNING:tensorflow:Early stopping conditioned on metric `value_loss` which is not available. Available metrics are: loss,val_loss\n"
          ]
        },
        {
          "output_type": "stream",
          "name": "stdout",
          "text": [
            "\b\b\b\b\b\b\b\b\b\b\b\b\b\b\b\b\b\b\b\b\b\b\b\b\b\b\b\b\b\b\b\b\b\b\b\b\b\b\b\b\b\b\b\b\b\b\b\b\b\b\b\b\b\b\b\b\b\b\b\b\b\r2/2 [==============================] - 0s 37ms/step - loss: 0.0262 - val_loss: 0.0322\n",
            "Epoch 444/500\n",
            "1/2 [==============>...............] - ETA: 0s - loss: 0.0372"
          ]
        },
        {
          "output_type": "stream",
          "name": "stderr",
          "text": [
            "WARNING:tensorflow:Early stopping conditioned on metric `value_loss` which is not available. Available metrics are: loss,val_loss\n"
          ]
        },
        {
          "output_type": "stream",
          "name": "stdout",
          "text": [
            "\b\b\b\b\b\b\b\b\b\b\b\b\b\b\b\b\b\b\b\b\b\b\b\b\b\b\b\b\b\b\b\b\b\b\b\b\b\b\b\b\b\b\b\b\b\b\b\b\b\b\b\b\b\b\b\b\b\b\b\b\b\r2/2 [==============================] - 0s 28ms/step - loss: 0.0278 - val_loss: 0.0331\n",
            "Epoch 445/500\n",
            "1/2 [==============>...............] - ETA: 0s - loss: 0.0127"
          ]
        },
        {
          "output_type": "stream",
          "name": "stderr",
          "text": [
            "WARNING:tensorflow:Early stopping conditioned on metric `value_loss` which is not available. Available metrics are: loss,val_loss\n"
          ]
        },
        {
          "output_type": "stream",
          "name": "stdout",
          "text": [
            "\b\b\b\b\b\b\b\b\b\b\b\b\b\b\b\b\b\b\b\b\b\b\b\b\b\b\b\b\b\b\b\b\b\b\b\b\b\b\b\b\b\b\b\b\b\b\b\b\b\b\b\b\b\b\b\b\b\b\b\b\b\r2/2 [==============================] - 0s 27ms/step - loss: 0.0243 - val_loss: 0.0367\n",
            "Epoch 446/500\n",
            "1/2 [==============>...............] - ETA: 0s - loss: 0.0371"
          ]
        },
        {
          "output_type": "stream",
          "name": "stderr",
          "text": [
            "WARNING:tensorflow:Early stopping conditioned on metric `value_loss` which is not available. Available metrics are: loss,val_loss\n"
          ]
        },
        {
          "output_type": "stream",
          "name": "stdout",
          "text": [
            "\b\b\b\b\b\b\b\b\b\b\b\b\b\b\b\b\b\b\b\b\b\b\b\b\b\b\b\b\b\b\b\b\b\b\b\b\b\b\b\b\b\b\b\b\b\b\b\b\b\b\b\b\b\b\b\b\b\b\b\b\b\r2/2 [==============================] - 0s 25ms/step - loss: 0.0257 - val_loss: 0.0323\n",
            "Epoch 447/500\n",
            "1/2 [==============>...............] - ETA: 0s - loss: 0.0205"
          ]
        },
        {
          "output_type": "stream",
          "name": "stderr",
          "text": [
            "WARNING:tensorflow:Early stopping conditioned on metric `value_loss` which is not available. Available metrics are: loss,val_loss\n"
          ]
        },
        {
          "output_type": "stream",
          "name": "stdout",
          "text": [
            "\b\b\b\b\b\b\b\b\b\b\b\b\b\b\b\b\b\b\b\b\b\b\b\b\b\b\b\b\b\b\b\b\b\b\b\b\b\b\b\b\b\b\b\b\b\b\b\b\b\b\b\b\b\b\b\b\b\b\b\b\b\r2/2 [==============================] - 0s 33ms/step - loss: 0.0252 - val_loss: 0.0301\n",
            "Epoch 448/500\n",
            "1/2 [==============>...............] - ETA: 0s - loss: 0.0396"
          ]
        },
        {
          "output_type": "stream",
          "name": "stderr",
          "text": [
            "WARNING:tensorflow:Early stopping conditioned on metric `value_loss` which is not available. Available metrics are: loss,val_loss\n"
          ]
        },
        {
          "output_type": "stream",
          "name": "stdout",
          "text": [
            "\b\b\b\b\b\b\b\b\b\b\b\b\b\b\b\b\b\b\b\b\b\b\b\b\b\b\b\b\b\b\b\b\b\b\b\b\b\b\b\b\b\b\b\b\b\b\b\b\b\b\b\b\b\b\b\b\b\b\b\b\b\r2/2 [==============================] - 0s 32ms/step - loss: 0.0252 - val_loss: 0.0316\n",
            "Epoch 449/500\n",
            "1/2 [==============>...............] - ETA: 0s - loss: 0.0192"
          ]
        },
        {
          "output_type": "stream",
          "name": "stderr",
          "text": [
            "WARNING:tensorflow:Early stopping conditioned on metric `value_loss` which is not available. Available metrics are: loss,val_loss\n"
          ]
        },
        {
          "output_type": "stream",
          "name": "stdout",
          "text": [
            "\b\b\b\b\b\b\b\b\b\b\b\b\b\b\b\b\b\b\b\b\b\b\b\b\b\b\b\b\b\b\b\b\b\b\b\b\b\b\b\b\b\b\b\b\b\b\b\b\b\b\b\b\b\b\b\b\b\b\b\b\b\r2/2 [==============================] - 0s 28ms/step - loss: 0.0223 - val_loss: 0.0332\n",
            "Epoch 450/500\n",
            "1/2 [==============>...............] - ETA: 0s - loss: 0.0359"
          ]
        },
        {
          "output_type": "stream",
          "name": "stderr",
          "text": [
            "WARNING:tensorflow:Early stopping conditioned on metric `value_loss` which is not available. Available metrics are: loss,val_loss\n"
          ]
        },
        {
          "output_type": "stream",
          "name": "stdout",
          "text": [
            "\b\b\b\b\b\b\b\b\b\b\b\b\b\b\b\b\b\b\b\b\b\b\b\b\b\b\b\b\b\b\b\b\b\b\b\b\b\b\b\b\b\b\b\b\b\b\b\b\b\b\b\b\b\b\b\b\b\b\b\b\b\r2/2 [==============================] - 0s 31ms/step - loss: 0.0233 - val_loss: 0.0332\n",
            "Epoch 451/500\n",
            "1/2 [==============>...............] - ETA: 0s - loss: 0.0444"
          ]
        },
        {
          "output_type": "stream",
          "name": "stderr",
          "text": [
            "WARNING:tensorflow:Early stopping conditioned on metric `value_loss` which is not available. Available metrics are: loss,val_loss\n"
          ]
        },
        {
          "output_type": "stream",
          "name": "stdout",
          "text": [
            "\b\b\b\b\b\b\b\b\b\b\b\b\b\b\b\b\b\b\b\b\b\b\b\b\b\b\b\b\b\b\b\b\b\b\b\b\b\b\b\b\b\b\b\b\b\b\b\b\b\b\b\b\b\b\b\b\b\b\b\b\b\r2/2 [==============================] - 0s 29ms/step - loss: 0.0279 - val_loss: 0.0262\n",
            "Epoch 452/500\n",
            "1/2 [==============>...............] - ETA: 0s - loss: 0.0156"
          ]
        },
        {
          "output_type": "stream",
          "name": "stderr",
          "text": [
            "WARNING:tensorflow:Early stopping conditioned on metric `value_loss` which is not available. Available metrics are: loss,val_loss\n"
          ]
        },
        {
          "output_type": "stream",
          "name": "stdout",
          "text": [
            "\b\b\b\b\b\b\b\b\b\b\b\b\b\b\b\b\b\b\b\b\b\b\b\b\b\b\b\b\b\b\b\b\b\b\b\b\b\b\b\b\b\b\b\b\b\b\b\b\b\b\b\b\b\b\b\b\b\b\b\b\b\r2/2 [==============================] - 0s 35ms/step - loss: 0.0238 - val_loss: 0.0313\n",
            "Epoch 453/500\n",
            "1/2 [==============>...............] - ETA: 0s - loss: 0.0145"
          ]
        },
        {
          "output_type": "stream",
          "name": "stderr",
          "text": [
            "WARNING:tensorflow:Early stopping conditioned on metric `value_loss` which is not available. Available metrics are: loss,val_loss\n"
          ]
        },
        {
          "output_type": "stream",
          "name": "stdout",
          "text": [
            "\b\b\b\b\b\b\b\b\b\b\b\b\b\b\b\b\b\b\b\b\b\b\b\b\b\b\b\b\b\b\b\b\b\b\b\b\b\b\b\b\b\b\b\b\b\b\b\b\b\b\b\b\b\b\b\b\b\b\b\b\b\r2/2 [==============================] - 0s 39ms/step - loss: 0.0260 - val_loss: 0.0356\n",
            "Epoch 454/500\n",
            "1/2 [==============>...............] - ETA: 0s - loss: 0.0073"
          ]
        },
        {
          "output_type": "stream",
          "name": "stderr",
          "text": [
            "WARNING:tensorflow:Early stopping conditioned on metric `value_loss` which is not available. Available metrics are: loss,val_loss\n"
          ]
        },
        {
          "output_type": "stream",
          "name": "stdout",
          "text": [
            "\b\b\b\b\b\b\b\b\b\b\b\b\b\b\b\b\b\b\b\b\b\b\b\b\b\b\b\b\b\b\b\b\b\b\b\b\b\b\b\b\b\b\b\b\b\b\b\b\b\b\b\b\b\b\b\b\b\b\b\b\b\r2/2 [==============================] - 0s 30ms/step - loss: 0.0252 - val_loss: 0.0321\n",
            "Epoch 455/500\n",
            "1/2 [==============>...............] - ETA: 0s - loss: 0.0102"
          ]
        },
        {
          "output_type": "stream",
          "name": "stderr",
          "text": [
            "WARNING:tensorflow:Early stopping conditioned on metric `value_loss` which is not available. Available metrics are: loss,val_loss\n"
          ]
        },
        {
          "output_type": "stream",
          "name": "stdout",
          "text": [
            "\b\b\b\b\b\b\b\b\b\b\b\b\b\b\b\b\b\b\b\b\b\b\b\b\b\b\b\b\b\b\b\b\b\b\b\b\b\b\b\b\b\b\b\b\b\b\b\b\b\b\b\b\b\b\b\b\b\b\b\b\b\r2/2 [==============================] - 0s 32ms/step - loss: 0.0255 - val_loss: 0.0312\n",
            "Epoch 456/500\n",
            "1/2 [==============>...............] - ETA: 0s - loss: 0.0163"
          ]
        },
        {
          "output_type": "stream",
          "name": "stderr",
          "text": [
            "WARNING:tensorflow:Early stopping conditioned on metric `value_loss` which is not available. Available metrics are: loss,val_loss\n"
          ]
        },
        {
          "output_type": "stream",
          "name": "stdout",
          "text": [
            "\b\b\b\b\b\b\b\b\b\b\b\b\b\b\b\b\b\b\b\b\b\b\b\b\b\b\b\b\b\b\b\b\b\b\b\b\b\b\b\b\b\b\b\b\b\b\b\b\b\b\b\b\b\b\b\b\b\b\b\b\b\r2/2 [==============================] - 0s 30ms/step - loss: 0.0256 - val_loss: 0.0358\n",
            "Epoch 457/500\n",
            "1/2 [==============>...............] - ETA: 0s - loss: 0.0377"
          ]
        },
        {
          "output_type": "stream",
          "name": "stderr",
          "text": [
            "WARNING:tensorflow:Early stopping conditioned on metric `value_loss` which is not available. Available metrics are: loss,val_loss\n"
          ]
        },
        {
          "output_type": "stream",
          "name": "stdout",
          "text": [
            "\b\b\b\b\b\b\b\b\b\b\b\b\b\b\b\b\b\b\b\b\b\b\b\b\b\b\b\b\b\b\b\b\b\b\b\b\b\b\b\b\b\b\b\b\b\b\b\b\b\b\b\b\b\b\b\b\b\b\b\b\b\r2/2 [==============================] - 0s 32ms/step - loss: 0.0267 - val_loss: 0.0364\n",
            "Epoch 458/500\n",
            "1/2 [==============>...............] - ETA: 0s - loss: 0.0085"
          ]
        },
        {
          "output_type": "stream",
          "name": "stderr",
          "text": [
            "WARNING:tensorflow:Early stopping conditioned on metric `value_loss` which is not available. Available metrics are: loss,val_loss\n"
          ]
        },
        {
          "output_type": "stream",
          "name": "stdout",
          "text": [
            "\b\b\b\b\b\b\b\b\b\b\b\b\b\b\b\b\b\b\b\b\b\b\b\b\b\b\b\b\b\b\b\b\b\b\b\b\b\b\b\b\b\b\b\b\b\b\b\b\b\b\b\b\b\b\b\b\b\b\b\b\b\r2/2 [==============================] - 0s 26ms/step - loss: 0.0251 - val_loss: 0.0325\n",
            "Epoch 459/500\n",
            "1/2 [==============>...............] - ETA: 0s - loss: 0.0311"
          ]
        },
        {
          "output_type": "stream",
          "name": "stderr",
          "text": [
            "WARNING:tensorflow:Early stopping conditioned on metric `value_loss` which is not available. Available metrics are: loss,val_loss\n"
          ]
        },
        {
          "output_type": "stream",
          "name": "stdout",
          "text": [
            "\b\b\b\b\b\b\b\b\b\b\b\b\b\b\b\b\b\b\b\b\b\b\b\b\b\b\b\b\b\b\b\b\b\b\b\b\b\b\b\b\b\b\b\b\b\b\b\b\b\b\b\b\b\b\b\b\b\b\b\b\b\r2/2 [==============================] - 0s 29ms/step - loss: 0.0278 - val_loss: 0.0327\n",
            "Epoch 460/500\n",
            "1/2 [==============>...............] - ETA: 0s - loss: 0.0141"
          ]
        },
        {
          "output_type": "stream",
          "name": "stderr",
          "text": [
            "WARNING:tensorflow:Early stopping conditioned on metric `value_loss` which is not available. Available metrics are: loss,val_loss\n"
          ]
        },
        {
          "output_type": "stream",
          "name": "stdout",
          "text": [
            "\b\b\b\b\b\b\b\b\b\b\b\b\b\b\b\b\b\b\b\b\b\b\b\b\b\b\b\b\b\b\b\b\b\b\b\b\b\b\b\b\b\b\b\b\b\b\b\b\b\b\b\b\b\b\b\b\b\b\b\b\b\r2/2 [==============================] - 0s 26ms/step - loss: 0.0272 - val_loss: 0.0405\n",
            "Epoch 461/500\n",
            "1/2 [==============>...............] - ETA: 0s - loss: 0.0457"
          ]
        },
        {
          "output_type": "stream",
          "name": "stderr",
          "text": [
            "WARNING:tensorflow:Early stopping conditioned on metric `value_loss` which is not available. Available metrics are: loss,val_loss\n"
          ]
        },
        {
          "output_type": "stream",
          "name": "stdout",
          "text": [
            "\b\b\b\b\b\b\b\b\b\b\b\b\b\b\b\b\b\b\b\b\b\b\b\b\b\b\b\b\b\b\b\b\b\b\b\b\b\b\b\b\b\b\b\b\b\b\b\b\b\b\b\b\b\b\b\b\b\b\b\b\b\r2/2 [==============================] - 0s 35ms/step - loss: 0.0276 - val_loss: 0.0370\n",
            "Epoch 462/500\n",
            "1/2 [==============>...............] - ETA: 0s - loss: 0.0389"
          ]
        },
        {
          "output_type": "stream",
          "name": "stderr",
          "text": [
            "WARNING:tensorflow:Early stopping conditioned on metric `value_loss` which is not available. Available metrics are: loss,val_loss\n"
          ]
        },
        {
          "output_type": "stream",
          "name": "stdout",
          "text": [
            "\b\b\b\b\b\b\b\b\b\b\b\b\b\b\b\b\b\b\b\b\b\b\b\b\b\b\b\b\b\b\b\b\b\b\b\b\b\b\b\b\b\b\b\b\b\b\b\b\b\b\b\b\b\b\b\b\b\b\b\b\b\r2/2 [==============================] - 0s 31ms/step - loss: 0.0267 - val_loss: 0.0312\n",
            "Epoch 463/500\n",
            "1/2 [==============>...............] - ETA: 0s - loss: 0.0284"
          ]
        },
        {
          "output_type": "stream",
          "name": "stderr",
          "text": [
            "WARNING:tensorflow:Early stopping conditioned on metric `value_loss` which is not available. Available metrics are: loss,val_loss\n"
          ]
        },
        {
          "output_type": "stream",
          "name": "stdout",
          "text": [
            "\b\b\b\b\b\b\b\b\b\b\b\b\b\b\b\b\b\b\b\b\b\b\b\b\b\b\b\b\b\b\b\b\b\b\b\b\b\b\b\b\b\b\b\b\b\b\b\b\b\b\b\b\b\b\b\b\b\b\b\b\b\r2/2 [==============================] - 0s 29ms/step - loss: 0.0264 - val_loss: 0.0335\n",
            "Epoch 464/500\n",
            "1/2 [==============>...............] - ETA: 0s - loss: 0.0374"
          ]
        },
        {
          "output_type": "stream",
          "name": "stderr",
          "text": [
            "WARNING:tensorflow:Early stopping conditioned on metric `value_loss` which is not available. Available metrics are: loss,val_loss\n"
          ]
        },
        {
          "output_type": "stream",
          "name": "stdout",
          "text": [
            "\b\b\b\b\b\b\b\b\b\b\b\b\b\b\b\b\b\b\b\b\b\b\b\b\b\b\b\b\b\b\b\b\b\b\b\b\b\b\b\b\b\b\b\b\b\b\b\b\b\b\b\b\b\b\b\b\b\b\b\b\b\r2/2 [==============================] - 0s 29ms/step - loss: 0.0252 - val_loss: 0.0407\n",
            "Epoch 465/500\n",
            "1/2 [==============>...............] - ETA: 0s - loss: 0.0190"
          ]
        },
        {
          "output_type": "stream",
          "name": "stderr",
          "text": [
            "WARNING:tensorflow:Early stopping conditioned on metric `value_loss` which is not available. Available metrics are: loss,val_loss\n"
          ]
        },
        {
          "output_type": "stream",
          "name": "stdout",
          "text": [
            "\b\b\b\b\b\b\b\b\b\b\b\b\b\b\b\b\b\b\b\b\b\b\b\b\b\b\b\b\b\b\b\b\b\b\b\b\b\b\b\b\b\b\b\b\b\b\b\b\b\b\b\b\b\b\b\b\b\b\b\b\b\r2/2 [==============================] - 0s 27ms/step - loss: 0.0277 - val_loss: 0.0414\n",
            "Epoch 466/500\n",
            "1/2 [==============>...............] - ETA: 0s - loss: 0.0124"
          ]
        },
        {
          "output_type": "stream",
          "name": "stderr",
          "text": [
            "WARNING:tensorflow:Early stopping conditioned on metric `value_loss` which is not available. Available metrics are: loss,val_loss\n"
          ]
        },
        {
          "output_type": "stream",
          "name": "stdout",
          "text": [
            "\b\b\b\b\b\b\b\b\b\b\b\b\b\b\b\b\b\b\b\b\b\b\b\b\b\b\b\b\b\b\b\b\b\b\b\b\b\b\b\b\b\b\b\b\b\b\b\b\b\b\b\b\b\b\b\b\b\b\b\b\b\r2/2 [==============================] - 0s 27ms/step - loss: 0.0269 - val_loss: 0.0345\n",
            "Epoch 467/500\n",
            "1/2 [==============>...............] - ETA: 0s - loss: 0.0374"
          ]
        },
        {
          "output_type": "stream",
          "name": "stderr",
          "text": [
            "WARNING:tensorflow:Early stopping conditioned on metric `value_loss` which is not available. Available metrics are: loss,val_loss\n"
          ]
        },
        {
          "output_type": "stream",
          "name": "stdout",
          "text": [
            "\b\b\b\b\b\b\b\b\b\b\b\b\b\b\b\b\b\b\b\b\b\b\b\b\b\b\b\b\b\b\b\b\b\b\b\b\b\b\b\b\b\b\b\b\b\b\b\b\b\b\b\b\b\b\b\b\b\b\b\b\b\r2/2 [==============================] - 0s 28ms/step - loss: 0.0258 - val_loss: 0.0319\n",
            "Epoch 468/500\n",
            "1/2 [==============>...............] - ETA: 0s - loss: 0.0334"
          ]
        },
        {
          "output_type": "stream",
          "name": "stderr",
          "text": [
            "WARNING:tensorflow:Early stopping conditioned on metric `value_loss` which is not available. Available metrics are: loss,val_loss\n"
          ]
        },
        {
          "output_type": "stream",
          "name": "stdout",
          "text": [
            "\b\b\b\b\b\b\b\b\b\b\b\b\b\b\b\b\b\b\b\b\b\b\b\b\b\b\b\b\b\b\b\b\b\b\b\b\b\b\b\b\b\b\b\b\b\b\b\b\b\b\b\b\b\b\b\b\b\b\b\b\b\r2/2 [==============================] - 0s 30ms/step - loss: 0.0281 - val_loss: 0.0356\n",
            "Epoch 469/500\n",
            "1/2 [==============>...............] - ETA: 0s - loss: 0.0229"
          ]
        },
        {
          "output_type": "stream",
          "name": "stderr",
          "text": [
            "WARNING:tensorflow:Early stopping conditioned on metric `value_loss` which is not available. Available metrics are: loss,val_loss\n"
          ]
        },
        {
          "output_type": "stream",
          "name": "stdout",
          "text": [
            "\b\b\b\b\b\b\b\b\b\b\b\b\b\b\b\b\b\b\b\b\b\b\b\b\b\b\b\b\b\b\b\b\b\b\b\b\b\b\b\b\b\b\b\b\b\b\b\b\b\b\b\b\b\b\b\b\b\b\b\b\b\r2/2 [==============================] - 0s 25ms/step - loss: 0.0238 - val_loss: 0.0358\n",
            "Epoch 470/500\n",
            "1/2 [==============>...............] - ETA: 0s - loss: 0.0104"
          ]
        },
        {
          "output_type": "stream",
          "name": "stderr",
          "text": [
            "WARNING:tensorflow:Early stopping conditioned on metric `value_loss` which is not available. Available metrics are: loss,val_loss\n"
          ]
        },
        {
          "output_type": "stream",
          "name": "stdout",
          "text": [
            "\b\b\b\b\b\b\b\b\b\b\b\b\b\b\b\b\b\b\b\b\b\b\b\b\b\b\b\b\b\b\b\b\b\b\b\b\b\b\b\b\b\b\b\b\b\b\b\b\b\b\b\b\b\b\b\b\b\b\b\b\b\r2/2 [==============================] - 0s 25ms/step - loss: 0.0251 - val_loss: 0.0323\n",
            "Epoch 471/500\n",
            "1/2 [==============>...............] - ETA: 0s - loss: 0.0075"
          ]
        },
        {
          "output_type": "stream",
          "name": "stderr",
          "text": [
            "WARNING:tensorflow:Early stopping conditioned on metric `value_loss` which is not available. Available metrics are: loss,val_loss\n"
          ]
        },
        {
          "output_type": "stream",
          "name": "stdout",
          "text": [
            "\b\b\b\b\b\b\b\b\b\b\b\b\b\b\b\b\b\b\b\b\b\b\b\b\b\b\b\b\b\b\b\b\b\b\b\b\b\b\b\b\b\b\b\b\b\b\b\b\b\b\b\b\b\b\b\b\b\b\b\b\b\r2/2 [==============================] - 0s 27ms/step - loss: 0.0252 - val_loss: 0.0326\n",
            "Epoch 472/500\n",
            "1/2 [==============>...............] - ETA: 0s - loss: 0.0253"
          ]
        },
        {
          "output_type": "stream",
          "name": "stderr",
          "text": [
            "WARNING:tensorflow:Early stopping conditioned on metric `value_loss` which is not available. Available metrics are: loss,val_loss\n"
          ]
        },
        {
          "output_type": "stream",
          "name": "stdout",
          "text": [
            "\b\b\b\b\b\b\b\b\b\b\b\b\b\b\b\b\b\b\b\b\b\b\b\b\b\b\b\b\b\b\b\b\b\b\b\b\b\b\b\b\b\b\b\b\b\b\b\b\b\b\b\b\b\b\b\b\b\b\b\b\b\r2/2 [==============================] - 0s 47ms/step - loss: 0.0252 - val_loss: 0.0371\n",
            "Epoch 473/500\n",
            "1/2 [==============>...............] - ETA: 0s - loss: 0.0325"
          ]
        },
        {
          "output_type": "stream",
          "name": "stderr",
          "text": [
            "WARNING:tensorflow:Early stopping conditioned on metric `value_loss` which is not available. Available metrics are: loss,val_loss\n"
          ]
        },
        {
          "output_type": "stream",
          "name": "stdout",
          "text": [
            "\b\b\b\b\b\b\b\b\b\b\b\b\b\b\b\b\b\b\b\b\b\b\b\b\b\b\b\b\b\b\b\b\b\b\b\b\b\b\b\b\b\b\b\b\b\b\b\b\b\b\b\b\b\b\b\b\b\b\b\b\b\r2/2 [==============================] - 0s 28ms/step - loss: 0.0248 - val_loss: 0.0348\n",
            "Epoch 474/500\n",
            "1/2 [==============>...............] - ETA: 0s - loss: 0.0118"
          ]
        },
        {
          "output_type": "stream",
          "name": "stderr",
          "text": [
            "WARNING:tensorflow:Early stopping conditioned on metric `value_loss` which is not available. Available metrics are: loss,val_loss\n"
          ]
        },
        {
          "output_type": "stream",
          "name": "stdout",
          "text": [
            "\b\b\b\b\b\b\b\b\b\b\b\b\b\b\b\b\b\b\b\b\b\b\b\b\b\b\b\b\b\b\b\b\b\b\b\b\b\b\b\b\b\b\b\b\b\b\b\b\b\b\b\b\b\b\b\b\b\b\b\b\b\r2/2 [==============================] - 0s 27ms/step - loss: 0.0255 - val_loss: 0.0305\n",
            "Epoch 475/500\n",
            "1/2 [==============>...............] - ETA: 0s - loss: 0.0137"
          ]
        },
        {
          "output_type": "stream",
          "name": "stderr",
          "text": [
            "WARNING:tensorflow:Early stopping conditioned on metric `value_loss` which is not available. Available metrics are: loss,val_loss\n"
          ]
        },
        {
          "output_type": "stream",
          "name": "stdout",
          "text": [
            "\b\b\b\b\b\b\b\b\b\b\b\b\b\b\b\b\b\b\b\b\b\b\b\b\b\b\b\b\b\b\b\b\b\b\b\b\b\b\b\b\b\b\b\b\b\b\b\b\b\b\b\b\b\b\b\b\b\b\b\b\b\r2/2 [==============================] - 0s 31ms/step - loss: 0.0256 - val_loss: 0.0319\n",
            "Epoch 476/500\n",
            "1/2 [==============>...............] - ETA: 0s - loss: 0.0362"
          ]
        },
        {
          "output_type": "stream",
          "name": "stderr",
          "text": [
            "WARNING:tensorflow:Early stopping conditioned on metric `value_loss` which is not available. Available metrics are: loss,val_loss\n"
          ]
        },
        {
          "output_type": "stream",
          "name": "stdout",
          "text": [
            "\b\b\b\b\b\b\b\b\b\b\b\b\b\b\b\b\b\b\b\b\b\b\b\b\b\b\b\b\b\b\b\b\b\b\b\b\b\b\b\b\b\b\b\b\b\b\b\b\b\b\b\b\b\b\b\b\b\b\b\b\b\r2/2 [==============================] - 0s 34ms/step - loss: 0.0251 - val_loss: 0.0343\n",
            "Epoch 477/500\n",
            "1/2 [==============>...............] - ETA: 0s - loss: 0.0464"
          ]
        },
        {
          "output_type": "stream",
          "name": "stderr",
          "text": [
            "WARNING:tensorflow:Early stopping conditioned on metric `value_loss` which is not available. Available metrics are: loss,val_loss\n"
          ]
        },
        {
          "output_type": "stream",
          "name": "stdout",
          "text": [
            "\b\b\b\b\b\b\b\b\b\b\b\b\b\b\b\b\b\b\b\b\b\b\b\b\b\b\b\b\b\b\b\b\b\b\b\b\b\b\b\b\b\b\b\b\b\b\b\b\b\b\b\b\b\b\b\b\b\b\b\b\b\r2/2 [==============================] - 0s 29ms/step - loss: 0.0252 - val_loss: 0.0329\n",
            "Epoch 478/500\n",
            "1/2 [==============>...............] - ETA: 0s - loss: 0.0482"
          ]
        },
        {
          "output_type": "stream",
          "name": "stderr",
          "text": [
            "WARNING:tensorflow:Early stopping conditioned on metric `value_loss` which is not available. Available metrics are: loss,val_loss\n"
          ]
        },
        {
          "output_type": "stream",
          "name": "stdout",
          "text": [
            "\b\b\b\b\b\b\b\b\b\b\b\b\b\b\b\b\b\b\b\b\b\b\b\b\b\b\b\b\b\b\b\b\b\b\b\b\b\b\b\b\b\b\b\b\b\b\b\b\b\b\b\b\b\b\b\b\b\b\b\b\b\r2/2 [==============================] - 0s 28ms/step - loss: 0.0319 - val_loss: 0.0318\n",
            "Epoch 479/500\n",
            "1/2 [==============>...............] - ETA: 0s - loss: 0.0293"
          ]
        },
        {
          "output_type": "stream",
          "name": "stderr",
          "text": [
            "WARNING:tensorflow:Early stopping conditioned on metric `value_loss` which is not available. Available metrics are: loss,val_loss\n"
          ]
        },
        {
          "output_type": "stream",
          "name": "stdout",
          "text": [
            "\b\b\b\b\b\b\b\b\b\b\b\b\b\b\b\b\b\b\b\b\b\b\b\b\b\b\b\b\b\b\b\b\b\b\b\b\b\b\b\b\b\b\b\b\b\b\b\b\b\b\b\b\b\b\b\b\b\b\b\b\b\r2/2 [==============================] - 0s 33ms/step - loss: 0.0250 - val_loss: 0.0358\n",
            "Epoch 480/500\n",
            "1/2 [==============>...............] - ETA: 0s - loss: 0.0157"
          ]
        },
        {
          "output_type": "stream",
          "name": "stderr",
          "text": [
            "WARNING:tensorflow:Early stopping conditioned on metric `value_loss` which is not available. Available metrics are: loss,val_loss\n"
          ]
        },
        {
          "output_type": "stream",
          "name": "stdout",
          "text": [
            "\b\b\b\b\b\b\b\b\b\b\b\b\b\b\b\b\b\b\b\b\b\b\b\b\b\b\b\b\b\b\b\b\b\b\b\b\b\b\b\b\b\b\b\b\b\b\b\b\b\b\b\b\b\b\b\b\b\b\b\b\b\r2/2 [==============================] - 0s 26ms/step - loss: 0.0261 - val_loss: 0.0380\n",
            "Epoch 481/500\n",
            "1/2 [==============>...............] - ETA: 0s - loss: 0.0447"
          ]
        },
        {
          "output_type": "stream",
          "name": "stderr",
          "text": [
            "WARNING:tensorflow:Early stopping conditioned on metric `value_loss` which is not available. Available metrics are: loss,val_loss\n"
          ]
        },
        {
          "output_type": "stream",
          "name": "stdout",
          "text": [
            "\b\b\b\b\b\b\b\b\b\b\b\b\b\b\b\b\b\b\b\b\b\b\b\b\b\b\b\b\b\b\b\b\b\b\b\b\b\b\b\b\b\b\b\b\b\b\b\b\b\b\b\b\b\b\b\b\b\b\b\b\b\r2/2 [==============================] - 0s 27ms/step - loss: 0.0260 - val_loss: 0.0304\n",
            "Epoch 482/500\n",
            "1/2 [==============>...............] - ETA: 0s - loss: 0.0360"
          ]
        },
        {
          "output_type": "stream",
          "name": "stderr",
          "text": [
            "WARNING:tensorflow:Early stopping conditioned on metric `value_loss` which is not available. Available metrics are: loss,val_loss\n"
          ]
        },
        {
          "output_type": "stream",
          "name": "stdout",
          "text": [
            "\b\b\b\b\b\b\b\b\b\b\b\b\b\b\b\b\b\b\b\b\b\b\b\b\b\b\b\b\b\b\b\b\b\b\b\b\b\b\b\b\b\b\b\b\b\b\b\b\b\b\b\b\b\b\b\b\b\b\b\b\b\r2/2 [==============================] - 0s 28ms/step - loss: 0.0264 - val_loss: 0.0291\n",
            "Epoch 483/500\n",
            "1/2 [==============>...............] - ETA: 0s - loss: 0.0087"
          ]
        },
        {
          "output_type": "stream",
          "name": "stderr",
          "text": [
            "WARNING:tensorflow:Early stopping conditioned on metric `value_loss` which is not available. Available metrics are: loss,val_loss\n"
          ]
        },
        {
          "output_type": "stream",
          "name": "stdout",
          "text": [
            "\b\b\b\b\b\b\b\b\b\b\b\b\b\b\b\b\b\b\b\b\b\b\b\b\b\b\b\b\b\b\b\b\b\b\b\b\b\b\b\b\b\b\b\b\b\b\b\b\b\b\b\b\b\b\b\b\b\b\b\b\b\r2/2 [==============================] - 0s 29ms/step - loss: 0.0252 - val_loss: 0.0374\n",
            "Epoch 484/500\n",
            "1/2 [==============>...............] - ETA: 0s - loss: 0.0297"
          ]
        },
        {
          "output_type": "stream",
          "name": "stderr",
          "text": [
            "WARNING:tensorflow:Early stopping conditioned on metric `value_loss` which is not available. Available metrics are: loss,val_loss\n"
          ]
        },
        {
          "output_type": "stream",
          "name": "stdout",
          "text": [
            "\b\b\b\b\b\b\b\b\b\b\b\b\b\b\b\b\b\b\b\b\b\b\b\b\b\b\b\b\b\b\b\b\b\b\b\b\b\b\b\b\b\b\b\b\b\b\b\b\b\b\b\b\b\b\b\b\b\b\b\b\b\r2/2 [==============================] - 0s 29ms/step - loss: 0.0252 - val_loss: 0.0366\n",
            "Epoch 485/500\n",
            "1/2 [==============>...............] - ETA: 0s - loss: 0.0466"
          ]
        },
        {
          "output_type": "stream",
          "name": "stderr",
          "text": [
            "WARNING:tensorflow:Early stopping conditioned on metric `value_loss` which is not available. Available metrics are: loss,val_loss\n"
          ]
        },
        {
          "output_type": "stream",
          "name": "stdout",
          "text": [
            "\b\b\b\b\b\b\b\b\b\b\b\b\b\b\b\b\b\b\b\b\b\b\b\b\b\b\b\b\b\b\b\b\b\b\b\b\b\b\b\b\b\b\b\b\b\b\b\b\b\b\b\b\b\b\b\b\b\b\b\b\b\r2/2 [==============================] - 0s 26ms/step - loss: 0.0251 - val_loss: 0.0310\n",
            "Epoch 486/500\n",
            "1/2 [==============>...............] - ETA: 0s - loss: 0.0159"
          ]
        },
        {
          "output_type": "stream",
          "name": "stderr",
          "text": [
            "WARNING:tensorflow:Early stopping conditioned on metric `value_loss` which is not available. Available metrics are: loss,val_loss\n"
          ]
        },
        {
          "output_type": "stream",
          "name": "stdout",
          "text": [
            "\b\b\b\b\b\b\b\b\b\b\b\b\b\b\b\b\b\b\b\b\b\b\b\b\b\b\b\b\b\b\b\b\b\b\b\b\b\b\b\b\b\b\b\b\b\b\b\b\b\b\b\b\b\b\b\b\b\b\b\b\b\r2/2 [==============================] - 0s 36ms/step - loss: 0.0263 - val_loss: 0.0327\n",
            "Epoch 487/500\n",
            "1/2 [==============>...............] - ETA: 0s - loss: 0.0331"
          ]
        },
        {
          "output_type": "stream",
          "name": "stderr",
          "text": [
            "WARNING:tensorflow:Early stopping conditioned on metric `value_loss` which is not available. Available metrics are: loss,val_loss\n"
          ]
        },
        {
          "output_type": "stream",
          "name": "stdout",
          "text": [
            "\b\b\b\b\b\b\b\b\b\b\b\b\b\b\b\b\b\b\b\b\b\b\b\b\b\b\b\b\b\b\b\b\b\b\b\b\b\b\b\b\b\b\b\b\b\b\b\b\b\b\b\b\b\b\b\b\b\b\b\b\b\r2/2 [==============================] - 0s 34ms/step - loss: 0.0246 - val_loss: 0.0373\n",
            "Epoch 488/500\n",
            "1/2 [==============>...............] - ETA: 0s - loss: 0.0392"
          ]
        },
        {
          "output_type": "stream",
          "name": "stderr",
          "text": [
            "WARNING:tensorflow:Early stopping conditioned on metric `value_loss` which is not available. Available metrics are: loss,val_loss\n"
          ]
        },
        {
          "output_type": "stream",
          "name": "stdout",
          "text": [
            "\b\b\b\b\b\b\b\b\b\b\b\b\b\b\b\b\b\b\b\b\b\b\b\b\b\b\b\b\b\b\b\b\b\b\b\b\b\b\b\b\b\b\b\b\b\b\b\b\b\b\b\b\b\b\b\b\b\b\b\b\b\r2/2 [==============================] - 0s 32ms/step - loss: 0.0246 - val_loss: 0.0365\n",
            "Epoch 489/500\n",
            "1/2 [==============>...............] - ETA: 0s - loss: 0.0151"
          ]
        },
        {
          "output_type": "stream",
          "name": "stderr",
          "text": [
            "WARNING:tensorflow:Early stopping conditioned on metric `value_loss` which is not available. Available metrics are: loss,val_loss\n"
          ]
        },
        {
          "output_type": "stream",
          "name": "stdout",
          "text": [
            "\b\b\b\b\b\b\b\b\b\b\b\b\b\b\b\b\b\b\b\b\b\b\b\b\b\b\b\b\b\b\b\b\b\b\b\b\b\b\b\b\b\b\b\b\b\b\b\b\b\b\b\b\b\b\b\b\b\b\b\b\b\r2/2 [==============================] - 0s 33ms/step - loss: 0.0264 - val_loss: 0.0343\n",
            "Epoch 490/500\n",
            "1/2 [==============>...............] - ETA: 0s - loss: 0.0363"
          ]
        },
        {
          "output_type": "stream",
          "name": "stderr",
          "text": [
            "WARNING:tensorflow:Early stopping conditioned on metric `value_loss` which is not available. Available metrics are: loss,val_loss\n"
          ]
        },
        {
          "output_type": "stream",
          "name": "stdout",
          "text": [
            "\b\b\b\b\b\b\b\b\b\b\b\b\b\b\b\b\b\b\b\b\b\b\b\b\b\b\b\b\b\b\b\b\b\b\b\b\b\b\b\b\b\b\b\b\b\b\b\b\b\b\b\b\b\b\b\b\b\b\b\b\b\r2/2 [==============================] - 0s 29ms/step - loss: 0.0252 - val_loss: 0.0323\n",
            "Epoch 491/500\n",
            "1/2 [==============>...............] - ETA: 0s - loss: 0.0040"
          ]
        },
        {
          "output_type": "stream",
          "name": "stderr",
          "text": [
            "WARNING:tensorflow:Early stopping conditioned on metric `value_loss` which is not available. Available metrics are: loss,val_loss\n"
          ]
        },
        {
          "output_type": "stream",
          "name": "stdout",
          "text": [
            "\b\b\b\b\b\b\b\b\b\b\b\b\b\b\b\b\b\b\b\b\b\b\b\b\b\b\b\b\b\b\b\b\b\b\b\b\b\b\b\b\b\b\b\b\b\b\b\b\b\b\b\b\b\b\b\b\b\b\b\b\b\r2/2 [==============================] - 0s 28ms/step - loss: 0.0252 - val_loss: 0.0366\n",
            "Epoch 492/500\n",
            "1/2 [==============>...............] - ETA: 0s - loss: 0.0176"
          ]
        },
        {
          "output_type": "stream",
          "name": "stderr",
          "text": [
            "WARNING:tensorflow:Early stopping conditioned on metric `value_loss` which is not available. Available metrics are: loss,val_loss\n"
          ]
        },
        {
          "output_type": "stream",
          "name": "stdout",
          "text": [
            "\b\b\b\b\b\b\b\b\b\b\b\b\b\b\b\b\b\b\b\b\b\b\b\b\b\b\b\b\b\b\b\b\b\b\b\b\b\b\b\b\b\b\b\b\b\b\b\b\b\b\b\b\b\b\b\b\b\b\b\b\b\r2/2 [==============================] - 0s 29ms/step - loss: 0.0261 - val_loss: 0.0373\n",
            "Epoch 493/500\n",
            "1/2 [==============>...............] - ETA: 0s - loss: 0.0331"
          ]
        },
        {
          "output_type": "stream",
          "name": "stderr",
          "text": [
            "WARNING:tensorflow:Early stopping conditioned on metric `value_loss` which is not available. Available metrics are: loss,val_loss\n"
          ]
        },
        {
          "output_type": "stream",
          "name": "stdout",
          "text": [
            "\b\b\b\b\b\b\b\b\b\b\b\b\b\b\b\b\b\b\b\b\b\b\b\b\b\b\b\b\b\b\b\b\b\b\b\b\b\b\b\b\b\b\b\b\b\b\b\b\b\b\b\b\b\b\b\b\b\b\b\b\b\r2/2 [==============================] - 0s 31ms/step - loss: 0.0251 - val_loss: 0.0324\n",
            "Epoch 494/500\n",
            "1/2 [==============>...............] - ETA: 0s - loss: 0.0377"
          ]
        },
        {
          "output_type": "stream",
          "name": "stderr",
          "text": [
            "WARNING:tensorflow:Early stopping conditioned on metric `value_loss` which is not available. Available metrics are: loss,val_loss\n"
          ]
        },
        {
          "output_type": "stream",
          "name": "stdout",
          "text": [
            "\b\b\b\b\b\b\b\b\b\b\b\b\b\b\b\b\b\b\b\b\b\b\b\b\b\b\b\b\b\b\b\b\b\b\b\b\b\b\b\b\b\b\b\b\b\b\b\b\b\b\b\b\b\b\b\b\b\b\b\b\b\r2/2 [==============================] - 0s 27ms/step - loss: 0.0270 - val_loss: 0.0337\n",
            "Epoch 495/500\n",
            "1/2 [==============>...............] - ETA: 0s - loss: 0.0258"
          ]
        },
        {
          "output_type": "stream",
          "name": "stderr",
          "text": [
            "WARNING:tensorflow:Early stopping conditioned on metric `value_loss` which is not available. Available metrics are: loss,val_loss\n"
          ]
        },
        {
          "output_type": "stream",
          "name": "stdout",
          "text": [
            "\b\b\b\b\b\b\b\b\b\b\b\b\b\b\b\b\b\b\b\b\b\b\b\b\b\b\b\b\b\b\b\b\b\b\b\b\b\b\b\b\b\b\b\b\b\b\b\b\b\b\b\b\b\b\b\b\b\b\b\b\b\r2/2 [==============================] - 0s 29ms/step - loss: 0.0250 - val_loss: 0.0382\n",
            "Epoch 496/500\n",
            "1/2 [==============>...............] - ETA: 0s - loss: 0.0188"
          ]
        },
        {
          "output_type": "stream",
          "name": "stderr",
          "text": [
            "WARNING:tensorflow:Early stopping conditioned on metric `value_loss` which is not available. Available metrics are: loss,val_loss\n"
          ]
        },
        {
          "output_type": "stream",
          "name": "stdout",
          "text": [
            "\b\b\b\b\b\b\b\b\b\b\b\b\b\b\b\b\b\b\b\b\b\b\b\b\b\b\b\b\b\b\b\b\b\b\b\b\b\b\b\b\b\b\b\b\b\b\b\b\b\b\b\b\b\b\b\b\b\b\b\b\b\r2/2 [==============================] - 0s 31ms/step - loss: 0.0261 - val_loss: 0.0358\n",
            "Epoch 497/500\n",
            "1/2 [==============>...............] - ETA: 0s - loss: 0.0069"
          ]
        },
        {
          "output_type": "stream",
          "name": "stderr",
          "text": [
            "WARNING:tensorflow:Early stopping conditioned on metric `value_loss` which is not available. Available metrics are: loss,val_loss\n"
          ]
        },
        {
          "output_type": "stream",
          "name": "stdout",
          "text": [
            "\b\b\b\b\b\b\b\b\b\b\b\b\b\b\b\b\b\b\b\b\b\b\b\b\b\b\b\b\b\b\b\b\b\b\b\b\b\b\b\b\b\b\b\b\b\b\b\b\b\b\b\b\b\b\b\b\b\b\b\b\b\r2/2 [==============================] - 0s 32ms/step - loss: 0.0251 - val_loss: 0.0278\n",
            "Epoch 498/500\n",
            "1/2 [==============>...............] - ETA: 0s - loss: 0.0314"
          ]
        },
        {
          "output_type": "stream",
          "name": "stderr",
          "text": [
            "WARNING:tensorflow:Early stopping conditioned on metric `value_loss` which is not available. Available metrics are: loss,val_loss\n"
          ]
        },
        {
          "output_type": "stream",
          "name": "stdout",
          "text": [
            "\b\b\b\b\b\b\b\b\b\b\b\b\b\b\b\b\b\b\b\b\b\b\b\b\b\b\b\b\b\b\b\b\b\b\b\b\b\b\b\b\b\b\b\b\b\b\b\b\b\b\b\b\b\b\b\b\b\b\b\b\b\r2/2 [==============================] - 0s 30ms/step - loss: 0.0258 - val_loss: 0.0340\n",
            "Epoch 499/500\n",
            "1/2 [==============>...............] - ETA: 0s - loss: 0.0070"
          ]
        },
        {
          "output_type": "stream",
          "name": "stderr",
          "text": [
            "WARNING:tensorflow:Early stopping conditioned on metric `value_loss` which is not available. Available metrics are: loss,val_loss\n"
          ]
        },
        {
          "output_type": "stream",
          "name": "stdout",
          "text": [
            "\b\b\b\b\b\b\b\b\b\b\b\b\b\b\b\b\b\b\b\b\b\b\b\b\b\b\b\b\b\b\b\b\b\b\b\b\b\b\b\b\b\b\b\b\b\b\b\b\b\b\b\b\b\b\b\b\b\b\b\b\b\r2/2 [==============================] - 0s 31ms/step - loss: 0.0259 - val_loss: 0.0399\n",
            "Epoch 500/500\n",
            "1/2 [==============>...............] - ETA: 0s - loss: 0.0147"
          ]
        },
        {
          "output_type": "stream",
          "name": "stderr",
          "text": [
            "WARNING:tensorflow:Early stopping conditioned on metric `value_loss` which is not available. Available metrics are: loss,val_loss\n"
          ]
        },
        {
          "output_type": "stream",
          "name": "stdout",
          "text": [
            "\b\b\b\b\b\b\b\b\b\b\b\b\b\b\b\b\b\b\b\b\b\b\b\b\b\b\b\b\b\b\b\b\b\b\b\b\b\b\b\b\b\b\b\b\b\b\b\b\b\b\b\b\b\b\b\b\b\b\b\b\b\r2/2 [==============================] - 0s 39ms/step - loss: 0.0256 - val_loss: 0.0344\n"
          ]
        }
      ]
    },
    {
      "cell_type": "code",
      "source": [
        "## Evaluate the model \n",
        "train_mse=regression.evaluate(x_train,y_train)\n",
        "test_mse=regression.evaluate(x_test,y_test)\n",
        "print('MEAN SQUARED ERRORS:')\n",
        "print('Train MSE:%0.3f,Test MSE: %0.3f' %(train_mse,test_mse))\n",
        "print('-----------------------------------------------------')\n",
        "print('Least Difference Possible: %0.3f' %(test_mse-train_mse))"
      ],
      "metadata": {
        "colab": {
          "base_uri": "https://localhost:8080/"
        },
        "id": "jMV8m0sSxgwV",
        "outputId": "b6628c65-d2f0-4c0d-babf-085b0d98a611"
      },
      "execution_count": null,
      "outputs": [
        {
          "output_type": "stream",
          "name": "stdout",
          "text": [
            "1/1 [==============================] - 0s 15ms/step - loss: 0.0281\n",
            "1/1 [==============================] - 0s 14ms/step - loss: 0.0344\n",
            "MEAN SQUARED ERRORS:\n",
            "Train MSE:0.028,Test MSE: 0.034\n",
            "-----------------------------------------------------\n",
            "Least Difference Possible: 0.006\n"
          ]
        }
      ]
    },
    {
      "cell_type": "code",
      "source": [
        "plt.figure(figsize=(10,10))\n",
        "plt.title(\"LOSS/MEAN SQUARED ERROR\")\n",
        "plt.plot(hist.history['loss'],label=\"train_loss\")\n",
        "plt.plot(hist.history['val_loss'],label=\"test_loss\")\n",
        "plt.legend()"
      ],
      "metadata": {
        "colab": {
          "base_uri": "https://localhost:8080/",
          "height": 624
        },
        "id": "GGhyzK4ExrTz",
        "outputId": "371482f3-09d1-4a7d-88e2-6086a67a1b21"
      },
      "execution_count": null,
      "outputs": [
        {
          "output_type": "execute_result",
          "data": {
            "text/plain": [
              "<matplotlib.legend.Legend at 0x7f1300d04410>"
            ]
          },
          "metadata": {},
          "execution_count": 28
        },
        {
          "output_type": "display_data",
          "data": {
            "text/plain": [
              "<Figure size 720x720 with 1 Axes>"
            ],
            "image/png": "[encoded data removed]"
          },
          "metadata": {
            "needs_background": "light"
          }
        }
      ]
    },
    {
      "cell_type": "code",
      "source": [
        "### Test modelusing x_test\n",
        "## Predicted values of y_pred\n",
        "y_pred=regression.predict(x_test)\n",
        "y_pred"
      ],
      "metadata": {
        "colab": {
          "base_uri": "https://localhost:8080/"
        },
        "id": "7WtJVWK6xyGN",
        "outputId": "cb3663e0-4b12-4bcc-ba11-604209e2e50c"
      },
      "execution_count": null,
      "outputs": [
        {
          "output_type": "execute_result",
          "data": {
            "text/plain": [
              "array([[0.33191717],\n",
              "       [0.33122504],\n",
              "       [0.33122504],\n",
              "       [0.6104619 ],\n",
              "       [0.39519176],\n",
              "       [0.73590016],\n",
              "       [0.76580465],\n",
              "       [0.38328224]], dtype=float32)"
            ]
          },
          "metadata": {},
          "execution_count": 29
        }
      ]
    },
    {
      "cell_type": "code",
      "source": [
        "## Actual test values of y\n",
        "y_test"
      ],
      "metadata": {
        "colab": {
          "base_uri": "https://localhost:8080/"
        },
        "id": "Q-OiYq4Ux2cU",
        "outputId": "78c1bbc8-07d1-4284-bb64-80d437d283fa"
      },
      "execution_count": null,
      "outputs": [
        {
          "output_type": "execute_result",
          "data": {
            "text/plain": [
              "12    0.555541\n",
              "11    0.541506\n",
              "35    0.280154\n",
              "18    0.834044\n",
              "30    0.552412\n",
              "19    0.932372\n",
              "22    0.996161\n",
              "28    0.494537\n",
              "Name: overall_emission, dtype: float64"
            ]
          },
          "metadata": {},
          "execution_count": 30
        }
      ]
    },
    {
      "cell_type": "code",
      "source": [
        "## Testing the model with individual values"
      ],
      "metadata": {
        "id": "Vvrz0ZEFx7yk"
      },
      "execution_count": null,
      "outputs": []
    },
    {
      "cell_type": "code",
      "source": [
        "from sklearn.metrics import mean_squared_error, mean_absolute_error, r2_score\n",
        "mean_squared_error(y_test,y_pred)"
      ],
      "metadata": {
        "colab": {
          "base_uri": "https://localhost:8080/"
        },
        "id": "54zBOgI3zaWe",
        "outputId": "7f3258d8-3391-4880-b669-15d9ce122621"
      },
      "execution_count": null,
      "outputs": [
        {
          "output_type": "execute_result",
          "data": {
            "text/plain": [
              "0.03444806396285369"
            ]
          },
          "metadata": {},
          "execution_count": 32
        }
      ]
    },
    {
      "cell_type": "code",
      "source": [
        "r2_score(y_test,y_pred)"
      ],
      "metadata": {
        "colab": {
          "base_uri": "https://localhost:8080/"
        },
        "id": "h8q-8gxTzilN",
        "outputId": "cc89034d-c721-4d23-fc93-3661c028a6a3"
      },
      "execution_count": null,
      "outputs": [
        {
          "output_type": "execute_result",
          "data": {
            "text/plain": [
              "0.35092991044680055"
            ]
          },
          "metadata": {},
          "execution_count": 33
        }
      ]
    },
    {
      "cell_type": "code",
      "source": [
        "accuracy=regression.evaluate(x,y)\n",
        "print('Accuracy: %.2f' %(accuracy*100))"
      ],
      "metadata": {
        "colab": {
          "base_uri": "https://localhost:8080/"
        },
        "id": "a_TbVdV9zq7k",
        "outputId": "1caf0adb-02ba-465b-a77c-9837bc3be385"
      },
      "execution_count": null,
      "outputs": [
        {
          "output_type": "stream",
          "name": "stdout",
          "text": [
            "2/2 [==============================] - 0s 4ms/step - loss: 0.0611\n",
            "Accuracy: 6.11\n"
          ]
        }
      ]
    },
    {
      "cell_type": "code",
      "source": [
        "## Evaluate the model \n",
        "scores=regression.evaluate(x_test,y_test)\n",
        "print('scores: %.2f' %(scores*100))\n",
        "## Accuracy on test data"
      ],
      "metadata": {
        "colab": {
          "base_uri": "https://localhost:8080/"
        },
        "id": "FKNw11LS0HFz",
        "outputId": "c7c5d489-c4c5-43c8-9369-1f6a6721f784"
      },
      "execution_count": null,
      "outputs": [
        {
          "output_type": "stream",
          "name": "stdout",
          "text": [
            "1/1 [==============================] - 0s 15ms/step - loss: 0.0344\n",
            "scores: 3.44\n"
          ]
        }
      ]
    },
    {
      "cell_type": "code",
      "source": [
        "##Checking the Accuracy\n",
        "from sklearn.metrics import r2_score\n",
        "accuracy=r2_score(y_test,y_pred)\n",
        "accuracy"
      ],
      "metadata": {
        "colab": {
          "base_uri": "https://localhost:8080/"
        },
        "id": "v0czfhXmyBaV",
        "outputId": "35b8d0f9-155e-4168-f11c-4c8c51d4a857"
      },
      "execution_count": null,
      "outputs": [
        {
          "output_type": "execute_result",
          "data": {
            "text/plain": [
              "0.35092991044680055"
            ]
          },
          "metadata": {},
          "execution_count": 36
        }
      ]
    },
    {
      "cell_type": "code",
      "source": [
        "## Evaluate the model \n",
        "scores=regression.evaluate(x_train,y_train)\n",
        "print('scores: %.2f' %(scores*100))\n",
        "## Accuracy on test data"
      ],
      "metadata": {
        "id": "MYHoGrcE0Sky",
        "outputId": "bdf3d050-5793-48ff-8a03-119ae9ab6b88",
        "colab": {
          "base_uri": "https://localhost:8080/"
        }
      },
      "execution_count": null,
      "outputs": [
        {
          "output_type": "stream",
          "name": "stdout",
          "text": [
            "1/1 [==============================] - 0s 16ms/step - loss: 0.0281\n",
            "scores: 2.81\n"
          ]
        }
      ]
    },
    {
      "cell_type": "markdown",
      "source": [
        "**Hyperparameter Tunning**"
      ],
      "metadata": {
        "id": "ZP4Ty0mV4Lgg"
      }
    },
    {
      "cell_type": "code",
      "source": [
        "import numpy as np\n",
        "import pandas as pd\n",
        "\n",
        "import matplotlib.pyplot as plt\n",
        "import seaborn as sns\n",
        "\n",
        "from sklearn.model_selection import train_test_split\n",
        "from sklearn.ensemble import RandomForestClassifier,GradientBoostingClassifier\n",
        "from sklearn.svm import SVC\n",
        "from sklearn.linear_model import LogisticRegression\n",
        "\n",
        "from sklearn.metrics import accuracy_score"
      ],
      "metadata": {
        "id": "DkDDo25CyV8K"
      },
      "execution_count": null,
      "outputs": []
    },
    {
      "cell_type": "markdown",
      "source": [
        "**Grid SearchCV**"
      ],
      "metadata": {
        "id": "ND9ms3rg4S7e"
      }
    },
    {
      "cell_type": "code",
      "source": [
        "# Number of trees in random forest\n",
        "n_estimators = [20,60,100,120]\n",
        "\n",
        "# Number of features to consider at every split\n",
        "max_features = [0.2,0.6,1.0]\n",
        "\n",
        "# Maximum number of levels in tree\n",
        "max_depth = [2,8,None]\n",
        "\n",
        "# Number of samples\n",
        "max_samples = [0.5,0.75,1.0]\n",
        "\n",
        "# 108 diff random forest train"
      ],
      "metadata": {
        "id": "JS3fH2oY4QZ8"
      },
      "execution_count": null,
      "outputs": []
    },
    {
      "cell_type": "code",
      "source": [
        "param_grid = {'n_estimators': n_estimators,\n",
        "               'max_features': max_features,\n",
        "               'max_depth': max_depth,\n",
        "              'max_samples':max_samples\n",
        "             }\n",
        "print(param_grid)"
      ],
      "metadata": {
        "colab": {
          "base_uri": "https://localhost:8080/"
        },
        "id": "bhUU6N9m4XCe",
        "outputId": "3b19da22-df2b-4759-f546-7bb8f523fc55"
      },
      "execution_count": null,
      "outputs": [
        {
          "output_type": "stream",
          "name": "stdout",
          "text": [
            "{'n_estimators': [20, 60, 100, 120], 'max_features': [0.2, 0.6, 1.0], 'max_depth': [2, 8, None], 'max_samples': [0.5, 0.75, 1.0]}\n"
          ]
        }
      ]
    },
    {
      "cell_type": "code",
      "source": [
        "from sklearn.ensemble import RandomForestRegressor\n",
        "rf = RandomForestRegressor()"
      ],
      "metadata": {
        "id": "VeZ3HhGX4Y4S"
      },
      "execution_count": null,
      "outputs": []
    },
    {
      "cell_type": "code",
      "source": [
        "from sklearn.model_selection import GridSearchCV\n",
        "\n",
        "\n",
        "rf_grid = GridSearchCV(estimator = rf, \n",
        "                       param_grid = param_grid, \n",
        "                       cv = 5, \n",
        "                       verbose=1, \n",
        "                       n_jobs = -1)"
      ],
      "metadata": {
        "id": "rd0jJ5xS4ar4"
      },
      "execution_count": null,
      "outputs": []
    },
    {
      "cell_type": "code",
      "source": [
        "rf_grid.fit(x_train,y_train)"
      ],
      "metadata": {
        "colab": {
          "base_uri": "https://localhost:8080/"
        },
        "id": "wseD8-oV4q1b",
        "outputId": "7c2562dc-5a0f-4f4a-81f6-fd79519cb5c5"
      },
      "execution_count": null,
      "outputs": [
        {
          "output_type": "stream",
          "name": "stdout",
          "text": [
            "Fitting 5 folds for each of 108 candidates, totalling 540 fits\n"
          ]
        },
        {
          "output_type": "execute_result",
          "data": {
            "text/plain": [
              "GridSearchCV(cv=5, estimator=RandomForestRegressor(), n_jobs=-1,\n",
              "             param_grid={'max_depth': [2, 8, None],\n",
              "                         'max_features': [0.2, 0.6, 1.0],\n",
              "                         'max_samples': [0.5, 0.75, 1.0],\n",
              "                         'n_estimators': [20, 60, 100, 120]},\n",
              "             verbose=1)"
            ]
          },
          "metadata": {},
          "execution_count": 44
        }
      ]
    },
    {
      "cell_type": "code",
      "source": [
        "rf_grid.best_params_"
      ],
      "metadata": {
        "colab": {
          "base_uri": "https://localhost:8080/"
        },
        "id": "PvtMuYeM4eJO",
        "outputId": "34f9fa10-e1e6-4240-fd39-fe44ecfb10fb"
      },
      "execution_count": null,
      "outputs": [
        {
          "output_type": "execute_result",
          "data": {
            "text/plain": [
              "{'max_depth': 8, 'max_features': 0.6, 'max_samples': 1.0, 'n_estimators': 60}"
            ]
          },
          "metadata": {},
          "execution_count": 46
        }
      ]
    },
    {
      "cell_type": "code",
      "source": [
        "rf_grid.best_score_"
      ],
      "metadata": {
        "colab": {
          "base_uri": "https://localhost:8080/"
        },
        "id": "3xnRqEIz4gtD",
        "outputId": "27e51c61-de7b-4ad9-818a-948e57ac4f4a"
      },
      "execution_count": null,
      "outputs": [
        {
          "output_type": "execute_result",
          "data": {
            "text/plain": [
              "0.7844599534394435"
            ]
          },
          "metadata": {},
          "execution_count": 47
        }
      ]
    },
    {
      "cell_type": "markdown",
      "source": [
        "**RandomSearchCV**"
      ],
      "metadata": {
        "id": "JyBeBucb5GQ-"
      }
    },
    {
      "cell_type": "code",
      "source": [
        "# Number of trees in random forest\n",
        "n_estimators = [20,60,100,120]\n",
        "\n",
        "# Number of features to consider at every split\n",
        "max_features = [0.2,0.6,1.0]\n",
        "\n",
        "# Maximum number of levels in tree\n",
        "max_depth = [2,8,None]\n",
        "\n",
        "# Number of samples\n",
        "max_samples = [0.5,0.75,1.0]\n",
        "\n",
        "# Bootstrap samples\n",
        "bootstrap = [True,False]\n",
        "\n",
        "# Minimum number of samples required to split a node\n",
        "min_samples_split = [2, 5]\n",
        "\n",
        "# Minimum number of samples required at each leaf node\n",
        "min_samples_leaf = [1, 2]"
      ],
      "metadata": {
        "id": "9W_-Db4r5CRW"
      },
      "execution_count": null,
      "outputs": []
    },
    {
      "cell_type": "code",
      "source": [
        "param_grid = {'n_estimators': n_estimators,\n",
        "               'max_features': max_features,\n",
        "               'max_depth': max_depth,\n",
        "              'max_samples':max_samples,\n",
        "              'bootstrap':bootstrap,\n",
        "              'min_samples_split':min_samples_split,\n",
        "              'min_samples_leaf':min_samples_leaf\n",
        "             }\n",
        "print(param_grid)"
      ],
      "metadata": {
        "colab": {
          "base_uri": "https://localhost:8080/"
        },
        "id": "P6OzBuVE5KtT",
        "outputId": "f806cf44-a613-4684-cfac-2fe536e2cbce"
      },
      "execution_count": null,
      "outputs": [
        {
          "output_type": "stream",
          "name": "stdout",
          "text": [
            "{'n_estimators': [20, 60, 100, 120], 'max_features': [0.2, 0.6, 1.0], 'max_depth': [2, 8, None], 'max_samples': [0.5, 0.75, 1.0], 'bootstrap': [True, False], 'min_samples_split': [2, 5], 'min_samples_leaf': [1, 2]}\n"
          ]
        }
      ]
    },
    {
      "cell_type": "code",
      "source": [
        "from sklearn.model_selection import RandomizedSearchCV\n",
        "\n",
        "rf_grid = RandomizedSearchCV(estimator = rf, \n",
        "                       param_distributions = param_grid, \n",
        "                       cv = 5, \n",
        "                       verbose=2, \n",
        "                       n_jobs = -1)"
      ],
      "metadata": {
        "id": "dcaQRkqM5NbI"
      },
      "execution_count": null,
      "outputs": []
    },
    {
      "cell_type": "code",
      "source": [
        "rf_grid.fit(x_train,y_train)"
      ],
      "metadata": {
        "colab": {
          "base_uri": "https://localhost:8080/"
        },
        "id": "Aqr6tbW-5RkM",
        "outputId": "c54b09c4-88f8-4c75-9846-5e464da07082"
      },
      "execution_count": null,
      "outputs": [
        {
          "output_type": "stream",
          "name": "stdout",
          "text": [
            "Fitting 5 folds for each of 10 candidates, totalling 50 fits\n"
          ]
        },
        {
          "output_type": "stream",
          "name": "stderr",
          "text": [
            "/usr/local/lib/python3.7/dist-packages/sklearn/model_selection/_validation.py:372: FitFailedWarning: \n",
            "20 fits failed out of a total of 50.\n",
            "The score on these train-test partitions for these parameters will be set to nan.\n",
            "If these failures are not expected, you can try to debug them by setting error_score='raise'.\n",
            "\n",
            "Below are more details about the failures:\n",
            "--------------------------------------------------------------------------------\n",
            "20 fits failed with the following error:\n",
            "Traceback (most recent call last):\n",
            "  File \"/usr/local/lib/python3.7/dist-packages/sklearn/model_selection/_validation.py\", line 680, in _fit_and_score\n",
            "    estimator.fit(X_train, y_train, **fit_params)\n",
            "  File \"/usr/local/lib/python3.7/dist-packages/sklearn/ensemble/_forest.py\", line 380, in fit\n",
            "    \"`max_sample` cannot be set if `bootstrap=False`. \"\n",
            "ValueError: `max_sample` cannot be set if `bootstrap=False`. Either switch to `bootstrap=True` or set `max_sample=None`.\n",
            "\n",
            "  warnings.warn(some_fits_failed_message, FitFailedWarning)\n",
            "/usr/local/lib/python3.7/dist-packages/sklearn/model_selection/_search.py:972: UserWarning: One or more of the test scores are non-finite: [       nan        nan 0.66538239 0.66754488 0.67203652 0.5979252\n",
            " 0.65376049        nan        nan 0.63600622]\n",
            "  category=UserWarning,\n"
          ]
        },
        {
          "output_type": "execute_result",
          "data": {
            "text/plain": [
              "RandomizedSearchCV(cv=5, estimator=RandomForestRegressor(), n_jobs=-1,\n",
              "                   param_distributions={'bootstrap': [True, False],\n",
              "                                        'max_depth': [2, 8, None],\n",
              "                                        'max_features': [0.2, 0.6, 1.0],\n",
              "                                        'max_samples': [0.5, 0.75, 1.0],\n",
              "                                        'min_samples_leaf': [1, 2],\n",
              "                                        'min_samples_split': [2, 5],\n",
              "                                        'n_estimators': [20, 60, 100, 120]},\n",
              "                   verbose=2)"
            ]
          },
          "metadata": {},
          "execution_count": 51
        }
      ]
    },
    {
      "cell_type": "code",
      "source": [
        "rf_grid.best_params_"
      ],
      "metadata": {
        "colab": {
          "base_uri": "https://localhost:8080/"
        },
        "id": "oAitYTup5Ukm",
        "outputId": "3694bc02-1e69-4031-b56d-c23586f1acf8"
      },
      "execution_count": null,
      "outputs": [
        {
          "output_type": "execute_result",
          "data": {
            "text/plain": [
              "{'n_estimators': 60,\n",
              " 'min_samples_split': 5,\n",
              " 'min_samples_leaf': 2,\n",
              " 'max_samples': 0.75,\n",
              " 'max_features': 0.6,\n",
              " 'max_depth': None,\n",
              " 'bootstrap': True}"
            ]
          },
          "metadata": {},
          "execution_count": 52
        }
      ]
    },
    {
      "cell_type": "code",
      "source": [
        "rf_grid.best_score_"
      ],
      "metadata": {
        "colab": {
          "base_uri": "https://localhost:8080/"
        },
        "id": "H9DziUct5YZ3",
        "outputId": "4ad76e13-fd3c-4118-fe6b-465695ea37e6"
      },
      "execution_count": null,
      "outputs": [
        {
          "output_type": "execute_result",
          "data": {
            "text/plain": [
              "0.6720365210798013"
            ]
          },
          "metadata": {},
          "execution_count": 53
        }
      ]
    },
    {
      "cell_type": "code",
      "source": [],
      "metadata": {
        "id": "1dDc7PUG5eZn"
      },
      "execution_count": null,
      "outputs": []
    }
  ]
}